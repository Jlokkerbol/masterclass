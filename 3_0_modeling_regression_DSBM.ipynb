{
  "nbformat": 4,
  "nbformat_minor": 0,
  "metadata": {
    "colab": {
      "name": "3_0_modeling_regression_DSBM.ipynb",
      "provenance": [],
      "collapsed_sections": [
        "XmprxmUxj93_",
        "C1bEDtlnF4a9"
      ],
      "toc_visible": true,
      "include_colab_link": true
    },
    "hide_input": false,
    "kernelspec": {
      "display_name": "jads-nhs-proms",
      "language": "python",
      "name": "jads-nhs-proms"
    },
    "language_info": {
      "codemirror_mode": {
        "name": "ipython",
        "version": 3
      },
      "file_extension": ".py",
      "mimetype": "text/x-python",
      "name": "python",
      "nbconvert_exporter": "python",
      "pygments_lexer": "ipython3",
      "version": "3.7.6"
    },
    "toc": {
      "base_numbering": 1,
      "nav_menu": {},
      "number_sections": true,
      "sideBar": true,
      "skip_h1_title": true,
      "title_cell": "Table of Contents",
      "title_sidebar": "Contents",
      "toc_cell": false,
      "toc_position": {},
      "toc_section_display": true,
      "toc_window_display": true
    }
  },
  "cells": [
    {
      "cell_type": "markdown",
      "metadata": {
        "id": "view-in-github",
        "colab_type": "text"
      },
      "source": [
        "<a href=\"https://colab.research.google.com/github/Jlokkerbol/masterclass/blob/main/3_0_modeling_regression_DSBM.ipynb\" target=\"_parent\"><img src=\"https://colab.research.google.com/assets/colab-badge.svg\" alt=\"Open In Colab\"/></a>"
      ]
    },
    {
      "cell_type": "markdown",
      "metadata": {
        "id": "XmprxmUxj93_"
      },
      "source": [
        "# Background to osteoarthritis case study\n",
        "\n",
        "This lecture is taken from the [5-day JADS NHS PROMs data science case study](https://github.com/jads-nl/execute-nhs-proms/blob/master/README.md). \n",
        "\n",
        "In the previous lectures we have worked on data understanding and data preparation. A brief recap:\n",
        "\n",
        "  - The outcome for knee replacement Y is measured using difference in Oxford Knee Score (OKS)\n",
        "  - Research has shown that an improvement in OKS score of approx. 30% is clinically relevant ([van der Wees 2017](https://github.com/jads-nl/execute-nhs-proms/blob/master/references/vanderwees2017patient-reported.pdf)). Hence an increase of +14 points is considered a 'good' outcome.\n",
        "  - To account for ceiling effect, a high final `t1_oks_score` is also considered as a 'good' outcome (even when `delta_oks_score` is smaller than 14)"
      ]
    },
    {
      "cell_type": "markdown",
      "metadata": {
        "id": "C1bEDtlnF4a9"
      },
      "source": [
        "# Learning objectives\n",
        "\n",
        "The main objective in this lecture is to learn how to build and interpret a range of commonly applied machine learning algorithms. We will look at the following algorithms:\n",
        "- (Logistic) Regression\n",
        "- LASSO\n",
        "- K-nearest neighbors\n",
        "\n",
        "To get experience with both numeric and categorical outcome measures, we apply the models in this notebook to try to predict the numeric outcome `t1_eq_vas`. The models applied in the next notebook will try to predict a categorical outcome.\n",
        "\n",
        "\n",
        "\n",
        "### References used: \n",
        "\n",
        "The techniques applied in this notebook are explained in more detail in the following sources: \n",
        "\n",
        "#### Python: Hands-on Machine Learning (2nd edition)\n",
        "\n",
        "- [End-to-end Machine Learning project (chapter 2)](https://github.com/ageron/handson-ml2/blob/master/02_end_to_end_machine_learning_project.ipynb)\n",
        "- [Training linear models (chapter 4)](https://github.com/ageron/handson-ml2/blob/master/04_training_linear_models.ipynb)\n",
        "\n",
        "\n",
        "#### scikit-learn\n",
        "- [Tutorial cross validation score](https://scikit-learn.org/stable/auto_examples/exercises/plot_cv_diabetes.html?highlight=cross%20validation%20score)"
      ]
    },
    {
      "cell_type": "markdown",
      "metadata": {
        "id": "gTiI8iavVFCP"
      },
      "source": [
        "# Importing data and settings\n",
        "\n",
        "As always, we start with importing the relevant modules, define some settings (mostly related to how output is depicted) and load the data."
      ]
    },
    {
      "cell_type": "code",
      "metadata": {
        "id": "_95_D3ywlrNh"
      },
      "source": [
        "import warnings\n",
        "import numpy as np\n",
        "import pandas as pd\n",
        "import matplotlib as mpl\n",
        "import matplotlib.pyplot as plt\n",
        "from sklearn.feature_selection import chi2, VarianceThreshold\n",
        "import sklearn.linear_model\n",
        "\n",
        "#supressing warnings for readability\n",
        "warnings.filterwarnings(\"ignore\")\n",
        "\n",
        "# To plot pretty figures directly within Jupyter\n",
        "%matplotlib inline\n",
        "\n",
        "# choose your own style: https://matplotlib.org/3.1.0/gallery/style_sheets/style_sheets_reference.html\n",
        "plt.style.use('seaborn-whitegrid')\n",
        "\n",
        "# Go to town with https://matplotlib.org/tutorials/introductory/customizing.html\n",
        "# plt.rcParams.keys()\n",
        "mpl.rc('axes', labelsize=14, titlesize=14)\n",
        "mpl.rc('figure', titlesize=20)\n",
        "mpl.rc('xtick', labelsize=12)\n",
        "mpl.rc('ytick', labelsize=12)\n",
        "\n",
        "# constants for figsize\n",
        "S = (8,8)\n",
        "M = (12,12)\n",
        "L = (14,14)\n",
        "\n",
        "# pandas options\n",
        "pd.set_option(\"display.max.columns\", None)\n",
        "pd.set_option(\"display.max.rows\", None)\n",
        "pd.set_option(\"display.precision\", 2)\n",
        "\n",
        "# import data\n",
        "df = pd.read_parquet('https://github.com/jads-nl/execute-nhs-proms/blob/master/data/interim/knee-provider.parquet?raw=true')"
      ],
      "execution_count": 2,
      "outputs": []
    },
    {
      "cell_type": "markdown",
      "metadata": {
        "id": "zfh-ikJbXEy4"
      },
      "source": [
        "We apply stratified shuffle split, which ensures a similar distribution of our outcome measure in both the training and the test set. This requires that we specify the outcome measure (which should have a similar distribution in the train and test data), and that this outcome measure contains no missing data.\n",
        "\n",
        "The code below imputes the missings (value 999) with the median, and divides the outcome measure in 10 deciles, which are then used to create the desired split."
      ]
    },
    {
      "cell_type": "code",
      "metadata": {
        "id": "lZ-6ECcOj94F"
      },
      "source": [
        "from sklearn.model_selection import StratifiedShuffleSplit\n",
        "\n",
        "# replacing the sentinal value 999 with the median\n",
        "df[\"t1_eq_vas_impute\"] = df.t1_eq_vas.replace(\n",
        "    to_replace=999, value=np.median(df.t1_eq_vas)\n",
        ")\n",
        "\n",
        "# add t1_eq_vas deciles\n",
        "df['t1_eq_vas_cat'] = pd.cut(df.t1_eq_vas_impute, 10)\n",
        "\n",
        "# introducing 1 split, to set aside 30% (0.30) of the data as test data\n",
        "split = StratifiedShuffleSplit(n_splits=1, test_size=0.3, random_state=42)\n",
        "for train_index, test_index in split.split(df, df['t1_eq_vas_cat']):\n",
        "    df_train = df.loc[train_index]\n",
        "    df_test = df.loc[test_index]\n",
        "\n",
        "# remove the extra columns, so we continue working with the original dataset\n",
        "for set_ in (df_train, df_test):\n",
        "    set_.drop([\"t1_eq_vas_impute\", \"t1_eq_vas_cat\"], axis=1, inplace=True)"
      ],
      "execution_count": 3,
      "outputs": []
    },
    {
      "cell_type": "markdown",
      "metadata": {
        "id": "dJDC2qMzPDf6"
      },
      "source": [
        "# Data preparation in a scikit-learn Pipeline\n",
        "\n",
        "When preparing data such that it can be used for modeling, we have to set up the process such that:\n",
        "\n",
        "* Information from the test set is not used, as this makes model performance unreliable (known as data leakage);\n",
        "\n",
        "* It is easy to try out different choices of preparing the data, such as applying pre-processing through a [parameter search](https://scikit-learn.org/stable/modules/grid_search.html#grid-search).\n",
        "\n",
        "To this purpose, the [`ColumnTransformer` class](https://scikit-learn.org/stable/modules/generated/sklearn.compose.ColumnTransformer.html?highlight=columntransformer#sklearn.compose.ColumnTransformer) is available in scikit-learn, which is applied in the notebook below.\n",
        "\n"
      ]
    },
    {
      "cell_type": "markdown",
      "metadata": {
        "id": "qvToMd6emVyn"
      },
      "source": [
        "## Using ColumnsTransformers and Pipelines\n",
        "\n",
        "As in the notebook on data preparation, we want to perform preprocessing steps on (groups of) columns. In case a feature requires more than one preprocessing step, the use of `Pipeline` is recommended.\n",
        "\n",
        "### Encoding categorical variables using `OneHotEncoding`\n",
        "Categorical variables are often best expressed as dummy variables. OneHotEncoder appropriately transforms each categorical feature with n levels into n binary features, with one of these features set to 1, and all others to 0 for every single observation."
      ]
    },
    {
      "cell_type": "code",
      "metadata": {
        "id": "pClpNAvogR0L"
      },
      "source": [
        "from sklearn.base import BaseEstimator, TransformerMixin\n",
        "from sklearn.pipeline import Pipeline, FeatureUnion\n",
        "from sklearn.preprocessing import OrdinalEncoder, OneHotEncoder, LabelEncoder\n",
        "from sklearn.compose import ColumnTransformer\n",
        "from sklearn.impute import SimpleImputer\n",
        "\n",
        "\n",
        "# define variable groups, to enhance readability \n",
        "age_band = [\"age_band\"]\n",
        "gender = [\"gender\"]\n",
        "age_band_categories = sorted([x for x in df.age_band.unique() if isinstance(x, str)])\n",
        "comorb = [\n",
        "    \"heart_disease\",\n",
        "    \"high_bp\",\n",
        "    \"stroke\",\n",
        "    \"circulation\",\n",
        "    \"lung_disease\",\n",
        "    \"diabetes\",\n",
        "    \"kidney_disease\",\n",
        "    \"nervous_system\",\n",
        "    \"liver_disease\",\n",
        "    \"cancer\",\n",
        "    \"depression\",\n",
        "    \"arthritis\",\n",
        "]\n",
        "\n",
        "# create a group for the dummy variables\n",
        "boolean = [\"t0_assisted\", \"t0_previous_surgery\", \"t0_disability\"]\n",
        "\n",
        "# create a group for the five questions that make up the EQ5D\n",
        "eq5d = [\"t0_mobility\", \"t0_self_care\", \"t0_activity\", \"t0_discomfort\", \"t0_anxiety\"]\n",
        "eq_vas = [\"t0_eq_vas\"]\n",
        "categorical = [\"t0_symptom_period\", \"t0_previous_surgery\", \"t0_living_arrangements\"]\n",
        "\n",
        "# create a group for all OKS questions\n",
        "oks_questions = [\n",
        "    col for col in df.columns if col.startswith(\"oks_t0\") and not col.endswith(\"_score\")\n",
        "]\n",
        "oks_score = [\"oks_t0_score\"]\n",
        "\n",
        "# define preprocessing pipelines for age and gender columns\n",
        "age_band_pipe = Pipeline(\n",
        "    steps=[\n",
        "        (\"impute\", SimpleImputer(missing_values=np.nan, strategy=\"most_frequent\")),\n",
        "        (\"ordinal\", OrdinalEncoder(categories=[age_band_categories])),\n",
        "    ]\n",
        ")\n",
        "\n",
        "gender_pipe = Pipeline(\n",
        "    steps=[\n",
        "        (\"impute\", SimpleImputer(missing_values=np.nan, strategy=\"most_frequent\")),\n",
        "                   ('onehot', OneHotEncoder()),\n",
        "    ]\n",
        ")\n",
        "\n",
        "\n",
        "# ColumnTransformer on all included columns.\n",
        "# Note columns that are not specified are dropped by default\n",
        "transformers = {\n",
        "    \"age\": (\"age\", age_band_pipe, age_band),\n",
        "    \"gender\": (\"gender\", gender_pipe, gender),\n",
        "    \"comorb\": (\n",
        "        \"comorb\",\n",
        "        SimpleImputer(missing_values=9, strategy=\"constant\", fill_value=0),\n",
        "        comorb,\n",
        "    ),\n",
        "    \"categorical\": (\n",
        "        \"categorical\",\n",
        "        SimpleImputer(missing_values=9, strategy=\"most_frequent\"),\n",
        "        boolean + eq5d + categorical,\n",
        "    ),\n",
        "    \"oks\": (\n",
        "        \"oks\",\n",
        "        SimpleImputer(missing_values=9, strategy=\"most_frequent\"),\n",
        "        oks_questions,\n",
        "    ),\n",
        "    \"oks_score\": (\n",
        "        \"oks_score\",\n",
        "        SimpleImputer(missing_values=np.nan, strategy=\"most_frequent\"),\n",
        "        oks_score,\n",
        "    ),\n",
        "    \"eq_vas\": (\"eqvas\", SimpleImputer(missing_values=999, strategy=\"median\"), eq_vas),\n",
        "}\n",
        "prep = ColumnTransformer(transformers=[v for _, v in transformers.items()])\n",
        "\n",
        "X_train = prep.fit_transform(df_train)\n",
        "X_test = prep.transform(df_test)"
      ],
      "execution_count": 7,
      "outputs": []
    },
    {
      "cell_type": "code",
      "metadata": {
        "id": "Nq861Wwdj94I"
      },
      "source": [
        "# list of columns for convenience\n",
        "# https://stackoverflow.com/questions/54646709/sklearn-pipeline-get-feature-name-after-onehotencode-in-columntransformer\n",
        "X_columns = pd.Series(\n",
        "    age_band\n",
        "    + prep.named_transformers_[\"gender\"][\"onehot\"].get_feature_names().tolist()\n",
        "    + comorb\n",
        "    + boolean\n",
        "    + eq5d\n",
        "    + categorical\n",
        "    + oks_questions\n",
        "    + oks_score\n",
        "    + eq_vas\n",
        ")"
      ],
      "execution_count": 8,
      "outputs": []
    },
    {
      "cell_type": "markdown",
      "metadata": {
        "id": "JO3RJSO1BH3l"
      },
      "source": [
        "The output below shows how the data has been prepared using OneHotEncoding (and imputing missings)"
      ]
    },
    {
      "cell_type": "code",
      "metadata": {
        "colab": {
          "base_uri": "https://localhost:8080/",
          "height": 224
        },
        "id": "Fwy07sG3APzi",
        "outputId": "200f2cf4-be0f-465d-fc71-d9f789497932"
      },
      "source": [
        "pd.DataFrame(data = X_train, columns = X_columns).head(5)"
      ],
      "execution_count": 9,
      "outputs": [
        {
          "output_type": "execute_result",
          "data": {
            "text/html": [
              "<div>\n",
              "<style scoped>\n",
              "    .dataframe tbody tr th:only-of-type {\n",
              "        vertical-align: middle;\n",
              "    }\n",
              "\n",
              "    .dataframe tbody tr th {\n",
              "        vertical-align: top;\n",
              "    }\n",
              "\n",
              "    .dataframe thead th {\n",
              "        text-align: right;\n",
              "    }\n",
              "</style>\n",
              "<table border=\"1\" class=\"dataframe\">\n",
              "  <thead>\n",
              "    <tr style=\"text-align: right;\">\n",
              "      <th></th>\n",
              "      <th>age_band</th>\n",
              "      <th>x0_1.0</th>\n",
              "      <th>x0_2.0</th>\n",
              "      <th>heart_disease</th>\n",
              "      <th>high_bp</th>\n",
              "      <th>stroke</th>\n",
              "      <th>circulation</th>\n",
              "      <th>lung_disease</th>\n",
              "      <th>diabetes</th>\n",
              "      <th>kidney_disease</th>\n",
              "      <th>nervous_system</th>\n",
              "      <th>liver_disease</th>\n",
              "      <th>cancer</th>\n",
              "      <th>depression</th>\n",
              "      <th>arthritis</th>\n",
              "      <th>t0_assisted</th>\n",
              "      <th>t0_previous_surgery</th>\n",
              "      <th>t0_disability</th>\n",
              "      <th>t0_mobility</th>\n",
              "      <th>t0_self_care</th>\n",
              "      <th>t0_activity</th>\n",
              "      <th>t0_discomfort</th>\n",
              "      <th>t0_anxiety</th>\n",
              "      <th>t0_symptom_period</th>\n",
              "      <th>t0_previous_surgery</th>\n",
              "      <th>t0_living_arrangements</th>\n",
              "      <th>oks_t0_pain</th>\n",
              "      <th>oks_t0_night_pain</th>\n",
              "      <th>oks_t0_washing</th>\n",
              "      <th>oks_t0_transport</th>\n",
              "      <th>oks_t0_walking</th>\n",
              "      <th>oks_t0_standing</th>\n",
              "      <th>oks_t0_limping</th>\n",
              "      <th>oks_t0_kneeling</th>\n",
              "      <th>oks_t0_work</th>\n",
              "      <th>oks_t0_confidence</th>\n",
              "      <th>oks_t0_shopping</th>\n",
              "      <th>oks_t0_stairs</th>\n",
              "      <th>oks_t0_score</th>\n",
              "      <th>t0_eq_vas</th>\n",
              "    </tr>\n",
              "  </thead>\n",
              "  <tbody>\n",
              "    <tr>\n",
              "      <th>0</th>\n",
              "      <td>3.0</td>\n",
              "      <td>0.0</td>\n",
              "      <td>1.0</td>\n",
              "      <td>0.0</td>\n",
              "      <td>1.0</td>\n",
              "      <td>0.0</td>\n",
              "      <td>0.0</td>\n",
              "      <td>0.0</td>\n",
              "      <td>0.0</td>\n",
              "      <td>0.0</td>\n",
              "      <td>0.0</td>\n",
              "      <td>0.0</td>\n",
              "      <td>0.0</td>\n",
              "      <td>0.0</td>\n",
              "      <td>1.0</td>\n",
              "      <td>2.0</td>\n",
              "      <td>2.0</td>\n",
              "      <td>2.0</td>\n",
              "      <td>2.0</td>\n",
              "      <td>1.0</td>\n",
              "      <td>2.0</td>\n",
              "      <td>3.0</td>\n",
              "      <td>1.0</td>\n",
              "      <td>4.0</td>\n",
              "      <td>2.0</td>\n",
              "      <td>2.0</td>\n",
              "      <td>0.0</td>\n",
              "      <td>0.0</td>\n",
              "      <td>2.0</td>\n",
              "      <td>2.0</td>\n",
              "      <td>2.0</td>\n",
              "      <td>2.0</td>\n",
              "      <td>1.0</td>\n",
              "      <td>0.0</td>\n",
              "      <td>2.0</td>\n",
              "      <td>3.0</td>\n",
              "      <td>2.0</td>\n",
              "      <td>2.0</td>\n",
              "      <td>18.0</td>\n",
              "      <td>90.0</td>\n",
              "    </tr>\n",
              "    <tr>\n",
              "      <th>1</th>\n",
              "      <td>3.0</td>\n",
              "      <td>0.0</td>\n",
              "      <td>1.0</td>\n",
              "      <td>0.0</td>\n",
              "      <td>0.0</td>\n",
              "      <td>0.0</td>\n",
              "      <td>0.0</td>\n",
              "      <td>0.0</td>\n",
              "      <td>0.0</td>\n",
              "      <td>0.0</td>\n",
              "      <td>0.0</td>\n",
              "      <td>0.0</td>\n",
              "      <td>0.0</td>\n",
              "      <td>0.0</td>\n",
              "      <td>1.0</td>\n",
              "      <td>2.0</td>\n",
              "      <td>1.0</td>\n",
              "      <td>2.0</td>\n",
              "      <td>1.0</td>\n",
              "      <td>1.0</td>\n",
              "      <td>2.0</td>\n",
              "      <td>2.0</td>\n",
              "      <td>1.0</td>\n",
              "      <td>2.0</td>\n",
              "      <td>1.0</td>\n",
              "      <td>1.0</td>\n",
              "      <td>0.0</td>\n",
              "      <td>0.0</td>\n",
              "      <td>3.0</td>\n",
              "      <td>2.0</td>\n",
              "      <td>3.0</td>\n",
              "      <td>1.0</td>\n",
              "      <td>1.0</td>\n",
              "      <td>1.0</td>\n",
              "      <td>2.0</td>\n",
              "      <td>1.0</td>\n",
              "      <td>2.0</td>\n",
              "      <td>2.0</td>\n",
              "      <td>18.0</td>\n",
              "      <td>85.0</td>\n",
              "    </tr>\n",
              "    <tr>\n",
              "      <th>2</th>\n",
              "      <td>3.0</td>\n",
              "      <td>0.0</td>\n",
              "      <td>1.0</td>\n",
              "      <td>0.0</td>\n",
              "      <td>0.0</td>\n",
              "      <td>0.0</td>\n",
              "      <td>0.0</td>\n",
              "      <td>0.0</td>\n",
              "      <td>0.0</td>\n",
              "      <td>0.0</td>\n",
              "      <td>0.0</td>\n",
              "      <td>0.0</td>\n",
              "      <td>0.0</td>\n",
              "      <td>0.0</td>\n",
              "      <td>1.0</td>\n",
              "      <td>2.0</td>\n",
              "      <td>2.0</td>\n",
              "      <td>2.0</td>\n",
              "      <td>2.0</td>\n",
              "      <td>1.0</td>\n",
              "      <td>2.0</td>\n",
              "      <td>2.0</td>\n",
              "      <td>1.0</td>\n",
              "      <td>2.0</td>\n",
              "      <td>2.0</td>\n",
              "      <td>1.0</td>\n",
              "      <td>0.0</td>\n",
              "      <td>2.0</td>\n",
              "      <td>3.0</td>\n",
              "      <td>3.0</td>\n",
              "      <td>1.0</td>\n",
              "      <td>2.0</td>\n",
              "      <td>0.0</td>\n",
              "      <td>1.0</td>\n",
              "      <td>1.0</td>\n",
              "      <td>3.0</td>\n",
              "      <td>3.0</td>\n",
              "      <td>2.0</td>\n",
              "      <td>21.0</td>\n",
              "      <td>87.0</td>\n",
              "    </tr>\n",
              "    <tr>\n",
              "      <th>3</th>\n",
              "      <td>3.0</td>\n",
              "      <td>0.0</td>\n",
              "      <td>1.0</td>\n",
              "      <td>0.0</td>\n",
              "      <td>0.0</td>\n",
              "      <td>0.0</td>\n",
              "      <td>0.0</td>\n",
              "      <td>0.0</td>\n",
              "      <td>0.0</td>\n",
              "      <td>0.0</td>\n",
              "      <td>0.0</td>\n",
              "      <td>0.0</td>\n",
              "      <td>0.0</td>\n",
              "      <td>0.0</td>\n",
              "      <td>1.0</td>\n",
              "      <td>2.0</td>\n",
              "      <td>2.0</td>\n",
              "      <td>1.0</td>\n",
              "      <td>2.0</td>\n",
              "      <td>1.0</td>\n",
              "      <td>1.0</td>\n",
              "      <td>2.0</td>\n",
              "      <td>1.0</td>\n",
              "      <td>2.0</td>\n",
              "      <td>2.0</td>\n",
              "      <td>1.0</td>\n",
              "      <td>1.0</td>\n",
              "      <td>4.0</td>\n",
              "      <td>4.0</td>\n",
              "      <td>2.0</td>\n",
              "      <td>1.0</td>\n",
              "      <td>2.0</td>\n",
              "      <td>1.0</td>\n",
              "      <td>1.0</td>\n",
              "      <td>2.0</td>\n",
              "      <td>1.0</td>\n",
              "      <td>2.0</td>\n",
              "      <td>2.0</td>\n",
              "      <td>23.0</td>\n",
              "      <td>90.0</td>\n",
              "    </tr>\n",
              "    <tr>\n",
              "      <th>4</th>\n",
              "      <td>3.0</td>\n",
              "      <td>1.0</td>\n",
              "      <td>0.0</td>\n",
              "      <td>0.0</td>\n",
              "      <td>0.0</td>\n",
              "      <td>0.0</td>\n",
              "      <td>0.0</td>\n",
              "      <td>0.0</td>\n",
              "      <td>0.0</td>\n",
              "      <td>0.0</td>\n",
              "      <td>0.0</td>\n",
              "      <td>0.0</td>\n",
              "      <td>0.0</td>\n",
              "      <td>0.0</td>\n",
              "      <td>0.0</td>\n",
              "      <td>2.0</td>\n",
              "      <td>2.0</td>\n",
              "      <td>2.0</td>\n",
              "      <td>2.0</td>\n",
              "      <td>1.0</td>\n",
              "      <td>2.0</td>\n",
              "      <td>2.0</td>\n",
              "      <td>1.0</td>\n",
              "      <td>4.0</td>\n",
              "      <td>2.0</td>\n",
              "      <td>1.0</td>\n",
              "      <td>1.0</td>\n",
              "      <td>0.0</td>\n",
              "      <td>2.0</td>\n",
              "      <td>2.0</td>\n",
              "      <td>3.0</td>\n",
              "      <td>3.0</td>\n",
              "      <td>1.0</td>\n",
              "      <td>2.0</td>\n",
              "      <td>2.0</td>\n",
              "      <td>2.0</td>\n",
              "      <td>2.0</td>\n",
              "      <td>3.0</td>\n",
              "      <td>23.0</td>\n",
              "      <td>50.0</td>\n",
              "    </tr>\n",
              "  </tbody>\n",
              "</table>\n",
              "</div>"
            ],
            "text/plain": [
              "   age_band  x0_1.0  x0_2.0  heart_disease  high_bp  stroke  circulation  \\\n",
              "0       3.0     0.0     1.0            0.0      1.0     0.0          0.0   \n",
              "1       3.0     0.0     1.0            0.0      0.0     0.0          0.0   \n",
              "2       3.0     0.0     1.0            0.0      0.0     0.0          0.0   \n",
              "3       3.0     0.0     1.0            0.0      0.0     0.0          0.0   \n",
              "4       3.0     1.0     0.0            0.0      0.0     0.0          0.0   \n",
              "\n",
              "   lung_disease  diabetes  kidney_disease  nervous_system  liver_disease  \\\n",
              "0           0.0       0.0             0.0             0.0            0.0   \n",
              "1           0.0       0.0             0.0             0.0            0.0   \n",
              "2           0.0       0.0             0.0             0.0            0.0   \n",
              "3           0.0       0.0             0.0             0.0            0.0   \n",
              "4           0.0       0.0             0.0             0.0            0.0   \n",
              "\n",
              "   cancer  depression  arthritis  t0_assisted  t0_previous_surgery  \\\n",
              "0     0.0         0.0        1.0          2.0                  2.0   \n",
              "1     0.0         0.0        1.0          2.0                  1.0   \n",
              "2     0.0         0.0        1.0          2.0                  2.0   \n",
              "3     0.0         0.0        1.0          2.0                  2.0   \n",
              "4     0.0         0.0        0.0          2.0                  2.0   \n",
              "\n",
              "   t0_disability  t0_mobility  t0_self_care  t0_activity  t0_discomfort  \\\n",
              "0            2.0          2.0           1.0          2.0            3.0   \n",
              "1            2.0          1.0           1.0          2.0            2.0   \n",
              "2            2.0          2.0           1.0          2.0            2.0   \n",
              "3            1.0          2.0           1.0          1.0            2.0   \n",
              "4            2.0          2.0           1.0          2.0            2.0   \n",
              "\n",
              "   t0_anxiety  t0_symptom_period  t0_previous_surgery  t0_living_arrangements  \\\n",
              "0         1.0                4.0                  2.0                     2.0   \n",
              "1         1.0                2.0                  1.0                     1.0   \n",
              "2         1.0                2.0                  2.0                     1.0   \n",
              "3         1.0                2.0                  2.0                     1.0   \n",
              "4         1.0                4.0                  2.0                     1.0   \n",
              "\n",
              "   oks_t0_pain  oks_t0_night_pain  oks_t0_washing  oks_t0_transport  \\\n",
              "0          0.0                0.0             2.0               2.0   \n",
              "1          0.0                0.0             3.0               2.0   \n",
              "2          0.0                2.0             3.0               3.0   \n",
              "3          1.0                4.0             4.0               2.0   \n",
              "4          1.0                0.0             2.0               2.0   \n",
              "\n",
              "   oks_t0_walking  oks_t0_standing  oks_t0_limping  oks_t0_kneeling  \\\n",
              "0             2.0              2.0             1.0              0.0   \n",
              "1             3.0              1.0             1.0              1.0   \n",
              "2             1.0              2.0             0.0              1.0   \n",
              "3             1.0              2.0             1.0              1.0   \n",
              "4             3.0              3.0             1.0              2.0   \n",
              "\n",
              "   oks_t0_work  oks_t0_confidence  oks_t0_shopping  oks_t0_stairs  \\\n",
              "0          2.0                3.0              2.0            2.0   \n",
              "1          2.0                1.0              2.0            2.0   \n",
              "2          1.0                3.0              3.0            2.0   \n",
              "3          2.0                1.0              2.0            2.0   \n",
              "4          2.0                2.0              2.0            3.0   \n",
              "\n",
              "   oks_t0_score  t0_eq_vas  \n",
              "0          18.0       90.0  \n",
              "1          18.0       85.0  \n",
              "2          21.0       87.0  \n",
              "3          23.0       90.0  \n",
              "4          23.0       50.0  "
            ]
          },
          "metadata": {},
          "execution_count": 9
        }
      ]
    },
    {
      "cell_type": "markdown",
      "metadata": {
        "id": "uWa5Mpv5hW99"
      },
      "source": [
        "# Modeling"
      ]
    },
    {
      "cell_type": "markdown",
      "metadata": {
        "id": "ps-NB5SwlrNd"
      },
      "source": [
        "## Regression\n",
        "\n",
        "A first step is trying to predict t1_eq_vas. Naturally, we expect t0_eq_vas to be an important predictor. To check our expectations we can first plot the relation between these variables:"
      ]
    },
    {
      "cell_type": "code",
      "metadata": {
        "colab": {
          "base_uri": "https://localhost:8080/",
          "height": 721
        },
        "id": "XMUjuVUvj94J",
        "outputId": "94c909ad-c4f0-49a5-9298-74db8e6bdbbe"
      },
      "source": [
        "df_train.plot(kind='scatter', x='t0_eq_vas', y='t1_eq_vas', xlim=(0,100), ylim=(0,100), alpha=0.1, figsize=M);"
      ],
      "execution_count": 10,
      "outputs": [
        {
          "output_type": "display_data",
          "data": {
            "image/png": "[encoded data removed]",
            "text/plain": [
              "<Figure size 864x864 with 1 Axes>"
            ]
          },
          "metadata": {}
        }
      ]
    },
    {
      "cell_type": "markdown",
      "source": [
        "Now we apply a linear regression to see how much of eq_vas at t1 is explained by eq_vas at t0 in a simple (linear) model."
      ],
      "metadata": {
        "id": "mQf_PpBUANDw"
      }
    },
    {
      "cell_type": "code",
      "metadata": {
        "colab": {
          "base_uri": "https://localhost:8080/"
        },
        "id": "-NOUke07slU4",
        "outputId": "f0068112-dd9f-4a6f-dbd1-ee9ea39bb7cb"
      },
      "source": [
        "from sklearn.linear_model import LinearRegression\n",
        "\n",
        "#def fill_median(s):\n",
        "#    return s.fillna(value=s.median()).to_frame() \n",
        "\n",
        "eq = ['t0_eq_vas', 't1_eq_vas']\n",
        "eq_prep = ColumnTransformer(transformers=\n",
        "                            [('eq',\n",
        "                              SimpleImputer(missing_values=999,\n",
        "                                            strategy='median'),\n",
        "                              eq),\n",
        "                            ])\n",
        "eq_prep.fit(df_train)\n",
        "\n",
        "# note y = t1_eq\n",
        "t0_eq, t1_eq = eq_prep.transform(df_train)[:,0].reshape(-1,1), eq_prep.transform(df_train)[:,1]\n",
        "\n",
        "# prepare t1_eq_test for use in model assessment\n",
        "t1_eq_test = eq_prep.transform(df_test)[:,1]\n",
        "\n",
        "# simple linear regression\n",
        "lin_reg = LinearRegression()\n",
        "lin_reg.fit(t0_eq, t1_eq)\n",
        "print('Intercept: ' + str(lin_reg.intercept_))\n",
        "print('Beta: ' + str(lin_reg.coef_))\n",
        "print('R2: ' + str(lin_reg.score(t0_eq, t1_eq)))"
      ],
      "execution_count": 12,
      "outputs": [
        {
          "output_type": "stream",
          "name": "stdout",
          "text": [
            "Intercept: 53.96785070807591\n",
            "Beta: [0.3119393]\n",
            "R2: 0.11759546401482956\n"
          ]
        }
      ]
    },
    {
      "cell_type": "markdown",
      "metadata": {
        "id": "kW-QnWTvj94K"
      },
      "source": [
        "So this very first, basic model yields an $R^2$ of 0.12 which is very modest. \n",
        "\n",
        "We normally should add **cross-validation** to our model building process, to be able to properly compare different model options in terms of performance. \n",
        "\n",
        "Next to the choices you have on how to build your models, you also have choices to make regarding the performance metric, being the 'thing' that your model will optimize. Let's apply Mean Squared Error (MSE) as our metric in the next iteration:"
      ]
    },
    {
      "cell_type": "code",
      "metadata": {
        "colab": {
          "base_uri": "https://localhost:8080/"
        },
        "id": "6aaTRRejj94K",
        "outputId": "81e59dca-10e5-43fa-ea67-4311bd0aafe2"
      },
      "source": [
        "from sklearn.metrics import mean_squared_error\n",
        "from sklearn.model_selection import cross_val_score\n",
        "\n",
        "\n",
        "def display_scores(scores):\n",
        "    print(f\"Scores: {scores}\")\n",
        "    print(f\"Mean: {scores.mean():.4f}\")\n",
        "    print(f\"Standard deviation: {scores.std():.4f}\")\n",
        "\n",
        "scores = cross_val_score(lin_reg, t0_eq, t1_eq, scoring='neg_mean_squared_error', cv=5)\n",
        "lin_rmse_scores = np.sqrt(-scores)\n",
        "display_scores(lin_rmse_scores)"
      ],
      "execution_count": 13,
      "outputs": [
        {
          "output_type": "stream",
          "name": "stdout",
          "text": [
            "Scores: [16.66593682 16.82464722 16.87729003 16.88592997 16.93669798]\n",
            "Mean: 16.8381\n",
            "Standard deviation: 0.0931\n"
          ]
        }
      ]
    },
    {
      "cell_type": "markdown",
      "metadata": {
        "id": "Wy5vRCbnj94L"
      },
      "source": [
        "The reported root of the MSE of around 16.8 tells us that when a prediction is made, the true outcome is likely to be in the interval of 2 * 16.8 below and 2 * 16.8 above the predicted value. This results in a range of around 65 points for an outcome measure ranging from 0 to 100, which is substantial, and confirms a simple linear model will not do the trick. \n",
        "\n",
        "Now that we have seen the simplest setup for a linear regression with only one predictor, let's try to find out which features are the best predictors."
      ]
    },
    {
      "cell_type": "markdown",
      "metadata": {
        "id": "2CeInvCjj94L"
      },
      "source": [
        "### SelectKBest\n",
        "\n",
        "For regression tasks, you often want to get a first idea which features contain the most information i.e. are the best predictors. There are various techniques to answer this question, such as stepwise selection. Scikit-learn has various [univariate feature selection](https://scikit-learn.org/stable/modules/feature_selection.html) methods for this purpose. We will use [SelectKBest](https://scikit-learn.org/stable/modules/generated/sklearn.feature_selection.SelectKBest.html#sklearn.feature_selection.SelectKBest).\n"
      ]
    },
    {
      "cell_type": "code",
      "metadata": {
        "colab": {
          "base_uri": "https://localhost:8080/"
        },
        "id": "qHTdsoEMj94L",
        "outputId": "a9843a43-75d8-4945-c436-c495fb02b4e0"
      },
      "source": [
        "from sklearn.feature_selection import SelectKBest, f_regression\n",
        "\n",
        "k10best = Pipeline(\n",
        "    steps=[\n",
        "        (\"prep\", ColumnTransformer(transformers=transformers.values())),\n",
        "        (\"kbest\", SelectKBest(f_regression, k=10)),\n",
        "#         (\"lin_reg\", LinearRegression())\n",
        "    ]\n",
        ")\n",
        "\n",
        "X_10best = k10best.fit(df_train, t1_eq).transform(df_train)\n",
        "lin_10best = LinearRegression()\n",
        "scores_10best = cross_val_score(lin_10best, X_10best, t1_eq, scoring='neg_mean_squared_error', cv=5)\n",
        "lin_10best_rmse_scores = np.sqrt(-scores_10best)\n",
        "display_scores(lin_10best_rmse_scores)"
      ],
      "execution_count": 14,
      "outputs": [
        {
          "output_type": "stream",
          "name": "stdout",
          "text": [
            "Scores: [15.99162775 16.14324365 16.17794808 16.22819153 16.19174312]\n",
            "Mean: 16.1466\n",
            "Standard deviation: 0.0821\n"
          ]
        }
      ]
    },
    {
      "cell_type": "markdown",
      "metadata": {
        "id": "glyJVS_Tj94M"
      },
      "source": [
        "Using the 10 Best features, the model performs only slightly better with an RMSE of 16.1 +/- 0.08"
      ]
    },
    {
      "cell_type": "code",
      "metadata": {
        "colab": {
          "base_uri": "https://localhost:8080/",
          "height": 1000
        },
        "id": "6kPaWcd_j94M",
        "outputId": "eee58e50-1985-44ac-89e6-d46c98c4c295"
      },
      "source": [
        "# show features in descending order of importance\n",
        "pd.concat(\n",
        "        {\"score\": pd.Series(k10best[\"kbest\"].scores_), \"feature\": X_columns}, axis=1\n",
        "    ).sort_values(\"score\", ascending=False)\n"
      ],
      "execution_count": 15,
      "outputs": [
        {
          "output_type": "execute_result",
          "data": {
            "text/html": [
              "<div>\n",
              "<style scoped>\n",
              "    .dataframe tbody tr th:only-of-type {\n",
              "        vertical-align: middle;\n",
              "    }\n",
              "\n",
              "    .dataframe tbody tr th {\n",
              "        vertical-align: top;\n",
              "    }\n",
              "\n",
              "    .dataframe thead th {\n",
              "        text-align: right;\n",
              "    }\n",
              "</style>\n",
              "<table border=\"1\" class=\"dataframe\">\n",
              "  <thead>\n",
              "    <tr style=\"text-align: right;\">\n",
              "      <th></th>\n",
              "      <th>score</th>\n",
              "      <th>feature</th>\n",
              "    </tr>\n",
              "  </thead>\n",
              "  <tbody>\n",
              "    <tr>\n",
              "      <th>39</th>\n",
              "      <td>12988.61</td>\n",
              "      <td>t0_eq_vas</td>\n",
              "    </tr>\n",
              "    <tr>\n",
              "      <th>38</th>\n",
              "      <td>8612.77</td>\n",
              "      <td>oks_t0_score</td>\n",
              "    </tr>\n",
              "    <tr>\n",
              "      <th>36</th>\n",
              "      <td>8036.19</td>\n",
              "      <td>oks_t0_shopping</td>\n",
              "    </tr>\n",
              "    <tr>\n",
              "      <th>19</th>\n",
              "      <td>7386.24</td>\n",
              "      <td>t0_self_care</td>\n",
              "    </tr>\n",
              "    <tr>\n",
              "      <th>17</th>\n",
              "      <td>6930.16</td>\n",
              "      <td>t0_disability</td>\n",
              "    </tr>\n",
              "    <tr>\n",
              "      <th>28</th>\n",
              "      <td>6620.98</td>\n",
              "      <td>oks_t0_washing</td>\n",
              "    </tr>\n",
              "    <tr>\n",
              "      <th>22</th>\n",
              "      <td>6559.51</td>\n",
              "      <td>t0_anxiety</td>\n",
              "    </tr>\n",
              "    <tr>\n",
              "      <th>37</th>\n",
              "      <td>5421.20</td>\n",
              "      <td>oks_t0_stairs</td>\n",
              "    </tr>\n",
              "    <tr>\n",
              "      <th>34</th>\n",
              "      <td>5213.64</td>\n",
              "      <td>oks_t0_work</td>\n",
              "    </tr>\n",
              "    <tr>\n",
              "      <th>29</th>\n",
              "      <td>4438.80</td>\n",
              "      <td>oks_t0_transport</td>\n",
              "    </tr>\n",
              "    <tr>\n",
              "      <th>33</th>\n",
              "      <td>3610.42</td>\n",
              "      <td>oks_t0_kneeling</td>\n",
              "    </tr>\n",
              "    <tr>\n",
              "      <th>20</th>\n",
              "      <td>3476.54</td>\n",
              "      <td>t0_activity</td>\n",
              "    </tr>\n",
              "    <tr>\n",
              "      <th>35</th>\n",
              "      <td>3472.68</td>\n",
              "      <td>oks_t0_confidence</td>\n",
              "    </tr>\n",
              "    <tr>\n",
              "      <th>30</th>\n",
              "      <td>3408.84</td>\n",
              "      <td>oks_t0_walking</td>\n",
              "    </tr>\n",
              "    <tr>\n",
              "      <th>13</th>\n",
              "      <td>3230.02</td>\n",
              "      <td>depression</td>\n",
              "    </tr>\n",
              "    <tr>\n",
              "      <th>21</th>\n",
              "      <td>3030.51</td>\n",
              "      <td>t0_discomfort</td>\n",
              "    </tr>\n",
              "    <tr>\n",
              "      <th>31</th>\n",
              "      <td>2798.40</td>\n",
              "      <td>oks_t0_standing</td>\n",
              "    </tr>\n",
              "    <tr>\n",
              "      <th>27</th>\n",
              "      <td>1670.23</td>\n",
              "      <td>oks_t0_night_pain</td>\n",
              "    </tr>\n",
              "    <tr>\n",
              "      <th>26</th>\n",
              "      <td>1513.21</td>\n",
              "      <td>oks_t0_pain</td>\n",
              "    </tr>\n",
              "    <tr>\n",
              "      <th>18</th>\n",
              "      <td>1401.19</td>\n",
              "      <td>t0_mobility</td>\n",
              "    </tr>\n",
              "    <tr>\n",
              "      <th>6</th>\n",
              "      <td>1394.65</td>\n",
              "      <td>circulation</td>\n",
              "    </tr>\n",
              "    <tr>\n",
              "      <th>15</th>\n",
              "      <td>1235.65</td>\n",
              "      <td>t0_assisted</td>\n",
              "    </tr>\n",
              "    <tr>\n",
              "      <th>7</th>\n",
              "      <td>988.34</td>\n",
              "      <td>lung_disease</td>\n",
              "    </tr>\n",
              "    <tr>\n",
              "      <th>32</th>\n",
              "      <td>892.12</td>\n",
              "      <td>oks_t0_limping</td>\n",
              "    </tr>\n",
              "    <tr>\n",
              "      <th>8</th>\n",
              "      <td>848.78</td>\n",
              "      <td>diabetes</td>\n",
              "    </tr>\n",
              "    <tr>\n",
              "      <th>3</th>\n",
              "      <td>787.41</td>\n",
              "      <td>heart_disease</td>\n",
              "    </tr>\n",
              "    <tr>\n",
              "      <th>14</th>\n",
              "      <td>733.27</td>\n",
              "      <td>arthritis</td>\n",
              "    </tr>\n",
              "    <tr>\n",
              "      <th>10</th>\n",
              "      <td>401.40</td>\n",
              "      <td>nervous_system</td>\n",
              "    </tr>\n",
              "    <tr>\n",
              "      <th>4</th>\n",
              "      <td>350.56</td>\n",
              "      <td>high_bp</td>\n",
              "    </tr>\n",
              "    <tr>\n",
              "      <th>1</th>\n",
              "      <td>340.12</td>\n",
              "      <td>x0_1.0</td>\n",
              "    </tr>\n",
              "    <tr>\n",
              "      <th>2</th>\n",
              "      <td>340.12</td>\n",
              "      <td>x0_2.0</td>\n",
              "    </tr>\n",
              "    <tr>\n",
              "      <th>16</th>\n",
              "      <td>307.46</td>\n",
              "      <td>t0_previous_surgery</td>\n",
              "    </tr>\n",
              "    <tr>\n",
              "      <th>24</th>\n",
              "      <td>307.46</td>\n",
              "      <td>t0_previous_surgery</td>\n",
              "    </tr>\n",
              "    <tr>\n",
              "      <th>5</th>\n",
              "      <td>243.16</td>\n",
              "      <td>stroke</td>\n",
              "    </tr>\n",
              "    <tr>\n",
              "      <th>9</th>\n",
              "      <td>193.54</td>\n",
              "      <td>kidney_disease</td>\n",
              "    </tr>\n",
              "    <tr>\n",
              "      <th>25</th>\n",
              "      <td>167.61</td>\n",
              "      <td>t0_living_arrangements</td>\n",
              "    </tr>\n",
              "    <tr>\n",
              "      <th>11</th>\n",
              "      <td>83.85</td>\n",
              "      <td>liver_disease</td>\n",
              "    </tr>\n",
              "    <tr>\n",
              "      <th>12</th>\n",
              "      <td>80.29</td>\n",
              "      <td>cancer</td>\n",
              "    </tr>\n",
              "    <tr>\n",
              "      <th>0</th>\n",
              "      <td>57.17</td>\n",
              "      <td>age_band</td>\n",
              "    </tr>\n",
              "    <tr>\n",
              "      <th>23</th>\n",
              "      <td>28.30</td>\n",
              "      <td>t0_symptom_period</td>\n",
              "    </tr>\n",
              "  </tbody>\n",
              "</table>\n",
              "</div>"
            ],
            "text/plain": [
              "       score                 feature\n",
              "39  12988.61               t0_eq_vas\n",
              "38   8612.77            oks_t0_score\n",
              "36   8036.19         oks_t0_shopping\n",
              "19   7386.24            t0_self_care\n",
              "17   6930.16           t0_disability\n",
              "28   6620.98          oks_t0_washing\n",
              "22   6559.51              t0_anxiety\n",
              "37   5421.20           oks_t0_stairs\n",
              "34   5213.64             oks_t0_work\n",
              "29   4438.80        oks_t0_transport\n",
              "33   3610.42         oks_t0_kneeling\n",
              "20   3476.54             t0_activity\n",
              "35   3472.68       oks_t0_confidence\n",
              "30   3408.84          oks_t0_walking\n",
              "13   3230.02              depression\n",
              "21   3030.51           t0_discomfort\n",
              "31   2798.40         oks_t0_standing\n",
              "27   1670.23       oks_t0_night_pain\n",
              "26   1513.21             oks_t0_pain\n",
              "18   1401.19             t0_mobility\n",
              "6    1394.65             circulation\n",
              "15   1235.65             t0_assisted\n",
              "7     988.34            lung_disease\n",
              "32    892.12          oks_t0_limping\n",
              "8     848.78                diabetes\n",
              "3     787.41           heart_disease\n",
              "14    733.27               arthritis\n",
              "10    401.40          nervous_system\n",
              "4     350.56                 high_bp\n",
              "1     340.12                  x0_1.0\n",
              "2     340.12                  x0_2.0\n",
              "16    307.46     t0_previous_surgery\n",
              "24    307.46     t0_previous_surgery\n",
              "5     243.16                  stroke\n",
              "9     193.54          kidney_disease\n",
              "25    167.61  t0_living_arrangements\n",
              "11     83.85           liver_disease\n",
              "12     80.29                  cancer\n",
              "0      57.17                age_band\n",
              "23     28.30       t0_symptom_period"
            ]
          },
          "metadata": {},
          "execution_count": 15
        }
      ]
    },
    {
      "cell_type": "markdown",
      "metadata": {
        "id": "1FXmpcqpV176"
      },
      "source": [
        "It is important to realize that linear regression is simply to be used as a baseline model; do not put too much effort into tuning; mainly use it to increase your understanding of the data and as a means of face validity, i.e. to see if there is nothing striking in the importance ranking, which could be indicative of errors in your data, in your data preparation or in your modeling approach. \n",
        "\n",
        "\n",
        "So even though you are in the CRISP-DM Modeling phase at this point, approach building a baseline model as helping you to increase your Data Understanding. This is exactly why it is important to not only estimate your baseline model and its performance, but also to describe it from different angles, by showing features in descending order of importance, but also by looking into the coefficients for each feature and their signs (i.e. whether they contribute to higher of lower outcomes)."
      ]
    },
    {
      "cell_type": "code",
      "metadata": {
        "colab": {
          "base_uri": "https://localhost:8080/",
          "height": 359
        },
        "id": "xivAe2JMezS3",
        "outputId": "67543647-cba8-41ef-c814-81efe2fdb94b"
      },
      "source": [
        "# build a model with the 10 features, with the purpose to check \n",
        "# feature coefficients for face validity\n",
        "\n",
        "# create pd DataFrame\n",
        "cols = k10best['kbest'].get_support(indices=True)\n",
        "X_set = pd.DataFrame(X_10best, columns=X_columns[cols])\n",
        "X_set.head(10)"
      ],
      "execution_count": 16,
      "outputs": [
        {
          "output_type": "execute_result",
          "data": {
            "text/html": [
              "<div>\n",
              "<style scoped>\n",
              "    .dataframe tbody tr th:only-of-type {\n",
              "        vertical-align: middle;\n",
              "    }\n",
              "\n",
              "    .dataframe tbody tr th {\n",
              "        vertical-align: top;\n",
              "    }\n",
              "\n",
              "    .dataframe thead th {\n",
              "        text-align: right;\n",
              "    }\n",
              "</style>\n",
              "<table border=\"1\" class=\"dataframe\">\n",
              "  <thead>\n",
              "    <tr style=\"text-align: right;\">\n",
              "      <th></th>\n",
              "      <th>t0_disability</th>\n",
              "      <th>t0_self_care</th>\n",
              "      <th>t0_anxiety</th>\n",
              "      <th>oks_t0_washing</th>\n",
              "      <th>oks_t0_transport</th>\n",
              "      <th>oks_t0_work</th>\n",
              "      <th>oks_t0_shopping</th>\n",
              "      <th>oks_t0_stairs</th>\n",
              "      <th>oks_t0_score</th>\n",
              "      <th>t0_eq_vas</th>\n",
              "    </tr>\n",
              "  </thead>\n",
              "  <tbody>\n",
              "    <tr>\n",
              "      <th>0</th>\n",
              "      <td>2.0</td>\n",
              "      <td>1.0</td>\n",
              "      <td>1.0</td>\n",
              "      <td>2.0</td>\n",
              "      <td>2.0</td>\n",
              "      <td>2.0</td>\n",
              "      <td>2.0</td>\n",
              "      <td>2.0</td>\n",
              "      <td>18.0</td>\n",
              "      <td>90.0</td>\n",
              "    </tr>\n",
              "    <tr>\n",
              "      <th>1</th>\n",
              "      <td>2.0</td>\n",
              "      <td>1.0</td>\n",
              "      <td>1.0</td>\n",
              "      <td>3.0</td>\n",
              "      <td>2.0</td>\n",
              "      <td>2.0</td>\n",
              "      <td>2.0</td>\n",
              "      <td>2.0</td>\n",
              "      <td>18.0</td>\n",
              "      <td>85.0</td>\n",
              "    </tr>\n",
              "    <tr>\n",
              "      <th>2</th>\n",
              "      <td>2.0</td>\n",
              "      <td>1.0</td>\n",
              "      <td>1.0</td>\n",
              "      <td>3.0</td>\n",
              "      <td>3.0</td>\n",
              "      <td>1.0</td>\n",
              "      <td>3.0</td>\n",
              "      <td>2.0</td>\n",
              "      <td>21.0</td>\n",
              "      <td>87.0</td>\n",
              "    </tr>\n",
              "    <tr>\n",
              "      <th>3</th>\n",
              "      <td>1.0</td>\n",
              "      <td>1.0</td>\n",
              "      <td>1.0</td>\n",
              "      <td>4.0</td>\n",
              "      <td>2.0</td>\n",
              "      <td>2.0</td>\n",
              "      <td>2.0</td>\n",
              "      <td>2.0</td>\n",
              "      <td>23.0</td>\n",
              "      <td>90.0</td>\n",
              "    </tr>\n",
              "    <tr>\n",
              "      <th>4</th>\n",
              "      <td>2.0</td>\n",
              "      <td>1.0</td>\n",
              "      <td>1.0</td>\n",
              "      <td>2.0</td>\n",
              "      <td>2.0</td>\n",
              "      <td>2.0</td>\n",
              "      <td>2.0</td>\n",
              "      <td>3.0</td>\n",
              "      <td>23.0</td>\n",
              "      <td>50.0</td>\n",
              "    </tr>\n",
              "    <tr>\n",
              "      <th>5</th>\n",
              "      <td>2.0</td>\n",
              "      <td>1.0</td>\n",
              "      <td>1.0</td>\n",
              "      <td>3.0</td>\n",
              "      <td>2.0</td>\n",
              "      <td>2.0</td>\n",
              "      <td>3.0</td>\n",
              "      <td>1.0</td>\n",
              "      <td>19.0</td>\n",
              "      <td>55.0</td>\n",
              "    </tr>\n",
              "    <tr>\n",
              "      <th>6</th>\n",
              "      <td>1.0</td>\n",
              "      <td>2.0</td>\n",
              "      <td>1.0</td>\n",
              "      <td>3.0</td>\n",
              "      <td>2.0</td>\n",
              "      <td>2.0</td>\n",
              "      <td>2.0</td>\n",
              "      <td>1.0</td>\n",
              "      <td>18.0</td>\n",
              "      <td>95.0</td>\n",
              "    </tr>\n",
              "    <tr>\n",
              "      <th>7</th>\n",
              "      <td>1.0</td>\n",
              "      <td>1.0</td>\n",
              "      <td>1.0</td>\n",
              "      <td>3.0</td>\n",
              "      <td>2.0</td>\n",
              "      <td>1.0</td>\n",
              "      <td>3.0</td>\n",
              "      <td>2.0</td>\n",
              "      <td>19.0</td>\n",
              "      <td>70.0</td>\n",
              "    </tr>\n",
              "    <tr>\n",
              "      <th>8</th>\n",
              "      <td>2.0</td>\n",
              "      <td>1.0</td>\n",
              "      <td>1.0</td>\n",
              "      <td>4.0</td>\n",
              "      <td>3.0</td>\n",
              "      <td>2.0</td>\n",
              "      <td>3.0</td>\n",
              "      <td>2.0</td>\n",
              "      <td>24.0</td>\n",
              "      <td>95.0</td>\n",
              "    </tr>\n",
              "    <tr>\n",
              "      <th>9</th>\n",
              "      <td>2.0</td>\n",
              "      <td>1.0</td>\n",
              "      <td>2.0</td>\n",
              "      <td>4.0</td>\n",
              "      <td>2.0</td>\n",
              "      <td>1.0</td>\n",
              "      <td>2.0</td>\n",
              "      <td>3.0</td>\n",
              "      <td>19.0</td>\n",
              "      <td>40.0</td>\n",
              "    </tr>\n",
              "  </tbody>\n",
              "</table>\n",
              "</div>"
            ],
            "text/plain": [
              "   t0_disability  t0_self_care  t0_anxiety  oks_t0_washing  oks_t0_transport  \\\n",
              "0            2.0           1.0         1.0             2.0               2.0   \n",
              "1            2.0           1.0         1.0             3.0               2.0   \n",
              "2            2.0           1.0         1.0             3.0               3.0   \n",
              "3            1.0           1.0         1.0             4.0               2.0   \n",
              "4            2.0           1.0         1.0             2.0               2.0   \n",
              "5            2.0           1.0         1.0             3.0               2.0   \n",
              "6            1.0           2.0         1.0             3.0               2.0   \n",
              "7            1.0           1.0         1.0             3.0               2.0   \n",
              "8            2.0           1.0         1.0             4.0               3.0   \n",
              "9            2.0           1.0         2.0             4.0               2.0   \n",
              "\n",
              "   oks_t0_work  oks_t0_shopping  oks_t0_stairs  oks_t0_score  t0_eq_vas  \n",
              "0          2.0              2.0            2.0          18.0       90.0  \n",
              "1          2.0              2.0            2.0          18.0       85.0  \n",
              "2          1.0              3.0            2.0          21.0       87.0  \n",
              "3          2.0              2.0            2.0          23.0       90.0  \n",
              "4          2.0              2.0            3.0          23.0       50.0  \n",
              "5          2.0              3.0            1.0          19.0       55.0  \n",
              "6          2.0              2.0            1.0          18.0       95.0  \n",
              "7          1.0              3.0            2.0          19.0       70.0  \n",
              "8          2.0              3.0            2.0          24.0       95.0  \n",
              "9          1.0              2.0            3.0          19.0       40.0  "
            ]
          },
          "metadata": {},
          "execution_count": 16
        }
      ]
    },
    {
      "cell_type": "code",
      "metadata": {
        "colab": {
          "base_uri": "https://localhost:8080/",
          "height": 359
        },
        "id": "o8pTWPY1tmqP",
        "outputId": "383cda3c-16ff-48aa-81ae-28dafa57586f"
      },
      "source": [
        "# run model and extract coefficients\n",
        "lin_reg_full = LinearRegression()\n",
        "lin_reg_full.fit(X_set, t1_eq)\n",
        "pd.DataFrame(lin_reg_full.coef_, X_columns[cols], columns=['Coefficients'])"
      ],
      "execution_count": 17,
      "outputs": [
        {
          "output_type": "execute_result",
          "data": {
            "text/html": [
              "<div>\n",
              "<style scoped>\n",
              "    .dataframe tbody tr th:only-of-type {\n",
              "        vertical-align: middle;\n",
              "    }\n",
              "\n",
              "    .dataframe tbody tr th {\n",
              "        vertical-align: top;\n",
              "    }\n",
              "\n",
              "    .dataframe thead th {\n",
              "        text-align: right;\n",
              "    }\n",
              "</style>\n",
              "<table border=\"1\" class=\"dataframe\">\n",
              "  <thead>\n",
              "    <tr style=\"text-align: right;\">\n",
              "      <th></th>\n",
              "      <th>Coefficients</th>\n",
              "    </tr>\n",
              "  </thead>\n",
              "  <tbody>\n",
              "    <tr>\n",
              "      <th>t0_disability</th>\n",
              "      <td>4.10</td>\n",
              "    </tr>\n",
              "    <tr>\n",
              "      <th>t0_self_care</th>\n",
              "      <td>-3.03</td>\n",
              "    </tr>\n",
              "    <tr>\n",
              "      <th>t0_anxiety</th>\n",
              "      <td>-3.21</td>\n",
              "    </tr>\n",
              "    <tr>\n",
              "      <th>oks_t0_washing</th>\n",
              "      <td>0.88</td>\n",
              "    </tr>\n",
              "    <tr>\n",
              "      <th>oks_t0_transport</th>\n",
              "      <td>0.15</td>\n",
              "    </tr>\n",
              "    <tr>\n",
              "      <th>oks_t0_work</th>\n",
              "      <td>0.39</td>\n",
              "    </tr>\n",
              "    <tr>\n",
              "      <th>oks_t0_shopping</th>\n",
              "      <td>1.12</td>\n",
              "    </tr>\n",
              "    <tr>\n",
              "      <th>oks_t0_stairs</th>\n",
              "      <td>0.51</td>\n",
              "    </tr>\n",
              "    <tr>\n",
              "      <th>oks_t0_score</th>\n",
              "      <td>-0.06</td>\n",
              "    </tr>\n",
              "    <tr>\n",
              "      <th>t0_eq_vas</th>\n",
              "      <td>0.20</td>\n",
              "    </tr>\n",
              "  </tbody>\n",
              "</table>\n",
              "</div>"
            ],
            "text/plain": [
              "                  Coefficients\n",
              "t0_disability             4.10\n",
              "t0_self_care             -3.03\n",
              "t0_anxiety               -3.21\n",
              "oks_t0_washing            0.88\n",
              "oks_t0_transport          0.15\n",
              "oks_t0_work               0.39\n",
              "oks_t0_shopping           1.12\n",
              "oks_t0_stairs             0.51\n",
              "oks_t0_score             -0.06\n",
              "t0_eq_vas                 0.20"
            ]
          },
          "metadata": {},
          "execution_count": 17
        }
      ]
    },
    {
      "cell_type": "markdown",
      "metadata": {
        "id": "zkUqnQ9ERpKa"
      },
      "source": [
        "The large coefficients with contrasting signs for variables containing information that is 'pointing in the same direction' (disability / self care / anxiety) indicates that there might be multicollinearity, that might introduce some model instability (as indicated by the large, contrasting coefficients). "
      ]
    },
    {
      "cell_type": "markdown",
      "metadata": {
        "id": "fc4NLsWHj94M"
      },
      "source": [
        "## LASSO Regression\n",
        "\n",
        "We now start looking into other types of models and start with Lasso regression, which is a so-called regularized version of a normal regression. We apply Lasso here using cross-validation (following the example from [scikit-learn documentation](https://scikit-learn.org/stable/auto_examples/linear_model/plot_lasso_model_selection.html#sphx-glr-auto-examples-linear-model-plot-lasso-model-selection-py)), which is now crucial as we have a hyperparameter to tune. Recall that Lasso contains an additional cost component:\n",
        "\n",
        "$$ J(\\Theta) = MSE (\\Theta) + \\alpha\\sum\\limits_{i=1}^n \\mid{\\Theta_{i}}\\mid$$\n",
        "\n",
        "By default `LassoCV` tries 100 different values for $\\alpha$. \n",
        "\n",
        "We can then easily plot the MSE for all considered $\\alpha$ values:"
      ]
    },
    {
      "cell_type": "code",
      "metadata": {
        "id": "ao0DnJHhj94N"
      },
      "source": [
        "from sklearn.linear_model import LassoCV\n",
        "\n",
        "EPSILON = 1e-4 # This is to avoid errors in the performance metric\n",
        "\n",
        "lasso = LassoCV(cv=5, random_state=42, n_jobs=-1).fit(X_train, t1_eq)"
      ],
      "execution_count": 21,
      "outputs": []
    },
    {
      "cell_type": "code",
      "metadata": {
        "colab": {
          "base_uri": "https://localhost:8080/",
          "height": 519
        },
        "id": "-HlD_UdJj94N",
        "outputId": "1b40ae2e-836d-42e1-e94d-22836250bf14"
      },
      "source": [
        "plt.figure(figsize=S)\n",
        "plt.semilogx(lasso.alphas_ + EPSILON, np.sqrt(lasso.mse_path_), \":\")\n",
        "plt.plot(\n",
        "    lasso.alphas_ + EPSILON,\n",
        "    np.sqrt(lasso.mse_path_.mean(axis=-1)),\n",
        "    \"k\",\n",
        "    label=\"Average across the folds\",\n",
        "    linewidth=2,\n",
        ")\n",
        "plt.axvline(\n",
        "    lasso.alpha_ + EPSILON, linestyle=\"--\", color=\"k\", label=\"alpha: CV estimate\"\n",
        ")\n",
        "plt.legend()\n",
        "plt.xlabel(r\"$\\alpha$\")\n",
        "plt.ylabel(\"Root mean square error\")\n",
        "plt.title(\"Root mean square error on each fold: coordinate descent\")\n",
        "plt.axis(\"tight\");"
      ],
      "execution_count": 22,
      "outputs": [
        {
          "output_type": "display_data",
          "data": {
            "image/png": "[encoded data removed]",
            "text/plain": [
              "<Figure size 576x576 with 1 Axes>"
            ]
          },
          "metadata": {}
        }
      ]
    },
    {
      "cell_type": "markdown",
      "metadata": {
        "id": "APcCOsflj94O"
      },
      "source": [
        "The Lasso model performs best for low $\\alpha$ values. Below we can see how much that results in beta coefficients being pushed to zero."
      ]
    },
    {
      "cell_type": "code",
      "metadata": {
        "colab": {
          "base_uri": "https://localhost:8080/"
        },
        "id": "D7QufvuEj94O",
        "outputId": "2faf17ce-5467-4a40-d3b8-8d28f2a17d23"
      },
      "source": [
        "print(\"Best Lasso model:\\n\"\n",
        "      f\"  RMSE: {np.sqrt(mean_squared_error(lasso.predict(X_train), t1_eq)):.2f}\\n\"\n",
        "      f\"  alpha: {lasso.alpha_:.2f}\")"
      ],
      "execution_count": 23,
      "outputs": [
        {
          "output_type": "stream",
          "name": "stdout",
          "text": [
            "Best Lasso model:\n",
            "  RMSE: 15.97\n",
            "  alpha: 0.12\n"
          ]
        }
      ]
    },
    {
      "cell_type": "markdown",
      "metadata": {
        "id": "ib6K1tN4j94O"
      },
      "source": [
        "By ranking the (absolute) regression coefficients from high to low, we can find the excluded variables (due to the LASSO penalty) at the bottom of the list:"
      ]
    },
    {
      "cell_type": "code",
      "metadata": {
        "colab": {
          "base_uri": "https://localhost:8080/",
          "height": 1000
        },
        "id": "L9aT3qkwj94O",
        "outputId": "c85287ab-5f41-424b-f111-5cc39bad91b5"
      },
      "source": [
        "pd.concat({'coef_abs': pd.Series(abs(lasso.coef_)), 'coef': pd.Series(lasso.coef_), 'feature': X_columns}, axis=1).sort_values('coef_abs', ascending=False)"
      ],
      "execution_count": 24,
      "outputs": [
        {
          "output_type": "execute_result",
          "data": {
            "text/html": [
              "<div>\n",
              "<style scoped>\n",
              "    .dataframe tbody tr th:only-of-type {\n",
              "        vertical-align: middle;\n",
              "    }\n",
              "\n",
              "    .dataframe tbody tr th {\n",
              "        vertical-align: top;\n",
              "    }\n",
              "\n",
              "    .dataframe thead th {\n",
              "        text-align: right;\n",
              "    }\n",
              "</style>\n",
              "<table border=\"1\" class=\"dataframe\">\n",
              "  <thead>\n",
              "    <tr style=\"text-align: right;\">\n",
              "      <th></th>\n",
              "      <th>coef_abs</th>\n",
              "      <th>coef</th>\n",
              "      <th>feature</th>\n",
              "    </tr>\n",
              "  </thead>\n",
              "  <tbody>\n",
              "    <tr>\n",
              "      <th>17</th>\n",
              "      <td>3.57</td>\n",
              "      <td>3.57</td>\n",
              "      <td>t0_disability</td>\n",
              "    </tr>\n",
              "    <tr>\n",
              "      <th>13</th>\n",
              "      <td>2.99</td>\n",
              "      <td>-2.99</td>\n",
              "      <td>depression</td>\n",
              "    </tr>\n",
              "    <tr>\n",
              "      <th>19</th>\n",
              "      <td>2.34</td>\n",
              "      <td>-2.34</td>\n",
              "      <td>t0_self_care</td>\n",
              "    </tr>\n",
              "    <tr>\n",
              "      <th>22</th>\n",
              "      <td>2.21</td>\n",
              "      <td>-2.21</td>\n",
              "      <td>t0_anxiety</td>\n",
              "    </tr>\n",
              "    <tr>\n",
              "      <th>7</th>\n",
              "      <td>2.06</td>\n",
              "      <td>-2.06</td>\n",
              "      <td>lung_disease</td>\n",
              "    </tr>\n",
              "    <tr>\n",
              "      <th>3</th>\n",
              "      <td>1.77</td>\n",
              "      <td>-1.77</td>\n",
              "      <td>heart_disease</td>\n",
              "    </tr>\n",
              "    <tr>\n",
              "      <th>6</th>\n",
              "      <td>1.46</td>\n",
              "      <td>-1.46</td>\n",
              "      <td>circulation</td>\n",
              "    </tr>\n",
              "    <tr>\n",
              "      <th>8</th>\n",
              "      <td>1.32</td>\n",
              "      <td>-1.32</td>\n",
              "      <td>diabetes</td>\n",
              "    </tr>\n",
              "    <tr>\n",
              "      <th>32</th>\n",
              "      <td>1.07</td>\n",
              "      <td>-1.07</td>\n",
              "      <td>oks_t0_limping</td>\n",
              "    </tr>\n",
              "    <tr>\n",
              "      <th>36</th>\n",
              "      <td>0.74</td>\n",
              "      <td>0.74</td>\n",
              "      <td>oks_t0_shopping</td>\n",
              "    </tr>\n",
              "    <tr>\n",
              "      <th>28</th>\n",
              "      <td>0.54</td>\n",
              "      <td>0.54</td>\n",
              "      <td>oks_t0_washing</td>\n",
              "    </tr>\n",
              "    <tr>\n",
              "      <th>24</th>\n",
              "      <td>0.52</td>\n",
              "      <td>0.52</td>\n",
              "      <td>t0_previous_surgery</td>\n",
              "    </tr>\n",
              "    <tr>\n",
              "      <th>14</th>\n",
              "      <td>0.50</td>\n",
              "      <td>-0.50</td>\n",
              "      <td>arthritis</td>\n",
              "    </tr>\n",
              "    <tr>\n",
              "      <th>26</th>\n",
              "      <td>0.38</td>\n",
              "      <td>-0.38</td>\n",
              "      <td>oks_t0_pain</td>\n",
              "    </tr>\n",
              "    <tr>\n",
              "      <th>4</th>\n",
              "      <td>0.36</td>\n",
              "      <td>-0.36</td>\n",
              "      <td>high_bp</td>\n",
              "    </tr>\n",
              "    <tr>\n",
              "      <th>0</th>\n",
              "      <td>0.35</td>\n",
              "      <td>0.35</td>\n",
              "      <td>age_band</td>\n",
              "    </tr>\n",
              "    <tr>\n",
              "      <th>33</th>\n",
              "      <td>0.28</td>\n",
              "      <td>0.28</td>\n",
              "      <td>oks_t0_kneeling</td>\n",
              "    </tr>\n",
              "    <tr>\n",
              "      <th>15</th>\n",
              "      <td>0.22</td>\n",
              "      <td>0.22</td>\n",
              "      <td>t0_assisted</td>\n",
              "    </tr>\n",
              "    <tr>\n",
              "      <th>38</th>\n",
              "      <td>0.20</td>\n",
              "      <td>0.20</td>\n",
              "      <td>oks_t0_score</td>\n",
              "    </tr>\n",
              "    <tr>\n",
              "      <th>39</th>\n",
              "      <td>0.20</td>\n",
              "      <td>0.20</td>\n",
              "      <td>t0_eq_vas</td>\n",
              "    </tr>\n",
              "    <tr>\n",
              "      <th>30</th>\n",
              "      <td>0.15</td>\n",
              "      <td>0.15</td>\n",
              "      <td>oks_t0_walking</td>\n",
              "    </tr>\n",
              "    <tr>\n",
              "      <th>31</th>\n",
              "      <td>0.14</td>\n",
              "      <td>-0.14</td>\n",
              "      <td>oks_t0_standing</td>\n",
              "    </tr>\n",
              "    <tr>\n",
              "      <th>16</th>\n",
              "      <td>0.13</td>\n",
              "      <td>0.13</td>\n",
              "      <td>t0_previous_surgery</td>\n",
              "    </tr>\n",
              "    <tr>\n",
              "      <th>27</th>\n",
              "      <td>0.03</td>\n",
              "      <td>-0.03</td>\n",
              "      <td>oks_t0_night_pain</td>\n",
              "    </tr>\n",
              "    <tr>\n",
              "      <th>2</th>\n",
              "      <td>0.00</td>\n",
              "      <td>0.00</td>\n",
              "      <td>x0_2.0</td>\n",
              "    </tr>\n",
              "    <tr>\n",
              "      <th>37</th>\n",
              "      <td>0.00</td>\n",
              "      <td>0.00</td>\n",
              "      <td>oks_t0_stairs</td>\n",
              "    </tr>\n",
              "    <tr>\n",
              "      <th>5</th>\n",
              "      <td>0.00</td>\n",
              "      <td>-0.00</td>\n",
              "      <td>stroke</td>\n",
              "    </tr>\n",
              "    <tr>\n",
              "      <th>35</th>\n",
              "      <td>0.00</td>\n",
              "      <td>-0.00</td>\n",
              "      <td>oks_t0_confidence</td>\n",
              "    </tr>\n",
              "    <tr>\n",
              "      <th>34</th>\n",
              "      <td>0.00</td>\n",
              "      <td>0.00</td>\n",
              "      <td>oks_t0_work</td>\n",
              "    </tr>\n",
              "    <tr>\n",
              "      <th>9</th>\n",
              "      <td>0.00</td>\n",
              "      <td>-0.00</td>\n",
              "      <td>kidney_disease</td>\n",
              "    </tr>\n",
              "    <tr>\n",
              "      <th>10</th>\n",
              "      <td>0.00</td>\n",
              "      <td>-0.00</td>\n",
              "      <td>nervous_system</td>\n",
              "    </tr>\n",
              "    <tr>\n",
              "      <th>1</th>\n",
              "      <td>0.00</td>\n",
              "      <td>-0.00</td>\n",
              "      <td>x0_1.0</td>\n",
              "    </tr>\n",
              "    <tr>\n",
              "      <th>21</th>\n",
              "      <td>0.00</td>\n",
              "      <td>0.00</td>\n",
              "      <td>t0_discomfort</td>\n",
              "    </tr>\n",
              "    <tr>\n",
              "      <th>29</th>\n",
              "      <td>0.00</td>\n",
              "      <td>-0.00</td>\n",
              "      <td>oks_t0_transport</td>\n",
              "    </tr>\n",
              "    <tr>\n",
              "      <th>11</th>\n",
              "      <td>0.00</td>\n",
              "      <td>-0.00</td>\n",
              "      <td>liver_disease</td>\n",
              "    </tr>\n",
              "    <tr>\n",
              "      <th>12</th>\n",
              "      <td>0.00</td>\n",
              "      <td>-0.00</td>\n",
              "      <td>cancer</td>\n",
              "    </tr>\n",
              "    <tr>\n",
              "      <th>25</th>\n",
              "      <td>0.00</td>\n",
              "      <td>-0.00</td>\n",
              "      <td>t0_living_arrangements</td>\n",
              "    </tr>\n",
              "    <tr>\n",
              "      <th>23</th>\n",
              "      <td>0.00</td>\n",
              "      <td>-0.00</td>\n",
              "      <td>t0_symptom_period</td>\n",
              "    </tr>\n",
              "    <tr>\n",
              "      <th>18</th>\n",
              "      <td>0.00</td>\n",
              "      <td>-0.00</td>\n",
              "      <td>t0_mobility</td>\n",
              "    </tr>\n",
              "    <tr>\n",
              "      <th>20</th>\n",
              "      <td>0.00</td>\n",
              "      <td>-0.00</td>\n",
              "      <td>t0_activity</td>\n",
              "    </tr>\n",
              "  </tbody>\n",
              "</table>\n",
              "</div>"
            ],
            "text/plain": [
              "    coef_abs  coef                 feature\n",
              "17      3.57  3.57           t0_disability\n",
              "13      2.99 -2.99              depression\n",
              "19      2.34 -2.34            t0_self_care\n",
              "22      2.21 -2.21              t0_anxiety\n",
              "7       2.06 -2.06            lung_disease\n",
              "3       1.77 -1.77           heart_disease\n",
              "6       1.46 -1.46             circulation\n",
              "8       1.32 -1.32                diabetes\n",
              "32      1.07 -1.07          oks_t0_limping\n",
              "36      0.74  0.74         oks_t0_shopping\n",
              "28      0.54  0.54          oks_t0_washing\n",
              "24      0.52  0.52     t0_previous_surgery\n",
              "14      0.50 -0.50               arthritis\n",
              "26      0.38 -0.38             oks_t0_pain\n",
              "4       0.36 -0.36                 high_bp\n",
              "0       0.35  0.35                age_band\n",
              "33      0.28  0.28         oks_t0_kneeling\n",
              "15      0.22  0.22             t0_assisted\n",
              "38      0.20  0.20            oks_t0_score\n",
              "39      0.20  0.20               t0_eq_vas\n",
              "30      0.15  0.15          oks_t0_walking\n",
              "31      0.14 -0.14         oks_t0_standing\n",
              "16      0.13  0.13     t0_previous_surgery\n",
              "27      0.03 -0.03       oks_t0_night_pain\n",
              "2       0.00  0.00                  x0_2.0\n",
              "37      0.00  0.00           oks_t0_stairs\n",
              "5       0.00 -0.00                  stroke\n",
              "35      0.00 -0.00       oks_t0_confidence\n",
              "34      0.00  0.00             oks_t0_work\n",
              "9       0.00 -0.00          kidney_disease\n",
              "10      0.00 -0.00          nervous_system\n",
              "1       0.00 -0.00                  x0_1.0\n",
              "21      0.00  0.00           t0_discomfort\n",
              "29      0.00 -0.00        oks_t0_transport\n",
              "11      0.00 -0.00           liver_disease\n",
              "12      0.00 -0.00                  cancer\n",
              "25      0.00 -0.00  t0_living_arrangements\n",
              "23      0.00 -0.00       t0_symptom_period\n",
              "18      0.00 -0.00             t0_mobility\n",
              "20      0.00 -0.00             t0_activity"
            ]
          },
          "metadata": {},
          "execution_count": 24
        }
      ]
    },
    {
      "cell_type": "markdown",
      "metadata": {
        "id": "MaNr8gLSus7z"
      },
      "source": [
        "True assessment of model performance is not done by looking at the performance on the train set, but by evaluating its performance on the test set. The code below compares the performance on both the train and the test set."
      ]
    },
    {
      "cell_type": "code",
      "metadata": {
        "colab": {
          "base_uri": "https://localhost:8080/"
        },
        "id": "8gkkPjPFj94P",
        "outputId": "abb86762-d761-4796-e62f-56fe59b8110f"
      },
      "source": [
        "# final test\n",
        "print(f\"MSE from training with CV: {np.sqrt(mean_squared_error(lasso.predict(X_train), t1_eq)):.2f}\\n\"\n",
        "      f\"MSE test: {np.sqrt(mean_squared_error(lasso.predict(X_test), t1_eq_test)):.2f}\")"
      ],
      "execution_count": 25,
      "outputs": [
        {
          "output_type": "stream",
          "name": "stdout",
          "text": [
            "MSE from training with CV: 15.97\n",
            "MSE test: 15.98\n"
          ]
        }
      ]
    },
    {
      "cell_type": "markdown",
      "metadata": {
        "id": "80C-EW5pvYkl"
      },
      "source": [
        "As the performance is very similar in both data sets, we see that the model was not overfitting the training data, and performance on the training set was thereore not an overly optimistic estimate. The model generalizes well to new (test) data, and we can be confident that the developed model has not been modeling noise / particularities in the data set, but rather contains structural / true relations between input and output."
      ]
    },
    {
      "cell_type": "markdown",
      "metadata": {
        "id": "hQ0J7bU_j94Q"
      },
      "source": [
        "## KNN"
      ]
    },
    {
      "cell_type": "markdown",
      "metadata": {
        "id": "XLBhRqNmyshQ"
      },
      "source": [
        "The next algorithm we apply is K nearest neighbor, which makes its prediction for a patient based on the outcomes for the K most comparable patients. This algorithm again has a tuning parameter / hyperparameter (K; indicating the number of most comparable patients to consider) that needs to be tuned using cross-validation.\n",
        "\n",
        "There are other hyperparameters to consider, such as how to determine the comparability between instances, and whether to weigh comparable instances with regards to how comparable they are. \n",
        "\n",
        "In the example below, we only focus on the hyperparameter K."
      ]
    },
    {
      "cell_type": "code",
      "metadata": {
        "id": "dzPQ1cejj94Q"
      },
      "source": [
        "from sklearn.neighbors import KNeighborsRegressor\n",
        "from collections import defaultdict\n",
        "\n",
        "n_neighbors = [1, 2, 3, 5, 10, 20, 30, 50, 100, 200, 300]\n",
        "knn = defaultdict(dict) # use defaultdict for nested dicts\n",
        "for n in n_neighbors:\n",
        "    knn[n][\"model\"] = KNeighborsRegressor(n_neighbors=n, n_jobs=-1).fit(X_train, t1_eq)\n",
        "    knn[n][\"cross validation scores\"] = cross_val_score(\n",
        "        knn[n][\"model\"], X_train, t1_eq, scoring=\"neg_mean_squared_error\", cv=5\n",
        "    )"
      ],
      "execution_count": 31,
      "outputs": []
    },
    {
      "cell_type": "markdown",
      "metadata": {
        "id": "JAO4an8412CO"
      },
      "source": [
        "As we always do when tuning hyperparameters, we plot the model performance for different settings of the hyperparameter:"
      ]
    },
    {
      "cell_type": "code",
      "metadata": {
        "colab": {
          "base_uri": "https://localhost:8080/",
          "height": 484
        },
        "id": "-qyd6MUxj94R",
        "scrolled": true,
        "outputId": "4ddf77f4-28fa-4b1a-e8b2-b675b477c8f5"
      },
      "source": [
        "# plot 1/K vs. error rate (such that the X-axis goes from low to high flexibility)\n",
        "knn_rmse = [np.sqrt(np.mean(-knn[n]['cross validation scores'])) for n in n_neighbors]\n",
        "plt.figure(figsize=S)\n",
        "plt.semilogx([1/n for n in n_neighbors], knn_rmse, 'o-', markeredgecolor='w', markeredgewidth='2');"
      ],
      "execution_count": 32,
      "outputs": [
        {
          "output_type": "display_data",
          "data": {
            "image/png": "[encoded data removed]",
            "text/plain": [
              "<Figure size 576x576 with 1 Axes>"
            ]
          },
          "metadata": {}
        }
      ]
    },
    {
      "cell_type": "markdown",
      "metadata": {
        "id": "r7dByHxY2Cm_"
      },
      "source": [
        "The lowest (best) RMSE is around 16.2, which is attained at 1/K = 10-2, i.e. K=100, so when basing the prediction on the outcomes of the 100 most comparable patients."
      ]
    },
    {
      "cell_type": "code",
      "metadata": {
        "colab": {
          "base_uri": "https://localhost:8080/"
        },
        "id": "9GSVr2xQj94R",
        "outputId": "4993b51f-2717-4692-e13d-eacc36128c27"
      },
      "source": [
        "knn_rmse"
      ],
      "execution_count": 33,
      "outputs": [
        {
          "output_type": "execute_result",
          "data": {
            "text/plain": [
              "[22.1679462806631,\n",
              " 19.321915091710387,\n",
              " 18.29123839770176,\n",
              " 17.442539157673334,\n",
              " 16.77770182139477,\n",
              " 16.447074958434087,\n",
              " 16.33515225308023,\n",
              " 16.26667231933237,\n",
              " 16.217699290672076,\n",
              " 16.222726007472602,\n",
              " 16.235663104861707]"
            ]
          },
          "metadata": {},
          "execution_count": 33
        }
      ]
    },
    {
      "cell_type": "markdown",
      "metadata": {
        "id": "D46ukxDW2a2L"
      },
      "source": [
        "Applying our trained model to the test data results in nearly identical performance, indicating that the model generalizes well."
      ]
    },
    {
      "cell_type": "code",
      "metadata": {
        "colab": {
          "base_uri": "https://localhost:8080/"
        },
        "id": "v0zAlj47j94R",
        "outputId": "9e003161-6f14-40c3-c8f3-5c5b3187cb13"
      },
      "source": [
        "# final test\n",
        "print(f\"{np.sqrt(mean_squared_error(knn[100]['model'].predict(X_test), t1_eq_test)):.4f}\")    "
      ],
      "execution_count": 34,
      "outputs": [
        {
          "output_type": "stream",
          "name": "stdout",
          "text": [
            "16.2498\n"
          ]
        }
      ]
    },
    {
      "cell_type": "markdown",
      "metadata": {
        "id": "SbNFxPEF2j9b"
      },
      "source": [
        "The performance with KNN is comparable with the performance obtained with linear regression and a linear application of LASSO. We tuned KNN by considering a range of different K values, but we could possibly further improve model performance by selecting fewer features, as KNN is known to suffer greatly from the inclusion of additional features that do have a substantially weaker connection to the outcome variable (the curse of high dimensionality)."
      ]
    },
    {
      "cell_type": "code",
      "metadata": {
        "colab": {
          "base_uri": "https://localhost:8080/"
        },
        "id": "8VZhiZYS6JmK",
        "outputId": "e4fed6bb-4b88-4f68-df91-17bbcdc4f1ab"
      },
      "source": [
        "print(X_columns[X_columns=='t0_eq_vas'])\n",
        "print(X_columns[X_columns=='oks_t0_score'])\n",
        "print(X_columns[X_columns=='t0_self_care'])\n",
        "print(X_columns[X_columns=='age_band'])\n",
        "print(X_columns[X_columns=='oks_t0_confidence'])"
      ],
      "execution_count": 35,
      "outputs": [
        {
          "output_type": "stream",
          "name": "stdout",
          "text": [
            "39    t0_eq_vas\n",
            "dtype: object\n",
            "38    oks_t0_score\n",
            "dtype: object\n",
            "19    t0_self_care\n",
            "dtype: object\n",
            "0    age_band\n",
            "dtype: object\n",
            "35    oks_t0_confidence\n",
            "dtype: object\n"
          ]
        }
      ]
    },
    {
      "cell_type": "code",
      "metadata": {
        "id": "1LexHmAo3tIn"
      },
      "source": [
        "subset = X_train[:,[39, 38, 19, 0, 35]]\n",
        "\n",
        "n_neighbors = [1, 2, 3, 5, 10, 20, 30, 50, 100, 200, 300]\n",
        "knn = defaultdict(dict) # use defaultdict for nested dicts\n",
        "for n in n_neighbors:\n",
        "    knn[n][\"model\"] = KNeighborsRegressor(n_neighbors=n, n_jobs=-1).fit(subset, t1_eq)\n",
        "    knn[n][\"cross validation scores\"] = cross_val_score(\n",
        "        knn[n][\"model\"], subset, t1_eq, scoring=\"neg_mean_squared_error\", cv=5\n",
        "    )"
      ],
      "execution_count": 28,
      "outputs": []
    },
    {
      "cell_type": "code",
      "metadata": {
        "colab": {
          "base_uri": "https://localhost:8080/",
          "height": 484
        },
        "id": "FbvkL5NY5BsN",
        "outputId": "d0dc5b1c-5cdb-40ae-8689-1d07d9db98af"
      },
      "source": [
        "# plot 1/K vs. error rate\n",
        "knn_rmse = [np.sqrt(np.mean(-knn[n]['cross validation scores'])) for n in n_neighbors]\n",
        "plt.figure(figsize=S)\n",
        "plt.semilogx([1/n for n in n_neighbors], knn_rmse, 'o-', markeredgecolor='w', markeredgewidth='2');"
      ],
      "execution_count": 29,
      "outputs": [
        {
          "output_type": "display_data",
          "data": {
            "image/png": "[encoded data removed]",
            "text/plain": [
              "<Figure size 576x576 with 1 Axes>"
            ]
          },
          "metadata": {}
        }
      ]
    },
    {
      "cell_type": "code",
      "metadata": {
        "colab": {
          "base_uri": "https://localhost:8080/"
        },
        "id": "yKrSTVhn9_Ga",
        "outputId": "20950003-f1cc-4827-d23c-8ac763b0a3be"
      },
      "source": [
        "knn_rmse"
      ],
      "execution_count": 30,
      "outputs": [
        {
          "output_type": "execute_result",
          "data": {
            "text/plain": [
              "[22.83461894800053,\n",
              " 19.773160513020617,\n",
              " 18.690602897220668,\n",
              " 17.75292645689211,\n",
              " 17.019135801501474,\n",
              " 16.641939253823256,\n",
              " 16.49976862670865,\n",
              " 16.417276084315134,\n",
              " 16.364251692926583,\n",
              " 16.340213247106327,\n",
              " 16.336810154782082]"
            ]
          },
          "metadata": {},
          "execution_count": 30
        }
      ]
    },
    {
      "cell_type": "markdown",
      "metadata": {
        "id": "3e22KwnXErch"
      },
      "source": [
        "In this case selecting a smaller set of features did not improve model performance, but it did make the model easier and faster to use, as it requires less input. Be aware that building models is not only about optimizing performance, but that tradeoffs come into play regarding interpretability and ease of use."
      ]
    },
    {
      "cell_type": "markdown",
      "metadata": {
        "id": "UXRVdLXMUrCy"
      },
      "source": [
        "# Summary"
      ]
    },
    {
      "cell_type": "markdown",
      "metadata": {
        "id": "85SMKoyCj94g"
      },
      "source": [
        "We considered three basic machine learning algorithms:\n",
        "- Regression\n",
        "- LASSO\n",
        "- KNN\n",
        "\n",
        "and applied them for modeling a numeric outcome. LASSO and KNN both used a hyperparameter and therefore needed to be tuned using cross-validation, which allowed us to compare performance for all possible hyperparameter settings. Regression is often used at the start, simply to quickly generate a baseline model. \n",
        "\n",
        "Quickly working towards a baseline model is a good practice, as it forces you to set up your full pipeline, and in such a way that it can be tweaked relatively easily.\n",
        "\n",
        "A strategy for quickly getting started, would be to: \n",
        "- Run a regression to get baseline performance and check your results for face validity\n",
        "- Run LASSO and compare performance\n",
        "- With the selected variables in your LASSO, run KNN and compare performance\n",
        "\n",
        "The next notebook will look at more sophisticated machine learning algorithms that tend to perform better than the models considered in this notebook. In that notebook, a binary outcome instead of a numeric outcome will be modeled. \n"
      ]
    }
  ]
}