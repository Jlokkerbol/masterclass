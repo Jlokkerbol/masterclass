{
  "nbformat": 4,
  "nbformat_minor": 0,
  "metadata": {
    "kernelspec": {
      "display_name": "R",
      "language": "R",
      "name": "ir"
    },
    "language_info": {
      "codemirror_mode": "r",
      "file_extension": ".r",
      "mimetype": "text/x-r-source",
      "name": "R",
      "pygments_lexer": "r",
      "version": "3.4.1"
    },
    "colab": {
      "name": "Tutorial.ipynb",
      "provenance": [],
      "include_colab_link": true
    }
  },
  "cells": [
    {
      "cell_type": "markdown",
      "metadata": {
        "id": "view-in-github",
        "colab_type": "text"
      },
      "source": [
        "<a href=\"https://colab.research.google.com/github/Jlokkerbol/masterclass/blob/main/Tutorial.ipynb\" target=\"_parent\"><img src=\"https://colab.research.google.com/assets/colab-badge.svg\" alt=\"Open In Colab\"/></a>"
      ]
    },
    {
      "cell_type": "markdown",
      "metadata": {
        "id": "Zpvnkd1wFHSc"
      },
      "source": [
        "# R - Tutorial "
      ]
    },
    {
      "cell_type": "markdown",
      "metadata": {
        "id": "CtRWcKkkFHSd"
      },
      "source": [
        "This tutorial guides you through a number of very basic R commands that can be used to do some basic exploring, describing, visualizing and manipulating of your data."
      ]
    },
    {
      "cell_type": "markdown",
      "metadata": {
        "id": "qfoIU9cKFHSd"
      },
      "source": [
        "First, we need data. Rather than reading our own data, we use the built-in datasets available in R. The command data() let's you see the available datasets. "
      ]
    },
    {
      "cell_type": "code",
      "metadata": {
        "id": "8D8TnLwHFHSe"
      },
      "source": [
        "data()"
      ],
      "execution_count": 1,
      "outputs": []
    },
    {
      "cell_type": "markdown",
      "metadata": {
        "id": "j8MBOmVhFHSg"
      },
      "source": [
        "Let's select quakes as our dataset to work with and assign it to an object called df (for dataframe)"
      ]
    },
    {
      "cell_type": "code",
      "metadata": {
        "id": "gJfI9KGUFHSh"
      },
      "source": [
        "df <- quakes"
      ],
      "execution_count": 2,
      "outputs": []
    },
    {
      "cell_type": "markdown",
      "metadata": {
        "id": "PREY0ab0FHSk"
      },
      "source": [
        "Use the command head(df) to see the first six rows of the data, or head(df, x) to see the first x rows. For the bottom rows the same can be done using tail(df)"
      ]
    },
    {
      "cell_type": "code",
      "metadata": {
        "id": "SGjCXzv7FHSk",
        "outputId": "9e7dc099-9c43-4abc-a6a6-7add4ed7437a",
        "colab": {
          "base_uri": "https://localhost:8080/",
          "height": 204
        }
      },
      "source": [
        "head(df)"
      ],
      "execution_count": 3,
      "outputs": [
        {
          "output_type": "display_data",
          "data": {
            "text/plain": [
              "  lat    long   depth mag stations\n",
              "1 -20.42 181.62 562   4.8 41      \n",
              "2 -20.62 181.03 650   4.2 15      \n",
              "3 -26.00 184.10  42   5.4 43      \n",
              "4 -17.97 181.66 626   4.1 19      \n",
              "5 -20.42 181.96 649   4.0 11      \n",
              "6 -19.68 184.31 195   4.0 12      "
            ],
            "text/latex": "A data.frame: 6 × 5\n\\begin{tabular}{r|lllll}\n  & lat & long & depth & mag & stations\\\\\n  & <dbl> & <dbl> & <int> & <dbl> & <int>\\\\\n\\hline\n\t1 & -20.42 & 181.62 & 562 & 4.8 & 41\\\\\n\t2 & -20.62 & 181.03 & 650 & 4.2 & 15\\\\\n\t3 & -26.00 & 184.10 &  42 & 5.4 & 43\\\\\n\t4 & -17.97 & 181.66 & 626 & 4.1 & 19\\\\\n\t5 & -20.42 & 181.96 & 649 & 4.0 & 11\\\\\n\t6 & -19.68 & 184.31 & 195 & 4.0 & 12\\\\\n\\end{tabular}\n",
            "text/markdown": "\nA data.frame: 6 × 5\n\n| <!--/--> | lat &lt;dbl&gt; | long &lt;dbl&gt; | depth &lt;int&gt; | mag &lt;dbl&gt; | stations &lt;int&gt; |\n|---|---|---|---|---|---|\n| 1 | -20.42 | 181.62 | 562 | 4.8 | 41 |\n| 2 | -20.62 | 181.03 | 650 | 4.2 | 15 |\n| 3 | -26.00 | 184.10 |  42 | 5.4 | 43 |\n| 4 | -17.97 | 181.66 | 626 | 4.1 | 19 |\n| 5 | -20.42 | 181.96 | 649 | 4.0 | 11 |\n| 6 | -19.68 | 184.31 | 195 | 4.0 | 12 |\n\n",
            "text/html": [
              "<table>\n",
              "<caption>A data.frame: 6 × 5</caption>\n",
              "<thead>\n",
              "\t<tr><th></th><th scope=col>lat</th><th scope=col>long</th><th scope=col>depth</th><th scope=col>mag</th><th scope=col>stations</th></tr>\n",
              "\t<tr><th></th><th scope=col>&lt;dbl&gt;</th><th scope=col>&lt;dbl&gt;</th><th scope=col>&lt;int&gt;</th><th scope=col>&lt;dbl&gt;</th><th scope=col>&lt;int&gt;</th></tr>\n",
              "</thead>\n",
              "<tbody>\n",
              "\t<tr><th scope=row>1</th><td>-20.42</td><td>181.62</td><td>562</td><td>4.8</td><td>41</td></tr>\n",
              "\t<tr><th scope=row>2</th><td>-20.62</td><td>181.03</td><td>650</td><td>4.2</td><td>15</td></tr>\n",
              "\t<tr><th scope=row>3</th><td>-26.00</td><td>184.10</td><td> 42</td><td>5.4</td><td>43</td></tr>\n",
              "\t<tr><th scope=row>4</th><td>-17.97</td><td>181.66</td><td>626</td><td>4.1</td><td>19</td></tr>\n",
              "\t<tr><th scope=row>5</th><td>-20.42</td><td>181.96</td><td>649</td><td>4.0</td><td>11</td></tr>\n",
              "\t<tr><th scope=row>6</th><td>-19.68</td><td>184.31</td><td>195</td><td>4.0</td><td>12</td></tr>\n",
              "</tbody>\n",
              "</table>\n"
            ]
          },
          "metadata": {
            "tags": []
          }
        }
      ]
    },
    {
      "cell_type": "code",
      "metadata": {
        "id": "gb7H-2pnFHSn",
        "outputId": "310efff8-88fb-4c52-b680-c94666353181",
        "colab": {
          "base_uri": "https://localhost:8080/",
          "height": 288
        }
      },
      "source": [
        "head(df,10)"
      ],
      "execution_count": 7,
      "outputs": [
        {
          "output_type": "display_data",
          "data": {
            "text/plain": [
              "   lat    long   depth mag stations\n",
              "1  -20.42 181.62 562   4.8 41      \n",
              "2  -20.62 181.03 650   4.2 15      \n",
              "3  -26.00 184.10  42   5.4 43      \n",
              "4  -17.97 181.66 626   4.1 19      \n",
              "5  -20.42 181.96 649   4.0 11      \n",
              "6  -19.68 184.31 195   4.0 12      \n",
              "7  -11.70 166.10  82   4.8 43      \n",
              "8  -28.11 181.93 194   4.4 15      \n",
              "9  -28.74 181.74 211   4.7 35      \n",
              "10 -17.47 179.59 622   4.3 19      "
            ],
            "text/latex": "A data.frame: 10 × 5\n\\begin{tabular}{r|lllll}\n  & lat & long & depth & mag & stations\\\\\n  & <dbl> & <dbl> & <int> & <dbl> & <int>\\\\\n\\hline\n\t1 & -20.42 & 181.62 & 562 & 4.8 & 41\\\\\n\t2 & -20.62 & 181.03 & 650 & 4.2 & 15\\\\\n\t3 & -26.00 & 184.10 &  42 & 5.4 & 43\\\\\n\t4 & -17.97 & 181.66 & 626 & 4.1 & 19\\\\\n\t5 & -20.42 & 181.96 & 649 & 4.0 & 11\\\\\n\t6 & -19.68 & 184.31 & 195 & 4.0 & 12\\\\\n\t7 & -11.70 & 166.10 &  82 & 4.8 & 43\\\\\n\t8 & -28.11 & 181.93 & 194 & 4.4 & 15\\\\\n\t9 & -28.74 & 181.74 & 211 & 4.7 & 35\\\\\n\t10 & -17.47 & 179.59 & 622 & 4.3 & 19\\\\\n\\end{tabular}\n",
            "text/markdown": "\nA data.frame: 10 × 5\n\n| <!--/--> | lat &lt;dbl&gt; | long &lt;dbl&gt; | depth &lt;int&gt; | mag &lt;dbl&gt; | stations &lt;int&gt; |\n|---|---|---|---|---|---|\n| 1 | -20.42 | 181.62 | 562 | 4.8 | 41 |\n| 2 | -20.62 | 181.03 | 650 | 4.2 | 15 |\n| 3 | -26.00 | 184.10 |  42 | 5.4 | 43 |\n| 4 | -17.97 | 181.66 | 626 | 4.1 | 19 |\n| 5 | -20.42 | 181.96 | 649 | 4.0 | 11 |\n| 6 | -19.68 | 184.31 | 195 | 4.0 | 12 |\n| 7 | -11.70 | 166.10 |  82 | 4.8 | 43 |\n| 8 | -28.11 | 181.93 | 194 | 4.4 | 15 |\n| 9 | -28.74 | 181.74 | 211 | 4.7 | 35 |\n| 10 | -17.47 | 179.59 | 622 | 4.3 | 19 |\n\n",
            "text/html": [
              "<table>\n",
              "<caption>A data.frame: 10 × 5</caption>\n",
              "<thead>\n",
              "\t<tr><th></th><th scope=col>lat</th><th scope=col>long</th><th scope=col>depth</th><th scope=col>mag</th><th scope=col>stations</th></tr>\n",
              "\t<tr><th></th><th scope=col>&lt;dbl&gt;</th><th scope=col>&lt;dbl&gt;</th><th scope=col>&lt;int&gt;</th><th scope=col>&lt;dbl&gt;</th><th scope=col>&lt;int&gt;</th></tr>\n",
              "</thead>\n",
              "<tbody>\n",
              "\t<tr><th scope=row>1</th><td>-20.42</td><td>181.62</td><td>562</td><td>4.8</td><td>41</td></tr>\n",
              "\t<tr><th scope=row>2</th><td>-20.62</td><td>181.03</td><td>650</td><td>4.2</td><td>15</td></tr>\n",
              "\t<tr><th scope=row>3</th><td>-26.00</td><td>184.10</td><td> 42</td><td>5.4</td><td>43</td></tr>\n",
              "\t<tr><th scope=row>4</th><td>-17.97</td><td>181.66</td><td>626</td><td>4.1</td><td>19</td></tr>\n",
              "\t<tr><th scope=row>5</th><td>-20.42</td><td>181.96</td><td>649</td><td>4.0</td><td>11</td></tr>\n",
              "\t<tr><th scope=row>6</th><td>-19.68</td><td>184.31</td><td>195</td><td>4.0</td><td>12</td></tr>\n",
              "\t<tr><th scope=row>7</th><td>-11.70</td><td>166.10</td><td> 82</td><td>4.8</td><td>43</td></tr>\n",
              "\t<tr><th scope=row>8</th><td>-28.11</td><td>181.93</td><td>194</td><td>4.4</td><td>15</td></tr>\n",
              "\t<tr><th scope=row>9</th><td>-28.74</td><td>181.74</td><td>211</td><td>4.7</td><td>35</td></tr>\n",
              "\t<tr><th scope=row>10</th><td>-17.47</td><td>179.59</td><td>622</td><td>4.3</td><td>19</td></tr>\n",
              "</tbody>\n",
              "</table>\n"
            ]
          },
          "metadata": {
            "tags": []
          }
        }
      ]
    },
    {
      "cell_type": "code",
      "metadata": {
        "id": "ucjxRvXSFHSp",
        "outputId": "1860d1ea-f2c9-4f41-9e51-9ccb17ace7d8",
        "colab": {
          "base_uri": "https://localhost:8080/",
          "height": 204
        }
      },
      "source": [
        "tail(df)"
      ],
      "execution_count": 6,
      "outputs": [
        {
          "output_type": "display_data",
          "data": {
            "text/plain": [
              "     lat    long   depth mag stations\n",
              "995  -17.70 188.10  45   4.2  10     \n",
              "996  -25.93 179.54 470   4.4  22     \n",
              "997  -12.28 167.06 248   4.7  35     \n",
              "998  -20.13 184.20 244   4.5  34     \n",
              "999  -17.40 187.80  40   4.5  14     \n",
              "1000 -21.59 170.56 165   6.0 119     "
            ],
            "text/latex": "A data.frame: 6 × 5\n\\begin{tabular}{r|lllll}\n  & lat & long & depth & mag & stations\\\\\n  & <dbl> & <dbl> & <int> & <dbl> & <int>\\\\\n\\hline\n\t995 & -17.70 & 188.10 &  45 & 4.2 &  10\\\\\n\t996 & -25.93 & 179.54 & 470 & 4.4 &  22\\\\\n\t997 & -12.28 & 167.06 & 248 & 4.7 &  35\\\\\n\t998 & -20.13 & 184.20 & 244 & 4.5 &  34\\\\\n\t999 & -17.40 & 187.80 &  40 & 4.5 &  14\\\\\n\t1000 & -21.59 & 170.56 & 165 & 6.0 & 119\\\\\n\\end{tabular}\n",
            "text/markdown": "\nA data.frame: 6 × 5\n\n| <!--/--> | lat &lt;dbl&gt; | long &lt;dbl&gt; | depth &lt;int&gt; | mag &lt;dbl&gt; | stations &lt;int&gt; |\n|---|---|---|---|---|---|\n| 995 | -17.70 | 188.10 |  45 | 4.2 |  10 |\n| 996 | -25.93 | 179.54 | 470 | 4.4 |  22 |\n| 997 | -12.28 | 167.06 | 248 | 4.7 |  35 |\n| 998 | -20.13 | 184.20 | 244 | 4.5 |  34 |\n| 999 | -17.40 | 187.80 |  40 | 4.5 |  14 |\n| 1000 | -21.59 | 170.56 | 165 | 6.0 | 119 |\n\n",
            "text/html": [
              "<table>\n",
              "<caption>A data.frame: 6 × 5</caption>\n",
              "<thead>\n",
              "\t<tr><th></th><th scope=col>lat</th><th scope=col>long</th><th scope=col>depth</th><th scope=col>mag</th><th scope=col>stations</th></tr>\n",
              "\t<tr><th></th><th scope=col>&lt;dbl&gt;</th><th scope=col>&lt;dbl&gt;</th><th scope=col>&lt;int&gt;</th><th scope=col>&lt;dbl&gt;</th><th scope=col>&lt;int&gt;</th></tr>\n",
              "</thead>\n",
              "<tbody>\n",
              "\t<tr><th scope=row>995</th><td>-17.70</td><td>188.10</td><td> 45</td><td>4.2</td><td> 10</td></tr>\n",
              "\t<tr><th scope=row>996</th><td>-25.93</td><td>179.54</td><td>470</td><td>4.4</td><td> 22</td></tr>\n",
              "\t<tr><th scope=row>997</th><td>-12.28</td><td>167.06</td><td>248</td><td>4.7</td><td> 35</td></tr>\n",
              "\t<tr><th scope=row>998</th><td>-20.13</td><td>184.20</td><td>244</td><td>4.5</td><td> 34</td></tr>\n",
              "\t<tr><th scope=row>999</th><td>-17.40</td><td>187.80</td><td> 40</td><td>4.5</td><td> 14</td></tr>\n",
              "\t<tr><th scope=row>1000</th><td>-21.59</td><td>170.56</td><td>165</td><td>6.0</td><td>119</td></tr>\n",
              "</tbody>\n",
              "</table>\n"
            ]
          },
          "metadata": {
            "tags": []
          }
        }
      ]
    },
    {
      "cell_type": "markdown",
      "metadata": {
        "id": "84eQsR6HFHSs"
      },
      "source": [
        "Now we install and activate the R-package ISLR, which is part of An Introduction to Statistical Learning, by James, Witten, Hastie and Tibshirani. ISLR comes with additional datasets. From this point on, we start working with the dataset Hitters, which contains information on baseball players and their annual salary. For more information on this dataset, you can run ?Hitters."
      ]
    },
    {
      "cell_type": "code",
      "metadata": {
        "id": "WJn8jy6hFHSs",
        "outputId": "c4d9763e-2bd7-4aed-bef0-0dc32f6cc8e7",
        "colab": {
          "base_uri": "https://localhost:8080/",
          "height": 68
        }
      },
      "source": [
        "install.packages('ISLR')"
      ],
      "execution_count": 8,
      "outputs": [
        {
          "output_type": "stream",
          "text": [
            "Installing package into ‘/usr/local/lib/R/site-library’\n",
            "(as ‘lib’ is unspecified)\n",
            "\n"
          ],
          "name": "stderr"
        }
      ]
    },
    {
      "cell_type": "code",
      "metadata": {
        "id": "u3mn_P9-FHSv"
      },
      "source": [
        "library(ISLR)"
      ],
      "execution_count": 9,
      "outputs": []
    },
    {
      "cell_type": "code",
      "metadata": {
        "id": "vuAAolcfFHSy"
      },
      "source": [
        "df <- Hitters"
      ],
      "execution_count": 28,
      "outputs": []
    },
    {
      "cell_type": "code",
      "metadata": {
        "id": "twEwqRbLFHS0"
      },
      "source": [
        "?Hitters"
      ],
      "execution_count": 29,
      "outputs": []
    },
    {
      "cell_type": "markdown",
      "metadata": {
        "id": "h3ap2cgLFHS1"
      },
      "source": [
        "Getting a quick overview of the data you are working with is obtained with commands like str(df), providing the structure of the data, summary(df), providing the summary statistics for all the variables, colnames(df), rownames(df), and commands that provide the number of rows and columns, such as dim(df) or ncol(df) and nrow(df)"
      ]
    },
    {
      "cell_type": "code",
      "metadata": {
        "id": "-yZJUP6NFHS2",
        "outputId": "bead015f-0915-4415-8e04-a1f61f7f3de7",
        "colab": {
          "base_uri": "https://localhost:8080/",
          "height": 374
        }
      },
      "source": [
        "str(df)"
      ],
      "execution_count": 30,
      "outputs": [
        {
          "output_type": "stream",
          "text": [
            "'data.frame':\t322 obs. of  20 variables:\n",
            " $ AtBat    : int  293 315 479 496 321 594 185 298 323 401 ...\n",
            " $ Hits     : int  66 81 130 141 87 169 37 73 81 92 ...\n",
            " $ HmRun    : int  1 7 18 20 10 4 1 0 6 17 ...\n",
            " $ Runs     : int  30 24 66 65 39 74 23 24 26 49 ...\n",
            " $ RBI      : int  29 38 72 78 42 51 8 24 32 66 ...\n",
            " $ Walks    : int  14 39 76 37 30 35 21 7 8 65 ...\n",
            " $ Years    : int  1 14 3 11 2 11 2 3 2 13 ...\n",
            " $ CAtBat   : int  293 3449 1624 5628 396 4408 214 509 341 5206 ...\n",
            " $ CHits    : int  66 835 457 1575 101 1133 42 108 86 1332 ...\n",
            " $ CHmRun   : int  1 69 63 225 12 19 1 0 6 253 ...\n",
            " $ CRuns    : int  30 321 224 828 48 501 30 41 32 784 ...\n",
            " $ CRBI     : int  29 414 266 838 46 336 9 37 34 890 ...\n",
            " $ CWalks   : int  14 375 263 354 33 194 24 12 8 866 ...\n",
            " $ League   : Factor w/ 2 levels \"A\",\"N\": 1 2 1 2 2 1 2 1 2 1 ...\n",
            " $ Division : Factor w/ 2 levels \"E\",\"W\": 1 2 2 1 1 2 1 2 2 1 ...\n",
            " $ PutOuts  : int  446 632 880 200 805 282 76 121 143 0 ...\n",
            " $ Assists  : int  33 43 82 11 40 421 127 283 290 0 ...\n",
            " $ Errors   : int  20 10 14 3 4 25 7 9 19 0 ...\n",
            " $ Salary   : num  NA 475 480 500 91.5 750 70 100 75 1100 ...\n",
            " $ NewLeague: Factor w/ 2 levels \"A\",\"N\": 1 2 1 2 2 1 1 1 2 1 ...\n"
          ],
          "name": "stdout"
        }
      ]
    },
    {
      "cell_type": "code",
      "metadata": {
        "id": "1fxbFUzeFHS5",
        "outputId": "49c32802-71a2-4192-fbab-79c31d4917c2",
        "colab": {
          "base_uri": "https://localhost:8080/",
          "height": 697
        }
      },
      "source": [
        "summary(df)"
      ],
      "execution_count": 13,
      "outputs": [
        {
          "output_type": "display_data",
          "data": {
            "text/plain": [
              "     AtBat            Hits         HmRun            Runs       \n",
              " Min.   : 16.0   Min.   :  1   Min.   : 0.00   Min.   :  0.00  \n",
              " 1st Qu.:255.2   1st Qu.: 64   1st Qu.: 4.00   1st Qu.: 30.25  \n",
              " Median :379.5   Median : 96   Median : 8.00   Median : 48.00  \n",
              " Mean   :380.9   Mean   :101   Mean   :10.77   Mean   : 50.91  \n",
              " 3rd Qu.:512.0   3rd Qu.:137   3rd Qu.:16.00   3rd Qu.: 69.00  \n",
              " Max.   :687.0   Max.   :238   Max.   :40.00   Max.   :130.00  \n",
              "                                                               \n",
              "      RBI             Walks            Years            CAtBat       \n",
              " Min.   :  0.00   Min.   :  0.00   Min.   : 1.000   Min.   :   19.0  \n",
              " 1st Qu.: 28.00   1st Qu.: 22.00   1st Qu.: 4.000   1st Qu.:  816.8  \n",
              " Median : 44.00   Median : 35.00   Median : 6.000   Median : 1928.0  \n",
              " Mean   : 48.03   Mean   : 38.74   Mean   : 7.444   Mean   : 2648.7  \n",
              " 3rd Qu.: 64.75   3rd Qu.: 53.00   3rd Qu.:11.000   3rd Qu.: 3924.2  \n",
              " Max.   :121.00   Max.   :105.00   Max.   :24.000   Max.   :14053.0  \n",
              "                                                                     \n",
              "     CHits            CHmRun           CRuns             CRBI        \n",
              " Min.   :   4.0   Min.   :  0.00   Min.   :   1.0   Min.   :   0.00  \n",
              " 1st Qu.: 209.0   1st Qu.: 14.00   1st Qu.: 100.2   1st Qu.:  88.75  \n",
              " Median : 508.0   Median : 37.50   Median : 247.0   Median : 220.50  \n",
              " Mean   : 717.6   Mean   : 69.49   Mean   : 358.8   Mean   : 330.12  \n",
              " 3rd Qu.:1059.2   3rd Qu.: 90.00   3rd Qu.: 526.2   3rd Qu.: 426.25  \n",
              " Max.   :4256.0   Max.   :548.00   Max.   :2165.0   Max.   :1659.00  \n",
              "                                                                     \n",
              "     CWalks        League  Division    PutOuts          Assists     \n",
              " Min.   :   0.00   A:175   E:157    Min.   :   0.0   Min.   :  0.0  \n",
              " 1st Qu.:  67.25   N:147   W:165    1st Qu.: 109.2   1st Qu.:  7.0  \n",
              " Median : 170.50                    Median : 212.0   Median : 39.5  \n",
              " Mean   : 260.24                    Mean   : 288.9   Mean   :106.9  \n",
              " 3rd Qu.: 339.25                    3rd Qu.: 325.0   3rd Qu.:166.0  \n",
              " Max.   :1566.00                    Max.   :1378.0   Max.   :492.0  \n",
              "                                                                    \n",
              "     Errors          Salary       NewLeague\n",
              " Min.   : 0.00   Min.   :  67.5   A:176    \n",
              " 1st Qu.: 3.00   1st Qu.: 190.0   N:146    \n",
              " Median : 6.00   Median : 425.0            \n",
              " Mean   : 8.04   Mean   : 535.9            \n",
              " 3rd Qu.:11.00   3rd Qu.: 750.0            \n",
              " Max.   :32.00   Max.   :2460.0            \n",
              "                 NA's   :59                "
            ]
          },
          "metadata": {
            "tags": []
          }
        }
      ]
    },
    {
      "cell_type": "code",
      "metadata": {
        "id": "CRyCpMNUFHS7",
        "outputId": "e36bea6e-a084-4ae1-8569-3f946f7fbdd1",
        "colab": {
          "base_uri": "https://localhost:8080/",
          "height": 34
        }
      },
      "source": [
        "colnames(df)"
      ],
      "execution_count": 14,
      "outputs": [
        {
          "output_type": "display_data",
          "data": {
            "text/plain": [
              " [1] \"AtBat\"     \"Hits\"      \"HmRun\"     \"Runs\"      \"RBI\"       \"Walks\"    \n",
              " [7] \"Years\"     \"CAtBat\"    \"CHits\"     \"CHmRun\"    \"CRuns\"     \"CRBI\"     \n",
              "[13] \"CWalks\"    \"League\"    \"Division\"  \"PutOuts\"   \"Assists\"   \"Errors\"   \n",
              "[19] \"Salary\"    \"NewLeague\""
            ],
            "text/latex": "\\begin{enumerate*}\n\\item 'AtBat'\n\\item 'Hits'\n\\item 'HmRun'\n\\item 'Runs'\n\\item 'RBI'\n\\item 'Walks'\n\\item 'Years'\n\\item 'CAtBat'\n\\item 'CHits'\n\\item 'CHmRun'\n\\item 'CRuns'\n\\item 'CRBI'\n\\item 'CWalks'\n\\item 'League'\n\\item 'Division'\n\\item 'PutOuts'\n\\item 'Assists'\n\\item 'Errors'\n\\item 'Salary'\n\\item 'NewLeague'\n\\end{enumerate*}\n",
            "text/markdown": "1. 'AtBat'\n2. 'Hits'\n3. 'HmRun'\n4. 'Runs'\n5. 'RBI'\n6. 'Walks'\n7. 'Years'\n8. 'CAtBat'\n9. 'CHits'\n10. 'CHmRun'\n11. 'CRuns'\n12. 'CRBI'\n13. 'CWalks'\n14. 'League'\n15. 'Division'\n16. 'PutOuts'\n17. 'Assists'\n18. 'Errors'\n19. 'Salary'\n20. 'NewLeague'\n\n\n",
            "text/html": [
              "<style>\n",
              ".list-inline {list-style: none; margin:0; padding: 0}\n",
              ".list-inline>li {display: inline-block}\n",
              ".list-inline>li:not(:last-child)::after {content: \"\\00b7\"; padding: 0 .5ex}\n",
              "</style>\n",
              "<ol class=list-inline><li>'AtBat'</li><li>'Hits'</li><li>'HmRun'</li><li>'Runs'</li><li>'RBI'</li><li>'Walks'</li><li>'Years'</li><li>'CAtBat'</li><li>'CHits'</li><li>'CHmRun'</li><li>'CRuns'</li><li>'CRBI'</li><li>'CWalks'</li><li>'League'</li><li>'Division'</li><li>'PutOuts'</li><li>'Assists'</li><li>'Errors'</li><li>'Salary'</li><li>'NewLeague'</li></ol>\n"
            ]
          },
          "metadata": {
            "tags": []
          }
        }
      ]
    },
    {
      "cell_type": "code",
      "metadata": {
        "id": "SuouWwwkFHS-",
        "outputId": "78979912-af1a-4e31-f966-8b1d4d9ee66a",
        "colab": {
          "base_uri": "https://localhost:8080/",
          "height": 34
        }
      },
      "source": [
        "rownames(df)[1:10]"
      ],
      "execution_count": 15,
      "outputs": [
        {
          "output_type": "display_data",
          "data": {
            "text/plain": [
              " [1] \"-Andy Allanson\"    \"-Alan Ashby\"       \"-Alvin Davis\"     \n",
              " [4] \"-Andre Dawson\"     \"-Andres Galarraga\" \"-Alfredo Griffin\" \n",
              " [7] \"-Al Newman\"        \"-Argenis Salazar\"  \"-Andres Thomas\"   \n",
              "[10] \"-Andre Thornton\"  "
            ],
            "text/latex": "\\begin{enumerate*}\n\\item '-Andy Allanson'\n\\item '-Alan Ashby'\n\\item '-Alvin Davis'\n\\item '-Andre Dawson'\n\\item '-Andres Galarraga'\n\\item '-Alfredo Griffin'\n\\item '-Al Newman'\n\\item '-Argenis Salazar'\n\\item '-Andres Thomas'\n\\item '-Andre Thornton'\n\\end{enumerate*}\n",
            "text/markdown": "1. '-Andy Allanson'\n2. '-Alan Ashby'\n3. '-Alvin Davis'\n4. '-Andre Dawson'\n5. '-Andres Galarraga'\n6. '-Alfredo Griffin'\n7. '-Al Newman'\n8. '-Argenis Salazar'\n9. '-Andres Thomas'\n10. '-Andre Thornton'\n\n\n",
            "text/html": [
              "<style>\n",
              ".list-inline {list-style: none; margin:0; padding: 0}\n",
              ".list-inline>li {display: inline-block}\n",
              ".list-inline>li:not(:last-child)::after {content: \"\\00b7\"; padding: 0 .5ex}\n",
              "</style>\n",
              "<ol class=list-inline><li>'-Andy Allanson'</li><li>'-Alan Ashby'</li><li>'-Alvin Davis'</li><li>'-Andre Dawson'</li><li>'-Andres Galarraga'</li><li>'-Alfredo Griffin'</li><li>'-Al Newman'</li><li>'-Argenis Salazar'</li><li>'-Andres Thomas'</li><li>'-Andre Thornton'</li></ol>\n"
            ]
          },
          "metadata": {
            "tags": []
          }
        }
      ]
    },
    {
      "cell_type": "code",
      "metadata": {
        "id": "5BTlHT5sFHTA",
        "outputId": "f616b5a2-906f-4d66-ae69-d0afc76cd011",
        "colab": {
          "base_uri": "https://localhost:8080/",
          "height": 34
        }
      },
      "source": [
        "dim(df)"
      ],
      "execution_count": 16,
      "outputs": [
        {
          "output_type": "display_data",
          "data": {
            "text/plain": [
              "[1] 322  20"
            ],
            "text/latex": "\\begin{enumerate*}\n\\item 322\n\\item 20\n\\end{enumerate*}\n",
            "text/markdown": "1. 322\n2. 20\n\n\n",
            "text/html": [
              "<style>\n",
              ".list-inline {list-style: none; margin:0; padding: 0}\n",
              ".list-inline>li {display: inline-block}\n",
              ".list-inline>li:not(:last-child)::after {content: \"\\00b7\"; padding: 0 .5ex}\n",
              "</style>\n",
              "<ol class=list-inline><li>322</li><li>20</li></ol>\n"
            ]
          },
          "metadata": {
            "tags": []
          }
        }
      ]
    },
    {
      "cell_type": "code",
      "metadata": {
        "id": "CoOQ6Bl6FHTB",
        "outputId": "07a55aaf-a5a3-4473-abd5-8471acb744b2",
        "colab": {
          "base_uri": "https://localhost:8080/",
          "height": 34
        }
      },
      "source": [
        "ncol(df)"
      ],
      "execution_count": 17,
      "outputs": [
        {
          "output_type": "display_data",
          "data": {
            "text/plain": [
              "[1] 20"
            ],
            "text/latex": "20",
            "text/markdown": "20",
            "text/html": [
              "20"
            ]
          },
          "metadata": {
            "tags": []
          }
        }
      ]
    },
    {
      "cell_type": "code",
      "metadata": {
        "id": "nB8Qn2l1FHTD",
        "outputId": "a0c71427-ac47-4699-bd6c-ac93de2a9a70",
        "colab": {
          "base_uri": "https://localhost:8080/",
          "height": 34
        }
      },
      "source": [
        "nrow(df)"
      ],
      "execution_count": 18,
      "outputs": [
        {
          "output_type": "display_data",
          "data": {
            "text/plain": [
              "[1] 322"
            ],
            "text/latex": "322",
            "text/markdown": "322",
            "text/html": [
              "322"
            ]
          },
          "metadata": {
            "tags": []
          }
        }
      ]
    },
    {
      "cell_type": "markdown",
      "metadata": {
        "id": "kxzFstN2FHTF"
      },
      "source": [
        "Describing and exploring your data can also be done by zooming in on particular rows or columns. Selecting one specific column within a dataframe can be done using the dollar sign ($). Multiple columns can be selected using a vector with column names or using the column index numbers. In addition, specific rows can be selected by adding a criterion for the specific rows you want to see. Remember: there are always different ways of coding for achieving the particular result you are going for. "
      ]
    },
    {
      "cell_type": "code",
      "metadata": {
        "id": "r8Y61VhEFHTG",
        "outputId": "1c7bae37-ba73-4382-f92f-b35c6220aa13",
        "colab": {
          "base_uri": "https://localhost:8080/",
          "height": 51
        }
      },
      "source": [
        "summary(df$HmRun)"
      ],
      "execution_count": 31,
      "outputs": [
        {
          "output_type": "display_data",
          "data": {
            "text/plain": [
              "   Min. 1st Qu.  Median    Mean 3rd Qu.    Max. \n",
              "   0.00    4.00    8.00   10.77   16.00   40.00 "
            ]
          },
          "metadata": {
            "tags": []
          }
        }
      ]
    },
    {
      "cell_type": "code",
      "metadata": {
        "id": "4Y8MTk9KFHTJ",
        "outputId": "8e25399c-8cfb-41b8-8784-5307f32ddbde",
        "colab": {
          "base_uri": "https://localhost:8080/",
          "height": 136
        }
      },
      "source": [
        "summary(df[,c(\"HmRun\", \"Runs\", \"Walks\")])"
      ],
      "execution_count": 32,
      "outputs": [
        {
          "output_type": "display_data",
          "data": {
            "text/plain": [
              "     HmRun            Runs            Walks       \n",
              " Min.   : 0.00   Min.   :  0.00   Min.   :  0.00  \n",
              " 1st Qu.: 4.00   1st Qu.: 30.25   1st Qu.: 22.00  \n",
              " Median : 8.00   Median : 48.00   Median : 35.00  \n",
              " Mean   :10.77   Mean   : 50.91   Mean   : 38.74  \n",
              " 3rd Qu.:16.00   3rd Qu.: 69.00   3rd Qu.: 53.00  \n",
              " Max.   :40.00   Max.   :130.00   Max.   :105.00  "
            ]
          },
          "metadata": {
            "tags": []
          }
        }
      ]
    },
    {
      "cell_type": "code",
      "metadata": {
        "id": "tFnwbtOtFHTL",
        "outputId": "b5c25ce3-7e23-48bf-f504-f6b22bc14f88",
        "colab": {
          "base_uri": "https://localhost:8080/",
          "height": 255
        }
      },
      "source": [
        "summary(df[,c(1:4,6)])"
      ],
      "execution_count": 33,
      "outputs": [
        {
          "output_type": "display_data",
          "data": {
            "text/plain": [
              "     AtBat            Hits         HmRun            Runs       \n",
              " Min.   : 16.0   Min.   :  1   Min.   : 0.00   Min.   :  0.00  \n",
              " 1st Qu.:255.2   1st Qu.: 64   1st Qu.: 4.00   1st Qu.: 30.25  \n",
              " Median :379.5   Median : 96   Median : 8.00   Median : 48.00  \n",
              " Mean   :380.9   Mean   :101   Mean   :10.77   Mean   : 50.91  \n",
              " 3rd Qu.:512.0   3rd Qu.:137   3rd Qu.:16.00   3rd Qu.: 69.00  \n",
              " Max.   :687.0   Max.   :238   Max.   :40.00   Max.   :130.00  \n",
              "     Walks       \n",
              " Min.   :  0.00  \n",
              " 1st Qu.: 22.00  \n",
              " Median : 35.00  \n",
              " Mean   : 38.74  \n",
              " 3rd Qu.: 53.00  \n",
              " Max.   :105.00  "
            ]
          },
          "metadata": {
            "tags": []
          }
        }
      ]
    },
    {
      "cell_type": "code",
      "metadata": {
        "id": "o6iSiQanFHTM",
        "outputId": "52334c1a-35e2-4f26-e090-fda992b8a00d",
        "colab": {
          "base_uri": "https://localhost:8080/",
          "height": 519
        }
      },
      "source": [
        "df[df$HmRun==5,]"
      ],
      "execution_count": 34,
      "outputs": [
        {
          "output_type": "display_data",
          "data": {
            "text/plain": [
              "                 AtBat Hits HmRun Runs RBI Walks Years CAtBat CHits CHmRun\n",
              "-Bob Melvin      268    60  5     24   25  15     2     350     78    5   \n",
              "-Ben Oglivie     346    98  5     31   53  30    16    5913   1615  235   \n",
              "-Daryl Boston    199    53  5     29   22  21     3     514    120    8   \n",
              "-Danny Heep      195    55  5     24   33  30     8    1313    338   25   \n",
              "-Gary Pettis     539   139  5     93   58  69     5    1469    369   12   \n",
              "-Gary Ward       380   120  5     54   51  31     8    3118    900   92   \n",
              "-Harry Spilman   143    39  5     18   30  15     9     639    151   16   \n",
              "-Jerry Hairston  225    61  5     32   26  26    11    1568    408   25   \n",
              "-Jerry Mumphrey  309    94  5     37   32  26    13    4618   1330   57   \n",
              "-Jerry Royster   257    66  5     31   26  32    14    3910    979   33   \n",
              "-Joel Skinner    315    73  5     23   37  16     4     450    108    6   \n",
              "-Joel Youngblood 184    47  5     20   28  18    11    3327    890   74   \n",
              "-Ken Oberkfell   503   136  5     62   48  83    10    3423    970   20   \n",
              "-Mike Scioscia   374    94  5     36   26  62     7    1968    519   26   \n",
              "-Rick Burleson   271    77  5     35   29  33    12    4933   1358   48   \n",
              "-Rick Leach      246    76  5     35   39  13     6     912    234   12   \n",
              "-Ron Roenicke    275    68  5     42   42  61     6     961    238   16   \n",
              "-Scott Bradley   220    66  5     20   28  13     3     290     80    5   \n",
              "-Tony Phillips   441   113  5     76   52  76     5    1546    397   17   \n",
              "-Vance Law       360    81  5     37   44  37     7    2268    566   41   \n",
              "-Willie Randolph 492   136  5     76   50  94    12    5511   1511   39   \n",
              "                 CRuns CRBI CWalks League Division PutOuts Assists Errors\n",
              "-Bob Melvin       34    29   18    N      W        442      59      6    \n",
              "-Ben Oglivie     784   901  560    A      E          0       0      0    \n",
              "-Daryl Boston     57    40   39    A      W        152       3      5    \n",
              "-Danny Heep      144   149  153    N      E         83       2      1    \n",
              "-Gary Pettis     247   126  198    A      W        462       9      7    \n",
              "-Gary Ward       444   419  240    A      W        237       8      1    \n",
              "-Harry Spilman    80    97   61    N      W        138      15      1    \n",
              "-Jerry Hairston  202   185  257    A      W        132       9      0    \n",
              "-Jerry Mumphrey  616   522  436    N      E        161       3      3    \n",
              "-Jerry Royster   518   324  382    N      W         87     166     14    \n",
              "-Joel Skinner     38    46   28    A      W        227      15      3    \n",
              "-Joel Youngblood 419   382  304    N      W         49       2      0    \n",
              "-Ken Oberkfell   408   303  414    N      W         65     258      8    \n",
              "-Mike Scioscia   181   199  288    N      W        756      64     15    \n",
              "-Rick Burleson   630   435  403    A      W         62      90      3    \n",
              "-Rick Leach      102    96   80    A      E         44       0      1    \n",
              "-Ron Roenicke    128   104  172    N      E        181       3      2    \n",
              "-Scott Bradley    27    31   15    A      W        281      21      3    \n",
              "-Tony Phillips   226   149  191    A      W        160     290     11    \n",
              "-Vance Law       279   257  246    N      E        170     284      3    \n",
              "-Willie Randolph 897   451  875    A      E        313     381     20    \n",
              "                 Salary NewLeague\n",
              "-Bob Melvin       90    N        \n",
              "-Ben Oglivie      NA    A        \n",
              "-Daryl Boston     75    A        \n",
              "-Danny Heep       NA    N        \n",
              "-Gary Pettis     400    A        \n",
              "-Gary Ward       600    A        \n",
              "-Harry Spilman   175    N        \n",
              "-Jerry Hairston   NA    A        \n",
              "-Jerry Mumphrey  600    N        \n",
              "-Jerry Royster   250    A        \n",
              "-Joel Skinner    110    A        \n",
              "-Joel Youngblood 450    N        \n",
              "-Ken Oberkfell   725    N        \n",
              "-Mike Scioscia   875    N        \n",
              "-Rick Burleson   450    A        \n",
              "-Rick Leach      250    A        \n",
              "-Ron Roenicke    191    N        \n",
              "-Scott Bradley    90    A        \n",
              "-Tony Phillips   425    A        \n",
              "-Vance Law       525    N        \n",
              "-Willie Randolph 875    A        "
            ],
            "text/latex": "A data.frame: 21 × 20\n\\begin{tabular}{r|llllllllllllllllllll}\n  & AtBat & Hits & HmRun & Runs & RBI & Walks & Years & CAtBat & CHits & CHmRun & CRuns & CRBI & CWalks & League & Division & PutOuts & Assists & Errors & Salary & NewLeague\\\\\n  & <int> & <int> & <int> & <int> & <int> & <int> & <int> & <int> & <int> & <int> & <int> & <int> & <int> & <fct> & <fct> & <int> & <int> & <int> & <dbl> & <fct>\\\\\n\\hline\n\t-Bob Melvin & 268 &  60 & 5 & 24 & 25 & 15 &  2 &  350 &   78 &   5 &  34 &  29 &  18 & N & W & 442 &  59 &  6 &  90 & N\\\\\n\t-Ben Oglivie & 346 &  98 & 5 & 31 & 53 & 30 & 16 & 5913 & 1615 & 235 & 784 & 901 & 560 & A & E &   0 &   0 &  0 &  NA & A\\\\\n\t-Daryl Boston & 199 &  53 & 5 & 29 & 22 & 21 &  3 &  514 &  120 &   8 &  57 &  40 &  39 & A & W & 152 &   3 &  5 &  75 & A\\\\\n\t-Danny Heep & 195 &  55 & 5 & 24 & 33 & 30 &  8 & 1313 &  338 &  25 & 144 & 149 & 153 & N & E &  83 &   2 &  1 &  NA & N\\\\\n\t-Gary Pettis & 539 & 139 & 5 & 93 & 58 & 69 &  5 & 1469 &  369 &  12 & 247 & 126 & 198 & A & W & 462 &   9 &  7 & 400 & A\\\\\n\t-Gary Ward & 380 & 120 & 5 & 54 & 51 & 31 &  8 & 3118 &  900 &  92 & 444 & 419 & 240 & A & W & 237 &   8 &  1 & 600 & A\\\\\n\t-Harry Spilman & 143 &  39 & 5 & 18 & 30 & 15 &  9 &  639 &  151 &  16 &  80 &  97 &  61 & N & W & 138 &  15 &  1 & 175 & N\\\\\n\t-Jerry Hairston & 225 &  61 & 5 & 32 & 26 & 26 & 11 & 1568 &  408 &  25 & 202 & 185 & 257 & A & W & 132 &   9 &  0 &  NA & A\\\\\n\t-Jerry Mumphrey & 309 &  94 & 5 & 37 & 32 & 26 & 13 & 4618 & 1330 &  57 & 616 & 522 & 436 & N & E & 161 &   3 &  3 & 600 & N\\\\\n\t-Jerry Royster & 257 &  66 & 5 & 31 & 26 & 32 & 14 & 3910 &  979 &  33 & 518 & 324 & 382 & N & W &  87 & 166 & 14 & 250 & A\\\\\n\t-Joel Skinner & 315 &  73 & 5 & 23 & 37 & 16 &  4 &  450 &  108 &   6 &  38 &  46 &  28 & A & W & 227 &  15 &  3 & 110 & A\\\\\n\t-Joel Youngblood & 184 &  47 & 5 & 20 & 28 & 18 & 11 & 3327 &  890 &  74 & 419 & 382 & 304 & N & W &  49 &   2 &  0 & 450 & N\\\\\n\t-Ken Oberkfell & 503 & 136 & 5 & 62 & 48 & 83 & 10 & 3423 &  970 &  20 & 408 & 303 & 414 & N & W &  65 & 258 &  8 & 725 & N\\\\\n\t-Mike Scioscia & 374 &  94 & 5 & 36 & 26 & 62 &  7 & 1968 &  519 &  26 & 181 & 199 & 288 & N & W & 756 &  64 & 15 & 875 & N\\\\\n\t-Rick Burleson & 271 &  77 & 5 & 35 & 29 & 33 & 12 & 4933 & 1358 &  48 & 630 & 435 & 403 & A & W &  62 &  90 &  3 & 450 & A\\\\\n\t-Rick Leach & 246 &  76 & 5 & 35 & 39 & 13 &  6 &  912 &  234 &  12 & 102 &  96 &  80 & A & E &  44 &   0 &  1 & 250 & A\\\\\n\t-Ron Roenicke & 275 &  68 & 5 & 42 & 42 & 61 &  6 &  961 &  238 &  16 & 128 & 104 & 172 & N & E & 181 &   3 &  2 & 191 & N\\\\\n\t-Scott Bradley & 220 &  66 & 5 & 20 & 28 & 13 &  3 &  290 &   80 &   5 &  27 &  31 &  15 & A & W & 281 &  21 &  3 &  90 & A\\\\\n\t-Tony Phillips & 441 & 113 & 5 & 76 & 52 & 76 &  5 & 1546 &  397 &  17 & 226 & 149 & 191 & A & W & 160 & 290 & 11 & 425 & A\\\\\n\t-Vance Law & 360 &  81 & 5 & 37 & 44 & 37 &  7 & 2268 &  566 &  41 & 279 & 257 & 246 & N & E & 170 & 284 &  3 & 525 & N\\\\\n\t-Willie Randolph & 492 & 136 & 5 & 76 & 50 & 94 & 12 & 5511 & 1511 &  39 & 897 & 451 & 875 & A & E & 313 & 381 & 20 & 875 & A\\\\\n\\end{tabular}\n",
            "text/markdown": "\nA data.frame: 21 × 20\n\n| <!--/--> | AtBat &lt;int&gt; | Hits &lt;int&gt; | HmRun &lt;int&gt; | Runs &lt;int&gt; | RBI &lt;int&gt; | Walks &lt;int&gt; | Years &lt;int&gt; | CAtBat &lt;int&gt; | CHits &lt;int&gt; | CHmRun &lt;int&gt; | CRuns &lt;int&gt; | CRBI &lt;int&gt; | CWalks &lt;int&gt; | League &lt;fct&gt; | Division &lt;fct&gt; | PutOuts &lt;int&gt; | Assists &lt;int&gt; | Errors &lt;int&gt; | Salary &lt;dbl&gt; | NewLeague &lt;fct&gt; |\n|---|---|---|---|---|---|---|---|---|---|---|---|---|---|---|---|---|---|---|---|---|\n| -Bob Melvin | 268 |  60 | 5 | 24 | 25 | 15 |  2 |  350 |   78 |   5 |  34 |  29 |  18 | N | W | 442 |  59 |  6 |  90 | N |\n| -Ben Oglivie | 346 |  98 | 5 | 31 | 53 | 30 | 16 | 5913 | 1615 | 235 | 784 | 901 | 560 | A | E |   0 |   0 |  0 |  NA | A |\n| -Daryl Boston | 199 |  53 | 5 | 29 | 22 | 21 |  3 |  514 |  120 |   8 |  57 |  40 |  39 | A | W | 152 |   3 |  5 |  75 | A |\n| -Danny Heep | 195 |  55 | 5 | 24 | 33 | 30 |  8 | 1313 |  338 |  25 | 144 | 149 | 153 | N | E |  83 |   2 |  1 |  NA | N |\n| -Gary Pettis | 539 | 139 | 5 | 93 | 58 | 69 |  5 | 1469 |  369 |  12 | 247 | 126 | 198 | A | W | 462 |   9 |  7 | 400 | A |\n| -Gary Ward | 380 | 120 | 5 | 54 | 51 | 31 |  8 | 3118 |  900 |  92 | 444 | 419 | 240 | A | W | 237 |   8 |  1 | 600 | A |\n| -Harry Spilman | 143 |  39 | 5 | 18 | 30 | 15 |  9 |  639 |  151 |  16 |  80 |  97 |  61 | N | W | 138 |  15 |  1 | 175 | N |\n| -Jerry Hairston | 225 |  61 | 5 | 32 | 26 | 26 | 11 | 1568 |  408 |  25 | 202 | 185 | 257 | A | W | 132 |   9 |  0 |  NA | A |\n| -Jerry Mumphrey | 309 |  94 | 5 | 37 | 32 | 26 | 13 | 4618 | 1330 |  57 | 616 | 522 | 436 | N | E | 161 |   3 |  3 | 600 | N |\n| -Jerry Royster | 257 |  66 | 5 | 31 | 26 | 32 | 14 | 3910 |  979 |  33 | 518 | 324 | 382 | N | W |  87 | 166 | 14 | 250 | A |\n| -Joel Skinner | 315 |  73 | 5 | 23 | 37 | 16 |  4 |  450 |  108 |   6 |  38 |  46 |  28 | A | W | 227 |  15 |  3 | 110 | A |\n| -Joel Youngblood | 184 |  47 | 5 | 20 | 28 | 18 | 11 | 3327 |  890 |  74 | 419 | 382 | 304 | N | W |  49 |   2 |  0 | 450 | N |\n| -Ken Oberkfell | 503 | 136 | 5 | 62 | 48 | 83 | 10 | 3423 |  970 |  20 | 408 | 303 | 414 | N | W |  65 | 258 |  8 | 725 | N |\n| -Mike Scioscia | 374 |  94 | 5 | 36 | 26 | 62 |  7 | 1968 |  519 |  26 | 181 | 199 | 288 | N | W | 756 |  64 | 15 | 875 | N |\n| -Rick Burleson | 271 |  77 | 5 | 35 | 29 | 33 | 12 | 4933 | 1358 |  48 | 630 | 435 | 403 | A | W |  62 |  90 |  3 | 450 | A |\n| -Rick Leach | 246 |  76 | 5 | 35 | 39 | 13 |  6 |  912 |  234 |  12 | 102 |  96 |  80 | A | E |  44 |   0 |  1 | 250 | A |\n| -Ron Roenicke | 275 |  68 | 5 | 42 | 42 | 61 |  6 |  961 |  238 |  16 | 128 | 104 | 172 | N | E | 181 |   3 |  2 | 191 | N |\n| -Scott Bradley | 220 |  66 | 5 | 20 | 28 | 13 |  3 |  290 |   80 |   5 |  27 |  31 |  15 | A | W | 281 |  21 |  3 |  90 | A |\n| -Tony Phillips | 441 | 113 | 5 | 76 | 52 | 76 |  5 | 1546 |  397 |  17 | 226 | 149 | 191 | A | W | 160 | 290 | 11 | 425 | A |\n| -Vance Law | 360 |  81 | 5 | 37 | 44 | 37 |  7 | 2268 |  566 |  41 | 279 | 257 | 246 | N | E | 170 | 284 |  3 | 525 | N |\n| -Willie Randolph | 492 | 136 | 5 | 76 | 50 | 94 | 12 | 5511 | 1511 |  39 | 897 | 451 | 875 | A | E | 313 | 381 | 20 | 875 | A |\n\n",
            "text/html": [
              "<table>\n",
              "<caption>A data.frame: 21 × 20</caption>\n",
              "<thead>\n",
              "\t<tr><th></th><th scope=col>AtBat</th><th scope=col>Hits</th><th scope=col>HmRun</th><th scope=col>Runs</th><th scope=col>RBI</th><th scope=col>Walks</th><th scope=col>Years</th><th scope=col>CAtBat</th><th scope=col>CHits</th><th scope=col>CHmRun</th><th scope=col>CRuns</th><th scope=col>CRBI</th><th scope=col>CWalks</th><th scope=col>League</th><th scope=col>Division</th><th scope=col>PutOuts</th><th scope=col>Assists</th><th scope=col>Errors</th><th scope=col>Salary</th><th scope=col>NewLeague</th></tr>\n",
              "\t<tr><th></th><th scope=col>&lt;int&gt;</th><th scope=col>&lt;int&gt;</th><th scope=col>&lt;int&gt;</th><th scope=col>&lt;int&gt;</th><th scope=col>&lt;int&gt;</th><th scope=col>&lt;int&gt;</th><th scope=col>&lt;int&gt;</th><th scope=col>&lt;int&gt;</th><th scope=col>&lt;int&gt;</th><th scope=col>&lt;int&gt;</th><th scope=col>&lt;int&gt;</th><th scope=col>&lt;int&gt;</th><th scope=col>&lt;int&gt;</th><th scope=col>&lt;fct&gt;</th><th scope=col>&lt;fct&gt;</th><th scope=col>&lt;int&gt;</th><th scope=col>&lt;int&gt;</th><th scope=col>&lt;int&gt;</th><th scope=col>&lt;dbl&gt;</th><th scope=col>&lt;fct&gt;</th></tr>\n",
              "</thead>\n",
              "<tbody>\n",
              "\t<tr><th scope=row>-Bob Melvin</th><td>268</td><td> 60</td><td>5</td><td>24</td><td>25</td><td>15</td><td> 2</td><td> 350</td><td>  78</td><td>  5</td><td> 34</td><td> 29</td><td> 18</td><td>N</td><td>W</td><td>442</td><td> 59</td><td> 6</td><td> 90</td><td>N</td></tr>\n",
              "\t<tr><th scope=row>-Ben Oglivie</th><td>346</td><td> 98</td><td>5</td><td>31</td><td>53</td><td>30</td><td>16</td><td>5913</td><td>1615</td><td>235</td><td>784</td><td>901</td><td>560</td><td>A</td><td>E</td><td>  0</td><td>  0</td><td> 0</td><td> NA</td><td>A</td></tr>\n",
              "\t<tr><th scope=row>-Daryl Boston</th><td>199</td><td> 53</td><td>5</td><td>29</td><td>22</td><td>21</td><td> 3</td><td> 514</td><td> 120</td><td>  8</td><td> 57</td><td> 40</td><td> 39</td><td>A</td><td>W</td><td>152</td><td>  3</td><td> 5</td><td> 75</td><td>A</td></tr>\n",
              "\t<tr><th scope=row>-Danny Heep</th><td>195</td><td> 55</td><td>5</td><td>24</td><td>33</td><td>30</td><td> 8</td><td>1313</td><td> 338</td><td> 25</td><td>144</td><td>149</td><td>153</td><td>N</td><td>E</td><td> 83</td><td>  2</td><td> 1</td><td> NA</td><td>N</td></tr>\n",
              "\t<tr><th scope=row>-Gary Pettis</th><td>539</td><td>139</td><td>5</td><td>93</td><td>58</td><td>69</td><td> 5</td><td>1469</td><td> 369</td><td> 12</td><td>247</td><td>126</td><td>198</td><td>A</td><td>W</td><td>462</td><td>  9</td><td> 7</td><td>400</td><td>A</td></tr>\n",
              "\t<tr><th scope=row>-Gary Ward</th><td>380</td><td>120</td><td>5</td><td>54</td><td>51</td><td>31</td><td> 8</td><td>3118</td><td> 900</td><td> 92</td><td>444</td><td>419</td><td>240</td><td>A</td><td>W</td><td>237</td><td>  8</td><td> 1</td><td>600</td><td>A</td></tr>\n",
              "\t<tr><th scope=row>-Harry Spilman</th><td>143</td><td> 39</td><td>5</td><td>18</td><td>30</td><td>15</td><td> 9</td><td> 639</td><td> 151</td><td> 16</td><td> 80</td><td> 97</td><td> 61</td><td>N</td><td>W</td><td>138</td><td> 15</td><td> 1</td><td>175</td><td>N</td></tr>\n",
              "\t<tr><th scope=row>-Jerry Hairston</th><td>225</td><td> 61</td><td>5</td><td>32</td><td>26</td><td>26</td><td>11</td><td>1568</td><td> 408</td><td> 25</td><td>202</td><td>185</td><td>257</td><td>A</td><td>W</td><td>132</td><td>  9</td><td> 0</td><td> NA</td><td>A</td></tr>\n",
              "\t<tr><th scope=row>-Jerry Mumphrey</th><td>309</td><td> 94</td><td>5</td><td>37</td><td>32</td><td>26</td><td>13</td><td>4618</td><td>1330</td><td> 57</td><td>616</td><td>522</td><td>436</td><td>N</td><td>E</td><td>161</td><td>  3</td><td> 3</td><td>600</td><td>N</td></tr>\n",
              "\t<tr><th scope=row>-Jerry Royster</th><td>257</td><td> 66</td><td>5</td><td>31</td><td>26</td><td>32</td><td>14</td><td>3910</td><td> 979</td><td> 33</td><td>518</td><td>324</td><td>382</td><td>N</td><td>W</td><td> 87</td><td>166</td><td>14</td><td>250</td><td>A</td></tr>\n",
              "\t<tr><th scope=row>-Joel Skinner</th><td>315</td><td> 73</td><td>5</td><td>23</td><td>37</td><td>16</td><td> 4</td><td> 450</td><td> 108</td><td>  6</td><td> 38</td><td> 46</td><td> 28</td><td>A</td><td>W</td><td>227</td><td> 15</td><td> 3</td><td>110</td><td>A</td></tr>\n",
              "\t<tr><th scope=row>-Joel Youngblood</th><td>184</td><td> 47</td><td>5</td><td>20</td><td>28</td><td>18</td><td>11</td><td>3327</td><td> 890</td><td> 74</td><td>419</td><td>382</td><td>304</td><td>N</td><td>W</td><td> 49</td><td>  2</td><td> 0</td><td>450</td><td>N</td></tr>\n",
              "\t<tr><th scope=row>-Ken Oberkfell</th><td>503</td><td>136</td><td>5</td><td>62</td><td>48</td><td>83</td><td>10</td><td>3423</td><td> 970</td><td> 20</td><td>408</td><td>303</td><td>414</td><td>N</td><td>W</td><td> 65</td><td>258</td><td> 8</td><td>725</td><td>N</td></tr>\n",
              "\t<tr><th scope=row>-Mike Scioscia</th><td>374</td><td> 94</td><td>5</td><td>36</td><td>26</td><td>62</td><td> 7</td><td>1968</td><td> 519</td><td> 26</td><td>181</td><td>199</td><td>288</td><td>N</td><td>W</td><td>756</td><td> 64</td><td>15</td><td>875</td><td>N</td></tr>\n",
              "\t<tr><th scope=row>-Rick Burleson</th><td>271</td><td> 77</td><td>5</td><td>35</td><td>29</td><td>33</td><td>12</td><td>4933</td><td>1358</td><td> 48</td><td>630</td><td>435</td><td>403</td><td>A</td><td>W</td><td> 62</td><td> 90</td><td> 3</td><td>450</td><td>A</td></tr>\n",
              "\t<tr><th scope=row>-Rick Leach</th><td>246</td><td> 76</td><td>5</td><td>35</td><td>39</td><td>13</td><td> 6</td><td> 912</td><td> 234</td><td> 12</td><td>102</td><td> 96</td><td> 80</td><td>A</td><td>E</td><td> 44</td><td>  0</td><td> 1</td><td>250</td><td>A</td></tr>\n",
              "\t<tr><th scope=row>-Ron Roenicke</th><td>275</td><td> 68</td><td>5</td><td>42</td><td>42</td><td>61</td><td> 6</td><td> 961</td><td> 238</td><td> 16</td><td>128</td><td>104</td><td>172</td><td>N</td><td>E</td><td>181</td><td>  3</td><td> 2</td><td>191</td><td>N</td></tr>\n",
              "\t<tr><th scope=row>-Scott Bradley</th><td>220</td><td> 66</td><td>5</td><td>20</td><td>28</td><td>13</td><td> 3</td><td> 290</td><td>  80</td><td>  5</td><td> 27</td><td> 31</td><td> 15</td><td>A</td><td>W</td><td>281</td><td> 21</td><td> 3</td><td> 90</td><td>A</td></tr>\n",
              "\t<tr><th scope=row>-Tony Phillips</th><td>441</td><td>113</td><td>5</td><td>76</td><td>52</td><td>76</td><td> 5</td><td>1546</td><td> 397</td><td> 17</td><td>226</td><td>149</td><td>191</td><td>A</td><td>W</td><td>160</td><td>290</td><td>11</td><td>425</td><td>A</td></tr>\n",
              "\t<tr><th scope=row>-Vance Law</th><td>360</td><td> 81</td><td>5</td><td>37</td><td>44</td><td>37</td><td> 7</td><td>2268</td><td> 566</td><td> 41</td><td>279</td><td>257</td><td>246</td><td>N</td><td>E</td><td>170</td><td>284</td><td> 3</td><td>525</td><td>N</td></tr>\n",
              "\t<tr><th scope=row>-Willie Randolph</th><td>492</td><td>136</td><td>5</td><td>76</td><td>50</td><td>94</td><td>12</td><td>5511</td><td>1511</td><td> 39</td><td>897</td><td>451</td><td>875</td><td>A</td><td>E</td><td>313</td><td>381</td><td>20</td><td>875</td><td>A</td></tr>\n",
              "</tbody>\n",
              "</table>\n"
            ]
          },
          "metadata": {
            "tags": []
          }
        }
      ]
    },
    {
      "cell_type": "markdown",
      "metadata": {
        "id": "A3txqx3dFHTO"
      },
      "source": [
        "Another useful command is 'table', which let's you tabulate categorical data. Tables can be made on either one variable or for the combination of two variables."
      ]
    },
    {
      "cell_type": "code",
      "metadata": {
        "id": "8txwsKgXFHTO",
        "outputId": "a83ed831-61ae-48b0-b3be-a74c38f10395",
        "colab": {
          "base_uri": "https://localhost:8080/",
          "height": 68
        }
      },
      "source": [
        "table(df$League)"
      ],
      "execution_count": 35,
      "outputs": [
        {
          "output_type": "display_data",
          "data": {
            "text/plain": [
              "\n",
              "  A   N \n",
              "175 147 "
            ]
          },
          "metadata": {
            "tags": []
          }
        }
      ]
    },
    {
      "cell_type": "code",
      "metadata": {
        "id": "5WpthI-vFHTP",
        "outputId": "7ffcfc43-8228-4414-886c-d2be19442b07",
        "colab": {
          "base_uri": "https://localhost:8080/",
          "height": 85
        }
      },
      "source": [
        "table(df$League, df$Division)"
      ],
      "execution_count": 36,
      "outputs": [
        {
          "output_type": "display_data",
          "data": {
            "text/plain": [
              "   \n",
              "     E  W\n",
              "  A 85 90\n",
              "  N 72 75"
            ]
          },
          "metadata": {
            "tags": []
          }
        }
      ]
    },
    {
      "cell_type": "markdown",
      "metadata": {
        "id": "hzyXxL-CgMKD"
      },
      "source": [
        "Another important aspect to consider when working with your data is what type of data you are working with. A type can be something like a 'data.frame', an 'array' or a 'matrix' when referring to a dataset with multiple columns, or 'integer', 'numeric', 'factor', 'character', 'logical' or 'date' when referring to one specific variable. There are many more different classes that you will eventually encounter. Being aware of the classes in your data is crucial, for the simple reason that most of the coding errors you will encounter, are related to your data not having the class that is needed for performing a certain action. When running into a coding error (and you very often will) and you are not exactly sure what the problem is (and you very often aren't), one of the first things to do is to check the classes of the variables or datasets you wanted to use in your coding, and possibly converting them into the correct class. "
      ]
    },
    {
      "cell_type": "code",
      "metadata": {
        "id": "fmfxvMAsFHTR",
        "outputId": "13ffa1e1-2860-418a-88b1-76dd0f9edd69",
        "colab": {
          "base_uri": "https://localhost:8080/",
          "height": 85
        }
      },
      "source": [
        "class(df)\n",
        "class(df$AtBat)\n",
        "class(df$Salary)\n",
        "class(df$League)"
      ],
      "execution_count": 37,
      "outputs": [
        {
          "output_type": "display_data",
          "data": {
            "text/plain": [
              "[1] \"data.frame\""
            ],
            "text/latex": "'data.frame'",
            "text/markdown": "'data.frame'",
            "text/html": [
              "'data.frame'"
            ]
          },
          "metadata": {
            "tags": []
          }
        },
        {
          "output_type": "display_data",
          "data": {
            "text/plain": [
              "[1] \"integer\""
            ],
            "text/latex": "'integer'",
            "text/markdown": "'integer'",
            "text/html": [
              "'integer'"
            ]
          },
          "metadata": {
            "tags": []
          }
        },
        {
          "output_type": "display_data",
          "data": {
            "text/plain": [
              "[1] \"numeric\""
            ],
            "text/latex": "'numeric'",
            "text/markdown": "'numeric'",
            "text/html": [
              "'numeric'"
            ]
          },
          "metadata": {
            "tags": []
          }
        },
        {
          "output_type": "display_data",
          "data": {
            "text/plain": [
              "[1] \"factor\""
            ],
            "text/latex": "'factor'",
            "text/markdown": "'factor'",
            "text/html": [
              "'factor'"
            ]
          },
          "metadata": {
            "tags": []
          }
        }
      ]
    },
    {
      "cell_type": "code",
      "metadata": {
        "id": "DF0Nx7JFFHTS",
        "outputId": "30a1e806-1aaf-4c5c-c6a3-dd2c1ecd09e0",
        "colab": {
          "base_uri": "https://localhost:8080/",
          "height": 34
        }
      },
      "source": [
        "df$AtBat <- as.numeric(df$AtBat)\n",
        "class(df$AtBat)"
      ],
      "execution_count": 38,
      "outputs": [
        {
          "output_type": "display_data",
          "data": {
            "text/plain": [
              "[1] \"numeric\""
            ],
            "text/latex": "'numeric'",
            "text/markdown": "'numeric'",
            "text/html": [
              "'numeric'"
            ]
          },
          "metadata": {
            "tags": []
          }
        }
      ]
    },
    {
      "cell_type": "markdown",
      "metadata": {
        "id": "StsOd4jgjFkv"
      },
      "source": [
        "So far we have only considered (quantitative) descriptives as a way of getting to know the data. Next to such descriptives, visualizations play an important role in describing and getting to know your data. Below we show some basic plots, visualizing either one or a combination of two variables. Once you get to the point of making more complex visualizations, or more visually appealing visualizations, you are likely to start working with the R-package 'ggplot2'"
      ]
    },
    {
      "cell_type": "code",
      "metadata": {
        "id": "b4FCcNwtFHTU",
        "outputId": "5f19023c-44e7-47a9-b606-3102fe00b6e7",
        "colab": {
          "base_uri": "https://localhost:8080/",
          "height": 1000
        }
      },
      "source": [
        "hist(df$Salary)\n",
        "hist(df$HmRun)\n",
        "plot(df$League)"
      ],
      "execution_count": 39,
      "outputs": [
        {
          "output_type": "display_data",
          "data": {
            "image/png": "[encoded data removed]",
            "text/plain": [
              "Plot with title “Histogram of df$Salary”"
            ]
          },
          "metadata": {
            "tags": [],
            "image/png": {
              "width": 420,
              "height": 420
            }
          }
        },
        {
          "output_type": "display_data",
          "data": {
            "image/png": "[encoded data removed]",
            "text/plain": [
              "Plot with title “Histogram of df$HmRun”"
            ]
          },
          "metadata": {
            "tags": [],
            "image/png": {
              "width": 420,
              "height": 420
            }
          }
        },
        {
          "output_type": "display_data",
          "data": {
            "image/png": "[encoded data removed]",
            "text/plain": [
              "plot without title"
            ]
          },
          "metadata": {
            "tags": [],
            "image/png": {
              "width": 420,
              "height": 420
            }
          }
        }
      ]
    },
    {
      "cell_type": "code",
      "metadata": {
        "id": "wdqKDFdQFHTV",
        "outputId": "8c925262-bb22-4d95-8b40-f8673839d6b3",
        "colab": {
          "base_uri": "https://localhost:8080/",
          "height": 857
        }
      },
      "source": [
        "plot(df$League, df$Salary)\n",
        "plot(df$HmRun, df$Salary)"
      ],
      "execution_count": 40,
      "outputs": [
        {
          "output_type": "display_data",
          "data": {
            "image/png": "[encoded data removed]",
            "text/plain": [
              "plot without title"
            ]
          },
          "metadata": {
            "tags": [],
            "image/png": {
              "width": 420,
              "height": 420
            }
          }
        },
        {
          "output_type": "display_data",
          "data": {
            "image/png": "[encoded data removed]",
            "text/plain": [
              "plot without title"
            ]
          },
          "metadata": {
            "tags": [],
            "image/png": {
              "width": 420,
              "height": 420
            }
          }
        }
      ]
    },
    {
      "cell_type": "markdown",
      "metadata": {
        "id": "htxay2DqmDnH"
      },
      "source": [
        "The next topic is about indexing. There are many different ways to either select a subset of your data or (related to that) replace a specific subset of your data. Make yourself familiar with these commands, as you will be using those a lot."
      ]
    },
    {
      "cell_type": "code",
      "metadata": {
        "id": "kW5RXUxMFHTX",
        "outputId": "bf9d1915-d38d-45f4-8605-cd903eab28f4",
        "colab": {
          "base_uri": "https://localhost:8080/",
          "height": 280
        }
      },
      "source": [
        "# indexing\n",
        "df[1:8,\"Salary\"]\n",
        "df[1:8,2]\n",
        "df[1:8,c(2,5)]\n"
      ],
      "execution_count": 41,
      "outputs": [
        {
          "output_type": "display_data",
          "data": {
            "text/plain": [
              "[1]    NA 475.0 480.0 500.0  91.5 750.0  70.0 100.0"
            ],
            "text/latex": "\\begin{enumerate*}\n\\item <NA>\n\\item 475\n\\item 480\n\\item 500\n\\item 91.5\n\\item 750\n\\item 70\n\\item 100\n\\end{enumerate*}\n",
            "text/markdown": "1. &lt;NA&gt;\n2. 475\n3. 480\n4. 500\n5. 91.5\n6. 750\n7. 70\n8. 100\n\n\n",
            "text/html": [
              "<style>\n",
              ".list-inline {list-style: none; margin:0; padding: 0}\n",
              ".list-inline>li {display: inline-block}\n",
              ".list-inline>li:not(:last-child)::after {content: \"\\00b7\"; padding: 0 .5ex}\n",
              "</style>\n",
              "<ol class=list-inline><li>&lt;NA&gt;</li><li>475</li><li>480</li><li>500</li><li>91.5</li><li>750</li><li>70</li><li>100</li></ol>\n"
            ]
          },
          "metadata": {
            "tags": []
          }
        },
        {
          "output_type": "display_data",
          "data": {
            "text/plain": [
              "[1]  66  81 130 141  87 169  37  73"
            ],
            "text/latex": "\\begin{enumerate*}\n\\item 66\n\\item 81\n\\item 130\n\\item 141\n\\item 87\n\\item 169\n\\item 37\n\\item 73\n\\end{enumerate*}\n",
            "text/markdown": "1. 66\n2. 81\n3. 130\n4. 141\n5. 87\n6. 169\n7. 37\n8. 73\n\n\n",
            "text/html": [
              "<style>\n",
              ".list-inline {list-style: none; margin:0; padding: 0}\n",
              ".list-inline>li {display: inline-block}\n",
              ".list-inline>li:not(:last-child)::after {content: \"\\00b7\"; padding: 0 .5ex}\n",
              "</style>\n",
              "<ol class=list-inline><li>66</li><li>81</li><li>130</li><li>141</li><li>87</li><li>169</li><li>37</li><li>73</li></ol>\n"
            ]
          },
          "metadata": {
            "tags": []
          }
        },
        {
          "output_type": "display_data",
          "data": {
            "text/plain": [
              "                  Hits RBI\n",
              "-Andy Allanson     66  29 \n",
              "-Alan Ashby        81  38 \n",
              "-Alvin Davis      130  72 \n",
              "-Andre Dawson     141  78 \n",
              "-Andres Galarraga  87  42 \n",
              "-Alfredo Griffin  169  51 \n",
              "-Al Newman         37   8 \n",
              "-Argenis Salazar   73  24 "
            ],
            "text/latex": "A data.frame: 8 × 2\n\\begin{tabular}{r|ll}\n  & Hits & RBI\\\\\n  & <int> & <int>\\\\\n\\hline\n\t-Andy Allanson &  66 & 29\\\\\n\t-Alan Ashby &  81 & 38\\\\\n\t-Alvin Davis & 130 & 72\\\\\n\t-Andre Dawson & 141 & 78\\\\\n\t-Andres Galarraga &  87 & 42\\\\\n\t-Alfredo Griffin & 169 & 51\\\\\n\t-Al Newman &  37 &  8\\\\\n\t-Argenis Salazar &  73 & 24\\\\\n\\end{tabular}\n",
            "text/markdown": "\nA data.frame: 8 × 2\n\n| <!--/--> | Hits &lt;int&gt; | RBI &lt;int&gt; |\n|---|---|---|\n| -Andy Allanson |  66 | 29 |\n| -Alan Ashby |  81 | 38 |\n| -Alvin Davis | 130 | 72 |\n| -Andre Dawson | 141 | 78 |\n| -Andres Galarraga |  87 | 42 |\n| -Alfredo Griffin | 169 | 51 |\n| -Al Newman |  37 |  8 |\n| -Argenis Salazar |  73 | 24 |\n\n",
            "text/html": [
              "<table>\n",
              "<caption>A data.frame: 8 × 2</caption>\n",
              "<thead>\n",
              "\t<tr><th></th><th scope=col>Hits</th><th scope=col>RBI</th></tr>\n",
              "\t<tr><th></th><th scope=col>&lt;int&gt;</th><th scope=col>&lt;int&gt;</th></tr>\n",
              "</thead>\n",
              "<tbody>\n",
              "\t<tr><th scope=row>-Andy Allanson</th><td> 66</td><td>29</td></tr>\n",
              "\t<tr><th scope=row>-Alan Ashby</th><td> 81</td><td>38</td></tr>\n",
              "\t<tr><th scope=row>-Alvin Davis</th><td>130</td><td>72</td></tr>\n",
              "\t<tr><th scope=row>-Andre Dawson</th><td>141</td><td>78</td></tr>\n",
              "\t<tr><th scope=row>-Andres Galarraga</th><td> 87</td><td>42</td></tr>\n",
              "\t<tr><th scope=row>-Alfredo Griffin</th><td>169</td><td>51</td></tr>\n",
              "\t<tr><th scope=row>-Al Newman</th><td> 37</td><td> 8</td></tr>\n",
              "\t<tr><th scope=row>-Argenis Salazar</th><td> 73</td><td>24</td></tr>\n",
              "</tbody>\n",
              "</table>\n"
            ]
          },
          "metadata": {
            "tags": []
          }
        }
      ]
    },
    {
      "cell_type": "code",
      "metadata": {
        "id": "CamVaq6amstq",
        "outputId": "2b1f22fd-8cae-4700-f515-f1631c974953",
        "colab": {
          "base_uri": "https://localhost:8080/",
          "height": 1000
        }
      },
      "source": [
        "df[is.na(df$Salary),]\n",
        "df[is.na(df$Salary) & df$League==\"A\",]\n",
        "df[is.na(df$Salary) & df$League==\"A\" & df$CWalks>400,]"
      ],
      "execution_count": 42,
      "outputs": [
        {
          "output_type": "display_data",
          "data": {
            "text/plain": [
              "                  AtBat Hits HmRun Runs RBI Walks Years CAtBat CHits CHmRun\n",
              "-Andy Allanson    293    66   1    30   29  14     1     293     66    1   \n",
              "-Billy Beane      183    39   3    20   15  11     3     201     42    3   \n",
              "-Bruce Bochte     407   104   6    57   43  65    12    5233   1478  100   \n",
              "-Bob Boone         22    10   1     4    2   1     6      84     26    2   \n",
              "-Bobby Grich      313    84   9    42   30  39    17    6890   1833  224   \n",
              "-Bob Horner       517   141  27    70   87  52     9    3571    994  215   \n",
              "-Bobby Meacham    161    36   0    19   10  17     4    1053    244    3   \n",
              "-Ben Oglivie      346    98   5    31   53  30    16    5913   1615  235   \n",
              "-Bip Roberts      241    61   1    34   12  14     1     241     61    1   \n",
              "-Bill Russell     216    54   0    21   18  15    18    7318   1926   46   \n",
              "-Billy Sample     200    57   6    23   14  14     9    2516    684   46   \n",
              "-Butch Wynegar    194    40   7    19   29  30    11    4183   1069   64   \n",
              "-Cecil Cooper     542   140  12    46   75  41    16    7099   2130  235   \n",
              "-Cliff Johnson     19     7   0     1    2   1     4      41     13    1   \n",
              "-Charlie Moore    235    61   3    24   39  21    14    3926   1029   35   \n",
              "-Doug Baker        24     3   0     1    0   2     3     159     28    0   \n",
              "-Dann Bilardello  191    37   4    12   17  14     4     773    163   16   \n",
              "-Dave Collins     419   113   1    44   27  44    12    4484   1231   32   \n",
              "-Darren Daulton   138    31   8    18   21  38     3     244     53   12   \n",
              "-Danny Heep       195    55   5    24   33  30     8    1313    338   25   \n",
              "-Dave Kingman     561   118  35    70   94  33    16    6677   1575  442   \n",
              "-Darryl Motley    227    46   7    23   20  12     5    1325    324   44   \n",
              "-Dickie Thon      278    69   3    24   21  29     8    2079    565   32   \n",
              "-Enos Cabell      277    71   2    27   29  14    15    5952   1647   60   \n",
              "-Ernest Riles     524   132   9    69   47  54     2     972    260   14   \n",
              "-Ernie Whitt      395   106  16    48   56  35    10    2303    571   86   \n",
              "-Fred Lynn        397   114  23    67   67  53    13    5589   1632  241   \n",
              "-Floyd Rayford    210    37   8    15   19  15     6     994    244   36   \n",
              "-Franklin Stubbs  420    95  23    55   58  37     3     646    139   31   \n",
              "-George Foster    284    64  14    30   42  24    18    7023   1925  348   \n",
              "-Gorman Thomas    315    59  16    45   36  58    13    4677   1051  268   \n",
              "-Juan Bonilla     284    69   1    33   18  25     5    1407    361    6   \n",
              "-Julio Cruz       209    45   0    38   19  42    10    3859    916   23   \n",
              "-Jerry Hairston   225    61   5    32   26  26    11    1568    408   25   \n",
              "-Joe Orsulak      401   100   2    60   19  28     4     876    238    2   \n",
              "-Jorge Orta       336    93   9    35   46  23    15    5779   1610  128   \n",
              "-Jamie Quirk      219    47   8    24   26  17    12    1188    286   23   \n",
              "-Jeff Stone       249    69   6    32   19  20     4     702    209   10   \n",
              "-Jim Traber       212    54  13    28   44  18     2     233     59   13   \n",
              "-Jerry Willard    161    43   4    17   26  22     3     707    179   21   \n",
              "-Luis Rivera      166    34   0    20   13  17     1     166     34    0   \n",
              "-Lonnie Smith     508   146   8    80   44  46     9    3148    915   41   \n",
              "-Mike Brown       243    53   4    18   26  27     4     853    228   23   \n",
              "-Mike Fitzgerald  209    59   6    20   37  27     4     884    209   14   \n",
              "-Mickey Hatcher   317    88   3    40   32  19     8    2543    715   28   \n",
              "-Nick Esasky      330    76  12    35   41  47     4    1367    326   55   \n",
              "-Omar Moreno      359    84   4    46   27  21    12    4992   1257   37   \n",
              "-Pete O'Brien     551   160  23    86   90  87     5    2235    602   75   \n",
              "-Rich Gedman      462   119  16    49   65  37     7    2131    583   69   \n",
              "-Ricky Jones       33     6   0     2    4   7     1      33      6    0   \n",
              "-Randy Kutcher    186    44   7    28   16  11     1     186     44    7   \n",
              "-Rudy Law         307    80   1    42   36  29     7    2421    656   18   \n",
              "-Reggie Williams  303    84   4    35   32  23     2     312     87    4   \n",
              "-Tony Armas        16     2   0     1    0   0     2      28      4    0   \n",
              "-Toby Harrah      289    63   7    36   41  44    17    7402   1954  195   \n",
              "-Tom O'Malley     181    46   1    19   18  17     5     937    238    9   \n",
              "-Tony Perez       200    51   2    14   29  25    23    9778   2732  379   \n",
              "-Tim Raines       580   194   9    91   62  78     8    3372   1028   48   \n",
              "-Wayne Krenchicki 221    53   2    21   23  22     8    1063    283   15   \n",
              "                  CRuns CRBI CWalks League Division PutOuts Assists Errors\n",
              "-Andy Allanson      30    29   14   A      E         446     33     20    \n",
              "-Billy Beane        20    16   11   A      W         118      0      0    \n",
              "-Bruce Bochte      643   658  653   A      W         912     88      9    \n",
              "-Bob Boone           9     9    3   A      W         812     84     11    \n",
              "-Bobby Grich      1033   864 1087   A      W         127    221      7    \n",
              "-Bob Horner        545   652  337   N      W        1378    102      8    \n",
              "-Bobby Meacham     156    86  107   A      E          70    149     12    \n",
              "-Ben Oglivie       784   901  560   A      E           0      0      0    \n",
              "-Bip Roberts        34    12   14   N      W         166    172     10    \n",
              "-Bill Russell      796   627  483   N      W         103     84      5    \n",
              "-Billy Sample      371   230  195   N      W          69      1      1    \n",
              "-Butch Wynegar     486   493  608   A      E         325     22      2    \n",
              "-Cecil Cooper      987  1089  431   A      E         697     61      9    \n",
              "-Cliff Johnson       3     4    4   A      E           0      0      0    \n",
              "-Charlie Moore     441   401  333   A      E         425     43      4    \n",
              "-Doug Baker         20    12    9   A      W          80      4      0    \n",
              "-Dann Bilardello    61    74   52   N      E         391     38      8    \n",
              "-Dave Collins      612   344  422   A      E         211      2      1    \n",
              "-Darren Daulton     33    32   55   N      E         244     21      4    \n",
              "-Danny Heep        144   149  153   N      E          83      2      1    \n",
              "-Dave Kingman      901  1210  608   A      W         463     32      8    \n",
              "-Darryl Motley     156   158   67   A      W          92      2      2    \n",
              "-Dickie Thon       258   192  162   N      W         142    210     10    \n",
              "-Enos Cabell       753   596  259   N      W         360     32      5    \n",
              "-Ernest Riles      123    92   90   A      E         212    327     20    \n",
              "-Ernie Whitt       266   323  248   A      E         709     41      7    \n",
              "-Fred Lynn         906   926  716   A      E         244      2      4    \n",
              "-Floyd Rayford     107   114   53   A      E          40    115     15    \n",
              "-Franklin Stubbs    77    77   61   N      W         206     10      7    \n",
              "-George Foster     986  1239  666   N      E          96      4      4    \n",
              "-Gorman Thomas     681   782  697   A      W           0      0      0    \n",
              "-Juan Bonilla      139    98  111   A      E         122    140      5    \n",
              "-Julio Cruz        557   279  478   A      W         132    205      5    \n",
              "-Jerry Hairston    202   185  257   A      W         132      9      0    \n",
              "-Joe Orsulak       126    44   55   N      E         193     11      4    \n",
              "-Jorge Orta        730   741  497   A      W           0      0      0    \n",
              "-Jamie Quirk       100   125   63   A      W         260     58      4    \n",
              "-Jeff Stone         97    48   44   N      E         103      8      2    \n",
              "-Jim Traber         31    46   20   A      E         243     23      5    \n",
              "-Jerry Willard      77    99   76   A      W         300     12      2    \n",
              "-Luis Rivera        20    13   17   N      E          64    119      9    \n",
              "-Lonnie Smith      571   289  326   A      W         245      5      9    \n",
              "-Mike Brown        101   110   76   N      E         107      3      3    \n",
              "-Mike Fitzgerald    66   106   92   N      E         415     35      3    \n",
              "-Mickey Hatcher    269   270  118   A      W         220     16      4    \n",
              "-Nick Esasky       167   198  167   N      W         512     30      5    \n",
              "-Omar Moreno       699   386  387   N      W         151      8      5    \n",
              "-Pete O'Brien      278   328  273   A      W        1224    115     11    \n",
              "-Rich Gedman       244   288  150   A      E         866     65      6    \n",
              "-Ricky Jones         2     4    7   A      W         205      5      4    \n",
              "-Randy Kutcher      28    16   11   N      W          99      3      1    \n",
              "-Rudy Law          379   198  184   A      W         145      2      2    \n",
              "-Reggie Williams    39    32   23   N      W         179      5      3    \n",
              "-Tony Armas          1     0    0   A      E         247      4      8    \n",
              "-Toby Harrah      1115   919 1153   A      W         166    211      7    \n",
              "-Tom O'Malley       88    95  104   A      E          37     98      9    \n",
              "-Tony Perez       1272  1652  925   N      W         398     29      7    \n",
              "-Tim Raines        604   314  469   N      E         270     13      6    \n",
              "-Wayne Krenchicki  107   124  106   N      E         325     58      6    \n",
              "                  Salary NewLeague\n",
              "-Andy Allanson    NA     A        \n",
              "-Billy Beane      NA     A        \n",
              "-Bruce Bochte     NA     A        \n",
              "-Bob Boone        NA     A        \n",
              "-Bobby Grich      NA     A        \n",
              "-Bob Horner       NA     N        \n",
              "-Bobby Meacham    NA     A        \n",
              "-Ben Oglivie      NA     A        \n",
              "-Bip Roberts      NA     N        \n",
              "-Bill Russell     NA     N        \n",
              "-Billy Sample     NA     N        \n",
              "-Butch Wynegar    NA     A        \n",
              "-Cecil Cooper     NA     A        \n",
              "-Cliff Johnson    NA     A        \n",
              "-Charlie Moore    NA     A        \n",
              "-Doug Baker       NA     A        \n",
              "-Dann Bilardello  NA     N        \n",
              "-Dave Collins     NA     A        \n",
              "-Darren Daulton   NA     N        \n",
              "-Danny Heep       NA     N        \n",
              "-Dave Kingman     NA     A        \n",
              "-Darryl Motley    NA     A        \n",
              "-Dickie Thon      NA     N        \n",
              "-Enos Cabell      NA     N        \n",
              "-Ernest Riles     NA     A        \n",
              "-Ernie Whitt      NA     A        \n",
              "-Fred Lynn        NA     A        \n",
              "-Floyd Rayford    NA     A        \n",
              "-Franklin Stubbs  NA     N        \n",
              "-George Foster    NA     N        \n",
              "-Gorman Thomas    NA     A        \n",
              "-Juan Bonilla     NA     N        \n",
              "-Julio Cruz       NA     A        \n",
              "-Jerry Hairston   NA     A        \n",
              "-Joe Orsulak      NA     N        \n",
              "-Jorge Orta       NA     A        \n",
              "-Jamie Quirk      NA     A        \n",
              "-Jeff Stone       NA     N        \n",
              "-Jim Traber       NA     A        \n",
              "-Jerry Willard    NA     A        \n",
              "-Luis Rivera      NA     N        \n",
              "-Lonnie Smith     NA     A        \n",
              "-Mike Brown       NA     N        \n",
              "-Mike Fitzgerald  NA     N        \n",
              "-Mickey Hatcher   NA     A        \n",
              "-Nick Esasky      NA     N        \n",
              "-Omar Moreno      NA     N        \n",
              "-Pete O'Brien     NA     A        \n",
              "-Rich Gedman      NA     A        \n",
              "-Ricky Jones      NA     A        \n",
              "-Randy Kutcher    NA     N        \n",
              "-Rudy Law         NA     A        \n",
              "-Reggie Williams  NA     N        \n",
              "-Tony Armas       NA     A        \n",
              "-Toby Harrah      NA     A        \n",
              "-Tom O'Malley     NA     A        \n",
              "-Tony Perez       NA     N        \n",
              "-Tim Raines       NA     N        \n",
              "-Wayne Krenchicki NA     N        "
            ],
            "text/latex": "A data.frame: 59 × 20\n\\begin{tabular}{r|llllllllllllllllllll}\n  & AtBat & Hits & HmRun & Runs & RBI & Walks & Years & CAtBat & CHits & CHmRun & CRuns & CRBI & CWalks & League & Division & PutOuts & Assists & Errors & Salary & NewLeague\\\\\n  & <dbl> & <int> & <int> & <int> & <int> & <int> & <int> & <int> & <int> & <int> & <int> & <int> & <int> & <fct> & <fct> & <int> & <int> & <int> & <dbl> & <fct>\\\\\n\\hline\n\t-Andy Allanson & 293 &  66 &  1 & 30 & 29 & 14 &  1 &  293 &   66 &   1 &   30 &   29 &   14 & A & E &  446 &  33 & 20 & NA & A\\\\\n\t-Billy Beane & 183 &  39 &  3 & 20 & 15 & 11 &  3 &  201 &   42 &   3 &   20 &   16 &   11 & A & W &  118 &   0 &  0 & NA & A\\\\\n\t-Bruce Bochte & 407 & 104 &  6 & 57 & 43 & 65 & 12 & 5233 & 1478 & 100 &  643 &  658 &  653 & A & W &  912 &  88 &  9 & NA & A\\\\\n\t-Bob Boone &  22 &  10 &  1 &  4 &  2 &  1 &  6 &   84 &   26 &   2 &    9 &    9 &    3 & A & W &  812 &  84 & 11 & NA & A\\\\\n\t-Bobby Grich & 313 &  84 &  9 & 42 & 30 & 39 & 17 & 6890 & 1833 & 224 & 1033 &  864 & 1087 & A & W &  127 & 221 &  7 & NA & A\\\\\n\t-Bob Horner & 517 & 141 & 27 & 70 & 87 & 52 &  9 & 3571 &  994 & 215 &  545 &  652 &  337 & N & W & 1378 & 102 &  8 & NA & N\\\\\n\t-Bobby Meacham & 161 &  36 &  0 & 19 & 10 & 17 &  4 & 1053 &  244 &   3 &  156 &   86 &  107 & A & E &   70 & 149 & 12 & NA & A\\\\\n\t-Ben Oglivie & 346 &  98 &  5 & 31 & 53 & 30 & 16 & 5913 & 1615 & 235 &  784 &  901 &  560 & A & E &    0 &   0 &  0 & NA & A\\\\\n\t-Bip Roberts & 241 &  61 &  1 & 34 & 12 & 14 &  1 &  241 &   61 &   1 &   34 &   12 &   14 & N & W &  166 & 172 & 10 & NA & N\\\\\n\t-Bill Russell & 216 &  54 &  0 & 21 & 18 & 15 & 18 & 7318 & 1926 &  46 &  796 &  627 &  483 & N & W &  103 &  84 &  5 & NA & N\\\\\n\t-Billy Sample & 200 &  57 &  6 & 23 & 14 & 14 &  9 & 2516 &  684 &  46 &  371 &  230 &  195 & N & W &   69 &   1 &  1 & NA & N\\\\\n\t-Butch Wynegar & 194 &  40 &  7 & 19 & 29 & 30 & 11 & 4183 & 1069 &  64 &  486 &  493 &  608 & A & E &  325 &  22 &  2 & NA & A\\\\\n\t-Cecil Cooper & 542 & 140 & 12 & 46 & 75 & 41 & 16 & 7099 & 2130 & 235 &  987 & 1089 &  431 & A & E &  697 &  61 &  9 & NA & A\\\\\n\t-Cliff Johnson &  19 &   7 &  0 &  1 &  2 &  1 &  4 &   41 &   13 &   1 &    3 &    4 &    4 & A & E &    0 &   0 &  0 & NA & A\\\\\n\t-Charlie Moore & 235 &  61 &  3 & 24 & 39 & 21 & 14 & 3926 & 1029 &  35 &  441 &  401 &  333 & A & E &  425 &  43 &  4 & NA & A\\\\\n\t-Doug Baker &  24 &   3 &  0 &  1 &  0 &  2 &  3 &  159 &   28 &   0 &   20 &   12 &    9 & A & W &   80 &   4 &  0 & NA & A\\\\\n\t-Dann Bilardello & 191 &  37 &  4 & 12 & 17 & 14 &  4 &  773 &  163 &  16 &   61 &   74 &   52 & N & E &  391 &  38 &  8 & NA & N\\\\\n\t-Dave Collins & 419 & 113 &  1 & 44 & 27 & 44 & 12 & 4484 & 1231 &  32 &  612 &  344 &  422 & A & E &  211 &   2 &  1 & NA & A\\\\\n\t-Darren Daulton & 138 &  31 &  8 & 18 & 21 & 38 &  3 &  244 &   53 &  12 &   33 &   32 &   55 & N & E &  244 &  21 &  4 & NA & N\\\\\n\t-Danny Heep & 195 &  55 &  5 & 24 & 33 & 30 &  8 & 1313 &  338 &  25 &  144 &  149 &  153 & N & E &   83 &   2 &  1 & NA & N\\\\\n\t-Dave Kingman & 561 & 118 & 35 & 70 & 94 & 33 & 16 & 6677 & 1575 & 442 &  901 & 1210 &  608 & A & W &  463 &  32 &  8 & NA & A\\\\\n\t-Darryl Motley & 227 &  46 &  7 & 23 & 20 & 12 &  5 & 1325 &  324 &  44 &  156 &  158 &   67 & A & W &   92 &   2 &  2 & NA & A\\\\\n\t-Dickie Thon & 278 &  69 &  3 & 24 & 21 & 29 &  8 & 2079 &  565 &  32 &  258 &  192 &  162 & N & W &  142 & 210 & 10 & NA & N\\\\\n\t-Enos Cabell & 277 &  71 &  2 & 27 & 29 & 14 & 15 & 5952 & 1647 &  60 &  753 &  596 &  259 & N & W &  360 &  32 &  5 & NA & N\\\\\n\t-Ernest Riles & 524 & 132 &  9 & 69 & 47 & 54 &  2 &  972 &  260 &  14 &  123 &   92 &   90 & A & E &  212 & 327 & 20 & NA & A\\\\\n\t-Ernie Whitt & 395 & 106 & 16 & 48 & 56 & 35 & 10 & 2303 &  571 &  86 &  266 &  323 &  248 & A & E &  709 &  41 &  7 & NA & A\\\\\n\t-Fred Lynn & 397 & 114 & 23 & 67 & 67 & 53 & 13 & 5589 & 1632 & 241 &  906 &  926 &  716 & A & E &  244 &   2 &  4 & NA & A\\\\\n\t-Floyd Rayford & 210 &  37 &  8 & 15 & 19 & 15 &  6 &  994 &  244 &  36 &  107 &  114 &   53 & A & E &   40 & 115 & 15 & NA & A\\\\\n\t-Franklin Stubbs & 420 &  95 & 23 & 55 & 58 & 37 &  3 &  646 &  139 &  31 &   77 &   77 &   61 & N & W &  206 &  10 &  7 & NA & N\\\\\n\t-George Foster & 284 &  64 & 14 & 30 & 42 & 24 & 18 & 7023 & 1925 & 348 &  986 & 1239 &  666 & N & E &   96 &   4 &  4 & NA & N\\\\\n\t-Gorman Thomas & 315 &  59 & 16 & 45 & 36 & 58 & 13 & 4677 & 1051 & 268 &  681 &  782 &  697 & A & W &    0 &   0 &  0 & NA & A\\\\\n\t-Juan Bonilla & 284 &  69 &  1 & 33 & 18 & 25 &  5 & 1407 &  361 &   6 &  139 &   98 &  111 & A & E &  122 & 140 &  5 & NA & N\\\\\n\t-Julio Cruz & 209 &  45 &  0 & 38 & 19 & 42 & 10 & 3859 &  916 &  23 &  557 &  279 &  478 & A & W &  132 & 205 &  5 & NA & A\\\\\n\t-Jerry Hairston & 225 &  61 &  5 & 32 & 26 & 26 & 11 & 1568 &  408 &  25 &  202 &  185 &  257 & A & W &  132 &   9 &  0 & NA & A\\\\\n\t-Joe Orsulak & 401 & 100 &  2 & 60 & 19 & 28 &  4 &  876 &  238 &   2 &  126 &   44 &   55 & N & E &  193 &  11 &  4 & NA & N\\\\\n\t-Jorge Orta & 336 &  93 &  9 & 35 & 46 & 23 & 15 & 5779 & 1610 & 128 &  730 &  741 &  497 & A & W &    0 &   0 &  0 & NA & A\\\\\n\t-Jamie Quirk & 219 &  47 &  8 & 24 & 26 & 17 & 12 & 1188 &  286 &  23 &  100 &  125 &   63 & A & W &  260 &  58 &  4 & NA & A\\\\\n\t-Jeff Stone & 249 &  69 &  6 & 32 & 19 & 20 &  4 &  702 &  209 &  10 &   97 &   48 &   44 & N & E &  103 &   8 &  2 & NA & N\\\\\n\t-Jim Traber & 212 &  54 & 13 & 28 & 44 & 18 &  2 &  233 &   59 &  13 &   31 &   46 &   20 & A & E &  243 &  23 &  5 & NA & A\\\\\n\t-Jerry Willard & 161 &  43 &  4 & 17 & 26 & 22 &  3 &  707 &  179 &  21 &   77 &   99 &   76 & A & W &  300 &  12 &  2 & NA & A\\\\\n\t-Luis Rivera & 166 &  34 &  0 & 20 & 13 & 17 &  1 &  166 &   34 &   0 &   20 &   13 &   17 & N & E &   64 & 119 &  9 & NA & N\\\\\n\t-Lonnie Smith & 508 & 146 &  8 & 80 & 44 & 46 &  9 & 3148 &  915 &  41 &  571 &  289 &  326 & A & W &  245 &   5 &  9 & NA & A\\\\\n\t-Mike Brown & 243 &  53 &  4 & 18 & 26 & 27 &  4 &  853 &  228 &  23 &  101 &  110 &   76 & N & E &  107 &   3 &  3 & NA & N\\\\\n\t-Mike Fitzgerald & 209 &  59 &  6 & 20 & 37 & 27 &  4 &  884 &  209 &  14 &   66 &  106 &   92 & N & E &  415 &  35 &  3 & NA & N\\\\\n\t-Mickey Hatcher & 317 &  88 &  3 & 40 & 32 & 19 &  8 & 2543 &  715 &  28 &  269 &  270 &  118 & A & W &  220 &  16 &  4 & NA & A\\\\\n\t-Nick Esasky & 330 &  76 & 12 & 35 & 41 & 47 &  4 & 1367 &  326 &  55 &  167 &  198 &  167 & N & W &  512 &  30 &  5 & NA & N\\\\\n\t-Omar Moreno & 359 &  84 &  4 & 46 & 27 & 21 & 12 & 4992 & 1257 &  37 &  699 &  386 &  387 & N & W &  151 &   8 &  5 & NA & N\\\\\n\t-Pete O'Brien & 551 & 160 & 23 & 86 & 90 & 87 &  5 & 2235 &  602 &  75 &  278 &  328 &  273 & A & W & 1224 & 115 & 11 & NA & A\\\\\n\t-Rich Gedman & 462 & 119 & 16 & 49 & 65 & 37 &  7 & 2131 &  583 &  69 &  244 &  288 &  150 & A & E &  866 &  65 &  6 & NA & A\\\\\n\t-Ricky Jones &  33 &   6 &  0 &  2 &  4 &  7 &  1 &   33 &    6 &   0 &    2 &    4 &    7 & A & W &  205 &   5 &  4 & NA & A\\\\\n\t-Randy Kutcher & 186 &  44 &  7 & 28 & 16 & 11 &  1 &  186 &   44 &   7 &   28 &   16 &   11 & N & W &   99 &   3 &  1 & NA & N\\\\\n\t-Rudy Law & 307 &  80 &  1 & 42 & 36 & 29 &  7 & 2421 &  656 &  18 &  379 &  198 &  184 & A & W &  145 &   2 &  2 & NA & A\\\\\n\t-Reggie Williams & 303 &  84 &  4 & 35 & 32 & 23 &  2 &  312 &   87 &   4 &   39 &   32 &   23 & N & W &  179 &   5 &  3 & NA & N\\\\\n\t-Tony Armas &  16 &   2 &  0 &  1 &  0 &  0 &  2 &   28 &    4 &   0 &    1 &    0 &    0 & A & E &  247 &   4 &  8 & NA & A\\\\\n\t-Toby Harrah & 289 &  63 &  7 & 36 & 41 & 44 & 17 & 7402 & 1954 & 195 & 1115 &  919 & 1153 & A & W &  166 & 211 &  7 & NA & A\\\\\n\t-Tom O'Malley & 181 &  46 &  1 & 19 & 18 & 17 &  5 &  937 &  238 &   9 &   88 &   95 &  104 & A & E &   37 &  98 &  9 & NA & A\\\\\n\t-Tony Perez & 200 &  51 &  2 & 14 & 29 & 25 & 23 & 9778 & 2732 & 379 & 1272 & 1652 &  925 & N & W &  398 &  29 &  7 & NA & N\\\\\n\t-Tim Raines & 580 & 194 &  9 & 91 & 62 & 78 &  8 & 3372 & 1028 &  48 &  604 &  314 &  469 & N & E &  270 &  13 &  6 & NA & N\\\\\n\t-Wayne Krenchicki & 221 &  53 &  2 & 21 & 23 & 22 &  8 & 1063 &  283 &  15 &  107 &  124 &  106 & N & E &  325 &  58 &  6 & NA & N\\\\\n\\end{tabular}\n",
            "text/markdown": "\nA data.frame: 59 × 20\n\n| <!--/--> | AtBat &lt;dbl&gt; | Hits &lt;int&gt; | HmRun &lt;int&gt; | Runs &lt;int&gt; | RBI &lt;int&gt; | Walks &lt;int&gt; | Years &lt;int&gt; | CAtBat &lt;int&gt; | CHits &lt;int&gt; | CHmRun &lt;int&gt; | CRuns &lt;int&gt; | CRBI &lt;int&gt; | CWalks &lt;int&gt; | League &lt;fct&gt; | Division &lt;fct&gt; | PutOuts &lt;int&gt; | Assists &lt;int&gt; | Errors &lt;int&gt; | Salary &lt;dbl&gt; | NewLeague &lt;fct&gt; |\n|---|---|---|---|---|---|---|---|---|---|---|---|---|---|---|---|---|---|---|---|---|\n| -Andy Allanson | 293 |  66 |  1 | 30 | 29 | 14 |  1 |  293 |   66 |   1 |   30 |   29 |   14 | A | E |  446 |  33 | 20 | NA | A |\n| -Billy Beane | 183 |  39 |  3 | 20 | 15 | 11 |  3 |  201 |   42 |   3 |   20 |   16 |   11 | A | W |  118 |   0 |  0 | NA | A |\n| -Bruce Bochte | 407 | 104 |  6 | 57 | 43 | 65 | 12 | 5233 | 1478 | 100 |  643 |  658 |  653 | A | W |  912 |  88 |  9 | NA | A |\n| -Bob Boone |  22 |  10 |  1 |  4 |  2 |  1 |  6 |   84 |   26 |   2 |    9 |    9 |    3 | A | W |  812 |  84 | 11 | NA | A |\n| -Bobby Grich | 313 |  84 |  9 | 42 | 30 | 39 | 17 | 6890 | 1833 | 224 | 1033 |  864 | 1087 | A | W |  127 | 221 |  7 | NA | A |\n| -Bob Horner | 517 | 141 | 27 | 70 | 87 | 52 |  9 | 3571 |  994 | 215 |  545 |  652 |  337 | N | W | 1378 | 102 |  8 | NA | N |\n| -Bobby Meacham | 161 |  36 |  0 | 19 | 10 | 17 |  4 | 1053 |  244 |   3 |  156 |   86 |  107 | A | E |   70 | 149 | 12 | NA | A |\n| -Ben Oglivie | 346 |  98 |  5 | 31 | 53 | 30 | 16 | 5913 | 1615 | 235 |  784 |  901 |  560 | A | E |    0 |   0 |  0 | NA | A |\n| -Bip Roberts | 241 |  61 |  1 | 34 | 12 | 14 |  1 |  241 |   61 |   1 |   34 |   12 |   14 | N | W |  166 | 172 | 10 | NA | N |\n| -Bill Russell | 216 |  54 |  0 | 21 | 18 | 15 | 18 | 7318 | 1926 |  46 |  796 |  627 |  483 | N | W |  103 |  84 |  5 | NA | N |\n| -Billy Sample | 200 |  57 |  6 | 23 | 14 | 14 |  9 | 2516 |  684 |  46 |  371 |  230 |  195 | N | W |   69 |   1 |  1 | NA | N |\n| -Butch Wynegar | 194 |  40 |  7 | 19 | 29 | 30 | 11 | 4183 | 1069 |  64 |  486 |  493 |  608 | A | E |  325 |  22 |  2 | NA | A |\n| -Cecil Cooper | 542 | 140 | 12 | 46 | 75 | 41 | 16 | 7099 | 2130 | 235 |  987 | 1089 |  431 | A | E |  697 |  61 |  9 | NA | A |\n| -Cliff Johnson |  19 |   7 |  0 |  1 |  2 |  1 |  4 |   41 |   13 |   1 |    3 |    4 |    4 | A | E |    0 |   0 |  0 | NA | A |\n| -Charlie Moore | 235 |  61 |  3 | 24 | 39 | 21 | 14 | 3926 | 1029 |  35 |  441 |  401 |  333 | A | E |  425 |  43 |  4 | NA | A |\n| -Doug Baker |  24 |   3 |  0 |  1 |  0 |  2 |  3 |  159 |   28 |   0 |   20 |   12 |    9 | A | W |   80 |   4 |  0 | NA | A |\n| -Dann Bilardello | 191 |  37 |  4 | 12 | 17 | 14 |  4 |  773 |  163 |  16 |   61 |   74 |   52 | N | E |  391 |  38 |  8 | NA | N |\n| -Dave Collins | 419 | 113 |  1 | 44 | 27 | 44 | 12 | 4484 | 1231 |  32 |  612 |  344 |  422 | A | E |  211 |   2 |  1 | NA | A |\n| -Darren Daulton | 138 |  31 |  8 | 18 | 21 | 38 |  3 |  244 |   53 |  12 |   33 |   32 |   55 | N | E |  244 |  21 |  4 | NA | N |\n| -Danny Heep | 195 |  55 |  5 | 24 | 33 | 30 |  8 | 1313 |  338 |  25 |  144 |  149 |  153 | N | E |   83 |   2 |  1 | NA | N |\n| -Dave Kingman | 561 | 118 | 35 | 70 | 94 | 33 | 16 | 6677 | 1575 | 442 |  901 | 1210 |  608 | A | W |  463 |  32 |  8 | NA | A |\n| -Darryl Motley | 227 |  46 |  7 | 23 | 20 | 12 |  5 | 1325 |  324 |  44 |  156 |  158 |   67 | A | W |   92 |   2 |  2 | NA | A |\n| -Dickie Thon | 278 |  69 |  3 | 24 | 21 | 29 |  8 | 2079 |  565 |  32 |  258 |  192 |  162 | N | W |  142 | 210 | 10 | NA | N |\n| -Enos Cabell | 277 |  71 |  2 | 27 | 29 | 14 | 15 | 5952 | 1647 |  60 |  753 |  596 |  259 | N | W |  360 |  32 |  5 | NA | N |\n| -Ernest Riles | 524 | 132 |  9 | 69 | 47 | 54 |  2 |  972 |  260 |  14 |  123 |   92 |   90 | A | E |  212 | 327 | 20 | NA | A |\n| -Ernie Whitt | 395 | 106 | 16 | 48 | 56 | 35 | 10 | 2303 |  571 |  86 |  266 |  323 |  248 | A | E |  709 |  41 |  7 | NA | A |\n| -Fred Lynn | 397 | 114 | 23 | 67 | 67 | 53 | 13 | 5589 | 1632 | 241 |  906 |  926 |  716 | A | E |  244 |   2 |  4 | NA | A |\n| -Floyd Rayford | 210 |  37 |  8 | 15 | 19 | 15 |  6 |  994 |  244 |  36 |  107 |  114 |   53 | A | E |   40 | 115 | 15 | NA | A |\n| -Franklin Stubbs | 420 |  95 | 23 | 55 | 58 | 37 |  3 |  646 |  139 |  31 |   77 |   77 |   61 | N | W |  206 |  10 |  7 | NA | N |\n| -George Foster | 284 |  64 | 14 | 30 | 42 | 24 | 18 | 7023 | 1925 | 348 |  986 | 1239 |  666 | N | E |   96 |   4 |  4 | NA | N |\n| -Gorman Thomas | 315 |  59 | 16 | 45 | 36 | 58 | 13 | 4677 | 1051 | 268 |  681 |  782 |  697 | A | W |    0 |   0 |  0 | NA | A |\n| -Juan Bonilla | 284 |  69 |  1 | 33 | 18 | 25 |  5 | 1407 |  361 |   6 |  139 |   98 |  111 | A | E |  122 | 140 |  5 | NA | N |\n| -Julio Cruz | 209 |  45 |  0 | 38 | 19 | 42 | 10 | 3859 |  916 |  23 |  557 |  279 |  478 | A | W |  132 | 205 |  5 | NA | A |\n| -Jerry Hairston | 225 |  61 |  5 | 32 | 26 | 26 | 11 | 1568 |  408 |  25 |  202 |  185 |  257 | A | W |  132 |   9 |  0 | NA | A |\n| -Joe Orsulak | 401 | 100 |  2 | 60 | 19 | 28 |  4 |  876 |  238 |   2 |  126 |   44 |   55 | N | E |  193 |  11 |  4 | NA | N |\n| -Jorge Orta | 336 |  93 |  9 | 35 | 46 | 23 | 15 | 5779 | 1610 | 128 |  730 |  741 |  497 | A | W |    0 |   0 |  0 | NA | A |\n| -Jamie Quirk | 219 |  47 |  8 | 24 | 26 | 17 | 12 | 1188 |  286 |  23 |  100 |  125 |   63 | A | W |  260 |  58 |  4 | NA | A |\n| -Jeff Stone | 249 |  69 |  6 | 32 | 19 | 20 |  4 |  702 |  209 |  10 |   97 |   48 |   44 | N | E |  103 |   8 |  2 | NA | N |\n| -Jim Traber | 212 |  54 | 13 | 28 | 44 | 18 |  2 |  233 |   59 |  13 |   31 |   46 |   20 | A | E |  243 |  23 |  5 | NA | A |\n| -Jerry Willard | 161 |  43 |  4 | 17 | 26 | 22 |  3 |  707 |  179 |  21 |   77 |   99 |   76 | A | W |  300 |  12 |  2 | NA | A |\n| -Luis Rivera | 166 |  34 |  0 | 20 | 13 | 17 |  1 |  166 |   34 |   0 |   20 |   13 |   17 | N | E |   64 | 119 |  9 | NA | N |\n| -Lonnie Smith | 508 | 146 |  8 | 80 | 44 | 46 |  9 | 3148 |  915 |  41 |  571 |  289 |  326 | A | W |  245 |   5 |  9 | NA | A |\n| -Mike Brown | 243 |  53 |  4 | 18 | 26 | 27 |  4 |  853 |  228 |  23 |  101 |  110 |   76 | N | E |  107 |   3 |  3 | NA | N |\n| -Mike Fitzgerald | 209 |  59 |  6 | 20 | 37 | 27 |  4 |  884 |  209 |  14 |   66 |  106 |   92 | N | E |  415 |  35 |  3 | NA | N |\n| -Mickey Hatcher | 317 |  88 |  3 | 40 | 32 | 19 |  8 | 2543 |  715 |  28 |  269 |  270 |  118 | A | W |  220 |  16 |  4 | NA | A |\n| -Nick Esasky | 330 |  76 | 12 | 35 | 41 | 47 |  4 | 1367 |  326 |  55 |  167 |  198 |  167 | N | W |  512 |  30 |  5 | NA | N |\n| -Omar Moreno | 359 |  84 |  4 | 46 | 27 | 21 | 12 | 4992 | 1257 |  37 |  699 |  386 |  387 | N | W |  151 |   8 |  5 | NA | N |\n| -Pete O'Brien | 551 | 160 | 23 | 86 | 90 | 87 |  5 | 2235 |  602 |  75 |  278 |  328 |  273 | A | W | 1224 | 115 | 11 | NA | A |\n| -Rich Gedman | 462 | 119 | 16 | 49 | 65 | 37 |  7 | 2131 |  583 |  69 |  244 |  288 |  150 | A | E |  866 |  65 |  6 | NA | A |\n| -Ricky Jones |  33 |   6 |  0 |  2 |  4 |  7 |  1 |   33 |    6 |   0 |    2 |    4 |    7 | A | W |  205 |   5 |  4 | NA | A |\n| -Randy Kutcher | 186 |  44 |  7 | 28 | 16 | 11 |  1 |  186 |   44 |   7 |   28 |   16 |   11 | N | W |   99 |   3 |  1 | NA | N |\n| -Rudy Law | 307 |  80 |  1 | 42 | 36 | 29 |  7 | 2421 |  656 |  18 |  379 |  198 |  184 | A | W |  145 |   2 |  2 | NA | A |\n| -Reggie Williams | 303 |  84 |  4 | 35 | 32 | 23 |  2 |  312 |   87 |   4 |   39 |   32 |   23 | N | W |  179 |   5 |  3 | NA | N |\n| -Tony Armas |  16 |   2 |  0 |  1 |  0 |  0 |  2 |   28 |    4 |   0 |    1 |    0 |    0 | A | E |  247 |   4 |  8 | NA | A |\n| -Toby Harrah | 289 |  63 |  7 | 36 | 41 | 44 | 17 | 7402 | 1954 | 195 | 1115 |  919 | 1153 | A | W |  166 | 211 |  7 | NA | A |\n| -Tom O'Malley | 181 |  46 |  1 | 19 | 18 | 17 |  5 |  937 |  238 |   9 |   88 |   95 |  104 | A | E |   37 |  98 |  9 | NA | A |\n| -Tony Perez | 200 |  51 |  2 | 14 | 29 | 25 | 23 | 9778 | 2732 | 379 | 1272 | 1652 |  925 | N | W |  398 |  29 |  7 | NA | N |\n| -Tim Raines | 580 | 194 |  9 | 91 | 62 | 78 |  8 | 3372 | 1028 |  48 |  604 |  314 |  469 | N | E |  270 |  13 |  6 | NA | N |\n| -Wayne Krenchicki | 221 |  53 |  2 | 21 | 23 | 22 |  8 | 1063 |  283 |  15 |  107 |  124 |  106 | N | E |  325 |  58 |  6 | NA | N |\n\n",
            "text/html": [
              "<table>\n",
              "<caption>A data.frame: 59 × 20</caption>\n",
              "<thead>\n",
              "\t<tr><th></th><th scope=col>AtBat</th><th scope=col>Hits</th><th scope=col>HmRun</th><th scope=col>Runs</th><th scope=col>RBI</th><th scope=col>Walks</th><th scope=col>Years</th><th scope=col>CAtBat</th><th scope=col>CHits</th><th scope=col>CHmRun</th><th scope=col>CRuns</th><th scope=col>CRBI</th><th scope=col>CWalks</th><th scope=col>League</th><th scope=col>Division</th><th scope=col>PutOuts</th><th scope=col>Assists</th><th scope=col>Errors</th><th scope=col>Salary</th><th scope=col>NewLeague</th></tr>\n",
              "\t<tr><th></th><th scope=col>&lt;dbl&gt;</th><th scope=col>&lt;int&gt;</th><th scope=col>&lt;int&gt;</th><th scope=col>&lt;int&gt;</th><th scope=col>&lt;int&gt;</th><th scope=col>&lt;int&gt;</th><th scope=col>&lt;int&gt;</th><th scope=col>&lt;int&gt;</th><th scope=col>&lt;int&gt;</th><th scope=col>&lt;int&gt;</th><th scope=col>&lt;int&gt;</th><th scope=col>&lt;int&gt;</th><th scope=col>&lt;int&gt;</th><th scope=col>&lt;fct&gt;</th><th scope=col>&lt;fct&gt;</th><th scope=col>&lt;int&gt;</th><th scope=col>&lt;int&gt;</th><th scope=col>&lt;int&gt;</th><th scope=col>&lt;dbl&gt;</th><th scope=col>&lt;fct&gt;</th></tr>\n",
              "</thead>\n",
              "<tbody>\n",
              "\t<tr><th scope=row>-Andy Allanson</th><td>293</td><td> 66</td><td> 1</td><td>30</td><td>29</td><td>14</td><td> 1</td><td> 293</td><td>  66</td><td>  1</td><td>  30</td><td>  29</td><td>  14</td><td>A</td><td>E</td><td> 446</td><td> 33</td><td>20</td><td>NA</td><td>A</td></tr>\n",
              "\t<tr><th scope=row>-Billy Beane</th><td>183</td><td> 39</td><td> 3</td><td>20</td><td>15</td><td>11</td><td> 3</td><td> 201</td><td>  42</td><td>  3</td><td>  20</td><td>  16</td><td>  11</td><td>A</td><td>W</td><td> 118</td><td>  0</td><td> 0</td><td>NA</td><td>A</td></tr>\n",
              "\t<tr><th scope=row>-Bruce Bochte</th><td>407</td><td>104</td><td> 6</td><td>57</td><td>43</td><td>65</td><td>12</td><td>5233</td><td>1478</td><td>100</td><td> 643</td><td> 658</td><td> 653</td><td>A</td><td>W</td><td> 912</td><td> 88</td><td> 9</td><td>NA</td><td>A</td></tr>\n",
              "\t<tr><th scope=row>-Bob Boone</th><td> 22</td><td> 10</td><td> 1</td><td> 4</td><td> 2</td><td> 1</td><td> 6</td><td>  84</td><td>  26</td><td>  2</td><td>   9</td><td>   9</td><td>   3</td><td>A</td><td>W</td><td> 812</td><td> 84</td><td>11</td><td>NA</td><td>A</td></tr>\n",
              "\t<tr><th scope=row>-Bobby Grich</th><td>313</td><td> 84</td><td> 9</td><td>42</td><td>30</td><td>39</td><td>17</td><td>6890</td><td>1833</td><td>224</td><td>1033</td><td> 864</td><td>1087</td><td>A</td><td>W</td><td> 127</td><td>221</td><td> 7</td><td>NA</td><td>A</td></tr>\n",
              "\t<tr><th scope=row>-Bob Horner</th><td>517</td><td>141</td><td>27</td><td>70</td><td>87</td><td>52</td><td> 9</td><td>3571</td><td> 994</td><td>215</td><td> 545</td><td> 652</td><td> 337</td><td>N</td><td>W</td><td>1378</td><td>102</td><td> 8</td><td>NA</td><td>N</td></tr>\n",
              "\t<tr><th scope=row>-Bobby Meacham</th><td>161</td><td> 36</td><td> 0</td><td>19</td><td>10</td><td>17</td><td> 4</td><td>1053</td><td> 244</td><td>  3</td><td> 156</td><td>  86</td><td> 107</td><td>A</td><td>E</td><td>  70</td><td>149</td><td>12</td><td>NA</td><td>A</td></tr>\n",
              "\t<tr><th scope=row>-Ben Oglivie</th><td>346</td><td> 98</td><td> 5</td><td>31</td><td>53</td><td>30</td><td>16</td><td>5913</td><td>1615</td><td>235</td><td> 784</td><td> 901</td><td> 560</td><td>A</td><td>E</td><td>   0</td><td>  0</td><td> 0</td><td>NA</td><td>A</td></tr>\n",
              "\t<tr><th scope=row>-Bip Roberts</th><td>241</td><td> 61</td><td> 1</td><td>34</td><td>12</td><td>14</td><td> 1</td><td> 241</td><td>  61</td><td>  1</td><td>  34</td><td>  12</td><td>  14</td><td>N</td><td>W</td><td> 166</td><td>172</td><td>10</td><td>NA</td><td>N</td></tr>\n",
              "\t<tr><th scope=row>-Bill Russell</th><td>216</td><td> 54</td><td> 0</td><td>21</td><td>18</td><td>15</td><td>18</td><td>7318</td><td>1926</td><td> 46</td><td> 796</td><td> 627</td><td> 483</td><td>N</td><td>W</td><td> 103</td><td> 84</td><td> 5</td><td>NA</td><td>N</td></tr>\n",
              "\t<tr><th scope=row>-Billy Sample</th><td>200</td><td> 57</td><td> 6</td><td>23</td><td>14</td><td>14</td><td> 9</td><td>2516</td><td> 684</td><td> 46</td><td> 371</td><td> 230</td><td> 195</td><td>N</td><td>W</td><td>  69</td><td>  1</td><td> 1</td><td>NA</td><td>N</td></tr>\n",
              "\t<tr><th scope=row>-Butch Wynegar</th><td>194</td><td> 40</td><td> 7</td><td>19</td><td>29</td><td>30</td><td>11</td><td>4183</td><td>1069</td><td> 64</td><td> 486</td><td> 493</td><td> 608</td><td>A</td><td>E</td><td> 325</td><td> 22</td><td> 2</td><td>NA</td><td>A</td></tr>\n",
              "\t<tr><th scope=row>-Cecil Cooper</th><td>542</td><td>140</td><td>12</td><td>46</td><td>75</td><td>41</td><td>16</td><td>7099</td><td>2130</td><td>235</td><td> 987</td><td>1089</td><td> 431</td><td>A</td><td>E</td><td> 697</td><td> 61</td><td> 9</td><td>NA</td><td>A</td></tr>\n",
              "\t<tr><th scope=row>-Cliff Johnson</th><td> 19</td><td>  7</td><td> 0</td><td> 1</td><td> 2</td><td> 1</td><td> 4</td><td>  41</td><td>  13</td><td>  1</td><td>   3</td><td>   4</td><td>   4</td><td>A</td><td>E</td><td>   0</td><td>  0</td><td> 0</td><td>NA</td><td>A</td></tr>\n",
              "\t<tr><th scope=row>-Charlie Moore</th><td>235</td><td> 61</td><td> 3</td><td>24</td><td>39</td><td>21</td><td>14</td><td>3926</td><td>1029</td><td> 35</td><td> 441</td><td> 401</td><td> 333</td><td>A</td><td>E</td><td> 425</td><td> 43</td><td> 4</td><td>NA</td><td>A</td></tr>\n",
              "\t<tr><th scope=row>-Doug Baker</th><td> 24</td><td>  3</td><td> 0</td><td> 1</td><td> 0</td><td> 2</td><td> 3</td><td> 159</td><td>  28</td><td>  0</td><td>  20</td><td>  12</td><td>   9</td><td>A</td><td>W</td><td>  80</td><td>  4</td><td> 0</td><td>NA</td><td>A</td></tr>\n",
              "\t<tr><th scope=row>-Dann Bilardello</th><td>191</td><td> 37</td><td> 4</td><td>12</td><td>17</td><td>14</td><td> 4</td><td> 773</td><td> 163</td><td> 16</td><td>  61</td><td>  74</td><td>  52</td><td>N</td><td>E</td><td> 391</td><td> 38</td><td> 8</td><td>NA</td><td>N</td></tr>\n",
              "\t<tr><th scope=row>-Dave Collins</th><td>419</td><td>113</td><td> 1</td><td>44</td><td>27</td><td>44</td><td>12</td><td>4484</td><td>1231</td><td> 32</td><td> 612</td><td> 344</td><td> 422</td><td>A</td><td>E</td><td> 211</td><td>  2</td><td> 1</td><td>NA</td><td>A</td></tr>\n",
              "\t<tr><th scope=row>-Darren Daulton</th><td>138</td><td> 31</td><td> 8</td><td>18</td><td>21</td><td>38</td><td> 3</td><td> 244</td><td>  53</td><td> 12</td><td>  33</td><td>  32</td><td>  55</td><td>N</td><td>E</td><td> 244</td><td> 21</td><td> 4</td><td>NA</td><td>N</td></tr>\n",
              "\t<tr><th scope=row>-Danny Heep</th><td>195</td><td> 55</td><td> 5</td><td>24</td><td>33</td><td>30</td><td> 8</td><td>1313</td><td> 338</td><td> 25</td><td> 144</td><td> 149</td><td> 153</td><td>N</td><td>E</td><td>  83</td><td>  2</td><td> 1</td><td>NA</td><td>N</td></tr>\n",
              "\t<tr><th scope=row>-Dave Kingman</th><td>561</td><td>118</td><td>35</td><td>70</td><td>94</td><td>33</td><td>16</td><td>6677</td><td>1575</td><td>442</td><td> 901</td><td>1210</td><td> 608</td><td>A</td><td>W</td><td> 463</td><td> 32</td><td> 8</td><td>NA</td><td>A</td></tr>\n",
              "\t<tr><th scope=row>-Darryl Motley</th><td>227</td><td> 46</td><td> 7</td><td>23</td><td>20</td><td>12</td><td> 5</td><td>1325</td><td> 324</td><td> 44</td><td> 156</td><td> 158</td><td>  67</td><td>A</td><td>W</td><td>  92</td><td>  2</td><td> 2</td><td>NA</td><td>A</td></tr>\n",
              "\t<tr><th scope=row>-Dickie Thon</th><td>278</td><td> 69</td><td> 3</td><td>24</td><td>21</td><td>29</td><td> 8</td><td>2079</td><td> 565</td><td> 32</td><td> 258</td><td> 192</td><td> 162</td><td>N</td><td>W</td><td> 142</td><td>210</td><td>10</td><td>NA</td><td>N</td></tr>\n",
              "\t<tr><th scope=row>-Enos Cabell</th><td>277</td><td> 71</td><td> 2</td><td>27</td><td>29</td><td>14</td><td>15</td><td>5952</td><td>1647</td><td> 60</td><td> 753</td><td> 596</td><td> 259</td><td>N</td><td>W</td><td> 360</td><td> 32</td><td> 5</td><td>NA</td><td>N</td></tr>\n",
              "\t<tr><th scope=row>-Ernest Riles</th><td>524</td><td>132</td><td> 9</td><td>69</td><td>47</td><td>54</td><td> 2</td><td> 972</td><td> 260</td><td> 14</td><td> 123</td><td>  92</td><td>  90</td><td>A</td><td>E</td><td> 212</td><td>327</td><td>20</td><td>NA</td><td>A</td></tr>\n",
              "\t<tr><th scope=row>-Ernie Whitt</th><td>395</td><td>106</td><td>16</td><td>48</td><td>56</td><td>35</td><td>10</td><td>2303</td><td> 571</td><td> 86</td><td> 266</td><td> 323</td><td> 248</td><td>A</td><td>E</td><td> 709</td><td> 41</td><td> 7</td><td>NA</td><td>A</td></tr>\n",
              "\t<tr><th scope=row>-Fred Lynn</th><td>397</td><td>114</td><td>23</td><td>67</td><td>67</td><td>53</td><td>13</td><td>5589</td><td>1632</td><td>241</td><td> 906</td><td> 926</td><td> 716</td><td>A</td><td>E</td><td> 244</td><td>  2</td><td> 4</td><td>NA</td><td>A</td></tr>\n",
              "\t<tr><th scope=row>-Floyd Rayford</th><td>210</td><td> 37</td><td> 8</td><td>15</td><td>19</td><td>15</td><td> 6</td><td> 994</td><td> 244</td><td> 36</td><td> 107</td><td> 114</td><td>  53</td><td>A</td><td>E</td><td>  40</td><td>115</td><td>15</td><td>NA</td><td>A</td></tr>\n",
              "\t<tr><th scope=row>-Franklin Stubbs</th><td>420</td><td> 95</td><td>23</td><td>55</td><td>58</td><td>37</td><td> 3</td><td> 646</td><td> 139</td><td> 31</td><td>  77</td><td>  77</td><td>  61</td><td>N</td><td>W</td><td> 206</td><td> 10</td><td> 7</td><td>NA</td><td>N</td></tr>\n",
              "\t<tr><th scope=row>-George Foster</th><td>284</td><td> 64</td><td>14</td><td>30</td><td>42</td><td>24</td><td>18</td><td>7023</td><td>1925</td><td>348</td><td> 986</td><td>1239</td><td> 666</td><td>N</td><td>E</td><td>  96</td><td>  4</td><td> 4</td><td>NA</td><td>N</td></tr>\n",
              "\t<tr><th scope=row>-Gorman Thomas</th><td>315</td><td> 59</td><td>16</td><td>45</td><td>36</td><td>58</td><td>13</td><td>4677</td><td>1051</td><td>268</td><td> 681</td><td> 782</td><td> 697</td><td>A</td><td>W</td><td>   0</td><td>  0</td><td> 0</td><td>NA</td><td>A</td></tr>\n",
              "\t<tr><th scope=row>-Juan Bonilla</th><td>284</td><td> 69</td><td> 1</td><td>33</td><td>18</td><td>25</td><td> 5</td><td>1407</td><td> 361</td><td>  6</td><td> 139</td><td>  98</td><td> 111</td><td>A</td><td>E</td><td> 122</td><td>140</td><td> 5</td><td>NA</td><td>N</td></tr>\n",
              "\t<tr><th scope=row>-Julio Cruz</th><td>209</td><td> 45</td><td> 0</td><td>38</td><td>19</td><td>42</td><td>10</td><td>3859</td><td> 916</td><td> 23</td><td> 557</td><td> 279</td><td> 478</td><td>A</td><td>W</td><td> 132</td><td>205</td><td> 5</td><td>NA</td><td>A</td></tr>\n",
              "\t<tr><th scope=row>-Jerry Hairston</th><td>225</td><td> 61</td><td> 5</td><td>32</td><td>26</td><td>26</td><td>11</td><td>1568</td><td> 408</td><td> 25</td><td> 202</td><td> 185</td><td> 257</td><td>A</td><td>W</td><td> 132</td><td>  9</td><td> 0</td><td>NA</td><td>A</td></tr>\n",
              "\t<tr><th scope=row>-Joe Orsulak</th><td>401</td><td>100</td><td> 2</td><td>60</td><td>19</td><td>28</td><td> 4</td><td> 876</td><td> 238</td><td>  2</td><td> 126</td><td>  44</td><td>  55</td><td>N</td><td>E</td><td> 193</td><td> 11</td><td> 4</td><td>NA</td><td>N</td></tr>\n",
              "\t<tr><th scope=row>-Jorge Orta</th><td>336</td><td> 93</td><td> 9</td><td>35</td><td>46</td><td>23</td><td>15</td><td>5779</td><td>1610</td><td>128</td><td> 730</td><td> 741</td><td> 497</td><td>A</td><td>W</td><td>   0</td><td>  0</td><td> 0</td><td>NA</td><td>A</td></tr>\n",
              "\t<tr><th scope=row>-Jamie Quirk</th><td>219</td><td> 47</td><td> 8</td><td>24</td><td>26</td><td>17</td><td>12</td><td>1188</td><td> 286</td><td> 23</td><td> 100</td><td> 125</td><td>  63</td><td>A</td><td>W</td><td> 260</td><td> 58</td><td> 4</td><td>NA</td><td>A</td></tr>\n",
              "\t<tr><th scope=row>-Jeff Stone</th><td>249</td><td> 69</td><td> 6</td><td>32</td><td>19</td><td>20</td><td> 4</td><td> 702</td><td> 209</td><td> 10</td><td>  97</td><td>  48</td><td>  44</td><td>N</td><td>E</td><td> 103</td><td>  8</td><td> 2</td><td>NA</td><td>N</td></tr>\n",
              "\t<tr><th scope=row>-Jim Traber</th><td>212</td><td> 54</td><td>13</td><td>28</td><td>44</td><td>18</td><td> 2</td><td> 233</td><td>  59</td><td> 13</td><td>  31</td><td>  46</td><td>  20</td><td>A</td><td>E</td><td> 243</td><td> 23</td><td> 5</td><td>NA</td><td>A</td></tr>\n",
              "\t<tr><th scope=row>-Jerry Willard</th><td>161</td><td> 43</td><td> 4</td><td>17</td><td>26</td><td>22</td><td> 3</td><td> 707</td><td> 179</td><td> 21</td><td>  77</td><td>  99</td><td>  76</td><td>A</td><td>W</td><td> 300</td><td> 12</td><td> 2</td><td>NA</td><td>A</td></tr>\n",
              "\t<tr><th scope=row>-Luis Rivera</th><td>166</td><td> 34</td><td> 0</td><td>20</td><td>13</td><td>17</td><td> 1</td><td> 166</td><td>  34</td><td>  0</td><td>  20</td><td>  13</td><td>  17</td><td>N</td><td>E</td><td>  64</td><td>119</td><td> 9</td><td>NA</td><td>N</td></tr>\n",
              "\t<tr><th scope=row>-Lonnie Smith</th><td>508</td><td>146</td><td> 8</td><td>80</td><td>44</td><td>46</td><td> 9</td><td>3148</td><td> 915</td><td> 41</td><td> 571</td><td> 289</td><td> 326</td><td>A</td><td>W</td><td> 245</td><td>  5</td><td> 9</td><td>NA</td><td>A</td></tr>\n",
              "\t<tr><th scope=row>-Mike Brown</th><td>243</td><td> 53</td><td> 4</td><td>18</td><td>26</td><td>27</td><td> 4</td><td> 853</td><td> 228</td><td> 23</td><td> 101</td><td> 110</td><td>  76</td><td>N</td><td>E</td><td> 107</td><td>  3</td><td> 3</td><td>NA</td><td>N</td></tr>\n",
              "\t<tr><th scope=row>-Mike Fitzgerald</th><td>209</td><td> 59</td><td> 6</td><td>20</td><td>37</td><td>27</td><td> 4</td><td> 884</td><td> 209</td><td> 14</td><td>  66</td><td> 106</td><td>  92</td><td>N</td><td>E</td><td> 415</td><td> 35</td><td> 3</td><td>NA</td><td>N</td></tr>\n",
              "\t<tr><th scope=row>-Mickey Hatcher</th><td>317</td><td> 88</td><td> 3</td><td>40</td><td>32</td><td>19</td><td> 8</td><td>2543</td><td> 715</td><td> 28</td><td> 269</td><td> 270</td><td> 118</td><td>A</td><td>W</td><td> 220</td><td> 16</td><td> 4</td><td>NA</td><td>A</td></tr>\n",
              "\t<tr><th scope=row>-Nick Esasky</th><td>330</td><td> 76</td><td>12</td><td>35</td><td>41</td><td>47</td><td> 4</td><td>1367</td><td> 326</td><td> 55</td><td> 167</td><td> 198</td><td> 167</td><td>N</td><td>W</td><td> 512</td><td> 30</td><td> 5</td><td>NA</td><td>N</td></tr>\n",
              "\t<tr><th scope=row>-Omar Moreno</th><td>359</td><td> 84</td><td> 4</td><td>46</td><td>27</td><td>21</td><td>12</td><td>4992</td><td>1257</td><td> 37</td><td> 699</td><td> 386</td><td> 387</td><td>N</td><td>W</td><td> 151</td><td>  8</td><td> 5</td><td>NA</td><td>N</td></tr>\n",
              "\t<tr><th scope=row>-Pete O'Brien</th><td>551</td><td>160</td><td>23</td><td>86</td><td>90</td><td>87</td><td> 5</td><td>2235</td><td> 602</td><td> 75</td><td> 278</td><td> 328</td><td> 273</td><td>A</td><td>W</td><td>1224</td><td>115</td><td>11</td><td>NA</td><td>A</td></tr>\n",
              "\t<tr><th scope=row>-Rich Gedman</th><td>462</td><td>119</td><td>16</td><td>49</td><td>65</td><td>37</td><td> 7</td><td>2131</td><td> 583</td><td> 69</td><td> 244</td><td> 288</td><td> 150</td><td>A</td><td>E</td><td> 866</td><td> 65</td><td> 6</td><td>NA</td><td>A</td></tr>\n",
              "\t<tr><th scope=row>-Ricky Jones</th><td> 33</td><td>  6</td><td> 0</td><td> 2</td><td> 4</td><td> 7</td><td> 1</td><td>  33</td><td>   6</td><td>  0</td><td>   2</td><td>   4</td><td>   7</td><td>A</td><td>W</td><td> 205</td><td>  5</td><td> 4</td><td>NA</td><td>A</td></tr>\n",
              "\t<tr><th scope=row>-Randy Kutcher</th><td>186</td><td> 44</td><td> 7</td><td>28</td><td>16</td><td>11</td><td> 1</td><td> 186</td><td>  44</td><td>  7</td><td>  28</td><td>  16</td><td>  11</td><td>N</td><td>W</td><td>  99</td><td>  3</td><td> 1</td><td>NA</td><td>N</td></tr>\n",
              "\t<tr><th scope=row>-Rudy Law</th><td>307</td><td> 80</td><td> 1</td><td>42</td><td>36</td><td>29</td><td> 7</td><td>2421</td><td> 656</td><td> 18</td><td> 379</td><td> 198</td><td> 184</td><td>A</td><td>W</td><td> 145</td><td>  2</td><td> 2</td><td>NA</td><td>A</td></tr>\n",
              "\t<tr><th scope=row>-Reggie Williams</th><td>303</td><td> 84</td><td> 4</td><td>35</td><td>32</td><td>23</td><td> 2</td><td> 312</td><td>  87</td><td>  4</td><td>  39</td><td>  32</td><td>  23</td><td>N</td><td>W</td><td> 179</td><td>  5</td><td> 3</td><td>NA</td><td>N</td></tr>\n",
              "\t<tr><th scope=row>-Tony Armas</th><td> 16</td><td>  2</td><td> 0</td><td> 1</td><td> 0</td><td> 0</td><td> 2</td><td>  28</td><td>   4</td><td>  0</td><td>   1</td><td>   0</td><td>   0</td><td>A</td><td>E</td><td> 247</td><td>  4</td><td> 8</td><td>NA</td><td>A</td></tr>\n",
              "\t<tr><th scope=row>-Toby Harrah</th><td>289</td><td> 63</td><td> 7</td><td>36</td><td>41</td><td>44</td><td>17</td><td>7402</td><td>1954</td><td>195</td><td>1115</td><td> 919</td><td>1153</td><td>A</td><td>W</td><td> 166</td><td>211</td><td> 7</td><td>NA</td><td>A</td></tr>\n",
              "\t<tr><th scope=row>-Tom O'Malley</th><td>181</td><td> 46</td><td> 1</td><td>19</td><td>18</td><td>17</td><td> 5</td><td> 937</td><td> 238</td><td>  9</td><td>  88</td><td>  95</td><td> 104</td><td>A</td><td>E</td><td>  37</td><td> 98</td><td> 9</td><td>NA</td><td>A</td></tr>\n",
              "\t<tr><th scope=row>-Tony Perez</th><td>200</td><td> 51</td><td> 2</td><td>14</td><td>29</td><td>25</td><td>23</td><td>9778</td><td>2732</td><td>379</td><td>1272</td><td>1652</td><td> 925</td><td>N</td><td>W</td><td> 398</td><td> 29</td><td> 7</td><td>NA</td><td>N</td></tr>\n",
              "\t<tr><th scope=row>-Tim Raines</th><td>580</td><td>194</td><td> 9</td><td>91</td><td>62</td><td>78</td><td> 8</td><td>3372</td><td>1028</td><td> 48</td><td> 604</td><td> 314</td><td> 469</td><td>N</td><td>E</td><td> 270</td><td> 13</td><td> 6</td><td>NA</td><td>N</td></tr>\n",
              "\t<tr><th scope=row>-Wayne Krenchicki</th><td>221</td><td> 53</td><td> 2</td><td>21</td><td>23</td><td>22</td><td> 8</td><td>1063</td><td> 283</td><td> 15</td><td> 107</td><td> 124</td><td> 106</td><td>N</td><td>E</td><td> 325</td><td> 58</td><td> 6</td><td>NA</td><td>N</td></tr>\n",
              "</tbody>\n",
              "</table>\n"
            ]
          },
          "metadata": {
            "tags": []
          }
        },
        {
          "output_type": "display_data",
          "data": {
            "text/plain": [
              "                AtBat Hits HmRun Runs RBI Walks Years CAtBat CHits CHmRun CRuns\n",
              "-Andy Allanson  293    66   1    30   29  14     1     293     66    1      30 \n",
              "-Billy Beane    183    39   3    20   15  11     3     201     42    3      20 \n",
              "-Bruce Bochte   407   104   6    57   43  65    12    5233   1478  100     643 \n",
              "-Bob Boone       22    10   1     4    2   1     6      84     26    2       9 \n",
              "-Bobby Grich    313    84   9    42   30  39    17    6890   1833  224    1033 \n",
              "-Bobby Meacham  161    36   0    19   10  17     4    1053    244    3     156 \n",
              "-Ben Oglivie    346    98   5    31   53  30    16    5913   1615  235     784 \n",
              "-Butch Wynegar  194    40   7    19   29  30    11    4183   1069   64     486 \n",
              "-Cecil Cooper   542   140  12    46   75  41    16    7099   2130  235     987 \n",
              "-Cliff Johnson   19     7   0     1    2   1     4      41     13    1       3 \n",
              "-Charlie Moore  235    61   3    24   39  21    14    3926   1029   35     441 \n",
              "-Doug Baker      24     3   0     1    0   2     3     159     28    0      20 \n",
              "-Dave Collins   419   113   1    44   27  44    12    4484   1231   32     612 \n",
              "-Dave Kingman   561   118  35    70   94  33    16    6677   1575  442     901 \n",
              "-Darryl Motley  227    46   7    23   20  12     5    1325    324   44     156 \n",
              "-Ernest Riles   524   132   9    69   47  54     2     972    260   14     123 \n",
              "-Ernie Whitt    395   106  16    48   56  35    10    2303    571   86     266 \n",
              "-Fred Lynn      397   114  23    67   67  53    13    5589   1632  241     906 \n",
              "-Floyd Rayford  210    37   8    15   19  15     6     994    244   36     107 \n",
              "-Gorman Thomas  315    59  16    45   36  58    13    4677   1051  268     681 \n",
              "-Juan Bonilla   284    69   1    33   18  25     5    1407    361    6     139 \n",
              "-Julio Cruz     209    45   0    38   19  42    10    3859    916   23     557 \n",
              "-Jerry Hairston 225    61   5    32   26  26    11    1568    408   25     202 \n",
              "-Jorge Orta     336    93   9    35   46  23    15    5779   1610  128     730 \n",
              "-Jamie Quirk    219    47   8    24   26  17    12    1188    286   23     100 \n",
              "-Jim Traber     212    54  13    28   44  18     2     233     59   13      31 \n",
              "-Jerry Willard  161    43   4    17   26  22     3     707    179   21      77 \n",
              "-Lonnie Smith   508   146   8    80   44  46     9    3148    915   41     571 \n",
              "-Mickey Hatcher 317    88   3    40   32  19     8    2543    715   28     269 \n",
              "-Pete O'Brien   551   160  23    86   90  87     5    2235    602   75     278 \n",
              "-Rich Gedman    462   119  16    49   65  37     7    2131    583   69     244 \n",
              "-Ricky Jones     33     6   0     2    4   7     1      33      6    0       2 \n",
              "-Rudy Law       307    80   1    42   36  29     7    2421    656   18     379 \n",
              "-Tony Armas      16     2   0     1    0   0     2      28      4    0       1 \n",
              "-Toby Harrah    289    63   7    36   41  44    17    7402   1954  195    1115 \n",
              "-Tom O'Malley   181    46   1    19   18  17     5     937    238    9      88 \n",
              "                CRBI CWalks League Division PutOuts Assists Errors Salary\n",
              "-Andy Allanson    29   14   A      E         446     33     20     NA    \n",
              "-Billy Beane      16   11   A      W         118      0      0     NA    \n",
              "-Bruce Bochte    658  653   A      W         912     88      9     NA    \n",
              "-Bob Boone         9    3   A      W         812     84     11     NA    \n",
              "-Bobby Grich     864 1087   A      W         127    221      7     NA    \n",
              "-Bobby Meacham    86  107   A      E          70    149     12     NA    \n",
              "-Ben Oglivie     901  560   A      E           0      0      0     NA    \n",
              "-Butch Wynegar   493  608   A      E         325     22      2     NA    \n",
              "-Cecil Cooper   1089  431   A      E         697     61      9     NA    \n",
              "-Cliff Johnson     4    4   A      E           0      0      0     NA    \n",
              "-Charlie Moore   401  333   A      E         425     43      4     NA    \n",
              "-Doug Baker       12    9   A      W          80      4      0     NA    \n",
              "-Dave Collins    344  422   A      E         211      2      1     NA    \n",
              "-Dave Kingman   1210  608   A      W         463     32      8     NA    \n",
              "-Darryl Motley   158   67   A      W          92      2      2     NA    \n",
              "-Ernest Riles     92   90   A      E         212    327     20     NA    \n",
              "-Ernie Whitt     323  248   A      E         709     41      7     NA    \n",
              "-Fred Lynn       926  716   A      E         244      2      4     NA    \n",
              "-Floyd Rayford   114   53   A      E          40    115     15     NA    \n",
              "-Gorman Thomas   782  697   A      W           0      0      0     NA    \n",
              "-Juan Bonilla     98  111   A      E         122    140      5     NA    \n",
              "-Julio Cruz      279  478   A      W         132    205      5     NA    \n",
              "-Jerry Hairston  185  257   A      W         132      9      0     NA    \n",
              "-Jorge Orta      741  497   A      W           0      0      0     NA    \n",
              "-Jamie Quirk     125   63   A      W         260     58      4     NA    \n",
              "-Jim Traber       46   20   A      E         243     23      5     NA    \n",
              "-Jerry Willard    99   76   A      W         300     12      2     NA    \n",
              "-Lonnie Smith    289  326   A      W         245      5      9     NA    \n",
              "-Mickey Hatcher  270  118   A      W         220     16      4     NA    \n",
              "-Pete O'Brien    328  273   A      W        1224    115     11     NA    \n",
              "-Rich Gedman     288  150   A      E         866     65      6     NA    \n",
              "-Ricky Jones       4    7   A      W         205      5      4     NA    \n",
              "-Rudy Law        198  184   A      W         145      2      2     NA    \n",
              "-Tony Armas        0    0   A      E         247      4      8     NA    \n",
              "-Toby Harrah     919 1153   A      W         166    211      7     NA    \n",
              "-Tom O'Malley     95  104   A      E          37     98      9     NA    \n",
              "                NewLeague\n",
              "-Andy Allanson  A        \n",
              "-Billy Beane    A        \n",
              "-Bruce Bochte   A        \n",
              "-Bob Boone      A        \n",
              "-Bobby Grich    A        \n",
              "-Bobby Meacham  A        \n",
              "-Ben Oglivie    A        \n",
              "-Butch Wynegar  A        \n",
              "-Cecil Cooper   A        \n",
              "-Cliff Johnson  A        \n",
              "-Charlie Moore  A        \n",
              "-Doug Baker     A        \n",
              "-Dave Collins   A        \n",
              "-Dave Kingman   A        \n",
              "-Darryl Motley  A        \n",
              "-Ernest Riles   A        \n",
              "-Ernie Whitt    A        \n",
              "-Fred Lynn      A        \n",
              "-Floyd Rayford  A        \n",
              "-Gorman Thomas  A        \n",
              "-Juan Bonilla   N        \n",
              "-Julio Cruz     A        \n",
              "-Jerry Hairston A        \n",
              "-Jorge Orta     A        \n",
              "-Jamie Quirk    A        \n",
              "-Jim Traber     A        \n",
              "-Jerry Willard  A        \n",
              "-Lonnie Smith   A        \n",
              "-Mickey Hatcher A        \n",
              "-Pete O'Brien   A        \n",
              "-Rich Gedman    A        \n",
              "-Ricky Jones    A        \n",
              "-Rudy Law       A        \n",
              "-Tony Armas     A        \n",
              "-Toby Harrah    A        \n",
              "-Tom O'Malley   A        "
            ],
            "text/latex": "A data.frame: 36 × 20\n\\begin{tabular}{r|llllllllllllllllllll}\n  & AtBat & Hits & HmRun & Runs & RBI & Walks & Years & CAtBat & CHits & CHmRun & CRuns & CRBI & CWalks & League & Division & PutOuts & Assists & Errors & Salary & NewLeague\\\\\n  & <dbl> & <int> & <int> & <int> & <int> & <int> & <int> & <int> & <int> & <int> & <int> & <int> & <int> & <fct> & <fct> & <int> & <int> & <int> & <dbl> & <fct>\\\\\n\\hline\n\t-Andy Allanson & 293 &  66 &  1 & 30 & 29 & 14 &  1 &  293 &   66 &   1 &   30 &   29 &   14 & A & E &  446 &  33 & 20 & NA & A\\\\\n\t-Billy Beane & 183 &  39 &  3 & 20 & 15 & 11 &  3 &  201 &   42 &   3 &   20 &   16 &   11 & A & W &  118 &   0 &  0 & NA & A\\\\\n\t-Bruce Bochte & 407 & 104 &  6 & 57 & 43 & 65 & 12 & 5233 & 1478 & 100 &  643 &  658 &  653 & A & W &  912 &  88 &  9 & NA & A\\\\\n\t-Bob Boone &  22 &  10 &  1 &  4 &  2 &  1 &  6 &   84 &   26 &   2 &    9 &    9 &    3 & A & W &  812 &  84 & 11 & NA & A\\\\\n\t-Bobby Grich & 313 &  84 &  9 & 42 & 30 & 39 & 17 & 6890 & 1833 & 224 & 1033 &  864 & 1087 & A & W &  127 & 221 &  7 & NA & A\\\\\n\t-Bobby Meacham & 161 &  36 &  0 & 19 & 10 & 17 &  4 & 1053 &  244 &   3 &  156 &   86 &  107 & A & E &   70 & 149 & 12 & NA & A\\\\\n\t-Ben Oglivie & 346 &  98 &  5 & 31 & 53 & 30 & 16 & 5913 & 1615 & 235 &  784 &  901 &  560 & A & E &    0 &   0 &  0 & NA & A\\\\\n\t-Butch Wynegar & 194 &  40 &  7 & 19 & 29 & 30 & 11 & 4183 & 1069 &  64 &  486 &  493 &  608 & A & E &  325 &  22 &  2 & NA & A\\\\\n\t-Cecil Cooper & 542 & 140 & 12 & 46 & 75 & 41 & 16 & 7099 & 2130 & 235 &  987 & 1089 &  431 & A & E &  697 &  61 &  9 & NA & A\\\\\n\t-Cliff Johnson &  19 &   7 &  0 &  1 &  2 &  1 &  4 &   41 &   13 &   1 &    3 &    4 &    4 & A & E &    0 &   0 &  0 & NA & A\\\\\n\t-Charlie Moore & 235 &  61 &  3 & 24 & 39 & 21 & 14 & 3926 & 1029 &  35 &  441 &  401 &  333 & A & E &  425 &  43 &  4 & NA & A\\\\\n\t-Doug Baker &  24 &   3 &  0 &  1 &  0 &  2 &  3 &  159 &   28 &   0 &   20 &   12 &    9 & A & W &   80 &   4 &  0 & NA & A\\\\\n\t-Dave Collins & 419 & 113 &  1 & 44 & 27 & 44 & 12 & 4484 & 1231 &  32 &  612 &  344 &  422 & A & E &  211 &   2 &  1 & NA & A\\\\\n\t-Dave Kingman & 561 & 118 & 35 & 70 & 94 & 33 & 16 & 6677 & 1575 & 442 &  901 & 1210 &  608 & A & W &  463 &  32 &  8 & NA & A\\\\\n\t-Darryl Motley & 227 &  46 &  7 & 23 & 20 & 12 &  5 & 1325 &  324 &  44 &  156 &  158 &   67 & A & W &   92 &   2 &  2 & NA & A\\\\\n\t-Ernest Riles & 524 & 132 &  9 & 69 & 47 & 54 &  2 &  972 &  260 &  14 &  123 &   92 &   90 & A & E &  212 & 327 & 20 & NA & A\\\\\n\t-Ernie Whitt & 395 & 106 & 16 & 48 & 56 & 35 & 10 & 2303 &  571 &  86 &  266 &  323 &  248 & A & E &  709 &  41 &  7 & NA & A\\\\\n\t-Fred Lynn & 397 & 114 & 23 & 67 & 67 & 53 & 13 & 5589 & 1632 & 241 &  906 &  926 &  716 & A & E &  244 &   2 &  4 & NA & A\\\\\n\t-Floyd Rayford & 210 &  37 &  8 & 15 & 19 & 15 &  6 &  994 &  244 &  36 &  107 &  114 &   53 & A & E &   40 & 115 & 15 & NA & A\\\\\n\t-Gorman Thomas & 315 &  59 & 16 & 45 & 36 & 58 & 13 & 4677 & 1051 & 268 &  681 &  782 &  697 & A & W &    0 &   0 &  0 & NA & A\\\\\n\t-Juan Bonilla & 284 &  69 &  1 & 33 & 18 & 25 &  5 & 1407 &  361 &   6 &  139 &   98 &  111 & A & E &  122 & 140 &  5 & NA & N\\\\\n\t-Julio Cruz & 209 &  45 &  0 & 38 & 19 & 42 & 10 & 3859 &  916 &  23 &  557 &  279 &  478 & A & W &  132 & 205 &  5 & NA & A\\\\\n\t-Jerry Hairston & 225 &  61 &  5 & 32 & 26 & 26 & 11 & 1568 &  408 &  25 &  202 &  185 &  257 & A & W &  132 &   9 &  0 & NA & A\\\\\n\t-Jorge Orta & 336 &  93 &  9 & 35 & 46 & 23 & 15 & 5779 & 1610 & 128 &  730 &  741 &  497 & A & W &    0 &   0 &  0 & NA & A\\\\\n\t-Jamie Quirk & 219 &  47 &  8 & 24 & 26 & 17 & 12 & 1188 &  286 &  23 &  100 &  125 &   63 & A & W &  260 &  58 &  4 & NA & A\\\\\n\t-Jim Traber & 212 &  54 & 13 & 28 & 44 & 18 &  2 &  233 &   59 &  13 &   31 &   46 &   20 & A & E &  243 &  23 &  5 & NA & A\\\\\n\t-Jerry Willard & 161 &  43 &  4 & 17 & 26 & 22 &  3 &  707 &  179 &  21 &   77 &   99 &   76 & A & W &  300 &  12 &  2 & NA & A\\\\\n\t-Lonnie Smith & 508 & 146 &  8 & 80 & 44 & 46 &  9 & 3148 &  915 &  41 &  571 &  289 &  326 & A & W &  245 &   5 &  9 & NA & A\\\\\n\t-Mickey Hatcher & 317 &  88 &  3 & 40 & 32 & 19 &  8 & 2543 &  715 &  28 &  269 &  270 &  118 & A & W &  220 &  16 &  4 & NA & A\\\\\n\t-Pete O'Brien & 551 & 160 & 23 & 86 & 90 & 87 &  5 & 2235 &  602 &  75 &  278 &  328 &  273 & A & W & 1224 & 115 & 11 & NA & A\\\\\n\t-Rich Gedman & 462 & 119 & 16 & 49 & 65 & 37 &  7 & 2131 &  583 &  69 &  244 &  288 &  150 & A & E &  866 &  65 &  6 & NA & A\\\\\n\t-Ricky Jones &  33 &   6 &  0 &  2 &  4 &  7 &  1 &   33 &    6 &   0 &    2 &    4 &    7 & A & W &  205 &   5 &  4 & NA & A\\\\\n\t-Rudy Law & 307 &  80 &  1 & 42 & 36 & 29 &  7 & 2421 &  656 &  18 &  379 &  198 &  184 & A & W &  145 &   2 &  2 & NA & A\\\\\n\t-Tony Armas &  16 &   2 &  0 &  1 &  0 &  0 &  2 &   28 &    4 &   0 &    1 &    0 &    0 & A & E &  247 &   4 &  8 & NA & A\\\\\n\t-Toby Harrah & 289 &  63 &  7 & 36 & 41 & 44 & 17 & 7402 & 1954 & 195 & 1115 &  919 & 1153 & A & W &  166 & 211 &  7 & NA & A\\\\\n\t-Tom O'Malley & 181 &  46 &  1 & 19 & 18 & 17 &  5 &  937 &  238 &   9 &   88 &   95 &  104 & A & E &   37 &  98 &  9 & NA & A\\\\\n\\end{tabular}\n",
            "text/markdown": "\nA data.frame: 36 × 20\n\n| <!--/--> | AtBat &lt;dbl&gt; | Hits &lt;int&gt; | HmRun &lt;int&gt; | Runs &lt;int&gt; | RBI &lt;int&gt; | Walks &lt;int&gt; | Years &lt;int&gt; | CAtBat &lt;int&gt; | CHits &lt;int&gt; | CHmRun &lt;int&gt; | CRuns &lt;int&gt; | CRBI &lt;int&gt; | CWalks &lt;int&gt; | League &lt;fct&gt; | Division &lt;fct&gt; | PutOuts &lt;int&gt; | Assists &lt;int&gt; | Errors &lt;int&gt; | Salary &lt;dbl&gt; | NewLeague &lt;fct&gt; |\n|---|---|---|---|---|---|---|---|---|---|---|---|---|---|---|---|---|---|---|---|---|\n| -Andy Allanson | 293 |  66 |  1 | 30 | 29 | 14 |  1 |  293 |   66 |   1 |   30 |   29 |   14 | A | E |  446 |  33 | 20 | NA | A |\n| -Billy Beane | 183 |  39 |  3 | 20 | 15 | 11 |  3 |  201 |   42 |   3 |   20 |   16 |   11 | A | W |  118 |   0 |  0 | NA | A |\n| -Bruce Bochte | 407 | 104 |  6 | 57 | 43 | 65 | 12 | 5233 | 1478 | 100 |  643 |  658 |  653 | A | W |  912 |  88 |  9 | NA | A |\n| -Bob Boone |  22 |  10 |  1 |  4 |  2 |  1 |  6 |   84 |   26 |   2 |    9 |    9 |    3 | A | W |  812 |  84 | 11 | NA | A |\n| -Bobby Grich | 313 |  84 |  9 | 42 | 30 | 39 | 17 | 6890 | 1833 | 224 | 1033 |  864 | 1087 | A | W |  127 | 221 |  7 | NA | A |\n| -Bobby Meacham | 161 |  36 |  0 | 19 | 10 | 17 |  4 | 1053 |  244 |   3 |  156 |   86 |  107 | A | E |   70 | 149 | 12 | NA | A |\n| -Ben Oglivie | 346 |  98 |  5 | 31 | 53 | 30 | 16 | 5913 | 1615 | 235 |  784 |  901 |  560 | A | E |    0 |   0 |  0 | NA | A |\n| -Butch Wynegar | 194 |  40 |  7 | 19 | 29 | 30 | 11 | 4183 | 1069 |  64 |  486 |  493 |  608 | A | E |  325 |  22 |  2 | NA | A |\n| -Cecil Cooper | 542 | 140 | 12 | 46 | 75 | 41 | 16 | 7099 | 2130 | 235 |  987 | 1089 |  431 | A | E |  697 |  61 |  9 | NA | A |\n| -Cliff Johnson |  19 |   7 |  0 |  1 |  2 |  1 |  4 |   41 |   13 |   1 |    3 |    4 |    4 | A | E |    0 |   0 |  0 | NA | A |\n| -Charlie Moore | 235 |  61 |  3 | 24 | 39 | 21 | 14 | 3926 | 1029 |  35 |  441 |  401 |  333 | A | E |  425 |  43 |  4 | NA | A |\n| -Doug Baker |  24 |   3 |  0 |  1 |  0 |  2 |  3 |  159 |   28 |   0 |   20 |   12 |    9 | A | W |   80 |   4 |  0 | NA | A |\n| -Dave Collins | 419 | 113 |  1 | 44 | 27 | 44 | 12 | 4484 | 1231 |  32 |  612 |  344 |  422 | A | E |  211 |   2 |  1 | NA | A |\n| -Dave Kingman | 561 | 118 | 35 | 70 | 94 | 33 | 16 | 6677 | 1575 | 442 |  901 | 1210 |  608 | A | W |  463 |  32 |  8 | NA | A |\n| -Darryl Motley | 227 |  46 |  7 | 23 | 20 | 12 |  5 | 1325 |  324 |  44 |  156 |  158 |   67 | A | W |   92 |   2 |  2 | NA | A |\n| -Ernest Riles | 524 | 132 |  9 | 69 | 47 | 54 |  2 |  972 |  260 |  14 |  123 |   92 |   90 | A | E |  212 | 327 | 20 | NA | A |\n| -Ernie Whitt | 395 | 106 | 16 | 48 | 56 | 35 | 10 | 2303 |  571 |  86 |  266 |  323 |  248 | A | E |  709 |  41 |  7 | NA | A |\n| -Fred Lynn | 397 | 114 | 23 | 67 | 67 | 53 | 13 | 5589 | 1632 | 241 |  906 |  926 |  716 | A | E |  244 |   2 |  4 | NA | A |\n| -Floyd Rayford | 210 |  37 |  8 | 15 | 19 | 15 |  6 |  994 |  244 |  36 |  107 |  114 |   53 | A | E |   40 | 115 | 15 | NA | A |\n| -Gorman Thomas | 315 |  59 | 16 | 45 | 36 | 58 | 13 | 4677 | 1051 | 268 |  681 |  782 |  697 | A | W |    0 |   0 |  0 | NA | A |\n| -Juan Bonilla | 284 |  69 |  1 | 33 | 18 | 25 |  5 | 1407 |  361 |   6 |  139 |   98 |  111 | A | E |  122 | 140 |  5 | NA | N |\n| -Julio Cruz | 209 |  45 |  0 | 38 | 19 | 42 | 10 | 3859 |  916 |  23 |  557 |  279 |  478 | A | W |  132 | 205 |  5 | NA | A |\n| -Jerry Hairston | 225 |  61 |  5 | 32 | 26 | 26 | 11 | 1568 |  408 |  25 |  202 |  185 |  257 | A | W |  132 |   9 |  0 | NA | A |\n| -Jorge Orta | 336 |  93 |  9 | 35 | 46 | 23 | 15 | 5779 | 1610 | 128 |  730 |  741 |  497 | A | W |    0 |   0 |  0 | NA | A |\n| -Jamie Quirk | 219 |  47 |  8 | 24 | 26 | 17 | 12 | 1188 |  286 |  23 |  100 |  125 |   63 | A | W |  260 |  58 |  4 | NA | A |\n| -Jim Traber | 212 |  54 | 13 | 28 | 44 | 18 |  2 |  233 |   59 |  13 |   31 |   46 |   20 | A | E |  243 |  23 |  5 | NA | A |\n| -Jerry Willard | 161 |  43 |  4 | 17 | 26 | 22 |  3 |  707 |  179 |  21 |   77 |   99 |   76 | A | W |  300 |  12 |  2 | NA | A |\n| -Lonnie Smith | 508 | 146 |  8 | 80 | 44 | 46 |  9 | 3148 |  915 |  41 |  571 |  289 |  326 | A | W |  245 |   5 |  9 | NA | A |\n| -Mickey Hatcher | 317 |  88 |  3 | 40 | 32 | 19 |  8 | 2543 |  715 |  28 |  269 |  270 |  118 | A | W |  220 |  16 |  4 | NA | A |\n| -Pete O'Brien | 551 | 160 | 23 | 86 | 90 | 87 |  5 | 2235 |  602 |  75 |  278 |  328 |  273 | A | W | 1224 | 115 | 11 | NA | A |\n| -Rich Gedman | 462 | 119 | 16 | 49 | 65 | 37 |  7 | 2131 |  583 |  69 |  244 |  288 |  150 | A | E |  866 |  65 |  6 | NA | A |\n| -Ricky Jones |  33 |   6 |  0 |  2 |  4 |  7 |  1 |   33 |    6 |   0 |    2 |    4 |    7 | A | W |  205 |   5 |  4 | NA | A |\n| -Rudy Law | 307 |  80 |  1 | 42 | 36 | 29 |  7 | 2421 |  656 |  18 |  379 |  198 |  184 | A | W |  145 |   2 |  2 | NA | A |\n| -Tony Armas |  16 |   2 |  0 |  1 |  0 |  0 |  2 |   28 |    4 |   0 |    1 |    0 |    0 | A | E |  247 |   4 |  8 | NA | A |\n| -Toby Harrah | 289 |  63 |  7 | 36 | 41 | 44 | 17 | 7402 | 1954 | 195 | 1115 |  919 | 1153 | A | W |  166 | 211 |  7 | NA | A |\n| -Tom O'Malley | 181 |  46 |  1 | 19 | 18 | 17 |  5 |  937 |  238 |   9 |   88 |   95 |  104 | A | E |   37 |  98 |  9 | NA | A |\n\n",
            "text/html": [
              "<table>\n",
              "<caption>A data.frame: 36 × 20</caption>\n",
              "<thead>\n",
              "\t<tr><th></th><th scope=col>AtBat</th><th scope=col>Hits</th><th scope=col>HmRun</th><th scope=col>Runs</th><th scope=col>RBI</th><th scope=col>Walks</th><th scope=col>Years</th><th scope=col>CAtBat</th><th scope=col>CHits</th><th scope=col>CHmRun</th><th scope=col>CRuns</th><th scope=col>CRBI</th><th scope=col>CWalks</th><th scope=col>League</th><th scope=col>Division</th><th scope=col>PutOuts</th><th scope=col>Assists</th><th scope=col>Errors</th><th scope=col>Salary</th><th scope=col>NewLeague</th></tr>\n",
              "\t<tr><th></th><th scope=col>&lt;dbl&gt;</th><th scope=col>&lt;int&gt;</th><th scope=col>&lt;int&gt;</th><th scope=col>&lt;int&gt;</th><th scope=col>&lt;int&gt;</th><th scope=col>&lt;int&gt;</th><th scope=col>&lt;int&gt;</th><th scope=col>&lt;int&gt;</th><th scope=col>&lt;int&gt;</th><th scope=col>&lt;int&gt;</th><th scope=col>&lt;int&gt;</th><th scope=col>&lt;int&gt;</th><th scope=col>&lt;int&gt;</th><th scope=col>&lt;fct&gt;</th><th scope=col>&lt;fct&gt;</th><th scope=col>&lt;int&gt;</th><th scope=col>&lt;int&gt;</th><th scope=col>&lt;int&gt;</th><th scope=col>&lt;dbl&gt;</th><th scope=col>&lt;fct&gt;</th></tr>\n",
              "</thead>\n",
              "<tbody>\n",
              "\t<tr><th scope=row>-Andy Allanson</th><td>293</td><td> 66</td><td> 1</td><td>30</td><td>29</td><td>14</td><td> 1</td><td> 293</td><td>  66</td><td>  1</td><td>  30</td><td>  29</td><td>  14</td><td>A</td><td>E</td><td> 446</td><td> 33</td><td>20</td><td>NA</td><td>A</td></tr>\n",
              "\t<tr><th scope=row>-Billy Beane</th><td>183</td><td> 39</td><td> 3</td><td>20</td><td>15</td><td>11</td><td> 3</td><td> 201</td><td>  42</td><td>  3</td><td>  20</td><td>  16</td><td>  11</td><td>A</td><td>W</td><td> 118</td><td>  0</td><td> 0</td><td>NA</td><td>A</td></tr>\n",
              "\t<tr><th scope=row>-Bruce Bochte</th><td>407</td><td>104</td><td> 6</td><td>57</td><td>43</td><td>65</td><td>12</td><td>5233</td><td>1478</td><td>100</td><td> 643</td><td> 658</td><td> 653</td><td>A</td><td>W</td><td> 912</td><td> 88</td><td> 9</td><td>NA</td><td>A</td></tr>\n",
              "\t<tr><th scope=row>-Bob Boone</th><td> 22</td><td> 10</td><td> 1</td><td> 4</td><td> 2</td><td> 1</td><td> 6</td><td>  84</td><td>  26</td><td>  2</td><td>   9</td><td>   9</td><td>   3</td><td>A</td><td>W</td><td> 812</td><td> 84</td><td>11</td><td>NA</td><td>A</td></tr>\n",
              "\t<tr><th scope=row>-Bobby Grich</th><td>313</td><td> 84</td><td> 9</td><td>42</td><td>30</td><td>39</td><td>17</td><td>6890</td><td>1833</td><td>224</td><td>1033</td><td> 864</td><td>1087</td><td>A</td><td>W</td><td> 127</td><td>221</td><td> 7</td><td>NA</td><td>A</td></tr>\n",
              "\t<tr><th scope=row>-Bobby Meacham</th><td>161</td><td> 36</td><td> 0</td><td>19</td><td>10</td><td>17</td><td> 4</td><td>1053</td><td> 244</td><td>  3</td><td> 156</td><td>  86</td><td> 107</td><td>A</td><td>E</td><td>  70</td><td>149</td><td>12</td><td>NA</td><td>A</td></tr>\n",
              "\t<tr><th scope=row>-Ben Oglivie</th><td>346</td><td> 98</td><td> 5</td><td>31</td><td>53</td><td>30</td><td>16</td><td>5913</td><td>1615</td><td>235</td><td> 784</td><td> 901</td><td> 560</td><td>A</td><td>E</td><td>   0</td><td>  0</td><td> 0</td><td>NA</td><td>A</td></tr>\n",
              "\t<tr><th scope=row>-Butch Wynegar</th><td>194</td><td> 40</td><td> 7</td><td>19</td><td>29</td><td>30</td><td>11</td><td>4183</td><td>1069</td><td> 64</td><td> 486</td><td> 493</td><td> 608</td><td>A</td><td>E</td><td> 325</td><td> 22</td><td> 2</td><td>NA</td><td>A</td></tr>\n",
              "\t<tr><th scope=row>-Cecil Cooper</th><td>542</td><td>140</td><td>12</td><td>46</td><td>75</td><td>41</td><td>16</td><td>7099</td><td>2130</td><td>235</td><td> 987</td><td>1089</td><td> 431</td><td>A</td><td>E</td><td> 697</td><td> 61</td><td> 9</td><td>NA</td><td>A</td></tr>\n",
              "\t<tr><th scope=row>-Cliff Johnson</th><td> 19</td><td>  7</td><td> 0</td><td> 1</td><td> 2</td><td> 1</td><td> 4</td><td>  41</td><td>  13</td><td>  1</td><td>   3</td><td>   4</td><td>   4</td><td>A</td><td>E</td><td>   0</td><td>  0</td><td> 0</td><td>NA</td><td>A</td></tr>\n",
              "\t<tr><th scope=row>-Charlie Moore</th><td>235</td><td> 61</td><td> 3</td><td>24</td><td>39</td><td>21</td><td>14</td><td>3926</td><td>1029</td><td> 35</td><td> 441</td><td> 401</td><td> 333</td><td>A</td><td>E</td><td> 425</td><td> 43</td><td> 4</td><td>NA</td><td>A</td></tr>\n",
              "\t<tr><th scope=row>-Doug Baker</th><td> 24</td><td>  3</td><td> 0</td><td> 1</td><td> 0</td><td> 2</td><td> 3</td><td> 159</td><td>  28</td><td>  0</td><td>  20</td><td>  12</td><td>   9</td><td>A</td><td>W</td><td>  80</td><td>  4</td><td> 0</td><td>NA</td><td>A</td></tr>\n",
              "\t<tr><th scope=row>-Dave Collins</th><td>419</td><td>113</td><td> 1</td><td>44</td><td>27</td><td>44</td><td>12</td><td>4484</td><td>1231</td><td> 32</td><td> 612</td><td> 344</td><td> 422</td><td>A</td><td>E</td><td> 211</td><td>  2</td><td> 1</td><td>NA</td><td>A</td></tr>\n",
              "\t<tr><th scope=row>-Dave Kingman</th><td>561</td><td>118</td><td>35</td><td>70</td><td>94</td><td>33</td><td>16</td><td>6677</td><td>1575</td><td>442</td><td> 901</td><td>1210</td><td> 608</td><td>A</td><td>W</td><td> 463</td><td> 32</td><td> 8</td><td>NA</td><td>A</td></tr>\n",
              "\t<tr><th scope=row>-Darryl Motley</th><td>227</td><td> 46</td><td> 7</td><td>23</td><td>20</td><td>12</td><td> 5</td><td>1325</td><td> 324</td><td> 44</td><td> 156</td><td> 158</td><td>  67</td><td>A</td><td>W</td><td>  92</td><td>  2</td><td> 2</td><td>NA</td><td>A</td></tr>\n",
              "\t<tr><th scope=row>-Ernest Riles</th><td>524</td><td>132</td><td> 9</td><td>69</td><td>47</td><td>54</td><td> 2</td><td> 972</td><td> 260</td><td> 14</td><td> 123</td><td>  92</td><td>  90</td><td>A</td><td>E</td><td> 212</td><td>327</td><td>20</td><td>NA</td><td>A</td></tr>\n",
              "\t<tr><th scope=row>-Ernie Whitt</th><td>395</td><td>106</td><td>16</td><td>48</td><td>56</td><td>35</td><td>10</td><td>2303</td><td> 571</td><td> 86</td><td> 266</td><td> 323</td><td> 248</td><td>A</td><td>E</td><td> 709</td><td> 41</td><td> 7</td><td>NA</td><td>A</td></tr>\n",
              "\t<tr><th scope=row>-Fred Lynn</th><td>397</td><td>114</td><td>23</td><td>67</td><td>67</td><td>53</td><td>13</td><td>5589</td><td>1632</td><td>241</td><td> 906</td><td> 926</td><td> 716</td><td>A</td><td>E</td><td> 244</td><td>  2</td><td> 4</td><td>NA</td><td>A</td></tr>\n",
              "\t<tr><th scope=row>-Floyd Rayford</th><td>210</td><td> 37</td><td> 8</td><td>15</td><td>19</td><td>15</td><td> 6</td><td> 994</td><td> 244</td><td> 36</td><td> 107</td><td> 114</td><td>  53</td><td>A</td><td>E</td><td>  40</td><td>115</td><td>15</td><td>NA</td><td>A</td></tr>\n",
              "\t<tr><th scope=row>-Gorman Thomas</th><td>315</td><td> 59</td><td>16</td><td>45</td><td>36</td><td>58</td><td>13</td><td>4677</td><td>1051</td><td>268</td><td> 681</td><td> 782</td><td> 697</td><td>A</td><td>W</td><td>   0</td><td>  0</td><td> 0</td><td>NA</td><td>A</td></tr>\n",
              "\t<tr><th scope=row>-Juan Bonilla</th><td>284</td><td> 69</td><td> 1</td><td>33</td><td>18</td><td>25</td><td> 5</td><td>1407</td><td> 361</td><td>  6</td><td> 139</td><td>  98</td><td> 111</td><td>A</td><td>E</td><td> 122</td><td>140</td><td> 5</td><td>NA</td><td>N</td></tr>\n",
              "\t<tr><th scope=row>-Julio Cruz</th><td>209</td><td> 45</td><td> 0</td><td>38</td><td>19</td><td>42</td><td>10</td><td>3859</td><td> 916</td><td> 23</td><td> 557</td><td> 279</td><td> 478</td><td>A</td><td>W</td><td> 132</td><td>205</td><td> 5</td><td>NA</td><td>A</td></tr>\n",
              "\t<tr><th scope=row>-Jerry Hairston</th><td>225</td><td> 61</td><td> 5</td><td>32</td><td>26</td><td>26</td><td>11</td><td>1568</td><td> 408</td><td> 25</td><td> 202</td><td> 185</td><td> 257</td><td>A</td><td>W</td><td> 132</td><td>  9</td><td> 0</td><td>NA</td><td>A</td></tr>\n",
              "\t<tr><th scope=row>-Jorge Orta</th><td>336</td><td> 93</td><td> 9</td><td>35</td><td>46</td><td>23</td><td>15</td><td>5779</td><td>1610</td><td>128</td><td> 730</td><td> 741</td><td> 497</td><td>A</td><td>W</td><td>   0</td><td>  0</td><td> 0</td><td>NA</td><td>A</td></tr>\n",
              "\t<tr><th scope=row>-Jamie Quirk</th><td>219</td><td> 47</td><td> 8</td><td>24</td><td>26</td><td>17</td><td>12</td><td>1188</td><td> 286</td><td> 23</td><td> 100</td><td> 125</td><td>  63</td><td>A</td><td>W</td><td> 260</td><td> 58</td><td> 4</td><td>NA</td><td>A</td></tr>\n",
              "\t<tr><th scope=row>-Jim Traber</th><td>212</td><td> 54</td><td>13</td><td>28</td><td>44</td><td>18</td><td> 2</td><td> 233</td><td>  59</td><td> 13</td><td>  31</td><td>  46</td><td>  20</td><td>A</td><td>E</td><td> 243</td><td> 23</td><td> 5</td><td>NA</td><td>A</td></tr>\n",
              "\t<tr><th scope=row>-Jerry Willard</th><td>161</td><td> 43</td><td> 4</td><td>17</td><td>26</td><td>22</td><td> 3</td><td> 707</td><td> 179</td><td> 21</td><td>  77</td><td>  99</td><td>  76</td><td>A</td><td>W</td><td> 300</td><td> 12</td><td> 2</td><td>NA</td><td>A</td></tr>\n",
              "\t<tr><th scope=row>-Lonnie Smith</th><td>508</td><td>146</td><td> 8</td><td>80</td><td>44</td><td>46</td><td> 9</td><td>3148</td><td> 915</td><td> 41</td><td> 571</td><td> 289</td><td> 326</td><td>A</td><td>W</td><td> 245</td><td>  5</td><td> 9</td><td>NA</td><td>A</td></tr>\n",
              "\t<tr><th scope=row>-Mickey Hatcher</th><td>317</td><td> 88</td><td> 3</td><td>40</td><td>32</td><td>19</td><td> 8</td><td>2543</td><td> 715</td><td> 28</td><td> 269</td><td> 270</td><td> 118</td><td>A</td><td>W</td><td> 220</td><td> 16</td><td> 4</td><td>NA</td><td>A</td></tr>\n",
              "\t<tr><th scope=row>-Pete O'Brien</th><td>551</td><td>160</td><td>23</td><td>86</td><td>90</td><td>87</td><td> 5</td><td>2235</td><td> 602</td><td> 75</td><td> 278</td><td> 328</td><td> 273</td><td>A</td><td>W</td><td>1224</td><td>115</td><td>11</td><td>NA</td><td>A</td></tr>\n",
              "\t<tr><th scope=row>-Rich Gedman</th><td>462</td><td>119</td><td>16</td><td>49</td><td>65</td><td>37</td><td> 7</td><td>2131</td><td> 583</td><td> 69</td><td> 244</td><td> 288</td><td> 150</td><td>A</td><td>E</td><td> 866</td><td> 65</td><td> 6</td><td>NA</td><td>A</td></tr>\n",
              "\t<tr><th scope=row>-Ricky Jones</th><td> 33</td><td>  6</td><td> 0</td><td> 2</td><td> 4</td><td> 7</td><td> 1</td><td>  33</td><td>   6</td><td>  0</td><td>   2</td><td>   4</td><td>   7</td><td>A</td><td>W</td><td> 205</td><td>  5</td><td> 4</td><td>NA</td><td>A</td></tr>\n",
              "\t<tr><th scope=row>-Rudy Law</th><td>307</td><td> 80</td><td> 1</td><td>42</td><td>36</td><td>29</td><td> 7</td><td>2421</td><td> 656</td><td> 18</td><td> 379</td><td> 198</td><td> 184</td><td>A</td><td>W</td><td> 145</td><td>  2</td><td> 2</td><td>NA</td><td>A</td></tr>\n",
              "\t<tr><th scope=row>-Tony Armas</th><td> 16</td><td>  2</td><td> 0</td><td> 1</td><td> 0</td><td> 0</td><td> 2</td><td>  28</td><td>   4</td><td>  0</td><td>   1</td><td>   0</td><td>   0</td><td>A</td><td>E</td><td> 247</td><td>  4</td><td> 8</td><td>NA</td><td>A</td></tr>\n",
              "\t<tr><th scope=row>-Toby Harrah</th><td>289</td><td> 63</td><td> 7</td><td>36</td><td>41</td><td>44</td><td>17</td><td>7402</td><td>1954</td><td>195</td><td>1115</td><td> 919</td><td>1153</td><td>A</td><td>W</td><td> 166</td><td>211</td><td> 7</td><td>NA</td><td>A</td></tr>\n",
              "\t<tr><th scope=row>-Tom O'Malley</th><td>181</td><td> 46</td><td> 1</td><td>19</td><td>18</td><td>17</td><td> 5</td><td> 937</td><td> 238</td><td>  9</td><td>  88</td><td>  95</td><td> 104</td><td>A</td><td>E</td><td>  37</td><td> 98</td><td> 9</td><td>NA</td><td>A</td></tr>\n",
              "</tbody>\n",
              "</table>\n"
            ]
          },
          "metadata": {
            "tags": []
          }
        },
        {
          "output_type": "display_data",
          "data": {
            "text/plain": [
              "               AtBat Hits HmRun Runs RBI Walks Years CAtBat CHits CHmRun CRuns\n",
              "-Bruce Bochte  407   104   6    57   43  65    12    5233   1478  100     643 \n",
              "-Bobby Grich   313    84   9    42   30  39    17    6890   1833  224    1033 \n",
              "-Ben Oglivie   346    98   5    31   53  30    16    5913   1615  235     784 \n",
              "-Butch Wynegar 194    40   7    19   29  30    11    4183   1069   64     486 \n",
              "-Cecil Cooper  542   140  12    46   75  41    16    7099   2130  235     987 \n",
              "-Dave Collins  419   113   1    44   27  44    12    4484   1231   32     612 \n",
              "-Dave Kingman  561   118  35    70   94  33    16    6677   1575  442     901 \n",
              "-Fred Lynn     397   114  23    67   67  53    13    5589   1632  241     906 \n",
              "-Gorman Thomas 315    59  16    45   36  58    13    4677   1051  268     681 \n",
              "-Julio Cruz    209    45   0    38   19  42    10    3859    916   23     557 \n",
              "-Jorge Orta    336    93   9    35   46  23    15    5779   1610  128     730 \n",
              "-Toby Harrah   289    63   7    36   41  44    17    7402   1954  195    1115 \n",
              "               CRBI CWalks League Division PutOuts Assists Errors Salary\n",
              "-Bruce Bochte   658  653   A      W        912      88     9      NA    \n",
              "-Bobby Grich    864 1087   A      W        127     221     7      NA    \n",
              "-Ben Oglivie    901  560   A      E          0       0     0      NA    \n",
              "-Butch Wynegar  493  608   A      E        325      22     2      NA    \n",
              "-Cecil Cooper  1089  431   A      E        697      61     9      NA    \n",
              "-Dave Collins   344  422   A      E        211       2     1      NA    \n",
              "-Dave Kingman  1210  608   A      W        463      32     8      NA    \n",
              "-Fred Lynn      926  716   A      E        244       2     4      NA    \n",
              "-Gorman Thomas  782  697   A      W          0       0     0      NA    \n",
              "-Julio Cruz     279  478   A      W        132     205     5      NA    \n",
              "-Jorge Orta     741  497   A      W          0       0     0      NA    \n",
              "-Toby Harrah    919 1153   A      W        166     211     7      NA    \n",
              "               NewLeague\n",
              "-Bruce Bochte  A        \n",
              "-Bobby Grich   A        \n",
              "-Ben Oglivie   A        \n",
              "-Butch Wynegar A        \n",
              "-Cecil Cooper  A        \n",
              "-Dave Collins  A        \n",
              "-Dave Kingman  A        \n",
              "-Fred Lynn     A        \n",
              "-Gorman Thomas A        \n",
              "-Julio Cruz    A        \n",
              "-Jorge Orta    A        \n",
              "-Toby Harrah   A        "
            ],
            "text/latex": "A data.frame: 12 × 20\n\\begin{tabular}{r|llllllllllllllllllll}\n  & AtBat & Hits & HmRun & Runs & RBI & Walks & Years & CAtBat & CHits & CHmRun & CRuns & CRBI & CWalks & League & Division & PutOuts & Assists & Errors & Salary & NewLeague\\\\\n  & <dbl> & <int> & <int> & <int> & <int> & <int> & <int> & <int> & <int> & <int> & <int> & <int> & <int> & <fct> & <fct> & <int> & <int> & <int> & <dbl> & <fct>\\\\\n\\hline\n\t-Bruce Bochte & 407 & 104 &  6 & 57 & 43 & 65 & 12 & 5233 & 1478 & 100 &  643 &  658 &  653 & A & W & 912 &  88 & 9 & NA & A\\\\\n\t-Bobby Grich & 313 &  84 &  9 & 42 & 30 & 39 & 17 & 6890 & 1833 & 224 & 1033 &  864 & 1087 & A & W & 127 & 221 & 7 & NA & A\\\\\n\t-Ben Oglivie & 346 &  98 &  5 & 31 & 53 & 30 & 16 & 5913 & 1615 & 235 &  784 &  901 &  560 & A & E &   0 &   0 & 0 & NA & A\\\\\n\t-Butch Wynegar & 194 &  40 &  7 & 19 & 29 & 30 & 11 & 4183 & 1069 &  64 &  486 &  493 &  608 & A & E & 325 &  22 & 2 & NA & A\\\\\n\t-Cecil Cooper & 542 & 140 & 12 & 46 & 75 & 41 & 16 & 7099 & 2130 & 235 &  987 & 1089 &  431 & A & E & 697 &  61 & 9 & NA & A\\\\\n\t-Dave Collins & 419 & 113 &  1 & 44 & 27 & 44 & 12 & 4484 & 1231 &  32 &  612 &  344 &  422 & A & E & 211 &   2 & 1 & NA & A\\\\\n\t-Dave Kingman & 561 & 118 & 35 & 70 & 94 & 33 & 16 & 6677 & 1575 & 442 &  901 & 1210 &  608 & A & W & 463 &  32 & 8 & NA & A\\\\\n\t-Fred Lynn & 397 & 114 & 23 & 67 & 67 & 53 & 13 & 5589 & 1632 & 241 &  906 &  926 &  716 & A & E & 244 &   2 & 4 & NA & A\\\\\n\t-Gorman Thomas & 315 &  59 & 16 & 45 & 36 & 58 & 13 & 4677 & 1051 & 268 &  681 &  782 &  697 & A & W &   0 &   0 & 0 & NA & A\\\\\n\t-Julio Cruz & 209 &  45 &  0 & 38 & 19 & 42 & 10 & 3859 &  916 &  23 &  557 &  279 &  478 & A & W & 132 & 205 & 5 & NA & A\\\\\n\t-Jorge Orta & 336 &  93 &  9 & 35 & 46 & 23 & 15 & 5779 & 1610 & 128 &  730 &  741 &  497 & A & W &   0 &   0 & 0 & NA & A\\\\\n\t-Toby Harrah & 289 &  63 &  7 & 36 & 41 & 44 & 17 & 7402 & 1954 & 195 & 1115 &  919 & 1153 & A & W & 166 & 211 & 7 & NA & A\\\\\n\\end{tabular}\n",
            "text/markdown": "\nA data.frame: 12 × 20\n\n| <!--/--> | AtBat &lt;dbl&gt; | Hits &lt;int&gt; | HmRun &lt;int&gt; | Runs &lt;int&gt; | RBI &lt;int&gt; | Walks &lt;int&gt; | Years &lt;int&gt; | CAtBat &lt;int&gt; | CHits &lt;int&gt; | CHmRun &lt;int&gt; | CRuns &lt;int&gt; | CRBI &lt;int&gt; | CWalks &lt;int&gt; | League &lt;fct&gt; | Division &lt;fct&gt; | PutOuts &lt;int&gt; | Assists &lt;int&gt; | Errors &lt;int&gt; | Salary &lt;dbl&gt; | NewLeague &lt;fct&gt; |\n|---|---|---|---|---|---|---|---|---|---|---|---|---|---|---|---|---|---|---|---|---|\n| -Bruce Bochte | 407 | 104 |  6 | 57 | 43 | 65 | 12 | 5233 | 1478 | 100 |  643 |  658 |  653 | A | W | 912 |  88 | 9 | NA | A |\n| -Bobby Grich | 313 |  84 |  9 | 42 | 30 | 39 | 17 | 6890 | 1833 | 224 | 1033 |  864 | 1087 | A | W | 127 | 221 | 7 | NA | A |\n| -Ben Oglivie | 346 |  98 |  5 | 31 | 53 | 30 | 16 | 5913 | 1615 | 235 |  784 |  901 |  560 | A | E |   0 |   0 | 0 | NA | A |\n| -Butch Wynegar | 194 |  40 |  7 | 19 | 29 | 30 | 11 | 4183 | 1069 |  64 |  486 |  493 |  608 | A | E | 325 |  22 | 2 | NA | A |\n| -Cecil Cooper | 542 | 140 | 12 | 46 | 75 | 41 | 16 | 7099 | 2130 | 235 |  987 | 1089 |  431 | A | E | 697 |  61 | 9 | NA | A |\n| -Dave Collins | 419 | 113 |  1 | 44 | 27 | 44 | 12 | 4484 | 1231 |  32 |  612 |  344 |  422 | A | E | 211 |   2 | 1 | NA | A |\n| -Dave Kingman | 561 | 118 | 35 | 70 | 94 | 33 | 16 | 6677 | 1575 | 442 |  901 | 1210 |  608 | A | W | 463 |  32 | 8 | NA | A |\n| -Fred Lynn | 397 | 114 | 23 | 67 | 67 | 53 | 13 | 5589 | 1632 | 241 |  906 |  926 |  716 | A | E | 244 |   2 | 4 | NA | A |\n| -Gorman Thomas | 315 |  59 | 16 | 45 | 36 | 58 | 13 | 4677 | 1051 | 268 |  681 |  782 |  697 | A | W |   0 |   0 | 0 | NA | A |\n| -Julio Cruz | 209 |  45 |  0 | 38 | 19 | 42 | 10 | 3859 |  916 |  23 |  557 |  279 |  478 | A | W | 132 | 205 | 5 | NA | A |\n| -Jorge Orta | 336 |  93 |  9 | 35 | 46 | 23 | 15 | 5779 | 1610 | 128 |  730 |  741 |  497 | A | W |   0 |   0 | 0 | NA | A |\n| -Toby Harrah | 289 |  63 |  7 | 36 | 41 | 44 | 17 | 7402 | 1954 | 195 | 1115 |  919 | 1153 | A | W | 166 | 211 | 7 | NA | A |\n\n",
            "text/html": [
              "<table>\n",
              "<caption>A data.frame: 12 × 20</caption>\n",
              "<thead>\n",
              "\t<tr><th></th><th scope=col>AtBat</th><th scope=col>Hits</th><th scope=col>HmRun</th><th scope=col>Runs</th><th scope=col>RBI</th><th scope=col>Walks</th><th scope=col>Years</th><th scope=col>CAtBat</th><th scope=col>CHits</th><th scope=col>CHmRun</th><th scope=col>CRuns</th><th scope=col>CRBI</th><th scope=col>CWalks</th><th scope=col>League</th><th scope=col>Division</th><th scope=col>PutOuts</th><th scope=col>Assists</th><th scope=col>Errors</th><th scope=col>Salary</th><th scope=col>NewLeague</th></tr>\n",
              "\t<tr><th></th><th scope=col>&lt;dbl&gt;</th><th scope=col>&lt;int&gt;</th><th scope=col>&lt;int&gt;</th><th scope=col>&lt;int&gt;</th><th scope=col>&lt;int&gt;</th><th scope=col>&lt;int&gt;</th><th scope=col>&lt;int&gt;</th><th scope=col>&lt;int&gt;</th><th scope=col>&lt;int&gt;</th><th scope=col>&lt;int&gt;</th><th scope=col>&lt;int&gt;</th><th scope=col>&lt;int&gt;</th><th scope=col>&lt;int&gt;</th><th scope=col>&lt;fct&gt;</th><th scope=col>&lt;fct&gt;</th><th scope=col>&lt;int&gt;</th><th scope=col>&lt;int&gt;</th><th scope=col>&lt;int&gt;</th><th scope=col>&lt;dbl&gt;</th><th scope=col>&lt;fct&gt;</th></tr>\n",
              "</thead>\n",
              "<tbody>\n",
              "\t<tr><th scope=row>-Bruce Bochte</th><td>407</td><td>104</td><td> 6</td><td>57</td><td>43</td><td>65</td><td>12</td><td>5233</td><td>1478</td><td>100</td><td> 643</td><td> 658</td><td> 653</td><td>A</td><td>W</td><td>912</td><td> 88</td><td>9</td><td>NA</td><td>A</td></tr>\n",
              "\t<tr><th scope=row>-Bobby Grich</th><td>313</td><td> 84</td><td> 9</td><td>42</td><td>30</td><td>39</td><td>17</td><td>6890</td><td>1833</td><td>224</td><td>1033</td><td> 864</td><td>1087</td><td>A</td><td>W</td><td>127</td><td>221</td><td>7</td><td>NA</td><td>A</td></tr>\n",
              "\t<tr><th scope=row>-Ben Oglivie</th><td>346</td><td> 98</td><td> 5</td><td>31</td><td>53</td><td>30</td><td>16</td><td>5913</td><td>1615</td><td>235</td><td> 784</td><td> 901</td><td> 560</td><td>A</td><td>E</td><td>  0</td><td>  0</td><td>0</td><td>NA</td><td>A</td></tr>\n",
              "\t<tr><th scope=row>-Butch Wynegar</th><td>194</td><td> 40</td><td> 7</td><td>19</td><td>29</td><td>30</td><td>11</td><td>4183</td><td>1069</td><td> 64</td><td> 486</td><td> 493</td><td> 608</td><td>A</td><td>E</td><td>325</td><td> 22</td><td>2</td><td>NA</td><td>A</td></tr>\n",
              "\t<tr><th scope=row>-Cecil Cooper</th><td>542</td><td>140</td><td>12</td><td>46</td><td>75</td><td>41</td><td>16</td><td>7099</td><td>2130</td><td>235</td><td> 987</td><td>1089</td><td> 431</td><td>A</td><td>E</td><td>697</td><td> 61</td><td>9</td><td>NA</td><td>A</td></tr>\n",
              "\t<tr><th scope=row>-Dave Collins</th><td>419</td><td>113</td><td> 1</td><td>44</td><td>27</td><td>44</td><td>12</td><td>4484</td><td>1231</td><td> 32</td><td> 612</td><td> 344</td><td> 422</td><td>A</td><td>E</td><td>211</td><td>  2</td><td>1</td><td>NA</td><td>A</td></tr>\n",
              "\t<tr><th scope=row>-Dave Kingman</th><td>561</td><td>118</td><td>35</td><td>70</td><td>94</td><td>33</td><td>16</td><td>6677</td><td>1575</td><td>442</td><td> 901</td><td>1210</td><td> 608</td><td>A</td><td>W</td><td>463</td><td> 32</td><td>8</td><td>NA</td><td>A</td></tr>\n",
              "\t<tr><th scope=row>-Fred Lynn</th><td>397</td><td>114</td><td>23</td><td>67</td><td>67</td><td>53</td><td>13</td><td>5589</td><td>1632</td><td>241</td><td> 906</td><td> 926</td><td> 716</td><td>A</td><td>E</td><td>244</td><td>  2</td><td>4</td><td>NA</td><td>A</td></tr>\n",
              "\t<tr><th scope=row>-Gorman Thomas</th><td>315</td><td> 59</td><td>16</td><td>45</td><td>36</td><td>58</td><td>13</td><td>4677</td><td>1051</td><td>268</td><td> 681</td><td> 782</td><td> 697</td><td>A</td><td>W</td><td>  0</td><td>  0</td><td>0</td><td>NA</td><td>A</td></tr>\n",
              "\t<tr><th scope=row>-Julio Cruz</th><td>209</td><td> 45</td><td> 0</td><td>38</td><td>19</td><td>42</td><td>10</td><td>3859</td><td> 916</td><td> 23</td><td> 557</td><td> 279</td><td> 478</td><td>A</td><td>W</td><td>132</td><td>205</td><td>5</td><td>NA</td><td>A</td></tr>\n",
              "\t<tr><th scope=row>-Jorge Orta</th><td>336</td><td> 93</td><td> 9</td><td>35</td><td>46</td><td>23</td><td>15</td><td>5779</td><td>1610</td><td>128</td><td> 730</td><td> 741</td><td> 497</td><td>A</td><td>W</td><td>  0</td><td>  0</td><td>0</td><td>NA</td><td>A</td></tr>\n",
              "\t<tr><th scope=row>-Toby Harrah</th><td>289</td><td> 63</td><td> 7</td><td>36</td><td>41</td><td>44</td><td>17</td><td>7402</td><td>1954</td><td>195</td><td>1115</td><td> 919</td><td>1153</td><td>A</td><td>W</td><td>166</td><td>211</td><td>7</td><td>NA</td><td>A</td></tr>\n",
              "</tbody>\n",
              "</table>\n"
            ]
          },
          "metadata": {
            "tags": []
          }
        }
      ]
    },
    {
      "cell_type": "code",
      "metadata": {
        "id": "9CV1MZKbmv7I",
        "outputId": "00e33558-d499-4cc3-c8d1-b7a970c93800",
        "colab": {
          "base_uri": "https://localhost:8080/",
          "height": 78
        }
      },
      "source": [
        "# replacing specific data\n",
        "df[is.na(df$Salary),\"Salary\"] <- mean(df$Salary, na.rm = TRUE)\n",
        "df[is.na(df$Salary),]"
      ],
      "execution_count": 43,
      "outputs": [
        {
          "output_type": "display_data",
          "data": {
            "text/plain": [
              "     AtBat Hits HmRun Runs RBI Walks Years CAtBat CHits CHmRun CRuns CRBI\n",
              "     CWalks League Division PutOuts Assists Errors Salary NewLeague"
            ],
            "text/latex": "A data.frame: 0 × 20\n\\begin{tabular}{llllllllllllllllllll}\n AtBat & Hits & HmRun & Runs & RBI & Walks & Years & CAtBat & CHits & CHmRun & CRuns & CRBI & CWalks & League & Division & PutOuts & Assists & Errors & Salary & NewLeague\\\\\n <dbl> & <int> & <int> & <int> & <int> & <int> & <int> & <int> & <int> & <int> & <int> & <int> & <int> & <fct> & <fct> & <int> & <int> & <int> & <dbl> & <fct>\\\\\n\\hline\n\\end{tabular}\n",
            "text/markdown": "\nA data.frame: 0 × 20\n\n| AtBat &lt;dbl&gt; | Hits &lt;int&gt; | HmRun &lt;int&gt; | Runs &lt;int&gt; | RBI &lt;int&gt; | Walks &lt;int&gt; | Years &lt;int&gt; | CAtBat &lt;int&gt; | CHits &lt;int&gt; | CHmRun &lt;int&gt; | CRuns &lt;int&gt; | CRBI &lt;int&gt; | CWalks &lt;int&gt; | League &lt;fct&gt; | Division &lt;fct&gt; | PutOuts &lt;int&gt; | Assists &lt;int&gt; | Errors &lt;int&gt; | Salary &lt;dbl&gt; | NewLeague &lt;fct&gt; |\n|---|---|---|---|---|---|---|---|---|---|---|---|---|---|---|---|---|---|---|---|\n\n",
            "text/html": [
              "<table>\n",
              "<caption>A data.frame: 0 × 20</caption>\n",
              "<thead>\n",
              "\t<tr><th scope=col>AtBat</th><th scope=col>Hits</th><th scope=col>HmRun</th><th scope=col>Runs</th><th scope=col>RBI</th><th scope=col>Walks</th><th scope=col>Years</th><th scope=col>CAtBat</th><th scope=col>CHits</th><th scope=col>CHmRun</th><th scope=col>CRuns</th><th scope=col>CRBI</th><th scope=col>CWalks</th><th scope=col>League</th><th scope=col>Division</th><th scope=col>PutOuts</th><th scope=col>Assists</th><th scope=col>Errors</th><th scope=col>Salary</th><th scope=col>NewLeague</th></tr>\n",
              "\t<tr><th scope=col>&lt;dbl&gt;</th><th scope=col>&lt;int&gt;</th><th scope=col>&lt;int&gt;</th><th scope=col>&lt;int&gt;</th><th scope=col>&lt;int&gt;</th><th scope=col>&lt;int&gt;</th><th scope=col>&lt;int&gt;</th><th scope=col>&lt;int&gt;</th><th scope=col>&lt;int&gt;</th><th scope=col>&lt;int&gt;</th><th scope=col>&lt;int&gt;</th><th scope=col>&lt;int&gt;</th><th scope=col>&lt;int&gt;</th><th scope=col>&lt;fct&gt;</th><th scope=col>&lt;fct&gt;</th><th scope=col>&lt;int&gt;</th><th scope=col>&lt;int&gt;</th><th scope=col>&lt;int&gt;</th><th scope=col>&lt;dbl&gt;</th><th scope=col>&lt;fct&gt;</th></tr>\n",
              "</thead>\n",
              "<tbody>\n",
              "</tbody>\n",
              "</table>\n"
            ]
          },
          "metadata": {
            "tags": []
          }
        }
      ]
    },
    {
      "cell_type": "markdown",
      "metadata": {
        "id": "m8VyTn_Gm7mb"
      },
      "source": [
        "In this last part you learn ways to create data and add them to your data frame."
      ]
    },
    {
      "cell_type": "code",
      "metadata": {
        "id": "9ZVNUXs2FHTY"
      },
      "source": [
        "# generating deterministic data\n",
        "df$TotalWalks <- df$Walks * df$Years"
      ],
      "execution_count": 46,
      "outputs": []
    },
    {
      "cell_type": "code",
      "metadata": {
        "id": "jUiE-8E7FHTZ",
        "outputId": "87bed91a-a9b5-49f1-d328-3283b3390eb6",
        "colab": {
          "base_uri": "https://localhost:8080/",
          "height": 204
        }
      },
      "source": [
        "head(df[,c(\"TotalWalks\", \"Walks\", \"Years\")])"
      ],
      "execution_count": 47,
      "outputs": [
        {
          "output_type": "display_data",
          "data": {
            "text/plain": [
              "                  TotalWalks Walks Years\n",
              "-Andy Allanson     14        14     1   \n",
              "-Alan Ashby       546        39    14   \n",
              "-Alvin Davis      228        76     3   \n",
              "-Andre Dawson     407        37    11   \n",
              "-Andres Galarraga  60        30     2   \n",
              "-Alfredo Griffin  385        35    11   "
            ],
            "text/latex": "A data.frame: 6 × 3\n\\begin{tabular}{r|lll}\n  & TotalWalks & Walks & Years\\\\\n  & <int> & <int> & <int>\\\\\n\\hline\n\t-Andy Allanson &  14 & 14 &  1\\\\\n\t-Alan Ashby & 546 & 39 & 14\\\\\n\t-Alvin Davis & 228 & 76 &  3\\\\\n\t-Andre Dawson & 407 & 37 & 11\\\\\n\t-Andres Galarraga &  60 & 30 &  2\\\\\n\t-Alfredo Griffin & 385 & 35 & 11\\\\\n\\end{tabular}\n",
            "text/markdown": "\nA data.frame: 6 × 3\n\n| <!--/--> | TotalWalks &lt;int&gt; | Walks &lt;int&gt; | Years &lt;int&gt; |\n|---|---|---|---|\n| -Andy Allanson |  14 | 14 |  1 |\n| -Alan Ashby | 546 | 39 | 14 |\n| -Alvin Davis | 228 | 76 |  3 |\n| -Andre Dawson | 407 | 37 | 11 |\n| -Andres Galarraga |  60 | 30 |  2 |\n| -Alfredo Griffin | 385 | 35 | 11 |\n\n",
            "text/html": [
              "<table>\n",
              "<caption>A data.frame: 6 × 3</caption>\n",
              "<thead>\n",
              "\t<tr><th></th><th scope=col>TotalWalks</th><th scope=col>Walks</th><th scope=col>Years</th></tr>\n",
              "\t<tr><th></th><th scope=col>&lt;int&gt;</th><th scope=col>&lt;int&gt;</th><th scope=col>&lt;int&gt;</th></tr>\n",
              "</thead>\n",
              "<tbody>\n",
              "\t<tr><th scope=row>-Andy Allanson</th><td> 14</td><td>14</td><td> 1</td></tr>\n",
              "\t<tr><th scope=row>-Alan Ashby</th><td>546</td><td>39</td><td>14</td></tr>\n",
              "\t<tr><th scope=row>-Alvin Davis</th><td>228</td><td>76</td><td> 3</td></tr>\n",
              "\t<tr><th scope=row>-Andre Dawson</th><td>407</td><td>37</td><td>11</td></tr>\n",
              "\t<tr><th scope=row>-Andres Galarraga</th><td> 60</td><td>30</td><td> 2</td></tr>\n",
              "\t<tr><th scope=row>-Alfredo Griffin</th><td>385</td><td>35</td><td>11</td></tr>\n",
              "</tbody>\n",
              "</table>\n"
            ]
          },
          "metadata": {
            "tags": []
          }
        }
      ]
    },
    {
      "cell_type": "code",
      "metadata": {
        "id": "HpYWB3cUFHTb"
      },
      "source": [
        "# generating random data\n",
        "?rnorm\n",
        "x <- rnorm(nrow(df), mean = 100, sd = 10)\n",
        "set.seed(123)\n",
        "x <- rnorm(nrow(df), mean = 100, sd = 10)"
      ],
      "execution_count": 48,
      "outputs": []
    },
    {
      "cell_type": "code",
      "metadata": {
        "id": "YApYJ9OJFHTc",
        "outputId": "a5b2b2a4-e13d-4c5b-cc5c-e4394ed696ae",
        "colab": {
          "base_uri": "https://localhost:8080/",
          "height": 221
        }
      },
      "source": [
        "# adding variabel x to the data frame df\n",
        "df <- cbind(df, x)\n",
        "colnames(df)\n",
        "head(df)"
      ],
      "execution_count": 49,
      "outputs": [
        {
          "output_type": "display_data",
          "data": {
            "text/plain": [
              " [1] \"AtBat\"      \"Hits\"       \"HmRun\"      \"Runs\"       \"RBI\"       \n",
              " [6] \"Walks\"      \"Years\"      \"CAtBat\"     \"CHits\"      \"CHmRun\"    \n",
              "[11] \"CRuns\"      \"CRBI\"       \"CWalks\"     \"League\"     \"Division\"  \n",
              "[16] \"PutOuts\"    \"Assists\"    \"Errors\"     \"Salary\"     \"NewLeague\" \n",
              "[21] \"TotalWalks\" \"x\"         "
            ],
            "text/latex": "\\begin{enumerate*}\n\\item 'AtBat'\n\\item 'Hits'\n\\item 'HmRun'\n\\item 'Runs'\n\\item 'RBI'\n\\item 'Walks'\n\\item 'Years'\n\\item 'CAtBat'\n\\item 'CHits'\n\\item 'CHmRun'\n\\item 'CRuns'\n\\item 'CRBI'\n\\item 'CWalks'\n\\item 'League'\n\\item 'Division'\n\\item 'PutOuts'\n\\item 'Assists'\n\\item 'Errors'\n\\item 'Salary'\n\\item 'NewLeague'\n\\item 'TotalWalks'\n\\item 'x'\n\\end{enumerate*}\n",
            "text/markdown": "1. 'AtBat'\n2. 'Hits'\n3. 'HmRun'\n4. 'Runs'\n5. 'RBI'\n6. 'Walks'\n7. 'Years'\n8. 'CAtBat'\n9. 'CHits'\n10. 'CHmRun'\n11. 'CRuns'\n12. 'CRBI'\n13. 'CWalks'\n14. 'League'\n15. 'Division'\n16. 'PutOuts'\n17. 'Assists'\n18. 'Errors'\n19. 'Salary'\n20. 'NewLeague'\n21. 'TotalWalks'\n22. 'x'\n\n\n",
            "text/html": [
              "<style>\n",
              ".list-inline {list-style: none; margin:0; padding: 0}\n",
              ".list-inline>li {display: inline-block}\n",
              ".list-inline>li:not(:last-child)::after {content: \"\\00b7\"; padding: 0 .5ex}\n",
              "</style>\n",
              "<ol class=list-inline><li>'AtBat'</li><li>'Hits'</li><li>'HmRun'</li><li>'Runs'</li><li>'RBI'</li><li>'Walks'</li><li>'Years'</li><li>'CAtBat'</li><li>'CHits'</li><li>'CHmRun'</li><li>'CRuns'</li><li>'CRBI'</li><li>'CWalks'</li><li>'League'</li><li>'Division'</li><li>'PutOuts'</li><li>'Assists'</li><li>'Errors'</li><li>'Salary'</li><li>'NewLeague'</li><li>'TotalWalks'</li><li>'x'</li></ol>\n"
            ]
          },
          "metadata": {
            "tags": []
          }
        },
        {
          "output_type": "display_data",
          "data": {
            "text/plain": [
              "                  AtBat Hits HmRun Runs RBI Walks Years CAtBat CHits CHmRun ⋯\n",
              "-Andy Allanson    293    66   1    30   29  14     1     293     66    1    ⋯\n",
              "-Alan Ashby       315    81   7    24   38  39    14    3449    835   69    ⋯\n",
              "-Alvin Davis      479   130  18    66   72  76     3    1624    457   63    ⋯\n",
              "-Andre Dawson     496   141  20    65   78  37    11    5628   1575  225    ⋯\n",
              "-Andres Galarraga 321    87  10    39   42  30     2     396    101   12    ⋯\n",
              "-Alfredo Griffin  594   169   4    74   51  35    11    4408   1133   19    ⋯\n",
              "                  CWalks League Division PutOuts Assists Errors Salary  \n",
              "-Andy Allanson     14    A      E        446      33     20     535.9259\n",
              "-Alan Ashby       375    N      W        632      43     10     475.0000\n",
              "-Alvin Davis      263    A      W        880      82     14     480.0000\n",
              "-Andre Dawson     354    N      E        200      11      3     500.0000\n",
              "-Andres Galarraga  33    N      E        805      40      4      91.5000\n",
              "-Alfredo Griffin  194    A      W        282     421     25     750.0000\n",
              "                  NewLeague TotalWalks x        \n",
              "-Andy Allanson    A          14         94.39524\n",
              "-Alan Ashby       N         546         97.69823\n",
              "-Alvin Davis      A         228        115.58708\n",
              "-Andre Dawson     N         407        100.70508\n",
              "-Andres Galarraga N          60        101.29288\n",
              "-Alfredo Griffin  A         385        117.15065"
            ],
            "text/latex": "A data.frame: 6 × 22\n\\begin{tabular}{r|lllllllllllllllllllll}\n  & AtBat & Hits & HmRun & Runs & RBI & Walks & Years & CAtBat & CHits & CHmRun & ⋯ & CWalks & League & Division & PutOuts & Assists & Errors & Salary & NewLeague & TotalWalks & x\\\\\n  & <dbl> & <int> & <int> & <int> & <int> & <int> & <int> & <int> & <int> & <int> & ⋯ & <int> & <fct> & <fct> & <int> & <int> & <int> & <dbl> & <fct> & <int> & <dbl>\\\\\n\\hline\n\t-Andy Allanson & 293 &  66 &  1 & 30 & 29 & 14 &  1 &  293 &   66 &   1 & ⋯ &  14 & A & E & 446 &  33 & 20 & 535.9259 & A &  14 &  94.39524\\\\\n\t-Alan Ashby & 315 &  81 &  7 & 24 & 38 & 39 & 14 & 3449 &  835 &  69 & ⋯ & 375 & N & W & 632 &  43 & 10 & 475.0000 & N & 546 &  97.69823\\\\\n\t-Alvin Davis & 479 & 130 & 18 & 66 & 72 & 76 &  3 & 1624 &  457 &  63 & ⋯ & 263 & A & W & 880 &  82 & 14 & 480.0000 & A & 228 & 115.58708\\\\\n\t-Andre Dawson & 496 & 141 & 20 & 65 & 78 & 37 & 11 & 5628 & 1575 & 225 & ⋯ & 354 & N & E & 200 &  11 &  3 & 500.0000 & N & 407 & 100.70508\\\\\n\t-Andres Galarraga & 321 &  87 & 10 & 39 & 42 & 30 &  2 &  396 &  101 &  12 & ⋯ &  33 & N & E & 805 &  40 &  4 &  91.5000 & N &  60 & 101.29288\\\\\n\t-Alfredo Griffin & 594 & 169 &  4 & 74 & 51 & 35 & 11 & 4408 & 1133 &  19 & ⋯ & 194 & A & W & 282 & 421 & 25 & 750.0000 & A & 385 & 117.15065\\\\\n\\end{tabular}\n",
            "text/markdown": "\nA data.frame: 6 × 22\n\n| <!--/--> | AtBat &lt;dbl&gt; | Hits &lt;int&gt; | HmRun &lt;int&gt; | Runs &lt;int&gt; | RBI &lt;int&gt; | Walks &lt;int&gt; | Years &lt;int&gt; | CAtBat &lt;int&gt; | CHits &lt;int&gt; | CHmRun &lt;int&gt; | ⋯ ⋯ | CWalks &lt;int&gt; | League &lt;fct&gt; | Division &lt;fct&gt; | PutOuts &lt;int&gt; | Assists &lt;int&gt; | Errors &lt;int&gt; | Salary &lt;dbl&gt; | NewLeague &lt;fct&gt; | TotalWalks &lt;int&gt; | x &lt;dbl&gt; |\n|---|---|---|---|---|---|---|---|---|---|---|---|---|---|---|---|---|---|---|---|---|---|\n| -Andy Allanson | 293 |  66 |  1 | 30 | 29 | 14 |  1 |  293 |   66 |   1 | ⋯ |  14 | A | E | 446 |  33 | 20 | 535.9259 | A |  14 |  94.39524 |\n| -Alan Ashby | 315 |  81 |  7 | 24 | 38 | 39 | 14 | 3449 |  835 |  69 | ⋯ | 375 | N | W | 632 |  43 | 10 | 475.0000 | N | 546 |  97.69823 |\n| -Alvin Davis | 479 | 130 | 18 | 66 | 72 | 76 |  3 | 1624 |  457 |  63 | ⋯ | 263 | A | W | 880 |  82 | 14 | 480.0000 | A | 228 | 115.58708 |\n| -Andre Dawson | 496 | 141 | 20 | 65 | 78 | 37 | 11 | 5628 | 1575 | 225 | ⋯ | 354 | N | E | 200 |  11 |  3 | 500.0000 | N | 407 | 100.70508 |\n| -Andres Galarraga | 321 |  87 | 10 | 39 | 42 | 30 |  2 |  396 |  101 |  12 | ⋯ |  33 | N | E | 805 |  40 |  4 |  91.5000 | N |  60 | 101.29288 |\n| -Alfredo Griffin | 594 | 169 |  4 | 74 | 51 | 35 | 11 | 4408 | 1133 |  19 | ⋯ | 194 | A | W | 282 | 421 | 25 | 750.0000 | A | 385 | 117.15065 |\n\n",
            "text/html": [
              "<table>\n",
              "<caption>A data.frame: 6 × 22</caption>\n",
              "<thead>\n",
              "\t<tr><th></th><th scope=col>AtBat</th><th scope=col>Hits</th><th scope=col>HmRun</th><th scope=col>Runs</th><th scope=col>RBI</th><th scope=col>Walks</th><th scope=col>Years</th><th scope=col>CAtBat</th><th scope=col>CHits</th><th scope=col>CHmRun</th><th scope=col>⋯</th><th scope=col>CWalks</th><th scope=col>League</th><th scope=col>Division</th><th scope=col>PutOuts</th><th scope=col>Assists</th><th scope=col>Errors</th><th scope=col>Salary</th><th scope=col>NewLeague</th><th scope=col>TotalWalks</th><th scope=col>x</th></tr>\n",
              "\t<tr><th></th><th scope=col>&lt;dbl&gt;</th><th scope=col>&lt;int&gt;</th><th scope=col>&lt;int&gt;</th><th scope=col>&lt;int&gt;</th><th scope=col>&lt;int&gt;</th><th scope=col>&lt;int&gt;</th><th scope=col>&lt;int&gt;</th><th scope=col>&lt;int&gt;</th><th scope=col>&lt;int&gt;</th><th scope=col>&lt;int&gt;</th><th scope=col>⋯</th><th scope=col>&lt;int&gt;</th><th scope=col>&lt;fct&gt;</th><th scope=col>&lt;fct&gt;</th><th scope=col>&lt;int&gt;</th><th scope=col>&lt;int&gt;</th><th scope=col>&lt;int&gt;</th><th scope=col>&lt;dbl&gt;</th><th scope=col>&lt;fct&gt;</th><th scope=col>&lt;int&gt;</th><th scope=col>&lt;dbl&gt;</th></tr>\n",
              "</thead>\n",
              "<tbody>\n",
              "\t<tr><th scope=row>-Andy Allanson</th><td>293</td><td> 66</td><td> 1</td><td>30</td><td>29</td><td>14</td><td> 1</td><td> 293</td><td>  66</td><td>  1</td><td>⋯</td><td> 14</td><td>A</td><td>E</td><td>446</td><td> 33</td><td>20</td><td>535.9259</td><td>A</td><td> 14</td><td> 94.39524</td></tr>\n",
              "\t<tr><th scope=row>-Alan Ashby</th><td>315</td><td> 81</td><td> 7</td><td>24</td><td>38</td><td>39</td><td>14</td><td>3449</td><td> 835</td><td> 69</td><td>⋯</td><td>375</td><td>N</td><td>W</td><td>632</td><td> 43</td><td>10</td><td>475.0000</td><td>N</td><td>546</td><td> 97.69823</td></tr>\n",
              "\t<tr><th scope=row>-Alvin Davis</th><td>479</td><td>130</td><td>18</td><td>66</td><td>72</td><td>76</td><td> 3</td><td>1624</td><td> 457</td><td> 63</td><td>⋯</td><td>263</td><td>A</td><td>W</td><td>880</td><td> 82</td><td>14</td><td>480.0000</td><td>A</td><td>228</td><td>115.58708</td></tr>\n",
              "\t<tr><th scope=row>-Andre Dawson</th><td>496</td><td>141</td><td>20</td><td>65</td><td>78</td><td>37</td><td>11</td><td>5628</td><td>1575</td><td>225</td><td>⋯</td><td>354</td><td>N</td><td>E</td><td>200</td><td> 11</td><td> 3</td><td>500.0000</td><td>N</td><td>407</td><td>100.70508</td></tr>\n",
              "\t<tr><th scope=row>-Andres Galarraga</th><td>321</td><td> 87</td><td>10</td><td>39</td><td>42</td><td>30</td><td> 2</td><td> 396</td><td> 101</td><td> 12</td><td>⋯</td><td> 33</td><td>N</td><td>E</td><td>805</td><td> 40</td><td> 4</td><td> 91.5000</td><td>N</td><td> 60</td><td>101.29288</td></tr>\n",
              "\t<tr><th scope=row>-Alfredo Griffin</th><td>594</td><td>169</td><td> 4</td><td>74</td><td>51</td><td>35</td><td>11</td><td>4408</td><td>1133</td><td> 19</td><td>⋯</td><td>194</td><td>A</td><td>W</td><td>282</td><td>421</td><td>25</td><td>750.0000</td><td>A</td><td>385</td><td>117.15065</td></tr>\n",
              "</tbody>\n",
              "</table>\n"
            ]
          },
          "metadata": {
            "tags": []
          }
        }
      ]
    }
  ]
}