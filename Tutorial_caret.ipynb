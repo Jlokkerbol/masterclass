{
  "nbformat": 4,
  "nbformat_minor": 0,
  "metadata": {
    "kernelspec": {
      "display_name": "R",
      "language": "R",
      "name": "ir"
    },
    "language_info": {
      "codemirror_mode": "r",
      "file_extension": ".r",
      "mimetype": "text/x-r-source",
      "name": "R",
      "pygments_lexer": "r",
      "version": "3.4.1"
    },
    "colab": {
      "name": "Tutorial_caret.ipynb",
      "provenance": [],
      "collapsed_sections": [],
      "include_colab_link": true
    }
  },
  "cells": [
    {
      "cell_type": "markdown",
      "metadata": {
        "id": "view-in-github",
        "colab_type": "text"
      },
      "source": [
        "<a href=\"https://colab.research.google.com/github/Jlokkerbol/masterclass/blob/main/Tutorial_caret.ipynb\" target=\"_parent\"><img src=\"https://colab.research.google.com/assets/colab-badge.svg\" alt=\"Open In Colab\"/></a>"
      ]
    },
    {
      "cell_type": "markdown",
      "metadata": {
        "id": "zTvkivkMvHyX"
      },
      "source": [
        "# Tutorial Caret\n",
        "\n",
        "A comprehensive guide into all the possibilities of Max Kuhn's caret can be found at: https://topepo.github.io/caret/\n",
        "\n",
        "Below, I show a snippet of code coming from the reference material mentioned above (https://topepo.github.io/caret/model-training-and-tuning.html), where some very fundamental applications of caret are demonstrated for estimating a machine learning model. \n",
        "\n",
        "Needless to say, there is much, much more to caret than the part shown below. Please do visit https://topepo.github.io/caret/ to get a glimpse of all the possibilities of this important package."
      ]
    },
    {
      "cell_type": "code",
      "metadata": {
        "id": "DE-3-j_zyRJC",
        "outputId": "55ac5b45-12b2-425e-bc6f-656d19470a8b",
        "colab": {
          "base_uri": "https://localhost:8080/"
        }
      },
      "source": [
        "install.packages('mlbench')\n",
        "install.packages('caret')\n",
        "install.packages('gbm')\n",
        "install.packages('e1071')\n",
        "\n",
        "library(mlbench)\n",
        "library(caret)\n",
        "library(gbm)\n",
        "library(e1071)"
      ],
      "execution_count": 1,
      "outputs": [
        {
          "output_type": "stream",
          "text": [
            "Installing package into ‘/usr/local/lib/R/site-library’\n",
            "(as ‘lib’ is unspecified)\n",
            "\n",
            "Installing package into ‘/usr/local/lib/R/site-library’\n",
            "(as ‘lib’ is unspecified)\n",
            "\n",
            "also installing the dependencies ‘numDeriv’, ‘SQUAREM’, ‘lava’, ‘prodlim’, ‘iterators’, ‘data.table’, ‘gower’, ‘ipred’, ‘timeDate’, ‘foreach’, ‘plyr’, ‘ModelMetrics’, ‘reshape2’, ‘recipes’, ‘pROC’\n",
            "\n",
            "\n",
            "Loading required package: lattice\n",
            "\n",
            "Loading required package: ggplot2\n",
            "\n"
          ],
          "name": "stderr"
        }
      ]
    },
    {
      "cell_type": "markdown",
      "metadata": {
        "id": "pQhAnTPvyd3b"
      },
      "source": [
        "We start with loading and describing the Sonar dataset, that comes with the mlbench package."
      ]
    },
    {
      "cell_type": "code",
      "metadata": {
        "id": "1XD58BaMykts",
        "outputId": "c70c52b7-cce8-415f-bd95-b745b05bcbfc",
        "colab": {
          "base_uri": "https://localhost:8080/",
          "height": 442
        }
      },
      "source": [
        "data(Sonar)\n",
        "str(Sonar[,1:10])\n",
        "table(Sonar$Class)\n",
        "head(Sonar)"
      ],
      "execution_count": 3,
      "outputs": [
        {
          "output_type": "stream",
          "text": [
            "'data.frame':\t208 obs. of  10 variables:\n",
            " $ V1 : num  0.02 0.0453 0.0262 0.01 0.0762 0.0286 0.0317 0.0519 0.0223 0.0164 ...\n",
            " $ V2 : num  0.0371 0.0523 0.0582 0.0171 0.0666 0.0453 0.0956 0.0548 0.0375 0.0173 ...\n",
            " $ V3 : num  0.0428 0.0843 0.1099 0.0623 0.0481 ...\n",
            " $ V4 : num  0.0207 0.0689 0.1083 0.0205 0.0394 ...\n",
            " $ V5 : num  0.0954 0.1183 0.0974 0.0205 0.059 ...\n",
            " $ V6 : num  0.0986 0.2583 0.228 0.0368 0.0649 ...\n",
            " $ V7 : num  0.154 0.216 0.243 0.11 0.121 ...\n",
            " $ V8 : num  0.16 0.348 0.377 0.128 0.247 ...\n",
            " $ V9 : num  0.3109 0.3337 0.5598 0.0598 0.3564 ...\n",
            " $ V10: num  0.211 0.287 0.619 0.126 0.446 ...\n"
          ],
          "name": "stdout"
        },
        {
          "output_type": "display_data",
          "data": {
            "text/plain": [
              "\n",
              "  M   R \n",
              "111  97 "
            ]
          },
          "metadata": {
            "tags": []
          }
        },
        {
          "output_type": "display_data",
          "data": {
            "text/plain": [
              "  V1     V2     V3     V4     V5     V6     V7     V8     V9     V10    ⋯\n",
              "1 0.0200 0.0371 0.0428 0.0207 0.0954 0.0986 0.1539 0.1601 0.3109 0.2111 ⋯\n",
              "2 0.0453 0.0523 0.0843 0.0689 0.1183 0.2583 0.2156 0.3481 0.3337 0.2872 ⋯\n",
              "3 0.0262 0.0582 0.1099 0.1083 0.0974 0.2280 0.2431 0.3771 0.5598 0.6194 ⋯\n",
              "4 0.0100 0.0171 0.0623 0.0205 0.0205 0.0368 0.1098 0.1276 0.0598 0.1264 ⋯\n",
              "5 0.0762 0.0666 0.0481 0.0394 0.0590 0.0649 0.1209 0.2467 0.3564 0.4459 ⋯\n",
              "6 0.0286 0.0453 0.0277 0.0174 0.0384 0.0990 0.1201 0.1833 0.2105 0.3039 ⋯\n",
              "  V52    V53    V54    V55    V56    V57    V58    V59    V60    Class\n",
              "1 0.0027 0.0065 0.0159 0.0072 0.0167 0.0180 0.0084 0.0090 0.0032 R    \n",
              "2 0.0084 0.0089 0.0048 0.0094 0.0191 0.0140 0.0049 0.0052 0.0044 R    \n",
              "3 0.0232 0.0166 0.0095 0.0180 0.0244 0.0316 0.0164 0.0095 0.0078 R    \n",
              "4 0.0121 0.0036 0.0150 0.0085 0.0073 0.0050 0.0044 0.0040 0.0117 R    \n",
              "5 0.0031 0.0054 0.0105 0.0110 0.0015 0.0072 0.0048 0.0107 0.0094 R    \n",
              "6 0.0045 0.0014 0.0038 0.0013 0.0089 0.0057 0.0027 0.0051 0.0062 R    "
            ],
            "text/latex": "A data.frame: 6 × 61\n\\begin{tabular}{r|lllllllllllllllllllll}\n  & V1 & V2 & V3 & V4 & V5 & V6 & V7 & V8 & V9 & V10 & ⋯ & V52 & V53 & V54 & V55 & V56 & V57 & V58 & V59 & V60 & Class\\\\\n  & <dbl> & <dbl> & <dbl> & <dbl> & <dbl> & <dbl> & <dbl> & <dbl> & <dbl> & <dbl> & ⋯ & <dbl> & <dbl> & <dbl> & <dbl> & <dbl> & <dbl> & <dbl> & <dbl> & <dbl> & <fct>\\\\\n\\hline\n\t1 & 0.0200 & 0.0371 & 0.0428 & 0.0207 & 0.0954 & 0.0986 & 0.1539 & 0.1601 & 0.3109 & 0.2111 & ⋯ & 0.0027 & 0.0065 & 0.0159 & 0.0072 & 0.0167 & 0.0180 & 0.0084 & 0.0090 & 0.0032 & R\\\\\n\t2 & 0.0453 & 0.0523 & 0.0843 & 0.0689 & 0.1183 & 0.2583 & 0.2156 & 0.3481 & 0.3337 & 0.2872 & ⋯ & 0.0084 & 0.0089 & 0.0048 & 0.0094 & 0.0191 & 0.0140 & 0.0049 & 0.0052 & 0.0044 & R\\\\\n\t3 & 0.0262 & 0.0582 & 0.1099 & 0.1083 & 0.0974 & 0.2280 & 0.2431 & 0.3771 & 0.5598 & 0.6194 & ⋯ & 0.0232 & 0.0166 & 0.0095 & 0.0180 & 0.0244 & 0.0316 & 0.0164 & 0.0095 & 0.0078 & R\\\\\n\t4 & 0.0100 & 0.0171 & 0.0623 & 0.0205 & 0.0205 & 0.0368 & 0.1098 & 0.1276 & 0.0598 & 0.1264 & ⋯ & 0.0121 & 0.0036 & 0.0150 & 0.0085 & 0.0073 & 0.0050 & 0.0044 & 0.0040 & 0.0117 & R\\\\\n\t5 & 0.0762 & 0.0666 & 0.0481 & 0.0394 & 0.0590 & 0.0649 & 0.1209 & 0.2467 & 0.3564 & 0.4459 & ⋯ & 0.0031 & 0.0054 & 0.0105 & 0.0110 & 0.0015 & 0.0072 & 0.0048 & 0.0107 & 0.0094 & R\\\\\n\t6 & 0.0286 & 0.0453 & 0.0277 & 0.0174 & 0.0384 & 0.0990 & 0.1201 & 0.1833 & 0.2105 & 0.3039 & ⋯ & 0.0045 & 0.0014 & 0.0038 & 0.0013 & 0.0089 & 0.0057 & 0.0027 & 0.0051 & 0.0062 & R\\\\\n\\end{tabular}\n",
            "text/markdown": "\nA data.frame: 6 × 61\n\n| <!--/--> | V1 &lt;dbl&gt; | V2 &lt;dbl&gt; | V3 &lt;dbl&gt; | V4 &lt;dbl&gt; | V5 &lt;dbl&gt; | V6 &lt;dbl&gt; | V7 &lt;dbl&gt; | V8 &lt;dbl&gt; | V9 &lt;dbl&gt; | V10 &lt;dbl&gt; | ⋯ ⋯ | V52 &lt;dbl&gt; | V53 &lt;dbl&gt; | V54 &lt;dbl&gt; | V55 &lt;dbl&gt; | V56 &lt;dbl&gt; | V57 &lt;dbl&gt; | V58 &lt;dbl&gt; | V59 &lt;dbl&gt; | V60 &lt;dbl&gt; | Class &lt;fct&gt; |\n|---|---|---|---|---|---|---|---|---|---|---|---|---|---|---|---|---|---|---|---|---|---|\n| 1 | 0.0200 | 0.0371 | 0.0428 | 0.0207 | 0.0954 | 0.0986 | 0.1539 | 0.1601 | 0.3109 | 0.2111 | ⋯ | 0.0027 | 0.0065 | 0.0159 | 0.0072 | 0.0167 | 0.0180 | 0.0084 | 0.0090 | 0.0032 | R |\n| 2 | 0.0453 | 0.0523 | 0.0843 | 0.0689 | 0.1183 | 0.2583 | 0.2156 | 0.3481 | 0.3337 | 0.2872 | ⋯ | 0.0084 | 0.0089 | 0.0048 | 0.0094 | 0.0191 | 0.0140 | 0.0049 | 0.0052 | 0.0044 | R |\n| 3 | 0.0262 | 0.0582 | 0.1099 | 0.1083 | 0.0974 | 0.2280 | 0.2431 | 0.3771 | 0.5598 | 0.6194 | ⋯ | 0.0232 | 0.0166 | 0.0095 | 0.0180 | 0.0244 | 0.0316 | 0.0164 | 0.0095 | 0.0078 | R |\n| 4 | 0.0100 | 0.0171 | 0.0623 | 0.0205 | 0.0205 | 0.0368 | 0.1098 | 0.1276 | 0.0598 | 0.1264 | ⋯ | 0.0121 | 0.0036 | 0.0150 | 0.0085 | 0.0073 | 0.0050 | 0.0044 | 0.0040 | 0.0117 | R |\n| 5 | 0.0762 | 0.0666 | 0.0481 | 0.0394 | 0.0590 | 0.0649 | 0.1209 | 0.2467 | 0.3564 | 0.4459 | ⋯ | 0.0031 | 0.0054 | 0.0105 | 0.0110 | 0.0015 | 0.0072 | 0.0048 | 0.0107 | 0.0094 | R |\n| 6 | 0.0286 | 0.0453 | 0.0277 | 0.0174 | 0.0384 | 0.0990 | 0.1201 | 0.1833 | 0.2105 | 0.3039 | ⋯ | 0.0045 | 0.0014 | 0.0038 | 0.0013 | 0.0089 | 0.0057 | 0.0027 | 0.0051 | 0.0062 | R |\n\n",
            "text/html": [
              "<table>\n",
              "<caption>A data.frame: 6 × 61</caption>\n",
              "<thead>\n",
              "\t<tr><th></th><th scope=col>V1</th><th scope=col>V2</th><th scope=col>V3</th><th scope=col>V4</th><th scope=col>V5</th><th scope=col>V6</th><th scope=col>V7</th><th scope=col>V8</th><th scope=col>V9</th><th scope=col>V10</th><th scope=col>⋯</th><th scope=col>V52</th><th scope=col>V53</th><th scope=col>V54</th><th scope=col>V55</th><th scope=col>V56</th><th scope=col>V57</th><th scope=col>V58</th><th scope=col>V59</th><th scope=col>V60</th><th scope=col>Class</th></tr>\n",
              "\t<tr><th></th><th scope=col>&lt;dbl&gt;</th><th scope=col>&lt;dbl&gt;</th><th scope=col>&lt;dbl&gt;</th><th scope=col>&lt;dbl&gt;</th><th scope=col>&lt;dbl&gt;</th><th scope=col>&lt;dbl&gt;</th><th scope=col>&lt;dbl&gt;</th><th scope=col>&lt;dbl&gt;</th><th scope=col>&lt;dbl&gt;</th><th scope=col>&lt;dbl&gt;</th><th scope=col>⋯</th><th scope=col>&lt;dbl&gt;</th><th scope=col>&lt;dbl&gt;</th><th scope=col>&lt;dbl&gt;</th><th scope=col>&lt;dbl&gt;</th><th scope=col>&lt;dbl&gt;</th><th scope=col>&lt;dbl&gt;</th><th scope=col>&lt;dbl&gt;</th><th scope=col>&lt;dbl&gt;</th><th scope=col>&lt;dbl&gt;</th><th scope=col>&lt;fct&gt;</th></tr>\n",
              "</thead>\n",
              "<tbody>\n",
              "\t<tr><th scope=row>1</th><td>0.0200</td><td>0.0371</td><td>0.0428</td><td>0.0207</td><td>0.0954</td><td>0.0986</td><td>0.1539</td><td>0.1601</td><td>0.3109</td><td>0.2111</td><td>⋯</td><td>0.0027</td><td>0.0065</td><td>0.0159</td><td>0.0072</td><td>0.0167</td><td>0.0180</td><td>0.0084</td><td>0.0090</td><td>0.0032</td><td>R</td></tr>\n",
              "\t<tr><th scope=row>2</th><td>0.0453</td><td>0.0523</td><td>0.0843</td><td>0.0689</td><td>0.1183</td><td>0.2583</td><td>0.2156</td><td>0.3481</td><td>0.3337</td><td>0.2872</td><td>⋯</td><td>0.0084</td><td>0.0089</td><td>0.0048</td><td>0.0094</td><td>0.0191</td><td>0.0140</td><td>0.0049</td><td>0.0052</td><td>0.0044</td><td>R</td></tr>\n",
              "\t<tr><th scope=row>3</th><td>0.0262</td><td>0.0582</td><td>0.1099</td><td>0.1083</td><td>0.0974</td><td>0.2280</td><td>0.2431</td><td>0.3771</td><td>0.5598</td><td>0.6194</td><td>⋯</td><td>0.0232</td><td>0.0166</td><td>0.0095</td><td>0.0180</td><td>0.0244</td><td>0.0316</td><td>0.0164</td><td>0.0095</td><td>0.0078</td><td>R</td></tr>\n",
              "\t<tr><th scope=row>4</th><td>0.0100</td><td>0.0171</td><td>0.0623</td><td>0.0205</td><td>0.0205</td><td>0.0368</td><td>0.1098</td><td>0.1276</td><td>0.0598</td><td>0.1264</td><td>⋯</td><td>0.0121</td><td>0.0036</td><td>0.0150</td><td>0.0085</td><td>0.0073</td><td>0.0050</td><td>0.0044</td><td>0.0040</td><td>0.0117</td><td>R</td></tr>\n",
              "\t<tr><th scope=row>5</th><td>0.0762</td><td>0.0666</td><td>0.0481</td><td>0.0394</td><td>0.0590</td><td>0.0649</td><td>0.1209</td><td>0.2467</td><td>0.3564</td><td>0.4459</td><td>⋯</td><td>0.0031</td><td>0.0054</td><td>0.0105</td><td>0.0110</td><td>0.0015</td><td>0.0072</td><td>0.0048</td><td>0.0107</td><td>0.0094</td><td>R</td></tr>\n",
              "\t<tr><th scope=row>6</th><td>0.0286</td><td>0.0453</td><td>0.0277</td><td>0.0174</td><td>0.0384</td><td>0.0990</td><td>0.1201</td><td>0.1833</td><td>0.2105</td><td>0.3039</td><td>⋯</td><td>0.0045</td><td>0.0014</td><td>0.0038</td><td>0.0013</td><td>0.0089</td><td>0.0057</td><td>0.0027</td><td>0.0051</td><td>0.0062</td><td>R</td></tr>\n",
              "</tbody>\n",
              "</table>\n"
            ]
          },
          "metadata": {
            "tags": []
          }
        }
      ]
    },
    {
      "cell_type": "markdown",
      "metadata": {
        "id": "-CZPqTIAzZ3N"
      },
      "source": [
        "## Data Splitting\n",
        "When doing your own project, you will by far spend most of your time exploring and preparing your data, before you get to the modelling of your data. We skip exploring and preparing your data and go straight to modelling in this example.\n",
        "\n",
        "The first part of the modelling workflow is to split your data into a training and testing dataset, such that the training dataset can be used to assess different model choices, and the testing set can be used to evaluate the performance of the final model.\n",
        "\n",
        "Splitting can be done in multiple ways, e.g. at random, stratified, across time. Below is an example of random splitting, where every observation has a 75% chance of being assigned to the training set. \n",
        "\n",
        "Caret's built-in function createDataPartition requires the outcome variable as input, and uses that outcome to guarantee that the distribution of your outcome variable (whether it is categorical or numeric) is comparable in your training and testing dataset.\n",
        "\n",
        "Furthermore, this data splitting command is preceded by the set.seed() command, which ensures that the same 'randomness' is applied, every time the data is being split in this way (i.e. ensuring that you replicate your findings each time you run this code).\n",
        "\n",
        "Make it a habit (for the sake of replicability) to use the set.seed() command before any analysis that incorparates a component of randomness."
      ]
    },
    {
      "cell_type": "code",
      "metadata": {
        "id": "nzVNyhSd3Fii",
        "outputId": "1097fb6e-26e9-4449-b33c-a9ca06143152",
        "colab": {
          "base_uri": "https://localhost:8080/",
          "height": 153
        }
      },
      "source": [
        "#data splitting\n",
        "set.seed(998)\n",
        "inTraining <- createDataPartition(Sonar$Class, p = 0.75, list = FALSE)\n",
        "class(inTraining)\n",
        "training <- Sonar[inTraining,]\n",
        "testing <- Sonar[-inTraining,]\n",
        "\n",
        "print('Occurrence of outcomes M and R')\n",
        "table(Sonar$Class)\n",
        "\n",
        "print(paste('occurrence of outcome M in full data set:   ',sum(Sonar['Class']=='M')/length(Sonar$Class)*100,'%'))\n",
        "print(paste('occurrence of outcome M in the training set:',sum(training['Class']=='M')/length(training$Class)*100,'%'))\n",
        "print(paste('occurrence of outcome M in the testing set: ',sum(testing['Class']=='M')/length(testing$Class)*100,'%'))"
      ],
      "execution_count": 8,
      "outputs": [
        {
          "output_type": "display_data",
          "data": {
            "text/plain": [
              "[1] \"matrix\" \"array\" "
            ],
            "text/latex": "\\begin{enumerate*}\n\\item 'matrix'\n\\item 'array'\n\\end{enumerate*}\n",
            "text/markdown": "1. 'matrix'\n2. 'array'\n\n\n",
            "text/html": [
              "<style>\n",
              ".list-inline {list-style: none; margin:0; padding: 0}\n",
              ".list-inline>li {display: inline-block}\n",
              ".list-inline>li:not(:last-child)::after {content: \"\\00b7\"; padding: 0 .5ex}\n",
              "</style>\n",
              "<ol class=list-inline><li>'matrix'</li><li>'array'</li></ol>\n"
            ]
          },
          "metadata": {
            "tags": []
          }
        },
        {
          "output_type": "stream",
          "text": [
            "[1] \"Occurrence of outcomes M and R\"\n"
          ],
          "name": "stdout"
        },
        {
          "output_type": "display_data",
          "data": {
            "text/plain": [
              "\n",
              "  M   R \n",
              "111  97 "
            ]
          },
          "metadata": {
            "tags": []
          }
        },
        {
          "output_type": "stream",
          "text": [
            "[1] \"occurrence of outcome M in full data set:    53.3653846153846 %\"\n",
            "[1] \"occurrence of outcome M in the training set: 53.5031847133758 %\"\n",
            "[1] \"occurrence of outcome M in the testing set:  52.9411764705882 %\"\n"
          ],
          "name": "stdout"
        }
      ]
    },
    {
      "cell_type": "markdown",
      "metadata": {
        "id": "YEjD-3Ej5Dqt"
      },
      "source": [
        "## Part I: Defining validation method\n",
        "The code used for estimating and evaluating machine learning models using caret always comes in three parts. The first part consists of defining the validation method used to assess the performance of the different models within the training dataset. The second part consists of indicating what data and what model to use (along with a number of additional options, such as what metric to use for deciding what the optimal model is). The third part consists of evaluating the results.\n",
        "\n",
        "The first part of the code uses the function trainControl and defines the method of validation, which is often set to repeated cross-validation. Repeated cross validation further requires the specification of the number of folds (number: usually 5 or 10), and the number of repeats. This function is stored into an object, in this instance called fitControl, such that this object can be referred to in the second part of the code."
      ]
    },
    {
      "cell_type": "code",
      "metadata": {
        "id": "7gWyyniH7MCa"
      },
      "source": [
        "fitControl <- trainControl(## 10-fold CV\n",
        "        method = \"repeatedcv\",\n",
        "        number = 10,\n",
        "        ## repeated ten times\n",
        "        repeats = 3)"
      ],
      "execution_count": 9,
      "outputs": []
    },
    {
      "cell_type": "markdown",
      "metadata": {
        "id": "8BxqKKy57Ypy"
      },
      "source": [
        "##Part II: Training the model\n",
        "The second part defines which outcome to classify or predict using which predictors, the table where this data can be found (data), and the type of machine learning algorithm which is to be applied (method). Furthermore, the validation method is set by referring to the object defined in part I. See what happens when you remove the verbose = FALSE option)."
      ]
    },
    {
      "cell_type": "code",
      "metadata": {
        "id": "mQJW6WpQ9Uh0",
        "outputId": "502e63c4-f96d-4691-9e90-b21218eda0a8",
        "colab": {
          "base_uri": "https://localhost:8080/",
          "height": 493
        }
      },
      "source": [
        "# train model (GBM)\n",
        "set.seed(825)\n",
        "gbmFit1 <- train(Class ~ ., data = training, \n",
        "                 method = \"gbm\", \n",
        "                 trControl = fitControl,\n",
        "                 verbose = FALSE)\n",
        "gbmFit1"
      ],
      "execution_count": 15,
      "outputs": [
        {
          "output_type": "display_data",
          "data": {
            "text/plain": [
              "Stochastic Gradient Boosting \n",
              "\n",
              "157 samples\n",
              " 60 predictor\n",
              "  2 classes: 'M', 'R' \n",
              "\n",
              "No pre-processing\n",
              "Resampling: Cross-Validated (10 fold, repeated 3 times) \n",
              "Summary of sample sizes: 141, 142, 141, 142, 141, 142, ... \n",
              "Resampling results across tuning parameters:\n",
              "\n",
              "  interaction.depth  n.trees  Accuracy   Kappa    \n",
              "  1                   50      0.7939461  0.5802124\n",
              "  1                  100      0.8155801  0.6260616\n",
              "  1                  150      0.8300572  0.6541376\n",
              "  2                   50      0.8045016  0.6029198\n",
              "  2                  100      0.8427124  0.6810764\n",
              "  2                  150      0.8257680  0.6466368\n",
              "  3                   50      0.8125899  0.6188960\n",
              "  3                  100      0.8277288  0.6495926\n",
              "  3                  150      0.8261683  0.6471937\n",
              "\n",
              "Tuning parameter 'shrinkage' was held constant at a value of 0.1\n",
              "\n",
              "Tuning parameter 'n.minobsinnode' was held constant at a value of 10\n",
              "Accuracy was used to select the optimal model using the largest value.\n",
              "The final values used for the model were n.trees = 100, interaction.depth =\n",
              " 2, shrinkage = 0.1 and n.minobsinnode = 10."
            ]
          },
          "metadata": {
            "tags": []
          }
        }
      ]
    },
    {
      "cell_type": "markdown",
      "metadata": {
        "id": "nNtb-1TY-MaU"
      },
      "source": [
        "In addition, a user-defined grid can be used to investigate the performance using alternative hyperparameter values."
      ]
    },
    {
      "cell_type": "code",
      "metadata": {
        "id": "JiEmIl0o_1CQ",
        "outputId": "a2c77d8d-9653-4302-ebb4-9e4135dee3f7",
        "colab": {
          "base_uri": "https://localhost:8080/",
          "height": 697
        }
      },
      "source": [
        "# user-defined tuning grid\n",
        "gbmGrid <-  expand.grid(interaction.depth = c(1, 2), \n",
        "                        n.trees = (1:10)*50, \n",
        "                        shrinkage = 0.1,\n",
        "                        n.minobsinnode = 20)\n",
        "\n",
        "nrow(gbmGrid)\n",
        "\n",
        "set.seed(825)\n",
        "gbmFit2 <- train(Class ~ ., data = training, \n",
        "                 method = \"gbm\", \n",
        "                 trControl = fitControl, \n",
        "                 verbose = FALSE, \n",
        "                 ## Now specify the exact models \n",
        "                 ## to evaluate:\n",
        "                 tuneGrid = gbmGrid)\n",
        "gbmFit2"
      ],
      "execution_count": 16,
      "outputs": [
        {
          "output_type": "display_data",
          "data": {
            "text/plain": [
              "[1] 20"
            ],
            "text/latex": "20",
            "text/markdown": "20",
            "text/html": [
              "20"
            ]
          },
          "metadata": {
            "tags": []
          }
        },
        {
          "output_type": "display_data",
          "data": {
            "text/plain": [
              "Stochastic Gradient Boosting \n",
              "\n",
              "157 samples\n",
              " 60 predictor\n",
              "  2 classes: 'M', 'R' \n",
              "\n",
              "No pre-processing\n",
              "Resampling: Cross-Validated (10 fold, repeated 3 times) \n",
              "Summary of sample sizes: 141, 142, 141, 142, 141, 142, ... \n",
              "Resampling results across tuning parameters:\n",
              "\n",
              "  interaction.depth  n.trees  Accuracy   Kappa    \n",
              "  1                   50      0.7752859  0.5449620\n",
              "  1                  100      0.8069526  0.6088502\n",
              "  1                  150      0.8235294  0.6420284\n",
              "  1                  200      0.8317239  0.6591132\n",
              "  1                  250      0.8402124  0.6761688\n",
              "  1                  300      0.8190850  0.6337761\n",
              "  1                  350      0.8149183  0.6251233\n",
              "  1                  400      0.8300572  0.6551400\n",
              "  1                  450      0.8233905  0.6423213\n",
              "  1                  500      0.8236683  0.6434675\n",
              "  2                   50      0.8001961  0.5950402\n",
              "  2                  100      0.8381291  0.6722523\n",
              "  2                  150      0.8367239  0.6682053\n",
              "  2                  200      0.8425735  0.6806840\n",
              "  2                  250      0.8381454  0.6705854\n",
              "  2                  300      0.8470180  0.6889410\n",
              "  2                  350      0.8340850  0.6623546\n",
              "  2                  400      0.8403350  0.6743139\n",
              "  2                  450      0.8379902  0.6695472\n",
              "  2                  500      0.8424346  0.6792208\n",
              "\n",
              "Tuning parameter 'shrinkage' was held constant at a value of 0.1\n",
              "\n",
              "Tuning parameter 'n.minobsinnode' was held constant at a value of 20\n",
              "Accuracy was used to select the optimal model using the largest value.\n",
              "The final values used for the model were n.trees = 300, interaction.depth =\n",
              " 2, shrinkage = 0.1 and n.minobsinnode = 20."
            ]
          },
          "metadata": {
            "tags": []
          }
        }
      ]
    },
    {
      "cell_type": "markdown",
      "metadata": {
        "id": "bpIU33aPABZr"
      },
      "source": [
        "##Part III: Evaluating Results\n",
        "After estimating a model using caret's train function, there are multiple ways to evaluate the results. Straightforward ways are to plot the results using plot(), to show the importance of the different predictors using varImp, and (in case of a binary outcome) to use the confusion matrix."
      ]
    },
    {
      "cell_type": "code",
      "metadata": {
        "id": "XTL6-hpXAufU",
        "outputId": "96327e73-6f46-4a0f-d15d-0b1c1b0e10d1",
        "colab": {
          "base_uri": "https://localhost:8080/",
          "height": 896
        }
      },
      "source": [
        "plot(gbmFit2)\n",
        "confusionMatrix(predict(gbmFit2, testing), testing$Class)"
      ],
      "execution_count": 19,
      "outputs": [
        {
          "output_type": "display_data",
          "data": {
            "text/plain": [
              "Confusion Matrix and Statistics\n",
              "\n",
              "          Reference\n",
              "Prediction  M  R\n",
              "         M 23  4\n",
              "         R  4 20\n",
              "                                          \n",
              "               Accuracy : 0.8431          \n",
              "                 95% CI : (0.7141, 0.9298)\n",
              "    No Information Rate : 0.5294          \n",
              "    P-Value [Acc > NIR] : 2.534e-06       \n",
              "                                          \n",
              "                  Kappa : 0.6852          \n",
              "                                          \n",
              " Mcnemar's Test P-Value : 1               \n",
              "                                          \n",
              "            Sensitivity : 0.8519          \n",
              "            Specificity : 0.8333          \n",
              "         Pos Pred Value : 0.8519          \n",
              "         Neg Pred Value : 0.8333          \n",
              "             Prevalence : 0.5294          \n",
              "         Detection Rate : 0.4510          \n",
              "   Detection Prevalence : 0.5294          \n",
              "      Balanced Accuracy : 0.8426          \n",
              "                                          \n",
              "       'Positive' Class : M               \n",
              "                                          "
            ]
          },
          "metadata": {
            "tags": []
          }
        },
        {
          "output_type": "display_data",
          "data": {
            "image/png": "[encoded data removed]",
            "text/plain": [
              "plot without title"
            ]
          },
          "metadata": {
            "tags": [],
            "image/png": {
              "width": 420,
              "height": 420
            }
          }
        }
      ]
    },
    {
      "cell_type": "code",
      "metadata": {
        "id": "wBXgsf2ru_SM",
        "outputId": "6c6eb302-d9d0-47cf-b4f2-ca9d7e7c117f",
        "colab": {
          "base_uri": "https://localhost:8080/",
          "height": 862
        }
      },
      "source": [
        "# variable importance\n",
        "varImp(gbmFit2)\n",
        "plot(varImp(gbmFit2))"
      ],
      "execution_count": 20,
      "outputs": [
        {
          "output_type": "display_data",
          "data": {
            "text/plain": [
              "gbm variable importance\n",
              "\n",
              "  only 20 most important variables shown (out of 60)\n",
              "\n",
              "    Overall\n",
              "V12 100.000\n",
              "V11  56.274\n",
              "V27  32.374\n",
              "V36  31.279\n",
              "V51  27.695\n",
              "V52  22.333\n",
              "V23  18.857\n",
              "V9   18.377\n",
              "V31  17.713\n",
              "V5   13.406\n",
              "V45  11.458\n",
              "V47  11.127\n",
              "V17  10.996\n",
              "V4   10.933\n",
              "V46  10.664\n",
              "V37  10.191\n",
              "V43   9.817\n",
              "V39   8.450\n",
              "V44   8.386\n",
              "V1    8.316"
            ]
          },
          "metadata": {
            "tags": []
          }
        },
        {
          "output_type": "display_data",
          "data": {
            "image/png": "[encoded data removed]",
            "text/plain": [
              "plot without title"
            ]
          },
          "metadata": {
            "tags": [],
            "image/png": {
              "width": 420,
              "height": 420
            }
          }
        }
      ]
    }
  ]
}