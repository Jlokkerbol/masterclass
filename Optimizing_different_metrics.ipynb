{
  "nbformat": 4,
  "nbformat_minor": 0,
  "metadata": {
    "kernelspec": {
      "display_name": "R",
      "language": "R",
      "name": "ir"
    },
    "language_info": {
      "codemirror_mode": "r",
      "file_extension": ".r",
      "mimetype": "text/x-r-source",
      "name": "R",
      "pygments_lexer": "r",
      "version": "3.4.1"
    },
    "colab": {
      "name": "Optimizing_different_metrics.ipynb",
      "provenance": [],
      "collapsed_sections": [],
      "include_colab_link": true
    }
  },
  "cells": [
    {
      "cell_type": "markdown",
      "metadata": {
        "id": "view-in-github",
        "colab_type": "text"
      },
      "source": [
        "<a href=\"https://colab.research.google.com/github/Jlokkerbol/masterclass/blob/main/Optimizing_different_metrics.ipynb\" target=\"_parent\"><img src=\"https://colab.research.google.com/assets/colab-badge.svg\" alt=\"Open In Colab\"/></a>"
      ]
    },
    {
      "cell_type": "markdown",
      "metadata": {
        "id": "LlzEGoudjR3O"
      },
      "source": [
        "#Optimizing different metrics\n",
        "\n",
        "This notebook shows how to optimize your machine learning models over different metrics, both metrics that are built-in options in caret, as well as user-defined metrics.\n",
        "\n",
        "We use the BostonHousing dataset and transform the outcome measure (median value of the houses in Boston) into a binary outcome measure, as binary outcome meausures give the most flexilibility in choosing and defining outcome measures."
      ]
    },
    {
      "cell_type": "markdown",
      "metadata": {
        "id": "WXc0oNrlj67_"
      },
      "source": [
        "We start off by installing and loading the packages we need in this notebook"
      ]
    },
    {
      "cell_type": "code",
      "metadata": {
        "id": "uEsw7Al0IsGJ",
        "outputId": "f26ab785-6a3b-42dd-b49c-8f0452ad76ba",
        "colab": {
          "base_uri": "https://localhost:8080/"
        }
      },
      "source": [
        "install.packages('mlbench')\n",
        "install.packages('caret')\n",
        "install.packages('e1071')\n",
        "\n",
        "library(mlbench)\n",
        "library(caret)\n",
        "library(e1071)"
      ],
      "execution_count": 1,
      "outputs": [
        {
          "output_type": "stream",
          "text": [
            "Installing package into ‘/usr/local/lib/R/site-library’\n",
            "(as ‘lib’ is unspecified)\n",
            "\n",
            "Installing package into ‘/usr/local/lib/R/site-library’\n",
            "(as ‘lib’ is unspecified)\n",
            "\n",
            "also installing the dependencies ‘numDeriv’, ‘SQUAREM’, ‘lava’, ‘prodlim’, ‘iterators’, ‘data.table’, ‘gower’, ‘ipred’, ‘timeDate’, ‘foreach’, ‘plyr’, ‘ModelMetrics’, ‘reshape2’, ‘recipes’, ‘pROC’\n",
            "\n",
            "\n",
            "Loading required package: lattice\n",
            "\n",
            "Loading required package: ggplot2\n",
            "\n"
          ],
          "name": "stderr"
        }
      ]
    },
    {
      "cell_type": "markdown",
      "metadata": {
        "id": "2txZq2iCkC6r"
      },
      "source": [
        "We then import and describe the BostonHousing data we will be working with."
      ]
    },
    {
      "cell_type": "code",
      "metadata": {
        "id": "jg6i05tmLqj7",
        "outputId": "44a5d4b0-8f30-4c62-d477-da704989a7ff",
        "colab": {
          "base_uri": "https://localhost:8080/",
          "height": 289
        }
      },
      "source": [
        "data(BostonHousing)\n",
        "dim(BostonHousing)\n",
        "str(BostonHousing)"
      ],
      "execution_count": 37,
      "outputs": [
        {
          "output_type": "display_data",
          "data": {
            "text/plain": [
              "[1] 506  14"
            ],
            "text/latex": "\\begin{enumerate*}\n\\item 506\n\\item 14\n\\end{enumerate*}\n",
            "text/markdown": "1. 506\n2. 14\n\n\n",
            "text/html": [
              "<style>\n",
              ".list-inline {list-style: none; margin:0; padding: 0}\n",
              ".list-inline>li {display: inline-block}\n",
              ".list-inline>li:not(:last-child)::after {content: \"\\00b7\"; padding: 0 .5ex}\n",
              "</style>\n",
              "<ol class=list-inline><li>506</li><li>14</li></ol>\n"
            ]
          },
          "metadata": {
            "tags": []
          }
        },
        {
          "output_type": "stream",
          "text": [
            "'data.frame':\t506 obs. of  14 variables:\n",
            " $ crim   : num  0.00632 0.02731 0.02729 0.03237 0.06905 ...\n",
            " $ zn     : num  18 0 0 0 0 0 12.5 12.5 12.5 12.5 ...\n",
            " $ indus  : num  2.31 7.07 7.07 2.18 2.18 2.18 7.87 7.87 7.87 7.87 ...\n",
            " $ chas   : Factor w/ 2 levels \"0\",\"1\": 1 1 1 1 1 1 1 1 1 1 ...\n",
            " $ nox    : num  0.538 0.469 0.469 0.458 0.458 0.458 0.524 0.524 0.524 0.524 ...\n",
            " $ rm     : num  6.58 6.42 7.18 7 7.15 ...\n",
            " $ age    : num  65.2 78.9 61.1 45.8 54.2 58.7 66.6 96.1 100 85.9 ...\n",
            " $ dis    : num  4.09 4.97 4.97 6.06 6.06 ...\n",
            " $ rad    : num  1 2 2 3 3 3 5 5 5 5 ...\n",
            " $ tax    : num  296 242 242 222 222 222 311 311 311 311 ...\n",
            " $ ptratio: num  15.3 17.8 17.8 18.7 18.7 18.7 15.2 15.2 15.2 15.2 ...\n",
            " $ b      : num  397 397 393 395 397 ...\n",
            " $ lstat  : num  4.98 9.14 4.03 2.94 5.33 ...\n",
            " $ medv   : num  24 21.6 34.7 33.4 36.2 28.7 22.9 27.1 16.5 18.9 ...\n"
          ],
          "name": "stdout"
        }
      ]
    },
    {
      "cell_type": "code",
      "metadata": {
        "id": "HYzOUYEcMMGz",
        "outputId": "8d703f78-6b6e-4337-86b4-78200212d9b8",
        "colab": {
          "base_uri": "https://localhost:8080/",
          "height": 51
        }
      },
      "source": [
        "TrainDataHousing <- BostonHousing[,1:13]\n",
        "TrainClassesHousing <- BostonHousing[,14]\n",
        "summary(TrainClassesHousing)"
      ],
      "execution_count": 38,
      "outputs": [
        {
          "output_type": "display_data",
          "data": {
            "text/plain": [
              "   Min. 1st Qu.  Median    Mean 3rd Qu.    Max. \n",
              "   5.00   17.02   21.20   22.53   25.00   50.00 "
            ]
          },
          "metadata": {
            "tags": []
          }
        }
      ]
    },
    {
      "cell_type": "markdown",
      "metadata": {
        "id": "lJRLtSrTkN8G"
      },
      "source": [
        "Houses with a median value below 14.5 are assigned a value of 1, whereas houses with a median value higher than 14.5 are assigned a value of 0."
      ]
    },
    {
      "cell_type": "code",
      "metadata": {
        "id": "ukwbRalrMTce",
        "outputId": "26a6fbf5-e021-41a1-968c-282d8b67bbcd",
        "colab": {
          "base_uri": "https://localhost:8080/",
          "height": 102
        }
      },
      "source": [
        "TrainClassesHousing[TrainClassesHousing<14.5] <- 1\n",
        "TrainClassesHousing[TrainClassesHousing>=14.5] <- 0\n",
        "summary(TrainClassesHousing)\n",
        "TrainClassesHousing <- as.character(TrainClassesHousing)\n",
        "table(TrainClassesHousing)"
      ],
      "execution_count": 39,
      "outputs": [
        {
          "output_type": "display_data",
          "data": {
            "text/plain": [
              "   Min. 1st Qu.  Median    Mean 3rd Qu.    Max. \n",
              "  0.000   0.000   0.000   0.168   0.000   1.000 "
            ]
          },
          "metadata": {
            "tags": []
          }
        },
        {
          "output_type": "display_data",
          "data": {
            "text/plain": [
              "TrainClassesHousing\n",
              "  0   1 \n",
              "421  85 "
            ]
          },
          "metadata": {
            "tags": []
          }
        }
      ]
    },
    {
      "cell_type": "markdown",
      "metadata": {
        "id": "cvYESTtYkh9l"
      },
      "source": [
        "For interpretability, classes are renamed 'expensive' and 'quite_cheap'."
      ]
    },
    {
      "cell_type": "code",
      "metadata": {
        "id": "jGjAiw02Mqdk",
        "outputId": "aa550044-678d-4dc5-913e-8282e1c45265",
        "colab": {
          "base_uri": "https://localhost:8080/",
          "height": 68
        }
      },
      "source": [
        "TrainClassesHousing[TrainClassesHousing==\"1\"] <- \"expensive\"\n",
        "TrainClassesHousing[TrainClassesHousing==\"0\"] <- \"quite_cheap\"\n",
        "table(TrainClassesHousing)"
      ],
      "execution_count": 40,
      "outputs": [
        {
          "output_type": "display_data",
          "data": {
            "text/plain": [
              "TrainClassesHousing\n",
              "  expensive quite_cheap \n",
              "         85         421 "
            ]
          },
          "metadata": {
            "tags": []
          }
        }
      ]
    },
    {
      "cell_type": "markdown",
      "metadata": {
        "id": "bZv6L2Dbk184"
      },
      "source": [
        "Finally, the outcome variable is transformed into a factor variable, such that caret will recognize that the machine learning models will need to engage in binary classification. "
      ]
    },
    {
      "cell_type": "code",
      "metadata": {
        "id": "ErVLVSnFMvRh",
        "outputId": "48c346c5-3d36-4b03-fee7-87762fd265f8",
        "colab": {
          "base_uri": "https://localhost:8080/",
          "height": 34
        }
      },
      "source": [
        "TrainClassesHousing <- as.factor(TrainClassesHousing)\n",
        "levels(TrainClassesHousing)"
      ],
      "execution_count": 41,
      "outputs": [
        {
          "output_type": "display_data",
          "data": {
            "text/plain": [
              "[1] \"expensive\"   \"quite_cheap\""
            ],
            "text/latex": "\\begin{enumerate*}\n\\item 'expensive'\n\\item 'quite\\_cheap'\n\\end{enumerate*}\n",
            "text/markdown": "1. 'expensive'\n2. 'quite_cheap'\n\n\n",
            "text/html": [
              "<style>\n",
              ".list-inline {list-style: none; margin:0; padding: 0}\n",
              ".list-inline>li {display: inline-block}\n",
              ".list-inline>li:not(:last-child)::after {content: \"\\00b7\"; padding: 0 .5ex}\n",
              "</style>\n",
              "<ol class=list-inline><li>'expensive'</li><li>'quite_cheap'</li></ol>\n"
            ]
          },
          "metadata": {
            "tags": []
          }
        }
      ]
    },
    {
      "cell_type": "code",
      "metadata": {
        "id": "LGAobXUEMyro",
        "outputId": "c52bfa10-d9e6-4d62-840b-a98856f23506",
        "colab": {
          "base_uri": "https://localhost:8080/",
          "height": 34
        }
      },
      "source": [
        "class(TrainClassesHousing)"
      ],
      "execution_count": 42,
      "outputs": [
        {
          "output_type": "display_data",
          "data": {
            "text/plain": [
              "[1] \"factor\""
            ],
            "text/latex": "'factor'",
            "text/markdown": "'factor'",
            "text/html": [
              "'factor'"
            ]
          },
          "metadata": {
            "tags": []
          }
        }
      ]
    },
    {
      "cell_type": "markdown",
      "metadata": {
        "id": "aDi1g8U3lW-o"
      },
      "source": [
        "#1 knn: accuracy\n",
        "\n",
        "For each of the examples, we use knn as our machine learning model. This choice is basically irrelevant, as our only focus is on how make the particular model we work with, optimize over different metrics.\n",
        "\n",
        "The first example shows that if you do not specify what metric to optimize, the default metric accuracy will be used, as can be seen by the line in the output stating: \n",
        "\n",
        "\"Accuracy was used to select the optimal model using the largest value.\"\n"
      ]
    },
    {
      "cell_type": "code",
      "metadata": {
        "id": "KPitVjWjNGhl",
        "outputId": "1a5f8b61-6e08-473a-ef4a-b51f4451f5d3",
        "colab": {
          "base_uri": "https://localhost:8080/",
          "height": 1000
        }
      },
      "source": [
        "#1 knn: accuracy\n",
        "ctrl <- trainControl(method = \"repeatedcv\",\n",
        "                     number = 10,\n",
        "                     repeats = 3)\n",
        "\n",
        "set.seed(1234)\n",
        "knnFit1_housing <- train(TrainDataHousing, TrainClassesHousing,\n",
        "                 method = \"knn\",\n",
        "                 preProcess = c(\"center\", \"scale\"),\n",
        "                 tuneLength = 10,\n",
        "                 trControl = ctrl)\n",
        "knnFit1_housing\n",
        "plot(knnFit1_housing)\n",
        "confusionMatrix(predict(knnFit1_housing),TrainClassesHousing)"
      ],
      "execution_count": 14,
      "outputs": [
        {
          "output_type": "display_data",
          "data": {
            "text/plain": [
              "k-Nearest Neighbors \n",
              "\n",
              "506 samples\n",
              " 13 predictor\n",
              "  2 classes: 'expensive', 'quite_cheap' \n",
              "\n",
              "Pre-processing: centered (12), scaled (12), ignore (1) \n",
              "Resampling: Cross-Validated (10 fold, repeated 3 times) \n",
              "Summary of sample sizes: 455, 455, 455, 455, 455, 456, ... \n",
              "Resampling results across tuning parameters:\n",
              "\n",
              "  k   Accuracy   Kappa    \n",
              "   5  0.9158431  0.6957580\n",
              "   7  0.9177908  0.6958116\n",
              "   9  0.9210850  0.7099789\n",
              "  11  0.9158170  0.6865453\n",
              "  13  0.9132026  0.6707636\n",
              "  15  0.9138431  0.6701952\n",
              "  17  0.9184444  0.6864155\n",
              "  19  0.9158301  0.6765473\n",
              "  21  0.9184575  0.6843046\n",
              "  23  0.9204052  0.6902448\n",
              "\n",
              "Accuracy was used to select the optimal model using the largest value.\n",
              "The final value used for the model was k = 9."
            ]
          },
          "metadata": {
            "tags": []
          }
        },
        {
          "output_type": "display_data",
          "data": {
            "text/plain": [
              "Confusion Matrix and Statistics\n",
              "\n",
              "             Reference\n",
              "Prediction    expensive quite_cheap\n",
              "  expensive          65          16\n",
              "  quite_cheap        20         405\n",
              "                                          \n",
              "               Accuracy : 0.9289          \n",
              "                 95% CI : (0.9029, 0.9497)\n",
              "    No Information Rate : 0.832           \n",
              "    P-Value [Acc > NIR] : 9.969e-11       \n",
              "                                          \n",
              "                  Kappa : 0.7406          \n",
              "                                          \n",
              " Mcnemar's Test P-Value : 0.6171          \n",
              "                                          \n",
              "            Sensitivity : 0.7647          \n",
              "            Specificity : 0.9620          \n",
              "         Pos Pred Value : 0.8025          \n",
              "         Neg Pred Value : 0.9529          \n",
              "             Prevalence : 0.1680          \n",
              "         Detection Rate : 0.1285          \n",
              "   Detection Prevalence : 0.1601          \n",
              "      Balanced Accuracy : 0.8634          \n",
              "                                          \n",
              "       'Positive' Class : expensive       \n",
              "                                          "
            ]
          },
          "metadata": {
            "tags": []
          }
        },
        {
          "output_type": "display_data",
          "data": {
            "image/png": "[encoded data removed]",
            "text/plain": [
              "plot without title"
            ]
          },
          "metadata": {
            "tags": [],
            "image/png": {
              "width": 420,
              "height": 420
            }
          }
        }
      ]
    },
    {
      "cell_type": "markdown",
      "metadata": {
        "id": "LojJi8RImpX-"
      },
      "source": [
        "#2 knn: AUC (ROC)\n",
        "In this second example we specify the metric = \"ROC\" in the train function, to indicate that we want to optimize the area under the receiver operating characteristics curve. For this to work, we need to:\n",
        "- add classProbs = TRUE to the trainControl function to indicate that the model should predict probabilities that an instance belongs to a certain class, rather than predicting the class itself, and \n",
        "- add summaryFunction = twoClassSummary to the trainControl function, such that caret automatically considers AUC, sensitivity, and specificity for each candidate model."
      ]
    },
    {
      "cell_type": "code",
      "metadata": {
        "id": "baI4z_OSNlUV",
        "outputId": "5c31fb2b-7877-4487-f010-f4d394e570c8",
        "colab": {
          "base_uri": "https://localhost:8080/",
          "height": 901
        }
      },
      "source": [
        "fitControl <- trainControl(method = \"repeatedcv\",\n",
        "                           number = 10,\n",
        "                           repeats = 10,\n",
        "                           ## Estimate class probabilities\n",
        "                           classProbs = TRUE,\n",
        "                           ## Evaluate performance using \n",
        "                           ## the following function\n",
        "                           summaryFunction = twoClassSummary)\n",
        "set.seed(1234)\n",
        "knnFit2_housing <- train(TrainDataHousing, TrainClassesHousing,\n",
        "                         method = \"knn\",\n",
        "                         metric = \"ROC\",\n",
        "                         preProcess = c(\"center\", \"scale\"),\n",
        "                         tuneLength = 10,\n",
        "                         trControl = fitControl)\n",
        "knnFit2_housing\n",
        "## k = 7; ROC = 0.9558147; Sens = 0.7333333; Spec = 0.9563068\n",
        "confusionMatrix(predict(knnFit2_housing),TrainClassesHousing)\n"
      ],
      "execution_count": 15,
      "outputs": [
        {
          "output_type": "display_data",
          "data": {
            "text/plain": [
              "k-Nearest Neighbors \n",
              "\n",
              "506 samples\n",
              " 13 predictor\n",
              "  2 classes: 'expensive', 'quite_cheap' \n",
              "\n",
              "Pre-processing: centered (12), scaled (12), ignore (1) \n",
              "Resampling: Cross-Validated (10 fold, repeated 10 times) \n",
              "Summary of sample sizes: 455, 455, 455, 455, 455, 456, ... \n",
              "Resampling results across tuning parameters:\n",
              "\n",
              "  k   ROC        Sens       Spec     \n",
              "   5  0.9521552  0.7520833  0.9470377\n",
              "   7  0.9572483  0.7377778  0.9548726\n",
              "   9  0.9562006  0.7463889  0.9555869\n",
              "  11  0.9536357  0.7166667  0.9570155\n",
              "  13  0.9521867  0.6952778  0.9586932\n",
              "  15  0.9514055  0.6909722  0.9594075\n",
              "  17  0.9530348  0.6900000  0.9610742\n",
              "  19  0.9532985  0.6887500  0.9620266\n",
              "  21  0.9525747  0.6911111  0.9632060\n",
              "  23  0.9527969  0.6900000  0.9648671\n",
              "\n",
              "ROC was used to select the optimal model using the largest value.\n",
              "The final value used for the model was k = 7."
            ]
          },
          "metadata": {
            "tags": []
          }
        },
        {
          "output_type": "display_data",
          "data": {
            "text/plain": [
              "Confusion Matrix and Statistics\n",
              "\n",
              "             Reference\n",
              "Prediction    expensive quite_cheap\n",
              "  expensive          66          17\n",
              "  quite_cheap        19         404\n",
              "                                          \n",
              "               Accuracy : 0.9289          \n",
              "                 95% CI : (0.9029, 0.9497)\n",
              "    No Information Rate : 0.832           \n",
              "    P-Value [Acc > NIR] : 9.969e-11       \n",
              "                                          \n",
              "                  Kappa : 0.7431          \n",
              "                                          \n",
              " Mcnemar's Test P-Value : 0.8676          \n",
              "                                          \n",
              "            Sensitivity : 0.7765          \n",
              "            Specificity : 0.9596          \n",
              "         Pos Pred Value : 0.7952          \n",
              "         Neg Pred Value : 0.9551          \n",
              "             Prevalence : 0.1680          \n",
              "         Detection Rate : 0.1304          \n",
              "   Detection Prevalence : 0.1640          \n",
              "      Balanced Accuracy : 0.8680          \n",
              "                                          \n",
              "       'Positive' Class : expensive       \n",
              "                                          "
            ]
          },
          "metadata": {
            "tags": []
          }
        }
      ]
    },
    {
      "cell_type": "markdown",
      "metadata": {
        "id": "wuJo2osEoN6s"
      },
      "source": [
        "#3 knn: Sensitivity\n",
        "In the same way as in example 2, we can change metric to \"Sens\", to make caret choose the model with the highest cross-validated sensitivity."
      ]
    },
    {
      "cell_type": "code",
      "metadata": {
        "id": "8yG-Hc37Oe7e",
        "outputId": "564216cb-7402-4961-f957-3570c4053755",
        "colab": {
          "base_uri": "https://localhost:8080/",
          "height": 901
        }
      },
      "source": [
        "fitControl <- trainControl(method = \"repeatedcv\",\n",
        "                           number = 10,\n",
        "                           repeats = 10,\n",
        "                           ## Estimate class probabilities\n",
        "                           classProbs = TRUE,\n",
        "                           ## Evaluate performance using \n",
        "                           ## the following function\n",
        "                           summaryFunction = twoClassSummary)\n",
        "set.seed(1234)\n",
        "knnFit3_housing <- train(TrainDataHousing, TrainClassesHousing,\n",
        "                         method = \"knn\",\n",
        "                         metric = \"Sens\",\n",
        "                         preProcess = c(\"center\", \"scale\"),\n",
        "                         tuneLength = 10,\n",
        "                         trControl = fitControl)\n",
        "knnFit3_housing\n",
        "confusionMatrix(predict(knnFit3_housing),TrainClassesHousing)"
      ],
      "execution_count": 16,
      "outputs": [
        {
          "output_type": "display_data",
          "data": {
            "text/plain": [
              "k-Nearest Neighbors \n",
              "\n",
              "506 samples\n",
              " 13 predictor\n",
              "  2 classes: 'expensive', 'quite_cheap' \n",
              "\n",
              "Pre-processing: centered (12), scaled (12), ignore (1) \n",
              "Resampling: Cross-Validated (10 fold, repeated 10 times) \n",
              "Summary of sample sizes: 455, 455, 455, 455, 455, 456, ... \n",
              "Resampling results across tuning parameters:\n",
              "\n",
              "  k   ROC        Sens       Spec     \n",
              "   5  0.9521552  0.7520833  0.9470377\n",
              "   7  0.9572483  0.7377778  0.9548726\n",
              "   9  0.9562006  0.7463889  0.9555869\n",
              "  11  0.9536357  0.7166667  0.9570155\n",
              "  13  0.9521867  0.6952778  0.9586932\n",
              "  15  0.9514055  0.6909722  0.9594075\n",
              "  17  0.9530348  0.6900000  0.9610742\n",
              "  19  0.9532985  0.6887500  0.9620266\n",
              "  21  0.9525747  0.6911111  0.9632060\n",
              "  23  0.9527969  0.6900000  0.9648671\n",
              "\n",
              "Sens was used to select the optimal model using the largest value.\n",
              "The final value used for the model was k = 5."
            ]
          },
          "metadata": {
            "tags": []
          }
        },
        {
          "output_type": "display_data",
          "data": {
            "text/plain": [
              "Confusion Matrix and Statistics\n",
              "\n",
              "             Reference\n",
              "Prediction    expensive quite_cheap\n",
              "  expensive          69          17\n",
              "  quite_cheap        16         404\n",
              "                                          \n",
              "               Accuracy : 0.9348          \n",
              "                 95% CI : (0.9096, 0.9547)\n",
              "    No Information Rate : 0.832           \n",
              "    P-Value [Acc > NIR] : 4.69e-12        \n",
              "                                          \n",
              "                  Kappa : 0.7678          \n",
              "                                          \n",
              " Mcnemar's Test P-Value : 1               \n",
              "                                          \n",
              "            Sensitivity : 0.8118          \n",
              "            Specificity : 0.9596          \n",
              "         Pos Pred Value : 0.8023          \n",
              "         Neg Pred Value : 0.9619          \n",
              "             Prevalence : 0.1680          \n",
              "         Detection Rate : 0.1364          \n",
              "   Detection Prevalence : 0.1700          \n",
              "      Balanced Accuracy : 0.8857          \n",
              "                                          \n",
              "       'Positive' Class : expensive       \n",
              "                                          "
            ]
          },
          "metadata": {
            "tags": []
          }
        }
      ]
    },
    {
      "cell_type": "markdown",
      "metadata": {
        "id": "kKVX6Y25oidL"
      },
      "source": [
        "#4 knn: Specificity\n",
        "In the same way as in examples 2 and 3, we can change metric to \"Spec\", to make caret choose the model with the highest cross-validated specificity."
      ]
    },
    {
      "cell_type": "code",
      "metadata": {
        "id": "XKr6RithO2pt",
        "outputId": "f88ba39a-0909-4b19-9dd3-56a2050fe10d",
        "colab": {
          "base_uri": "https://localhost:8080/",
          "height": 901
        }
      },
      "source": [
        "fitControl <- trainControl(method = \"repeatedcv\",\n",
        "                           number = 10,\n",
        "                           repeats = 10,\n",
        "                           ## Estimate class probabilities\n",
        "                           classProbs = TRUE,\n",
        "                           ## Evaluate performance using \n",
        "                           ## the following function\n",
        "                           summaryFunction = twoClassSummary)\n",
        "set.seed(1234)\n",
        "knnFit4_housing <- train(TrainDataHousing, TrainClassesHousing,\n",
        "                         method = \"knn\",\n",
        "                         metric = \"Spec\",\n",
        "                         preProcess = c(\"center\", \"scale\"),\n",
        "                         tuneLength = 10,\n",
        "                         trControl = fitControl)\n",
        "knnFit4_housing\n",
        "confusionMatrix(predict(knnFit4_housing),TrainClassesHousing)"
      ],
      "execution_count": 17,
      "outputs": [
        {
          "output_type": "display_data",
          "data": {
            "text/plain": [
              "k-Nearest Neighbors \n",
              "\n",
              "506 samples\n",
              " 13 predictor\n",
              "  2 classes: 'expensive', 'quite_cheap' \n",
              "\n",
              "Pre-processing: centered (12), scaled (12), ignore (1) \n",
              "Resampling: Cross-Validated (10 fold, repeated 10 times) \n",
              "Summary of sample sizes: 455, 455, 455, 455, 455, 456, ... \n",
              "Resampling results across tuning parameters:\n",
              "\n",
              "  k   ROC        Sens       Spec     \n",
              "   5  0.9521552  0.7520833  0.9470377\n",
              "   7  0.9572483  0.7377778  0.9548726\n",
              "   9  0.9562006  0.7463889  0.9555869\n",
              "  11  0.9536357  0.7166667  0.9570155\n",
              "  13  0.9521867  0.6952778  0.9586932\n",
              "  15  0.9514055  0.6909722  0.9594075\n",
              "  17  0.9530348  0.6900000  0.9610742\n",
              "  19  0.9532985  0.6887500  0.9620266\n",
              "  21  0.9525747  0.6911111  0.9632060\n",
              "  23  0.9527969  0.6900000  0.9648671\n",
              "\n",
              "Spec was used to select the optimal model using the largest value.\n",
              "The final value used for the model was k = 23."
            ]
          },
          "metadata": {
            "tags": []
          }
        },
        {
          "output_type": "display_data",
          "data": {
            "text/plain": [
              "Confusion Matrix and Statistics\n",
              "\n",
              "             Reference\n",
              "Prediction    expensive quite_cheap\n",
              "  expensive          60          15\n",
              "  quite_cheap        25         406\n",
              "                                          \n",
              "               Accuracy : 0.9209          \n",
              "                 95% CI : (0.8939, 0.9429)\n",
              "    No Information Rate : 0.832           \n",
              "    P-Value [Acc > NIR] : 3.914e-09       \n",
              "                                          \n",
              "                  Kappa : 0.7033          \n",
              "                                          \n",
              " Mcnemar's Test P-Value : 0.1547          \n",
              "                                          \n",
              "            Sensitivity : 0.7059          \n",
              "            Specificity : 0.9644          \n",
              "         Pos Pred Value : 0.8000          \n",
              "         Neg Pred Value : 0.9420          \n",
              "             Prevalence : 0.1680          \n",
              "         Detection Rate : 0.1186          \n",
              "   Detection Prevalence : 0.1482          \n",
              "      Balanced Accuracy : 0.8351          \n",
              "                                          \n",
              "       'Positive' Class : expensive       \n",
              "                                          "
            ]
          },
          "metadata": {
            "tags": []
          }
        }
      ]
    },
    {
      "cell_type": "markdown",
      "metadata": {
        "id": "XAaOnfVeo1z2"
      },
      "source": [
        "#User-defined metrics\n",
        "So far, we have used metrics directly available in caret. From here on, we start defining our own metrics. To do this we work with a function that is taking data containing the predicted and the observed class for each instance, extracts the number of true negatives, false positives, false negatives and true positives from the table of this data, replaces NAs by zeros for each of these categories, and then uses these numbers to calculate a user-defined metric. \n",
        "\n",
        "In the example below, the user-defined metric is equal to (tn+tp)/(tn+fp+fn+tp), which is equivalent to the definition of accuracy. This number is therefore named 'acc' and we can use it to check whether our approach towards a user-defined metric works as it should."
      ]
    },
    {
      "cell_type": "code",
      "metadata": {
        "id": "SHVr4wWLPN66"
      },
      "source": [
        "### user-defined metric acc, leading to the same output as knnFit1_housing:\n",
        "accSummary <- function (data, lev = NULL, model = NULL) {\n",
        "        tn <- table(data$pred == \"expensive\",data$obs=='expensive')[1]\n",
        "        fp <- table(data$pred == \"expensive\",data$obs=='expensive')[2]\n",
        "        fn <- table(data$pred == \"expensive\",data$obs=='expensive')[3]\n",
        "        tp <- table(data$pred == \"expensive\",data$obs=='expensive')[4]\n",
        "        if(is.na(tp)){tp <- 0}\n",
        "        if(is.na(fn)){fn <- 0}\n",
        "        if(is.na(fp)){fp <- 0}\n",
        "        if(is.na(tn)){tn <- 0}\n",
        "        out <- (tn+tp)/(tn+fp+fn+tp)\n",
        "        names(out) <- \"acc\"\n",
        "        out\n",
        "}"
      ],
      "execution_count": 34,
      "outputs": []
    },
    {
      "cell_type": "markdown",
      "metadata": {
        "id": "nHP2m9S3sJCn"
      },
      "source": [
        "#5 knn: user-defined accuracy\n",
        "Below, we use the same code as we did in the previous examples, but now allocate the user-defined accSummary (which was defined in the previous code block) to summaryFunction in trainControl, and we change the metric to \"acc\". We see that we indeed get the same output as in example 1."
      ]
    },
    {
      "cell_type": "code",
      "metadata": {
        "id": "Tu3GqSD2PcBE",
        "outputId": "3cfe2934-26c1-4dbc-b3ee-d78112980ad6",
        "colab": {
          "base_uri": "https://localhost:8080/",
          "height": 901
        }
      },
      "source": [
        "fitControl <- trainControl(method = \"repeatedcv\",\n",
        "                           number = 10,\n",
        "                           repeats = 10,\n",
        "                           ## Estimate class probabilities\n",
        "                           classProbs = TRUE,\n",
        "                           ## Evaluate performance using \n",
        "                           ## the following function\n",
        "                           summaryFunction = accSummary)\n",
        "set.seed(1234)\n",
        "knnFit5_housing <- train(TrainDataHousing, TrainClassesHousing,\n",
        "                         method = \"knn\",\n",
        "                         metric = \"acc\",\n",
        "                         preProcess = c(\"center\", \"scale\"),\n",
        "                         tuneLength = 10,\n",
        "                         trControl = fitControl)\n",
        "knnFit5_housing\n",
        "## k = 9; acc = 0.9223884; \n",
        "confusionMatrix(predict(knnFit5_housing),TrainClassesHousing)"
      ],
      "execution_count": 20,
      "outputs": [
        {
          "output_type": "display_data",
          "data": {
            "text/plain": [
              "k-Nearest Neighbors \n",
              "\n",
              "506 samples\n",
              " 13 predictor\n",
              "  2 classes: 'expensive', 'quite_cheap' \n",
              "\n",
              "Pre-processing: centered (12), scaled (12), ignore (1) \n",
              "Resampling: Cross-Validated (10 fold, repeated 10 times) \n",
              "Summary of sample sizes: 455, 455, 455, 455, 455, 456, ... \n",
              "Resampling results across tuning parameters:\n",
              "\n",
              "  k   acc      \n",
              "   5  0.9144451\n",
              "   7  0.9185824\n",
              "   9  0.9205587\n",
              "  11  0.9168136\n",
              "  13  0.9146486\n",
              "  15  0.9144641\n",
              "  17  0.9156563\n",
              "  19  0.9162602\n",
              "  21  0.9176561\n",
              "  23  0.9188365\n",
              "\n",
              "acc was used to select the optimal model using the largest value.\n",
              "The final value used for the model was k = 9."
            ]
          },
          "metadata": {
            "tags": []
          }
        },
        {
          "output_type": "display_data",
          "data": {
            "text/plain": [
              "Confusion Matrix and Statistics\n",
              "\n",
              "             Reference\n",
              "Prediction    expensive quite_cheap\n",
              "  expensive          65          16\n",
              "  quite_cheap        20         405\n",
              "                                          \n",
              "               Accuracy : 0.9289          \n",
              "                 95% CI : (0.9029, 0.9497)\n",
              "    No Information Rate : 0.832           \n",
              "    P-Value [Acc > NIR] : 9.969e-11       \n",
              "                                          \n",
              "                  Kappa : 0.7406          \n",
              "                                          \n",
              " Mcnemar's Test P-Value : 0.6171          \n",
              "                                          \n",
              "            Sensitivity : 0.7647          \n",
              "            Specificity : 0.9620          \n",
              "         Pos Pred Value : 0.8025          \n",
              "         Neg Pred Value : 0.9529          \n",
              "             Prevalence : 0.1680          \n",
              "         Detection Rate : 0.1285          \n",
              "   Detection Prevalence : 0.1601          \n",
              "      Balanced Accuracy : 0.8634          \n",
              "                                          \n",
              "       'Positive' Class : expensive       \n",
              "                                          "
            ]
          },
          "metadata": {
            "tags": []
          }
        }
      ]
    },
    {
      "cell_type": "markdown",
      "metadata": {
        "id": "DuRCisCHsn2y"
      },
      "source": [
        "#6 knn: Positive Predictive Value\n",
        "Our example here is identical to the previous example, but now we define our metric as (tp)/(fp+tp), which is the definition of positive predictive value, and give it the name \"ppv\", which we then choose as the metric to optimize over in the function train."
      ]
    },
    {
      "cell_type": "code",
      "metadata": {
        "id": "q-pwq5CyP9go"
      },
      "source": [
        "#6 knn: custom metric ppv\n",
        "ppvSummary <- function (data, lev = NULL, model = NULL) {\n",
        "        tn <- table(data$pred == \"expensive\",data$obs=='expensive')[1]\n",
        "        fp <- table(data$pred == \"expensive\",data$obs=='expensive')[2]\n",
        "        fn <- table(data$pred == \"expensive\",data$obs=='expensive')[3]\n",
        "        tp <- table(data$pred == \"expensive\",data$obs=='expensive')[4]\n",
        "        if(is.na(tp)){tp <- 0}\n",
        "        if(is.na(fn)){fn <- 0}\n",
        "        if(is.na(fp)){fp <- 0}\n",
        "        if(is.na(tn)){tn <- 0}\n",
        "        out <- (tp)/(fp+tp)\n",
        "        names(out) <- \"ppv\"\n",
        "        out\n",
        "}"
      ],
      "execution_count": 44,
      "outputs": []
    },
    {
      "cell_type": "code",
      "metadata": {
        "id": "bSTn9JzdQBwc",
        "outputId": "8b6879e8-ab01-454e-d939-b9c16e8ef6ff",
        "colab": {
          "base_uri": "https://localhost:8080/",
          "height": 901
        }
      },
      "source": [
        "fitControl <- trainControl(method = \"repeatedcv\",\n",
        "                           number = 10,\n",
        "                           repeats = 10,\n",
        "                           ## Estimate class probabilities\n",
        "                           classProbs = TRUE,\n",
        "                           ## Evaluate performance using \n",
        "                           ## the following function\n",
        "                           summaryFunction = ppvSummary)\n",
        "set.seed(1234)\n",
        "knnFit6_housing <- train(TrainDataHousing, TrainClassesHousing,\n",
        "                         method = \"knn\",\n",
        "                         metric = \"ppv\",\n",
        "                         preProcess = c(\"center\", \"scale\"),\n",
        "                         tuneLength = 10,\n",
        "                         trControl = fitControl)\n",
        "knnFit6_housing\n",
        "confusionMatrix(predict(knnFit6_housing),TrainClassesHousing)"
      ],
      "execution_count": 46,
      "outputs": [
        {
          "output_type": "display_data",
          "data": {
            "text/plain": [
              "k-Nearest Neighbors \n",
              "\n",
              "506 samples\n",
              " 13 predictor\n",
              "  2 classes: 'expensive', 'quite_cheap' \n",
              "\n",
              "Pre-processing: centered (12), scaled (12), ignore (1) \n",
              "Resampling: Cross-Validated (10 fold, repeated 10 times) \n",
              "Summary of sample sizes: 455, 455, 455, 455, 455, 456, ... \n",
              "Resampling results across tuning parameters:\n",
              "\n",
              "  k   ppv      \n",
              "   5  0.7485789\n",
              "   7  0.7748989\n",
              "   9  0.7813300\n",
              "  11  0.7792374\n",
              "  13  0.7809870\n",
              "  15  0.7837835\n",
              "  17  0.7898997\n",
              "  19  0.7938016\n",
              "  21  0.7991230\n",
              "  23  0.8047421\n",
              "\n",
              "ppv was used to select the optimal model using the largest value.\n",
              "The final value used for the model was k = 23."
            ]
          },
          "metadata": {
            "tags": []
          }
        },
        {
          "output_type": "display_data",
          "data": {
            "text/plain": [
              "Confusion Matrix and Statistics\n",
              "\n",
              "             Reference\n",
              "Prediction    expensive quite_cheap\n",
              "  expensive          60          15\n",
              "  quite_cheap        25         406\n",
              "                                          \n",
              "               Accuracy : 0.9209          \n",
              "                 95% CI : (0.8939, 0.9429)\n",
              "    No Information Rate : 0.832           \n",
              "    P-Value [Acc > NIR] : 3.914e-09       \n",
              "                                          \n",
              "                  Kappa : 0.7033          \n",
              "                                          \n",
              " Mcnemar's Test P-Value : 0.1547          \n",
              "                                          \n",
              "            Sensitivity : 0.7059          \n",
              "            Specificity : 0.9644          \n",
              "         Pos Pred Value : 0.8000          \n",
              "         Neg Pred Value : 0.9420          \n",
              "             Prevalence : 0.1680          \n",
              "         Detection Rate : 0.1186          \n",
              "   Detection Prevalence : 0.1482          \n",
              "      Balanced Accuracy : 0.8351          \n",
              "                                          \n",
              "       'Positive' Class : expensive       \n",
              "                                          "
            ]
          },
          "metadata": {
            "tags": []
          }
        }
      ]
    },
    {
      "cell_type": "markdown",
      "metadata": {
        "id": "gZwauuG5tXZp"
      },
      "source": [
        "#6a knn: Positive Predictive Value (continued)\n",
        "As we see that positive predictive value is highest for the highest hyperparameter value k considered, we rerun the analysis using a grid of k-values that are higher than in the previous example."
      ]
    },
    {
      "cell_type": "code",
      "metadata": {
        "id": "Dv9LGvG1QWR6",
        "outputId": "d3962021-35e9-4665-dcef-f5ee37d30dbc",
        "colab": {
          "base_uri": "https://localhost:8080/",
          "height": 1000
        }
      },
      "source": [
        "### again, with larger values of K:\n",
        "grid <- expand.grid(k = seq(1:30)+20)\n",
        "\n",
        "set.seed(1234)\n",
        "knnFit6a_housing <- train(TrainDataHousing, TrainClassesHousing,\n",
        "                         method = \"knn\",\n",
        "                         metric = \"ppv\",\n",
        "                         preProcess = c(\"center\", \"scale\"),\n",
        "                         tuneLength = 10,\n",
        "                         trControl = fitControl,\n",
        "                         tuneGrid = grid)\n",
        "knnFit6a_housing\n",
        "## k = 35; ppv = 0.8494116; \n",
        "confusionMatrix(predict(knnFit6a_housing),TrainClassesHousing)"
      ],
      "execution_count": 47,
      "outputs": [
        {
          "output_type": "display_data",
          "data": {
            "text/plain": [
              "k-Nearest Neighbors \n",
              "\n",
              "506 samples\n",
              " 13 predictor\n",
              "  2 classes: 'expensive', 'quite_cheap' \n",
              "\n",
              "Pre-processing: centered (12), scaled (12), ignore (1) \n",
              "Resampling: Cross-Validated (10 fold, repeated 10 times) \n",
              "Summary of sample sizes: 455, 455, 455, 455, 455, 456, ... \n",
              "Resampling results across tuning parameters:\n",
              "\n",
              "  k   ppv      \n",
              "  21  0.7991230\n",
              "  22  0.7982680\n",
              "  23  0.8047421\n",
              "  24  0.8040938\n",
              "  25  0.8149430\n",
              "  26  0.8172078\n",
              "  27  0.8228745\n",
              "  28  0.8272370\n",
              "  29  0.8301721\n",
              "  30  0.8291136\n",
              "  31  0.8332915\n",
              "  32  0.8328640\n",
              "  33  0.8318918\n",
              "  34  0.8332320\n",
              "  35  0.8325029\n",
              "  36  0.8315238\n",
              "  37  0.8323175\n",
              "  38  0.8357460\n",
              "  39  0.8344722\n",
              "  40  0.8330902\n",
              "  41  0.8316299\n",
              "  42  0.8349960\n",
              "  43  0.8328175\n",
              "  44  0.8395714\n",
              "  45  0.8419794\n",
              "  46  0.8440675\n",
              "  47  0.8421706\n",
              "  48  0.8430198\n",
              "  49  0.8437937\n",
              "  50  0.8438373\n",
              "\n",
              "ppv was used to select the optimal model using the largest value.\n",
              "The final value used for the model was k = 46."
            ]
          },
          "metadata": {
            "tags": []
          }
        },
        {
          "output_type": "display_data",
          "data": {
            "text/plain": [
              "Confusion Matrix and Statistics\n",
              "\n",
              "             Reference\n",
              "Prediction    expensive quite_cheap\n",
              "  expensive          53          11\n",
              "  quite_cheap        32         410\n",
              "                                          \n",
              "               Accuracy : 0.915           \n",
              "                 95% CI : (0.8872, 0.9378)\n",
              "    No Information Rate : 0.832           \n",
              "    P-Value [Acc > NIR] : 4.641e-08       \n",
              "                                          \n",
              "                  Kappa : 0.6627          \n",
              "                                          \n",
              " Mcnemar's Test P-Value : 0.002289        \n",
              "                                          \n",
              "            Sensitivity : 0.6235          \n",
              "            Specificity : 0.9739          \n",
              "         Pos Pred Value : 0.8281          \n",
              "         Neg Pred Value : 0.9276          \n",
              "             Prevalence : 0.1680          \n",
              "         Detection Rate : 0.1047          \n",
              "   Detection Prevalence : 0.1265          \n",
              "      Balanced Accuracy : 0.7987          \n",
              "                                          \n",
              "       'Positive' Class : expensive       \n",
              "                                          "
            ]
          },
          "metadata": {
            "tags": []
          }
        }
      ]
    },
    {
      "cell_type": "markdown",
      "metadata": {
        "id": "3nWD_RVB7ZGA"
      },
      "source": [
        "# 7 knn: F1-score\n",
        "The next metric we consider is the so-called F1-score, which is equal to 2* precision * recall / (precision + recall)"
      ]
    },
    {
      "cell_type": "code",
      "metadata": {
        "id": "GhlTyhCqREp3"
      },
      "source": [
        "f1Summary <- function (data, lev = NULL, model = NULL) {\n",
        "        tn <- table(data$pred == \"expensive\",data$obs=='expensive')[1]\n",
        "        fp <- table(data$pred == \"expensive\",data$obs=='expensive')[2]\n",
        "        fn <- table(data$pred == \"expensive\",data$obs=='expensive')[3]\n",
        "        tp <- table(data$pred == \"expensive\",data$obs=='expensive')[4]\n",
        "        if(is.na(tp)){tp <- 0}\n",
        "        if(is.na(fn)){fn <- 0}\n",
        "        if(is.na(fp)){fp <- 0}\n",
        "        if(is.na(tn)){tn <- 0}\n",
        "        out <- (2*tp/(tp+fp)*(tp/(tp+fn)))/(tp/(tp+fp) + (tp/(tp+fn)))\n",
        "        names(out) <- \"f1\"\n",
        "        out\n",
        "}"
      ],
      "execution_count": 49,
      "outputs": []
    },
    {
      "cell_type": "code",
      "metadata": {
        "id": "KrzamPJsRKci",
        "outputId": "a99880de-95ae-47c0-fbb1-68dfc62667fb",
        "colab": {
          "base_uri": "https://localhost:8080/",
          "height": 901
        }
      },
      "source": [
        "fitControl <- trainControl(method = \"repeatedcv\",\n",
        "                           number = 10,\n",
        "                           repeats = 10,\n",
        "                           ## Estimate class probabilities\n",
        "                           classProbs = TRUE,\n",
        "                           ## Evaluate performance using \n",
        "                           ## the following function\n",
        "                           summaryFunction = f1Summary)\n",
        "set.seed(1234)\n",
        "knnFit7_housing <- train(TrainDataHousing, TrainClassesHousing,\n",
        "                         method = \"knn\",\n",
        "                         metric = \"f1\",\n",
        "                         preProcess = c(\"center\", \"scale\"),\n",
        "                         tuneLength = 10,\n",
        "                         trControl = fitControl)\n",
        "knnFit7_housing\n",
        "confusionMatrix(predict(knnFit7_housing),TrainClassesHousing)\n"
      ],
      "execution_count": 50,
      "outputs": [
        {
          "output_type": "display_data",
          "data": {
            "text/plain": [
              "k-Nearest Neighbors \n",
              "\n",
              "506 samples\n",
              " 13 predictor\n",
              "  2 classes: 'expensive', 'quite_cheap' \n",
              "\n",
              "Pre-processing: centered (12), scaled (12), ignore (1) \n",
              "Resampling: Cross-Validated (10 fold, repeated 10 times) \n",
              "Summary of sample sizes: 455, 455, 455, 455, 455, 456, ... \n",
              "Resampling results across tuning parameters:\n",
              "\n",
              "  k   f1       \n",
              "   5  0.7432560\n",
              "   7  0.7471008\n",
              "   9  0.7549875\n",
              "  11  0.7379475\n",
              "  13  0.7270166\n",
              "  15  0.7257174\n",
              "  17  0.7278599\n",
              "  19  0.7288822\n",
              "  21  0.7323964\n",
              "  23  0.7342341\n",
              "\n",
              "f1 was used to select the optimal model using the largest value.\n",
              "The final value used for the model was k = 9."
            ]
          },
          "metadata": {
            "tags": []
          }
        },
        {
          "output_type": "display_data",
          "data": {
            "text/plain": [
              "Confusion Matrix and Statistics\n",
              "\n",
              "             Reference\n",
              "Prediction    expensive quite_cheap\n",
              "  expensive          65          16\n",
              "  quite_cheap        20         405\n",
              "                                          \n",
              "               Accuracy : 0.9289          \n",
              "                 95% CI : (0.9029, 0.9497)\n",
              "    No Information Rate : 0.832           \n",
              "    P-Value [Acc > NIR] : 9.969e-11       \n",
              "                                          \n",
              "                  Kappa : 0.7406          \n",
              "                                          \n",
              " Mcnemar's Test P-Value : 0.6171          \n",
              "                                          \n",
              "            Sensitivity : 0.7647          \n",
              "            Specificity : 0.9620          \n",
              "         Pos Pred Value : 0.8025          \n",
              "         Neg Pred Value : 0.9529          \n",
              "             Prevalence : 0.1680          \n",
              "         Detection Rate : 0.1285          \n",
              "   Detection Prevalence : 0.1601          \n",
              "      Balanced Accuracy : 0.8634          \n",
              "                                          \n",
              "       'Positive' Class : expensive       \n",
              "                                          "
            ]
          },
          "metadata": {
            "tags": []
          }
        }
      ]
    },
    {
      "cell_type": "markdown",
      "metadata": {
        "id": "-a9BEwJ08alA"
      },
      "source": [
        "#8 knn: weighted average between precision and recall\n",
        "\n",
        "The F1-score gives equal weight to both precision and recall. We can also use a weighted average of precision and recall, as is done in the example below, with most weight placed on precision."
      ]
    },
    {
      "cell_type": "code",
      "metadata": {
        "id": "wZBuVZWyRez4"
      },
      "source": [
        "ppv_recSummary <- function (data, lev = NULL, model = NULL) {\n",
        "        tn <- table(data$pred == \"expensive\",data$obs=='expensive')[1]\n",
        "        fp <- table(data$pred == \"expensive\",data$obs=='expensive')[2]\n",
        "        fn <- table(data$pred == \"expensive\",data$obs=='expensive')[3]\n",
        "        tp <- table(data$pred == \"expensive\",data$obs=='expensive')[4]\n",
        "        if(is.na(tp)){tp <- 0}\n",
        "        if(is.na(fn)){fn <- 0}\n",
        "        if(is.na(fp)){fp <- 0}\n",
        "        if(is.na(tn)){tn <- 0}\n",
        "        out <- (5*tp/(tp+fp)+(tp/(tp+fn)))/6\n",
        "        names(out) <- \"ppv_rec\"\n",
        "        out\n",
        "}"
      ],
      "execution_count": 53,
      "outputs": []
    },
    {
      "cell_type": "code",
      "metadata": {
        "id": "W99-sEzTRmOz",
        "outputId": "a78f9cb8-4e34-4f0c-b5f3-6bad85e96487",
        "colab": {
          "base_uri": "https://localhost:8080/",
          "height": 1000
        }
      },
      "source": [
        "fitControl <- trainControl(method = \"repeatedcv\",\n",
        "                           number = 10,\n",
        "                           repeats = 10,\n",
        "                           ## Estimate class probabilities\n",
        "                           classProbs = TRUE,\n",
        "                           ## Evaluate performance using \n",
        "                           ## the following function\n",
        "                           summaryFunction = ppv_recSummary)\n",
        "set.seed(1234)\n",
        "knnFit8_housing <- train(TrainDataHousing, TrainClassesHousing,\n",
        "                         method = \"knn\",\n",
        "                         metric = \"ppv_rec\",\n",
        "                         preProcess = c(\"center\", \"scale\"),\n",
        "                         tuneLength = 25,\n",
        "                         trControl = fitControl)\n",
        "knnFit8_housing\n",
        "confusionMatrix(predict(knnFit8_housing),TrainClassesHousing)"
      ],
      "execution_count": 55,
      "outputs": [
        {
          "output_type": "display_data",
          "data": {
            "text/plain": [
              "k-Nearest Neighbors \n",
              "\n",
              "506 samples\n",
              " 13 predictor\n",
              "  2 classes: 'expensive', 'quite_cheap' \n",
              "\n",
              "Pre-processing: centered (12), scaled (12), ignore (1) \n",
              "Resampling: Cross-Validated (10 fold, repeated 10 times) \n",
              "Summary of sample sizes: 455, 455, 455, 455, 455, 456, ... \n",
              "Resampling results across tuning parameters:\n",
              "\n",
              "  k   ppv_rec  \n",
              "   5  0.7491630\n",
              "   7  0.7687121\n",
              "   9  0.7755065\n",
              "  11  0.7688089\n",
              "  13  0.7667021\n",
              "  15  0.7683150\n",
              "  17  0.7738318\n",
              "  19  0.7762930\n",
              "  21  0.7811210\n",
              "  23  0.7856184\n",
              "  25  0.7939108\n",
              "  27  0.7993630\n",
              "  29  0.8050508\n",
              "  31  0.8062151\n",
              "  33  0.8034978\n",
              "  35  0.8027802\n",
              "  37  0.8016766\n",
              "  39  0.8011574\n",
              "  41  0.7972147\n",
              "  43  0.7980192\n",
              "  45  0.8043347\n",
              "  47  0.8006283\n",
              "  49  0.7993419\n",
              "  51  0.7985483\n",
              "  53  0.7936673\n",
              "\n",
              "ppv_rec was used to select the optimal model using the largest value.\n",
              "The final value used for the model was k = 31."
            ]
          },
          "metadata": {
            "tags": []
          }
        },
        {
          "output_type": "display_data",
          "data": {
            "text/plain": [
              "Confusion Matrix and Statistics\n",
              "\n",
              "             Reference\n",
              "Prediction    expensive quite_cheap\n",
              "  expensive          58          12\n",
              "  quite_cheap        27         409\n",
              "                                          \n",
              "               Accuracy : 0.9229          \n",
              "                 95% CI : (0.8961, 0.9446)\n",
              "    No Information Rate : 0.832           \n",
              "    P-Value [Acc > NIR] : 1.63e-09        \n",
              "                                          \n",
              "                  Kappa : 0.7034          \n",
              "                                          \n",
              " Mcnemar's Test P-Value : 0.02497         \n",
              "                                          \n",
              "            Sensitivity : 0.6824          \n",
              "            Specificity : 0.9715          \n",
              "         Pos Pred Value : 0.8286          \n",
              "         Neg Pred Value : 0.9381          \n",
              "             Prevalence : 0.1680          \n",
              "         Detection Rate : 0.1146          \n",
              "   Detection Prevalence : 0.1383          \n",
              "      Balanced Accuracy : 0.8269          \n",
              "                                          \n",
              "       'Positive' Class : expensive       \n",
              "                                          "
            ]
          },
          "metadata": {
            "tags": []
          }
        }
      ]
    },
    {
      "cell_type": "markdown",
      "metadata": {
        "id": "6C6qGh9D_zBD"
      },
      "source": [
        "#To Conclude\n",
        "In your data science project, you should carefully consider what performance metric best captures what you are trying to achieve with your algorithm. In this notebook, you find example code that will help you defining exactly the metric you want to optimize over."
      ]
    }
  ]
}