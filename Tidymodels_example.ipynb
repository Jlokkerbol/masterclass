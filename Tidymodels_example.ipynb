{
  "nbformat": 4,
  "nbformat_minor": 0,
  "metadata": {
    "colab": {
      "provenance": [],
      "authorship_tag": "ABX9TyMmWEoBhU/5bszKpIqtkAXc",
      "include_colab_link": true
    },
    "kernelspec": {
      "name": "ir",
      "display_name": "R"
    },
    "language_info": {
      "name": "R"
    }
  },
  "cells": [
    {
      "cell_type": "markdown",
      "metadata": {
        "id": "view-in-github",
        "colab_type": "text"
      },
      "source": [
        "<a href=\"https://colab.research.google.com/github/Jlokkerbol/masterclass/blob/main/Tidymodels_example.ipynb\" target=\"_parent\"><img src=\"https://colab.research.google.com/assets/colab-badge.svg\" alt=\"Open In Colab\"/></a>"
      ]
    },
    {
      "cell_type": "markdown",
      "source": [
        "Following the tutorial as given in:\n",
        "https://juliasilge.com/blog/lasso-the-office/"
      ],
      "metadata": {
        "id": "i_lhNAjK53az"
      }
    },
    {
      "cell_type": "code",
      "source": [
        "install.packages(\"tidymodels\")"
      ],
      "metadata": {
        "colab": {
          "base_uri": "https://localhost:8080/"
        },
        "id": "AJTZOQmo5tTS",
        "outputId": "f19bae7e-82cb-4414-8a05-47a5aa4c5bf6"
      },
      "execution_count": 2,
      "outputs": [
        {
          "output_type": "stream",
          "name": "stderr",
          "text": [
            "Installing package into ‘/usr/local/lib/R/site-library’\n",
            "(as ‘lib’ is unspecified)\n",
            "\n",
            "also installing the dependencies ‘shape’, ‘future.apply’, ‘numDeriv’, ‘progressr’, ‘SQUAREM’, ‘Rcpp’, ‘diagram’, ‘lava’, ‘listenv’, ‘parallelly’, ‘prodlim’, ‘future’, ‘warp’, ‘iterators’, ‘lhs’, ‘DiceDesign’, ‘patchwork’, ‘globals’, ‘clock’, ‘gower’, ‘ipred’, ‘timeDate’, ‘furrr’, ‘slider’, ‘foreach’, ‘GPfit’, ‘modelenv’, ‘dials’, ‘hardhat’, ‘infer’, ‘modeldata’, ‘parsnip’, ‘recipes’, ‘rsample’, ‘tune’, ‘workflows’, ‘workflowsets’, ‘yardstick’\n",
            "\n",
            "\n"
          ]
        }
      ]
    },
    {
      "cell_type": "code",
      "source": [
        "install.packages(\"schrute\")"
      ],
      "metadata": {
        "colab": {
          "base_uri": "https://localhost:8080/"
        },
        "id": "Qff1SxzH9xj5",
        "outputId": "77a406cb-4bae-4db9-fde6-582f96ae8cdf"
      },
      "execution_count": 19,
      "outputs": [
        {
          "output_type": "stream",
          "name": "stderr",
          "text": [
            "Installing package into ‘/usr/local/lib/R/site-library’\n",
            "(as ‘lib’ is unspecified)\n",
            "\n"
          ]
        }
      ]
    },
    {
      "cell_type": "code",
      "source": [
        "install.packages(\"janitor\")"
      ],
      "metadata": {
        "colab": {
          "base_uri": "https://localhost:8080/"
        },
        "id": "qAB-CGfH_ytM",
        "outputId": "e5b8c395-6e89-4bf6-de4d-95aa42f31b55"
      },
      "execution_count": 25,
      "outputs": [
        {
          "output_type": "stream",
          "name": "stderr",
          "text": [
            "Installing package into ‘/usr/local/lib/R/site-library’\n",
            "(as ‘lib’ is unspecified)\n",
            "\n",
            "also installing the dependency ‘snakecase’\n",
            "\n",
            "\n"
          ]
        }
      ]
    },
    {
      "cell_type": "code",
      "source": [
        "install.packages(\"glmnet\")"
      ],
      "metadata": {
        "colab": {
          "base_uri": "https://localhost:8080/"
        },
        "id": "jkgueysJDZkG",
        "outputId": "2d2b3e24-a89f-4f82-c6c2-62d2a481c686"
      },
      "execution_count": 32,
      "outputs": [
        {
          "output_type": "stream",
          "name": "stderr",
          "text": [
            "Installing package into ‘/usr/local/lib/R/site-library’\n",
            "(as ‘lib’ is unspecified)\n",
            "\n",
            "also installing the dependency ‘RcppEigen’\n",
            "\n",
            "\n"
          ]
        }
      ]
    },
    {
      "cell_type": "code",
      "source": [
        "install.packages(\"vip\")\n",
        "install.packages(\"doParallel\")"
      ],
      "metadata": {
        "colab": {
          "base_uri": "https://localhost:8080/"
        },
        "id": "Aj_oSOaREuX_",
        "outputId": "75f8dd5d-774e-4e71-a323-24bf9262398a"
      },
      "execution_count": 36,
      "outputs": [
        {
          "output_type": "stream",
          "name": "stderr",
          "text": [
            "Installing package into ‘/usr/local/lib/R/site-library’\n",
            "(as ‘lib’ is unspecified)\n",
            "\n",
            "Installing package into ‘/usr/local/lib/R/site-library’\n",
            "(as ‘lib’ is unspecified)\n",
            "\n"
          ]
        }
      ]
    },
    {
      "cell_type": "code",
      "source": [
        "library(schrute)"
      ],
      "metadata": {
        "id": "7YQv--Gt9vQ0"
      },
      "execution_count": 20,
      "outputs": []
    },
    {
      "cell_type": "code",
      "execution_count": 6,
      "metadata": {
        "id": "uMFeYquw5aS-"
      },
      "outputs": [],
      "source": [
        "library(tidymodels)"
      ]
    },
    {
      "cell_type": "code",
      "source": [
        "library(glmnet)"
      ],
      "metadata": {
        "colab": {
          "base_uri": "https://localhost:8080/"
        },
        "id": "ynhvkOF1Dd_R",
        "outputId": "ac60da73-be71-4d82-c35f-ff48c6888687"
      },
      "execution_count": 33,
      "outputs": [
        {
          "output_type": "stream",
          "name": "stderr",
          "text": [
            "Loading required package: Matrix\n",
            "\n",
            "\n",
            "Attaching package: ‘Matrix’\n",
            "\n",
            "\n",
            "The following objects are masked from ‘package:tidyr’:\n",
            "\n",
            "    expand, pack, unpack\n",
            "\n",
            "\n",
            "Loaded glmnet 4.1-8\n",
            "\n"
          ]
        }
      ]
    },
    {
      "cell_type": "code",
      "source": [
        "library(doParallel)"
      ],
      "metadata": {
        "colab": {
          "base_uri": "https://localhost:8080/"
        },
        "id": "jBdpjBVIEr3K",
        "outputId": "e68c91ea-7eb2-4722-c24b-8a202841ffee"
      },
      "execution_count": 37,
      "outputs": [
        {
          "output_type": "stream",
          "name": "stderr",
          "text": [
            "Loading required package: foreach\n",
            "\n",
            "\n",
            "Attaching package: ‘foreach’\n",
            "\n",
            "\n",
            "The following objects are masked from ‘package:purrr’:\n",
            "\n",
            "    accumulate, when\n",
            "\n",
            "\n",
            "Loading required package: iterators\n",
            "\n",
            "Loading required package: parallel\n",
            "\n"
          ]
        }
      ]
    },
    {
      "cell_type": "code",
      "source": [
        "library(vip)"
      ],
      "metadata": {
        "colab": {
          "base_uri": "https://localhost:8080/"
        },
        "id": "1Xrzsps9Eq_P",
        "outputId": "0c17de06-57b4-464a-cc33-3472cee0e183"
      },
      "execution_count": 38,
      "outputs": [
        {
          "output_type": "stream",
          "name": "stderr",
          "text": [
            "\n",
            "Attaching package: ‘vip’\n",
            "\n",
            "\n",
            "The following object is masked from ‘package:utils’:\n",
            "\n",
            "    vi\n",
            "\n",
            "\n"
          ]
        }
      ]
    },
    {
      "cell_type": "code",
      "source": [
        "library(tidyverse)"
      ],
      "metadata": {
        "id": "Nu1pN0e26hKk"
      },
      "execution_count": 9,
      "outputs": []
    },
    {
      "cell_type": "code",
      "source": [
        "library(janitor)"
      ],
      "metadata": {
        "colab": {
          "base_uri": "https://localhost:8080/"
        },
        "id": "k36pLBX7_3Bi",
        "outputId": "8c73ed31-a667-46ce-b887-0f7ee433700d"
      },
      "execution_count": 26,
      "outputs": [
        {
          "output_type": "stream",
          "name": "stderr",
          "text": [
            "\n",
            "Attaching package: ‘janitor’\n",
            "\n",
            "\n",
            "The following objects are masked from ‘package:stats’:\n",
            "\n",
            "    chisq.test, fisher.test\n",
            "\n",
            "\n"
          ]
        }
      ]
    },
    {
      "cell_type": "markdown",
      "source": [
        "# Explore the data"
      ],
      "metadata": {
        "id": "MUMx_XsT_fBl"
      }
    },
    {
      "cell_type": "markdown",
      "source": [
        "Our modeling goal here is to predict the IMDB ratings for episodes of The Office based on the other characteristics of the episodes in the #TidyTuesday dataset. There are two datasets, one with the ratings and one with information like director, writer, and which character spoke which line. The episode numbers and titles are not consistent between them, so we can use regular expressions to do a better job of matching the datasets up for joining."
      ],
      "metadata": {
        "id": "0HsDxUbY_g0q"
      }
    },
    {
      "cell_type": "code",
      "source": [
        "ratings_raw <- readr::read_csv(\"https://raw.githubusercontent.com/rfordatascience/tidytuesday/master/data/2020/2020-03-17/office_ratings.csv\")\n",
        "\n",
        "remove_regex <- \"[:punct:]|[:digit:]|parts |part |the |and\"\n",
        "\n",
        "office_ratings <- ratings_raw %>%\n",
        "  transmute(\n",
        "    episode_name = str_to_lower(title),\n",
        "    episode_name = str_remove_all(episode_name, remove_regex),\n",
        "    episode_name = str_trim(episode_name),\n",
        "    imdb_rating\n",
        "  )\n",
        "\n",
        "office_info <- schrute::theoffice %>%\n",
        "  mutate(\n",
        "    season = as.numeric(season),\n",
        "    episode = as.numeric(episode),\n",
        "    episode_name = str_to_lower(episode_name),\n",
        "    episode_name = str_remove_all(episode_name, remove_regex),\n",
        "    episode_name = str_trim(episode_name)\n",
        "  ) %>%\n",
        "  select(season, episode, episode_name, director, writer, character)\n",
        "\n",
        "office_info"
      ],
      "metadata": {
        "colab": {
          "base_uri": "https://localhost:8080/",
          "height": 1000
        },
        "id": "JWPwO6Ip7UAS",
        "outputId": "d06bfbed-10c9-46bc-ae65-71a357bed88e"
      },
      "execution_count": 21,
      "outputs": [
        {
          "output_type": "stream",
          "name": "stderr",
          "text": [
            "\u001b[1mRows: \u001b[22m\u001b[34m188\u001b[39m \u001b[1mColumns: \u001b[22m\u001b[34m6\u001b[39m\n",
            "\u001b[36m──\u001b[39m \u001b[1mColumn specification\u001b[22m \u001b[36m────────────────────────────────────────────────────────\u001b[39m\n",
            "\u001b[1mDelimiter:\u001b[22m \",\"\n",
            "\u001b[31mchr\u001b[39m  (1): title\n",
            "\u001b[32mdbl\u001b[39m  (4): season, episode, imdb_rating, total_votes\n",
            "\u001b[34mdate\u001b[39m (1): air_date\n",
            "\n",
            "\u001b[36mℹ\u001b[39m Use `spec()` to retrieve the full column specification for this data.\n",
            "\u001b[36mℹ\u001b[39m Specify the column types or set `show_col_types = FALSE` to quiet this message.\n"
          ]
        },
        {
          "output_type": "display_data",
          "data": {
            "text/html": [
              "<table class=\"dataframe\">\n",
              "<caption>A tibble: 55130 × 6</caption>\n",
              "<thead>\n",
              "\t<tr><th scope=col>season</th><th scope=col>episode</th><th scope=col>episode_name</th><th scope=col>director</th><th scope=col>writer</th><th scope=col>character</th></tr>\n",
              "\t<tr><th scope=col>&lt;dbl&gt;</th><th scope=col>&lt;dbl&gt;</th><th scope=col>&lt;chr&gt;</th><th scope=col>&lt;chr&gt;</th><th scope=col>&lt;chr&gt;</th><th scope=col>&lt;chr&gt;</th></tr>\n",
              "</thead>\n",
              "<tbody>\n",
              "\t<tr><td>1</td><td>1</td><td>pilot</td><td>Ken Kwapis</td><td>Ricky Gervais;Stephen Merchant;Greg Daniels</td><td>Michael</td></tr>\n",
              "\t<tr><td>1</td><td>1</td><td>pilot</td><td>Ken Kwapis</td><td>Ricky Gervais;Stephen Merchant;Greg Daniels</td><td>Jim    </td></tr>\n",
              "\t<tr><td>1</td><td>1</td><td>pilot</td><td>Ken Kwapis</td><td>Ricky Gervais;Stephen Merchant;Greg Daniels</td><td>Michael</td></tr>\n",
              "\t<tr><td>1</td><td>1</td><td>pilot</td><td>Ken Kwapis</td><td>Ricky Gervais;Stephen Merchant;Greg Daniels</td><td>Jim    </td></tr>\n",
              "\t<tr><td>1</td><td>1</td><td>pilot</td><td>Ken Kwapis</td><td>Ricky Gervais;Stephen Merchant;Greg Daniels</td><td>Michael</td></tr>\n",
              "\t<tr><td>1</td><td>1</td><td>pilot</td><td>Ken Kwapis</td><td>Ricky Gervais;Stephen Merchant;Greg Daniels</td><td>Michael</td></tr>\n",
              "\t<tr><td>1</td><td>1</td><td>pilot</td><td>Ken Kwapis</td><td>Ricky Gervais;Stephen Merchant;Greg Daniels</td><td>Michael</td></tr>\n",
              "\t<tr><td>1</td><td>1</td><td>pilot</td><td>Ken Kwapis</td><td>Ricky Gervais;Stephen Merchant;Greg Daniels</td><td>Pam    </td></tr>\n",
              "\t<tr><td>1</td><td>1</td><td>pilot</td><td>Ken Kwapis</td><td>Ricky Gervais;Stephen Merchant;Greg Daniels</td><td>Michael</td></tr>\n",
              "\t<tr><td>1</td><td>1</td><td>pilot</td><td>Ken Kwapis</td><td>Ricky Gervais;Stephen Merchant;Greg Daniels</td><td>Pam    </td></tr>\n",
              "\t<tr><td>1</td><td>1</td><td>pilot</td><td>Ken Kwapis</td><td>Ricky Gervais;Stephen Merchant;Greg Daniels</td><td>Michael</td></tr>\n",
              "\t<tr><td>1</td><td>1</td><td>pilot</td><td>Ken Kwapis</td><td>Ricky Gervais;Stephen Merchant;Greg Daniels</td><td>Pam    </td></tr>\n",
              "\t<tr><td>1</td><td>1</td><td>pilot</td><td>Ken Kwapis</td><td>Ricky Gervais;Stephen Merchant;Greg Daniels</td><td>Michael</td></tr>\n",
              "\t<tr><td>1</td><td>1</td><td>pilot</td><td>Ken Kwapis</td><td>Ricky Gervais;Stephen Merchant;Greg Daniels</td><td>Pam    </td></tr>\n",
              "\t<tr><td>1</td><td>1</td><td>pilot</td><td>Ken Kwapis</td><td>Ricky Gervais;Stephen Merchant;Greg Daniels</td><td>Michael</td></tr>\n",
              "\t<tr><td>1</td><td>1</td><td>pilot</td><td>Ken Kwapis</td><td>Ricky Gervais;Stephen Merchant;Greg Daniels</td><td>Michael</td></tr>\n",
              "\t<tr><td>1</td><td>1</td><td>pilot</td><td>Ken Kwapis</td><td>Ricky Gervais;Stephen Merchant;Greg Daniels</td><td>Dwight </td></tr>\n",
              "\t<tr><td>1</td><td>1</td><td>pilot</td><td>Ken Kwapis</td><td>Ricky Gervais;Stephen Merchant;Greg Daniels</td><td>Jim    </td></tr>\n",
              "\t<tr><td>1</td><td>1</td><td>pilot</td><td>Ken Kwapis</td><td>Ricky Gervais;Stephen Merchant;Greg Daniels</td><td>Michael</td></tr>\n",
              "\t<tr><td>1</td><td>1</td><td>pilot</td><td>Ken Kwapis</td><td>Ricky Gervais;Stephen Merchant;Greg Daniels</td><td>Jim    </td></tr>\n",
              "\t<tr><td>1</td><td>1</td><td>pilot</td><td>Ken Kwapis</td><td>Ricky Gervais;Stephen Merchant;Greg Daniels</td><td>Michael</td></tr>\n",
              "\t<tr><td>1</td><td>1</td><td>pilot</td><td>Ken Kwapis</td><td>Ricky Gervais;Stephen Merchant;Greg Daniels</td><td>Dwight </td></tr>\n",
              "\t<tr><td>1</td><td>1</td><td>pilot</td><td>Ken Kwapis</td><td>Ricky Gervais;Stephen Merchant;Greg Daniels</td><td>Michael</td></tr>\n",
              "\t<tr><td>1</td><td>1</td><td>pilot</td><td>Ken Kwapis</td><td>Ricky Gervais;Stephen Merchant;Greg Daniels</td><td>Dwight </td></tr>\n",
              "\t<tr><td>1</td><td>1</td><td>pilot</td><td>Ken Kwapis</td><td>Ricky Gervais;Stephen Merchant;Greg Daniels</td><td>Michael</td></tr>\n",
              "\t<tr><td>1</td><td>1</td><td>pilot</td><td>Ken Kwapis</td><td>Ricky Gervais;Stephen Merchant;Greg Daniels</td><td>Jim    </td></tr>\n",
              "\t<tr><td>1</td><td>1</td><td>pilot</td><td>Ken Kwapis</td><td>Ricky Gervais;Stephen Merchant;Greg Daniels</td><td>Michael</td></tr>\n",
              "\t<tr><td>1</td><td>1</td><td>pilot</td><td>Ken Kwapis</td><td>Ricky Gervais;Stephen Merchant;Greg Daniels</td><td>Jim    </td></tr>\n",
              "\t<tr><td>1</td><td>1</td><td>pilot</td><td>Ken Kwapis</td><td>Ricky Gervais;Stephen Merchant;Greg Daniels</td><td>Michael</td></tr>\n",
              "\t<tr><td>1</td><td>1</td><td>pilot</td><td>Ken Kwapis</td><td>Ricky Gervais;Stephen Merchant;Greg Daniels</td><td>Jan    </td></tr>\n",
              "\t<tr><td>⋮</td><td>⋮</td><td>⋮</td><td>⋮</td><td>⋮</td><td>⋮</td></tr>\n",
              "\t<tr><td>9</td><td>24</td><td>finale</td><td>Ken Kwapis</td><td>Greg Daniels</td><td>Jim     </td></tr>\n",
              "\t<tr><td>9</td><td>24</td><td>finale</td><td>Ken Kwapis</td><td>Greg Daniels</td><td>Dwight  </td></tr>\n",
              "\t<tr><td>9</td><td>24</td><td>finale</td><td>Ken Kwapis</td><td>Greg Daniels</td><td>Andy    </td></tr>\n",
              "\t<tr><td>9</td><td>24</td><td>finale</td><td>Ken Kwapis</td><td>Greg Daniels</td><td>Kevin   </td></tr>\n",
              "\t<tr><td>9</td><td>24</td><td>finale</td><td>Ken Kwapis</td><td>Greg Daniels</td><td>Darryl  </td></tr>\n",
              "\t<tr><td>9</td><td>24</td><td>finale</td><td>Ken Kwapis</td><td>Greg Daniels</td><td>Andy    </td></tr>\n",
              "\t<tr><td>9</td><td>24</td><td>finale</td><td>Ken Kwapis</td><td>Greg Daniels</td><td>Andy    </td></tr>\n",
              "\t<tr><td>9</td><td>24</td><td>finale</td><td>Ken Kwapis</td><td>Greg Daniels</td><td>Oscar   </td></tr>\n",
              "\t<tr><td>9</td><td>24</td><td>finale</td><td>Ken Kwapis</td><td>Greg Daniels</td><td>Creed   </td></tr>\n",
              "\t<tr><td>9</td><td>24</td><td>finale</td><td>Ken Kwapis</td><td>Greg Daniels</td><td>Creed   </td></tr>\n",
              "\t<tr><td>9</td><td>24</td><td>finale</td><td>Ken Kwapis</td><td>Greg Daniels</td><td>Jim     </td></tr>\n",
              "\t<tr><td>9</td><td>24</td><td>finale</td><td>Ken Kwapis</td><td>Greg Daniels</td><td>Phyllis </td></tr>\n",
              "\t<tr><td>9</td><td>24</td><td>finale</td><td>Ken Kwapis</td><td>Greg Daniels</td><td>Jim     </td></tr>\n",
              "\t<tr><td>9</td><td>24</td><td>finale</td><td>Ken Kwapis</td><td>Greg Daniels</td><td>Creed   </td></tr>\n",
              "\t<tr><td>9</td><td>24</td><td>finale</td><td>Ken Kwapis</td><td>Greg Daniels</td><td>Angela  </td></tr>\n",
              "\t<tr><td>9</td><td>24</td><td>finale</td><td>Ken Kwapis</td><td>Greg Daniels</td><td>Creed   </td></tr>\n",
              "\t<tr><td>9</td><td>24</td><td>finale</td><td>Ken Kwapis</td><td>Greg Daniels</td><td>Kevin   </td></tr>\n",
              "\t<tr><td>9</td><td>24</td><td>finale</td><td>Ken Kwapis</td><td>Greg Daniels</td><td>Oscar   </td></tr>\n",
              "\t<tr><td>9</td><td>24</td><td>finale</td><td>Ken Kwapis</td><td>Greg Daniels</td><td>Kevin   </td></tr>\n",
              "\t<tr><td>9</td><td>24</td><td>finale</td><td>Ken Kwapis</td><td>Greg Daniels</td><td>Oscar   </td></tr>\n",
              "\t<tr><td>9</td><td>24</td><td>finale</td><td>Ken Kwapis</td><td>Greg Daniels</td><td>Kevin   </td></tr>\n",
              "\t<tr><td>9</td><td>24</td><td>finale</td><td>Ken Kwapis</td><td>Greg Daniels</td><td>Oscar   </td></tr>\n",
              "\t<tr><td>9</td><td>24</td><td>finale</td><td>Ken Kwapis</td><td>Greg Daniels</td><td>Creed   </td></tr>\n",
              "\t<tr><td>9</td><td>24</td><td>finale</td><td>Ken Kwapis</td><td>Greg Daniels</td><td>Erin    </td></tr>\n",
              "\t<tr><td>9</td><td>24</td><td>finale</td><td>Ken Kwapis</td><td>Greg Daniels</td><td>Darryl  </td></tr>\n",
              "\t<tr><td>9</td><td>24</td><td>finale</td><td>Ken Kwapis</td><td>Greg Daniels</td><td>Creed   </td></tr>\n",
              "\t<tr><td>9</td><td>24</td><td>finale</td><td>Ken Kwapis</td><td>Greg Daniels</td><td>Meredith</td></tr>\n",
              "\t<tr><td>9</td><td>24</td><td>finale</td><td>Ken Kwapis</td><td>Greg Daniels</td><td>Phyllis </td></tr>\n",
              "\t<tr><td>9</td><td>24</td><td>finale</td><td>Ken Kwapis</td><td>Greg Daniels</td><td>Jim     </td></tr>\n",
              "\t<tr><td>9</td><td>24</td><td>finale</td><td>Ken Kwapis</td><td>Greg Daniels</td><td>Pam     </td></tr>\n",
              "</tbody>\n",
              "</table>\n"
            ],
            "text/markdown": "\nA tibble: 55130 × 6\n\n| season &lt;dbl&gt; | episode &lt;dbl&gt; | episode_name &lt;chr&gt; | director &lt;chr&gt; | writer &lt;chr&gt; | character &lt;chr&gt; |\n|---|---|---|---|---|---|\n| 1 | 1 | pilot | Ken Kwapis | Ricky Gervais;Stephen Merchant;Greg Daniels | Michael |\n| 1 | 1 | pilot | Ken Kwapis | Ricky Gervais;Stephen Merchant;Greg Daniels | Jim     |\n| 1 | 1 | pilot | Ken Kwapis | Ricky Gervais;Stephen Merchant;Greg Daniels | Michael |\n| 1 | 1 | pilot | Ken Kwapis | Ricky Gervais;Stephen Merchant;Greg Daniels | Jim     |\n| 1 | 1 | pilot | Ken Kwapis | Ricky Gervais;Stephen Merchant;Greg Daniels | Michael |\n| 1 | 1 | pilot | Ken Kwapis | Ricky Gervais;Stephen Merchant;Greg Daniels | Michael |\n| 1 | 1 | pilot | Ken Kwapis | Ricky Gervais;Stephen Merchant;Greg Daniels | Michael |\n| 1 | 1 | pilot | Ken Kwapis | Ricky Gervais;Stephen Merchant;Greg Daniels | Pam     |\n| 1 | 1 | pilot | Ken Kwapis | Ricky Gervais;Stephen Merchant;Greg Daniels | Michael |\n| 1 | 1 | pilot | Ken Kwapis | Ricky Gervais;Stephen Merchant;Greg Daniels | Pam     |\n| 1 | 1 | pilot | Ken Kwapis | Ricky Gervais;Stephen Merchant;Greg Daniels | Michael |\n| 1 | 1 | pilot | Ken Kwapis | Ricky Gervais;Stephen Merchant;Greg Daniels | Pam     |\n| 1 | 1 | pilot | Ken Kwapis | Ricky Gervais;Stephen Merchant;Greg Daniels | Michael |\n| 1 | 1 | pilot | Ken Kwapis | Ricky Gervais;Stephen Merchant;Greg Daniels | Pam     |\n| 1 | 1 | pilot | Ken Kwapis | Ricky Gervais;Stephen Merchant;Greg Daniels | Michael |\n| 1 | 1 | pilot | Ken Kwapis | Ricky Gervais;Stephen Merchant;Greg Daniels | Michael |\n| 1 | 1 | pilot | Ken Kwapis | Ricky Gervais;Stephen Merchant;Greg Daniels | Dwight  |\n| 1 | 1 | pilot | Ken Kwapis | Ricky Gervais;Stephen Merchant;Greg Daniels | Jim     |\n| 1 | 1 | pilot | Ken Kwapis | Ricky Gervais;Stephen Merchant;Greg Daniels | Michael |\n| 1 | 1 | pilot | Ken Kwapis | Ricky Gervais;Stephen Merchant;Greg Daniels | Jim     |\n| 1 | 1 | pilot | Ken Kwapis | Ricky Gervais;Stephen Merchant;Greg Daniels | Michael |\n| 1 | 1 | pilot | Ken Kwapis | Ricky Gervais;Stephen Merchant;Greg Daniels | Dwight  |\n| 1 | 1 | pilot | Ken Kwapis | Ricky Gervais;Stephen Merchant;Greg Daniels | Michael |\n| 1 | 1 | pilot | Ken Kwapis | Ricky Gervais;Stephen Merchant;Greg Daniels | Dwight  |\n| 1 | 1 | pilot | Ken Kwapis | Ricky Gervais;Stephen Merchant;Greg Daniels | Michael |\n| 1 | 1 | pilot | Ken Kwapis | Ricky Gervais;Stephen Merchant;Greg Daniels | Jim     |\n| 1 | 1 | pilot | Ken Kwapis | Ricky Gervais;Stephen Merchant;Greg Daniels | Michael |\n| 1 | 1 | pilot | Ken Kwapis | Ricky Gervais;Stephen Merchant;Greg Daniels | Jim     |\n| 1 | 1 | pilot | Ken Kwapis | Ricky Gervais;Stephen Merchant;Greg Daniels | Michael |\n| 1 | 1 | pilot | Ken Kwapis | Ricky Gervais;Stephen Merchant;Greg Daniels | Jan     |\n| ⋮ | ⋮ | ⋮ | ⋮ | ⋮ | ⋮ |\n| 9 | 24 | finale | Ken Kwapis | Greg Daniels | Jim      |\n| 9 | 24 | finale | Ken Kwapis | Greg Daniels | Dwight   |\n| 9 | 24 | finale | Ken Kwapis | Greg Daniels | Andy     |\n| 9 | 24 | finale | Ken Kwapis | Greg Daniels | Kevin    |\n| 9 | 24 | finale | Ken Kwapis | Greg Daniels | Darryl   |\n| 9 | 24 | finale | Ken Kwapis | Greg Daniels | Andy     |\n| 9 | 24 | finale | Ken Kwapis | Greg Daniels | Andy     |\n| 9 | 24 | finale | Ken Kwapis | Greg Daniels | Oscar    |\n| 9 | 24 | finale | Ken Kwapis | Greg Daniels | Creed    |\n| 9 | 24 | finale | Ken Kwapis | Greg Daniels | Creed    |\n| 9 | 24 | finale | Ken Kwapis | Greg Daniels | Jim      |\n| 9 | 24 | finale | Ken Kwapis | Greg Daniels | Phyllis  |\n| 9 | 24 | finale | Ken Kwapis | Greg Daniels | Jim      |\n| 9 | 24 | finale | Ken Kwapis | Greg Daniels | Creed    |\n| 9 | 24 | finale | Ken Kwapis | Greg Daniels | Angela   |\n| 9 | 24 | finale | Ken Kwapis | Greg Daniels | Creed    |\n| 9 | 24 | finale | Ken Kwapis | Greg Daniels | Kevin    |\n| 9 | 24 | finale | Ken Kwapis | Greg Daniels | Oscar    |\n| 9 | 24 | finale | Ken Kwapis | Greg Daniels | Kevin    |\n| 9 | 24 | finale | Ken Kwapis | Greg Daniels | Oscar    |\n| 9 | 24 | finale | Ken Kwapis | Greg Daniels | Kevin    |\n| 9 | 24 | finale | Ken Kwapis | Greg Daniels | Oscar    |\n| 9 | 24 | finale | Ken Kwapis | Greg Daniels | Creed    |\n| 9 | 24 | finale | Ken Kwapis | Greg Daniels | Erin     |\n| 9 | 24 | finale | Ken Kwapis | Greg Daniels | Darryl   |\n| 9 | 24 | finale | Ken Kwapis | Greg Daniels | Creed    |\n| 9 | 24 | finale | Ken Kwapis | Greg Daniels | Meredith |\n| 9 | 24 | finale | Ken Kwapis | Greg Daniels | Phyllis  |\n| 9 | 24 | finale | Ken Kwapis | Greg Daniels | Jim      |\n| 9 | 24 | finale | Ken Kwapis | Greg Daniels | Pam      |\n\n",
            "text/latex": "A tibble: 55130 × 6\n\\begin{tabular}{llllll}\n season & episode & episode\\_name & director & writer & character\\\\\n <dbl> & <dbl> & <chr> & <chr> & <chr> & <chr>\\\\\n\\hline\n\t 1 & 1 & pilot & Ken Kwapis & Ricky Gervais;Stephen Merchant;Greg Daniels & Michael\\\\\n\t 1 & 1 & pilot & Ken Kwapis & Ricky Gervais;Stephen Merchant;Greg Daniels & Jim    \\\\\n\t 1 & 1 & pilot & Ken Kwapis & Ricky Gervais;Stephen Merchant;Greg Daniels & Michael\\\\\n\t 1 & 1 & pilot & Ken Kwapis & Ricky Gervais;Stephen Merchant;Greg Daniels & Jim    \\\\\n\t 1 & 1 & pilot & Ken Kwapis & Ricky Gervais;Stephen Merchant;Greg Daniels & Michael\\\\\n\t 1 & 1 & pilot & Ken Kwapis & Ricky Gervais;Stephen Merchant;Greg Daniels & Michael\\\\\n\t 1 & 1 & pilot & Ken Kwapis & Ricky Gervais;Stephen Merchant;Greg Daniels & Michael\\\\\n\t 1 & 1 & pilot & Ken Kwapis & Ricky Gervais;Stephen Merchant;Greg Daniels & Pam    \\\\\n\t 1 & 1 & pilot & Ken Kwapis & Ricky Gervais;Stephen Merchant;Greg Daniels & Michael\\\\\n\t 1 & 1 & pilot & Ken Kwapis & Ricky Gervais;Stephen Merchant;Greg Daniels & Pam    \\\\\n\t 1 & 1 & pilot & Ken Kwapis & Ricky Gervais;Stephen Merchant;Greg Daniels & Michael\\\\\n\t 1 & 1 & pilot & Ken Kwapis & Ricky Gervais;Stephen Merchant;Greg Daniels & Pam    \\\\\n\t 1 & 1 & pilot & Ken Kwapis & Ricky Gervais;Stephen Merchant;Greg Daniels & Michael\\\\\n\t 1 & 1 & pilot & Ken Kwapis & Ricky Gervais;Stephen Merchant;Greg Daniels & Pam    \\\\\n\t 1 & 1 & pilot & Ken Kwapis & Ricky Gervais;Stephen Merchant;Greg Daniels & Michael\\\\\n\t 1 & 1 & pilot & Ken Kwapis & Ricky Gervais;Stephen Merchant;Greg Daniels & Michael\\\\\n\t 1 & 1 & pilot & Ken Kwapis & Ricky Gervais;Stephen Merchant;Greg Daniels & Dwight \\\\\n\t 1 & 1 & pilot & Ken Kwapis & Ricky Gervais;Stephen Merchant;Greg Daniels & Jim    \\\\\n\t 1 & 1 & pilot & Ken Kwapis & Ricky Gervais;Stephen Merchant;Greg Daniels & Michael\\\\\n\t 1 & 1 & pilot & Ken Kwapis & Ricky Gervais;Stephen Merchant;Greg Daniels & Jim    \\\\\n\t 1 & 1 & pilot & Ken Kwapis & Ricky Gervais;Stephen Merchant;Greg Daniels & Michael\\\\\n\t 1 & 1 & pilot & Ken Kwapis & Ricky Gervais;Stephen Merchant;Greg Daniels & Dwight \\\\\n\t 1 & 1 & pilot & Ken Kwapis & Ricky Gervais;Stephen Merchant;Greg Daniels & Michael\\\\\n\t 1 & 1 & pilot & Ken Kwapis & Ricky Gervais;Stephen Merchant;Greg Daniels & Dwight \\\\\n\t 1 & 1 & pilot & Ken Kwapis & Ricky Gervais;Stephen Merchant;Greg Daniels & Michael\\\\\n\t 1 & 1 & pilot & Ken Kwapis & Ricky Gervais;Stephen Merchant;Greg Daniels & Jim    \\\\\n\t 1 & 1 & pilot & Ken Kwapis & Ricky Gervais;Stephen Merchant;Greg Daniels & Michael\\\\\n\t 1 & 1 & pilot & Ken Kwapis & Ricky Gervais;Stephen Merchant;Greg Daniels & Jim    \\\\\n\t 1 & 1 & pilot & Ken Kwapis & Ricky Gervais;Stephen Merchant;Greg Daniels & Michael\\\\\n\t 1 & 1 & pilot & Ken Kwapis & Ricky Gervais;Stephen Merchant;Greg Daniels & Jan    \\\\\n\t ⋮ & ⋮ & ⋮ & ⋮ & ⋮ & ⋮\\\\\n\t 9 & 24 & finale & Ken Kwapis & Greg Daniels & Jim     \\\\\n\t 9 & 24 & finale & Ken Kwapis & Greg Daniels & Dwight  \\\\\n\t 9 & 24 & finale & Ken Kwapis & Greg Daniels & Andy    \\\\\n\t 9 & 24 & finale & Ken Kwapis & Greg Daniels & Kevin   \\\\\n\t 9 & 24 & finale & Ken Kwapis & Greg Daniels & Darryl  \\\\\n\t 9 & 24 & finale & Ken Kwapis & Greg Daniels & Andy    \\\\\n\t 9 & 24 & finale & Ken Kwapis & Greg Daniels & Andy    \\\\\n\t 9 & 24 & finale & Ken Kwapis & Greg Daniels & Oscar   \\\\\n\t 9 & 24 & finale & Ken Kwapis & Greg Daniels & Creed   \\\\\n\t 9 & 24 & finale & Ken Kwapis & Greg Daniels & Creed   \\\\\n\t 9 & 24 & finale & Ken Kwapis & Greg Daniels & Jim     \\\\\n\t 9 & 24 & finale & Ken Kwapis & Greg Daniels & Phyllis \\\\\n\t 9 & 24 & finale & Ken Kwapis & Greg Daniels & Jim     \\\\\n\t 9 & 24 & finale & Ken Kwapis & Greg Daniels & Creed   \\\\\n\t 9 & 24 & finale & Ken Kwapis & Greg Daniels & Angela  \\\\\n\t 9 & 24 & finale & Ken Kwapis & Greg Daniels & Creed   \\\\\n\t 9 & 24 & finale & Ken Kwapis & Greg Daniels & Kevin   \\\\\n\t 9 & 24 & finale & Ken Kwapis & Greg Daniels & Oscar   \\\\\n\t 9 & 24 & finale & Ken Kwapis & Greg Daniels & Kevin   \\\\\n\t 9 & 24 & finale & Ken Kwapis & Greg Daniels & Oscar   \\\\\n\t 9 & 24 & finale & Ken Kwapis & Greg Daniels & Kevin   \\\\\n\t 9 & 24 & finale & Ken Kwapis & Greg Daniels & Oscar   \\\\\n\t 9 & 24 & finale & Ken Kwapis & Greg Daniels & Creed   \\\\\n\t 9 & 24 & finale & Ken Kwapis & Greg Daniels & Erin    \\\\\n\t 9 & 24 & finale & Ken Kwapis & Greg Daniels & Darryl  \\\\\n\t 9 & 24 & finale & Ken Kwapis & Greg Daniels & Creed   \\\\\n\t 9 & 24 & finale & Ken Kwapis & Greg Daniels & Meredith\\\\\n\t 9 & 24 & finale & Ken Kwapis & Greg Daniels & Phyllis \\\\\n\t 9 & 24 & finale & Ken Kwapis & Greg Daniels & Jim     \\\\\n\t 9 & 24 & finale & Ken Kwapis & Greg Daniels & Pam     \\\\\n\\end{tabular}\n",
            "text/plain": [
              "      season episode episode_name director  \n",
              "1     1      1       pilot        Ken Kwapis\n",
              "2     1      1       pilot        Ken Kwapis\n",
              "3     1      1       pilot        Ken Kwapis\n",
              "4     1      1       pilot        Ken Kwapis\n",
              "5     1      1       pilot        Ken Kwapis\n",
              "6     1      1       pilot        Ken Kwapis\n",
              "7     1      1       pilot        Ken Kwapis\n",
              "8     1      1       pilot        Ken Kwapis\n",
              "9     1      1       pilot        Ken Kwapis\n",
              "10    1      1       pilot        Ken Kwapis\n",
              "11    1      1       pilot        Ken Kwapis\n",
              "12    1      1       pilot        Ken Kwapis\n",
              "13    1      1       pilot        Ken Kwapis\n",
              "14    1      1       pilot        Ken Kwapis\n",
              "15    1      1       pilot        Ken Kwapis\n",
              "16    1      1       pilot        Ken Kwapis\n",
              "17    1      1       pilot        Ken Kwapis\n",
              "18    1      1       pilot        Ken Kwapis\n",
              "19    1      1       pilot        Ken Kwapis\n",
              "20    1      1       pilot        Ken Kwapis\n",
              "21    1      1       pilot        Ken Kwapis\n",
              "22    1      1       pilot        Ken Kwapis\n",
              "23    1      1       pilot        Ken Kwapis\n",
              "24    1      1       pilot        Ken Kwapis\n",
              "25    1      1       pilot        Ken Kwapis\n",
              "26    1      1       pilot        Ken Kwapis\n",
              "27    1      1       pilot        Ken Kwapis\n",
              "28    1      1       pilot        Ken Kwapis\n",
              "29    1      1       pilot        Ken Kwapis\n",
              "30    1      1       pilot        Ken Kwapis\n",
              "⋮     ⋮      ⋮       ⋮            ⋮         \n",
              "55101 9      24      finale       Ken Kwapis\n",
              "55102 9      24      finale       Ken Kwapis\n",
              "55103 9      24      finale       Ken Kwapis\n",
              "55104 9      24      finale       Ken Kwapis\n",
              "55105 9      24      finale       Ken Kwapis\n",
              "55106 9      24      finale       Ken Kwapis\n",
              "55107 9      24      finale       Ken Kwapis\n",
              "55108 9      24      finale       Ken Kwapis\n",
              "55109 9      24      finale       Ken Kwapis\n",
              "55110 9      24      finale       Ken Kwapis\n",
              "55111 9      24      finale       Ken Kwapis\n",
              "55112 9      24      finale       Ken Kwapis\n",
              "55113 9      24      finale       Ken Kwapis\n",
              "55114 9      24      finale       Ken Kwapis\n",
              "55115 9      24      finale       Ken Kwapis\n",
              "55116 9      24      finale       Ken Kwapis\n",
              "55117 9      24      finale       Ken Kwapis\n",
              "55118 9      24      finale       Ken Kwapis\n",
              "55119 9      24      finale       Ken Kwapis\n",
              "55120 9      24      finale       Ken Kwapis\n",
              "55121 9      24      finale       Ken Kwapis\n",
              "55122 9      24      finale       Ken Kwapis\n",
              "55123 9      24      finale       Ken Kwapis\n",
              "55124 9      24      finale       Ken Kwapis\n",
              "55125 9      24      finale       Ken Kwapis\n",
              "55126 9      24      finale       Ken Kwapis\n",
              "55127 9      24      finale       Ken Kwapis\n",
              "55128 9      24      finale       Ken Kwapis\n",
              "55129 9      24      finale       Ken Kwapis\n",
              "55130 9      24      finale       Ken Kwapis\n",
              "      writer                                      character\n",
              "1     Ricky Gervais;Stephen Merchant;Greg Daniels Michael  \n",
              "2     Ricky Gervais;Stephen Merchant;Greg Daniels Jim      \n",
              "3     Ricky Gervais;Stephen Merchant;Greg Daniels Michael  \n",
              "4     Ricky Gervais;Stephen Merchant;Greg Daniels Jim      \n",
              "5     Ricky Gervais;Stephen Merchant;Greg Daniels Michael  \n",
              "6     Ricky Gervais;Stephen Merchant;Greg Daniels Michael  \n",
              "7     Ricky Gervais;Stephen Merchant;Greg Daniels Michael  \n",
              "8     Ricky Gervais;Stephen Merchant;Greg Daniels Pam      \n",
              "9     Ricky Gervais;Stephen Merchant;Greg Daniels Michael  \n",
              "10    Ricky Gervais;Stephen Merchant;Greg Daniels Pam      \n",
              "11    Ricky Gervais;Stephen Merchant;Greg Daniels Michael  \n",
              "12    Ricky Gervais;Stephen Merchant;Greg Daniels Pam      \n",
              "13    Ricky Gervais;Stephen Merchant;Greg Daniels Michael  \n",
              "14    Ricky Gervais;Stephen Merchant;Greg Daniels Pam      \n",
              "15    Ricky Gervais;Stephen Merchant;Greg Daniels Michael  \n",
              "16    Ricky Gervais;Stephen Merchant;Greg Daniels Michael  \n",
              "17    Ricky Gervais;Stephen Merchant;Greg Daniels Dwight   \n",
              "18    Ricky Gervais;Stephen Merchant;Greg Daniels Jim      \n",
              "19    Ricky Gervais;Stephen Merchant;Greg Daniels Michael  \n",
              "20    Ricky Gervais;Stephen Merchant;Greg Daniels Jim      \n",
              "21    Ricky Gervais;Stephen Merchant;Greg Daniels Michael  \n",
              "22    Ricky Gervais;Stephen Merchant;Greg Daniels Dwight   \n",
              "23    Ricky Gervais;Stephen Merchant;Greg Daniels Michael  \n",
              "24    Ricky Gervais;Stephen Merchant;Greg Daniels Dwight   \n",
              "25    Ricky Gervais;Stephen Merchant;Greg Daniels Michael  \n",
              "26    Ricky Gervais;Stephen Merchant;Greg Daniels Jim      \n",
              "27    Ricky Gervais;Stephen Merchant;Greg Daniels Michael  \n",
              "28    Ricky Gervais;Stephen Merchant;Greg Daniels Jim      \n",
              "29    Ricky Gervais;Stephen Merchant;Greg Daniels Michael  \n",
              "30    Ricky Gervais;Stephen Merchant;Greg Daniels Jan      \n",
              "⋮     ⋮                                           ⋮        \n",
              "55101 Greg Daniels                                Jim      \n",
              "55102 Greg Daniels                                Dwight   \n",
              "55103 Greg Daniels                                Andy     \n",
              "55104 Greg Daniels                                Kevin    \n",
              "55105 Greg Daniels                                Darryl   \n",
              "55106 Greg Daniels                                Andy     \n",
              "55107 Greg Daniels                                Andy     \n",
              "55108 Greg Daniels                                Oscar    \n",
              "55109 Greg Daniels                                Creed    \n",
              "55110 Greg Daniels                                Creed    \n",
              "55111 Greg Daniels                                Jim      \n",
              "55112 Greg Daniels                                Phyllis  \n",
              "55113 Greg Daniels                                Jim      \n",
              "55114 Greg Daniels                                Creed    \n",
              "55115 Greg Daniels                                Angela   \n",
              "55116 Greg Daniels                                Creed    \n",
              "55117 Greg Daniels                                Kevin    \n",
              "55118 Greg Daniels                                Oscar    \n",
              "55119 Greg Daniels                                Kevin    \n",
              "55120 Greg Daniels                                Oscar    \n",
              "55121 Greg Daniels                                Kevin    \n",
              "55122 Greg Daniels                                Oscar    \n",
              "55123 Greg Daniels                                Creed    \n",
              "55124 Greg Daniels                                Erin     \n",
              "55125 Greg Daniels                                Darryl   \n",
              "55126 Greg Daniels                                Creed    \n",
              "55127 Greg Daniels                                Meredith \n",
              "55128 Greg Daniels                                Phyllis  \n",
              "55129 Greg Daniels                                Jim      \n",
              "55130 Greg Daniels                                Pam      "
            ]
          },
          "metadata": {}
        }
      ]
    },
    {
      "cell_type": "markdown",
      "source": [
        "We are going to use several different kinds of features for modeling. First, let’s find out how many times characters speak per episode."
      ],
      "metadata": {
        "id": "fe5uf7ub7hpf"
      }
    },
    {
      "cell_type": "code",
      "source": [
        "characters <- office_info %>%\n",
        "  count(episode_name, character) %>%\n",
        "  add_count(character, wt = n, name = \"character_count\") %>%\n",
        "  filter(character_count > 800) %>%\n",
        "  select(-character_count) %>%\n",
        "  pivot_wider(\n",
        "    names_from = character,\n",
        "    values_from = n,\n",
        "    values_fill = list(n = 0)\n",
        "  )\n",
        "\n",
        "characters"
      ],
      "metadata": {
        "colab": {
          "base_uri": "https://localhost:8080/",
          "height": 1000
        },
        "id": "IDsZmOMH7ZSy",
        "outputId": "88f85c05-92dd-4e6c-bd4e-d1ee333a0e9b"
      },
      "execution_count": 22,
      "outputs": [
        {
          "output_type": "display_data",
          "data": {
            "text/html": [
              "<table class=\"dataframe\">\n",
              "<caption>A tibble: 185 × 16</caption>\n",
              "<thead>\n",
              "\t<tr><th scope=col>episode_name</th><th scope=col>Andy</th><th scope=col>Angela</th><th scope=col>Darryl</th><th scope=col>Dwight</th><th scope=col>Jim</th><th scope=col>Kelly</th><th scope=col>Kevin</th><th scope=col>Michael</th><th scope=col>Oscar</th><th scope=col>Pam</th><th scope=col>Phyllis</th><th scope=col>Ryan</th><th scope=col>Toby</th><th scope=col>Erin</th><th scope=col>Jan</th></tr>\n",
              "\t<tr><th scope=col>&lt;chr&gt;</th><th scope=col>&lt;int&gt;</th><th scope=col>&lt;int&gt;</th><th scope=col>&lt;int&gt;</th><th scope=col>&lt;int&gt;</th><th scope=col>&lt;int&gt;</th><th scope=col>&lt;int&gt;</th><th scope=col>&lt;int&gt;</th><th scope=col>&lt;int&gt;</th><th scope=col>&lt;int&gt;</th><th scope=col>&lt;int&gt;</th><th scope=col>&lt;int&gt;</th><th scope=col>&lt;int&gt;</th><th scope=col>&lt;int&gt;</th><th scope=col>&lt;int&gt;</th><th scope=col>&lt;int&gt;</th></tr>\n",
              "</thead>\n",
              "<tbody>\n",
              "\t<tr><td>a benihana christmas</td><td>28</td><td>37</td><td> 3</td><td>61</td><td>44</td><td> 5</td><td>14</td><td>108</td><td> 1</td><td>57</td><td>12</td><td> 8</td><td> 8</td><td> 0</td><td> 0</td></tr>\n",
              "\t<tr><td>aarm                </td><td>44</td><td>39</td><td>30</td><td>87</td><td>89</td><td> 0</td><td>30</td><td>  0</td><td>28</td><td>34</td><td> 7</td><td> 0</td><td> 0</td><td>22</td><td> 0</td></tr>\n",
              "\t<tr><td>after hours         </td><td>20</td><td>11</td><td>14</td><td>60</td><td>55</td><td> 8</td><td> 4</td><td>  0</td><td>10</td><td>15</td><td> 4</td><td>20</td><td> 0</td><td>19</td><td> 0</td></tr>\n",
              "\t<tr><td>alliance            </td><td> 0</td><td> 7</td><td> 0</td><td>47</td><td>49</td><td> 0</td><td> 3</td><td> 68</td><td>14</td><td>22</td><td> 5</td><td> 4</td><td> 4</td><td> 0</td><td> 0</td></tr>\n",
              "\t<tr><td>angry y             </td><td>53</td><td> 7</td><td> 5</td><td>16</td><td>19</td><td>13</td><td> 9</td><td>  0</td><td> 7</td><td>29</td><td>10</td><td>30</td><td> 1</td><td>24</td><td> 0</td></tr>\n",
              "\t<tr><td>baby shower         </td><td>13</td><td>13</td><td> 9</td><td>35</td><td>27</td><td> 2</td><td> 4</td><td> 79</td><td> 3</td><td>25</td><td> 7</td><td> 0</td><td> 0</td><td> 0</td><td>38</td></tr>\n",
              "\t<tr><td>back from vacation  </td><td> 3</td><td> 4</td><td> 6</td><td>22</td><td>25</td><td> 0</td><td> 5</td><td> 70</td><td> 0</td><td>33</td><td> 2</td><td> 0</td><td> 7</td><td> 0</td><td>12</td></tr>\n",
              "\t<tr><td>banker              </td><td> 1</td><td> 2</td><td> 0</td><td>17</td><td> 0</td><td> 0</td><td> 2</td><td> 44</td><td> 0</td><td> 5</td><td> 0</td><td> 1</td><td>18</td><td> 0</td><td> 0</td></tr>\n",
              "\t<tr><td>basketball          </td><td> 0</td><td> 3</td><td>15</td><td>25</td><td>21</td><td> 0</td><td> 1</td><td>104</td><td> 2</td><td>14</td><td> 4</td><td> 8</td><td> 0</td><td> 0</td><td> 0</td></tr>\n",
              "\t<tr><td>beach games         </td><td>18</td><td> 8</td><td> 0</td><td>38</td><td>22</td><td> 9</td><td> 5</td><td>105</td><td> 5</td><td>23</td><td> 1</td><td> 3</td><td> 4</td><td> 0</td><td> 0</td></tr>\n",
              "\t<tr><td>ben franklin        </td><td> 0</td><td> 5</td><td> 0</td><td>29</td><td>25</td><td> 3</td><td> 3</td><td> 77</td><td> 0</td><td>30</td><td> 0</td><td> 6</td><td> 0</td><td> 0</td><td> 6</td></tr>\n",
              "\t<tr><td>blood drive         </td><td> 0</td><td> 4</td><td> 0</td><td>31</td><td>35</td><td> 9</td><td>15</td><td> 86</td><td>14</td><td>32</td><td>11</td><td> 0</td><td> 0</td><td> 0</td><td> 0</td></tr>\n",
              "\t<tr><td>boat                </td><td>54</td><td>12</td><td> 4</td><td>34</td><td> 9</td><td> 0</td><td>25</td><td>  0</td><td>27</td><td>11</td><td> 0</td><td> 0</td><td> 9</td><td>40</td><td> 0</td></tr>\n",
              "\t<tr><td>body language       </td><td> 3</td><td> 3</td><td> 4</td><td>45</td><td>37</td><td>28</td><td> 8</td><td> 86</td><td> 9</td><td>27</td><td> 4</td><td> 4</td><td> 0</td><td> 9</td><td> 0</td></tr>\n",
              "\t<tr><td>booze cruise        </td><td> 0</td><td> 1</td><td> 3</td><td>22</td><td>29</td><td> 4</td><td> 0</td><td> 75</td><td> 1</td><td>17</td><td> 4</td><td> 2</td><td> 0</td><td> 0</td><td> 0</td></tr>\n",
              "\t<tr><td>boys  girls         </td><td> 0</td><td> 5</td><td>27</td><td>12</td><td>22</td><td> 9</td><td> 4</td><td> 76</td><td> 0</td><td>26</td><td> 9</td><td> 2</td><td> 0</td><td> 0</td><td>55</td></tr>\n",
              "\t<tr><td>branch closing      </td><td> 5</td><td> 7</td><td> 4</td><td>39</td><td>21</td><td> 2</td><td>12</td><td> 67</td><td> 0</td><td>22</td><td> 8</td><td> 7</td><td> 3</td><td> 0</td><td>32</td></tr>\n",
              "\t<tr><td>branch wars         </td><td> 8</td><td> 0</td><td> 0</td><td>38</td><td>69</td><td> 0</td><td> 2</td><td> 82</td><td>10</td><td>18</td><td> 2</td><td> 0</td><td> 7</td><td> 0</td><td> 0</td></tr>\n",
              "\t<tr><td>broke               </td><td> 3</td><td> 2</td><td> 0</td><td>25</td><td>29</td><td> 2</td><td> 1</td><td> 76</td><td> 0</td><td>33</td><td> 1</td><td>24</td><td> 0</td><td> 1</td><td> 0</td></tr>\n",
              "\t<tr><td>business ethics     </td><td>12</td><td> 2</td><td> 0</td><td>14</td><td>27</td><td> 3</td><td> 5</td><td> 58</td><td> 5</td><td> 9</td><td> 3</td><td> 3</td><td> 0</td><td> 0</td><td> 0</td></tr>\n",
              "\t<tr><td>business school     </td><td> 0</td><td> 2</td><td> 0</td><td>22</td><td>11</td><td> 9</td><td> 6</td><td> 45</td><td> 4</td><td>26</td><td> 0</td><td>15</td><td> 3</td><td> 0</td><td> 0</td></tr>\n",
              "\t<tr><td>business trip       </td><td>69</td><td>10</td><td> 0</td><td>16</td><td>22</td><td>15</td><td> 2</td><td> 77</td><td>38</td><td>14</td><td> 2</td><td>13</td><td> 0</td><td> 0</td><td> 0</td></tr>\n",
              "\t<tr><td>cafe disco          </td><td>16</td><td>17</td><td> 0</td><td>28</td><td>17</td><td>11</td><td> 7</td><td> 84</td><td> 5</td><td>19</td><td>25</td><td> 2</td><td> 0</td><td>23</td><td> 0</td></tr>\n",
              "\t<tr><td>carpet              </td><td> 0</td><td> 2</td><td> 3</td><td>25</td><td>27</td><td>10</td><td> 7</td><td>101</td><td> 5</td><td>28</td><td> 1</td><td>13</td><td> 1</td><td> 0</td><td> 0</td></tr>\n",
              "\t<tr><td>casino night        </td><td> 0</td><td> 5</td><td> 8</td><td>31</td><td>52</td><td> 1</td><td>16</td><td> 94</td><td> 4</td><td>44</td><td> 7</td><td> 1</td><td> 4</td><td> 0</td><td>40</td></tr>\n",
              "\t<tr><td>casual friday       </td><td>12</td><td> 5</td><td> 1</td><td>49</td><td>29</td><td> 2</td><td> 1</td><td> 95</td><td> 5</td><td>30</td><td>13</td><td>25</td><td>13</td><td>10</td><td> 0</td></tr>\n",
              "\t<tr><td>chair model         </td><td>14</td><td> 1</td><td> 0</td><td>17</td><td>21</td><td> 0</td><td>20</td><td> 72</td><td> 2</td><td>35</td><td> 9</td><td> 0</td><td> 0</td><td> 0</td><td> 0</td></tr>\n",
              "\t<tr><td>china               </td><td>23</td><td> 3</td><td>13</td><td>48</td><td>27</td><td> 8</td><td> 8</td><td> 56</td><td>25</td><td>45</td><td> 3</td><td> 7</td><td> 0</td><td>10</td><td> 0</td></tr>\n",
              "\t<tr><td>christening         </td><td>25</td><td> 8</td><td> 2</td><td>16</td><td>38</td><td> 2</td><td> 4</td><td> 74</td><td> 2</td><td>33</td><td> 5</td><td> 6</td><td> 3</td><td> 9</td><td> 0</td></tr>\n",
              "\t<tr><td>christmas party     </td><td> 0</td><td> 9</td><td>11</td><td>42</td><td>27</td><td> 8</td><td>11</td><td> 87</td><td> 8</td><td>17</td><td> 5</td><td>15</td><td> 3</td><td> 0</td><td> 0</td></tr>\n",
              "\t<tr><td>⋮</td><td>⋮</td><td>⋮</td><td>⋮</td><td>⋮</td><td>⋮</td><td>⋮</td><td>⋮</td><td>⋮</td><td>⋮</td><td>⋮</td><td>⋮</td><td>⋮</td><td>⋮</td><td>⋮</td><td>⋮</td></tr>\n",
              "\t<tr><td>sting                         </td><td>38</td><td> 2</td><td>23</td><td>56</td><td>59</td><td> 3</td><td>12</td><td> 85</td><td>16</td><td>10</td><td> 8</td><td> 3</td><td> 0</td><td> 2</td><td> 0</td></tr>\n",
              "\t<tr><td>stress relief                 </td><td>23</td><td>16</td><td> 6</td><td>73</td><td>35</td><td> 3</td><td> 8</td><td>118</td><td>11</td><td>32</td><td>11</td><td> 0</td><td> 0</td><td> 0</td><td> 0</td></tr>\n",
              "\t<tr><td>suit warehouse                </td><td> 0</td><td>13</td><td>19</td><td>41</td><td>18</td><td> 0</td><td>19</td><td>  0</td><td>19</td><td>23</td><td> 6</td><td> 0</td><td> 0</td><td>11</td><td> 0</td></tr>\n",
              "\t<tr><td>surplus                       </td><td>18</td><td>23</td><td> 0</td><td>29</td><td>31</td><td> 1</td><td> 3</td><td>100</td><td>31</td><td>58</td><td> 2</td><td> 0</td><td> 2</td><td> 0</td><td> 0</td></tr>\n",
              "\t<tr><td>survivor man                  </td><td> 7</td><td> 7</td><td> 0</td><td>25</td><td>68</td><td> 1</td><td> 2</td><td> 65</td><td> 7</td><td>11</td><td> 4</td><td> 0</td><td>16</td><td> 0</td><td> 0</td></tr>\n",
              "\t<tr><td>sx ed                         </td><td>40</td><td> 2</td><td> 8</td><td>41</td><td> 4</td><td> 5</td><td>10</td><td> 88</td><td> 7</td><td> 8</td><td> 5</td><td> 1</td><td> 0</td><td> 4</td><td>16</td></tr>\n",
              "\t<tr><td>take your daughter to work day</td><td> 0</td><td> 4</td><td> 1</td><td>23</td><td>17</td><td> 6</td><td> 5</td><td> 77</td><td> 1</td><td>21</td><td> 0</td><td>10</td><td>13</td><td> 0</td><td> 0</td></tr>\n",
              "\t<tr><td>tallahassee                   </td><td>22</td><td> 0</td><td> 4</td><td>63</td><td>32</td><td> 3</td><td> 2</td><td>  0</td><td> 1</td><td>10</td><td> 0</td><td> 9</td><td> 0</td><td>21</td><td> 0</td></tr>\n",
              "\t<tr><td>target                        </td><td> 0</td><td>52</td><td> 6</td><td>57</td><td>29</td><td> 0</td><td>16</td><td>  0</td><td>22</td><td>17</td><td>12</td><td> 0</td><td> 8</td><td> 6</td><td> 0</td></tr>\n",
              "\t<tr><td>test store                    </td><td>28</td><td> 9</td><td> 4</td><td>53</td><td>28</td><td> 9</td><td> 8</td><td>  0</td><td> 6</td><td>10</td><td> 2</td><td>17</td><td>18</td><td>10</td><td> 0</td></tr>\n",
              "\t<tr><td>threat level midnight         </td><td> 2</td><td> 0</td><td> 0</td><td> 4</td><td> 6</td><td> 1</td><td> 4</td><td> 75</td><td> 2</td><td> 8</td><td> 0</td><td> 2</td><td> 0</td><td> 1</td><td> 4</td></tr>\n",
              "\t<tr><td>todd packer                   </td><td>29</td><td> 1</td><td> 0</td><td>41</td><td>38</td><td> 3</td><td>13</td><td> 57</td><td> 1</td><td>36</td><td> 1</td><td> 4</td><td> 0</td><td>10</td><td> 0</td></tr>\n",
              "\t<tr><td>training day                  </td><td>12</td><td> 4</td><td> 8</td><td>10</td><td>10</td><td> 5</td><td> 4</td><td> 68</td><td> 5</td><td> 8</td><td> 2</td><td> 2</td><td> 0</td><td>10</td><td> 0</td></tr>\n",
              "\t<tr><td>traveling salesmen            </td><td>29</td><td>17</td><td> 0</td><td>33</td><td>39</td><td> 2</td><td> 7</td><td> 48</td><td> 0</td><td>26</td><td>10</td><td> 8</td><td> 0</td><td> 0</td><td> 1</td></tr>\n",
              "\t<tr><td>trivia                        </td><td>36</td><td> 1</td><td>10</td><td>34</td><td>17</td><td> 2</td><td>15</td><td>  0</td><td>17</td><td> 0</td><td> 3</td><td> 6</td><td> 0</td><td> 5</td><td> 0</td></tr>\n",
              "\t<tr><td>turf war                      </td><td>28</td><td> 3</td><td> 0</td><td>56</td><td>48</td><td> 0</td><td> 1</td><td>  0</td><td> 1</td><td>23</td><td> 1</td><td> 0</td><td> 7</td><td> 8</td><td> 0</td></tr>\n",
              "\t<tr><td>two weeks                     </td><td>14</td><td> 6</td><td> 0</td><td>12</td><td>26</td><td> 6</td><td>13</td><td> 88</td><td>12</td><td>38</td><td> 3</td><td> 0</td><td> 1</td><td> 0</td><td> 0</td></tr>\n",
              "\t<tr><td>ultimatum                     </td><td>21</td><td> 7</td><td>21</td><td>34</td><td> 8</td><td>10</td><td>19</td><td> 75</td><td> 3</td><td>31</td><td> 9</td><td> 6</td><td> 0</td><td>21</td><td> 0</td></tr>\n",
              "\t<tr><td>valentines day                </td><td> 0</td><td> 4</td><td> 0</td><td>19</td><td>16</td><td>13</td><td> 5</td><td> 45</td><td> 2</td><td>23</td><td> 3</td><td> 4</td><td> 0</td><td> 0</td><td>16</td></tr>\n",
              "\t<tr><td>valism                        </td><td> 0</td><td>15</td><td>35</td><td>37</td><td>30</td><td> 0</td><td> 6</td><td>  0</td><td>12</td><td>57</td><td> 1</td><td> 0</td><td> 3</td><td>10</td><td> 0</td></tr>\n",
              "\t<tr><td>viewing party                 </td><td>27</td><td> 9</td><td> 0</td><td>26</td><td>18</td><td>13</td><td> 9</td><td> 56</td><td> 7</td><td>23</td><td>12</td><td> 3</td><td> 0</td><td>42</td><td> 0</td></tr>\n",
              "\t<tr><td>weight loss                   </td><td>29</td><td>26</td><td>10</td><td>49</td><td>63</td><td>12</td><td>14</td><td>115</td><td>18</td><td>36</td><td>16</td><td>20</td><td> 1</td><td> 0</td><td> 5</td></tr>\n",
              "\t<tr><td>welcome party                 </td><td>48</td><td> 8</td><td> 1</td><td>22</td><td>39</td><td> 0</td><td> 3</td><td>  0</td><td>11</td><td>32</td><td> 9</td><td> 3</td><td> 0</td><td>25</td><td> 0</td></tr>\n",
              "\t<tr><td>whale                         </td><td> 9</td><td>21</td><td> 3</td><td>53</td><td>22</td><td> 0</td><td> 3</td><td>  0</td><td>21</td><td>45</td><td>14</td><td> 0</td><td> 5</td><td>18</td><td>25</td></tr>\n",
              "\t<tr><td>whistleblower                 </td><td>17</td><td> 4</td><td> 6</td><td>19</td><td>13</td><td> 5</td><td> 7</td><td> 67</td><td> 2</td><td>17</td><td> 5</td><td> 2</td><td> 7</td><td> 4</td><td> 0</td></tr>\n",
              "\t<tr><td>womens appreciation           </td><td>10</td><td>11</td><td> 0</td><td>42</td><td>31</td><td> 4</td><td>11</td><td> 80</td><td> 0</td><td>35</td><td>12</td><td> 5</td><td> 7</td><td> 0</td><td>11</td></tr>\n",
              "\t<tr><td>work bus                      </td><td>43</td><td> 5</td><td>11</td><td>40</td><td>60</td><td> 0</td><td>17</td><td>  0</td><td>14</td><td>29</td><td> 5</td><td> 0</td><td> 2</td><td>11</td><td> 0</td></tr>\n",
              "\t<tr><td>wuphfcom                      </td><td>10</td><td>20</td><td> 0</td><td>24</td><td>24</td><td> 5</td><td> 9</td><td> 66</td><td> 5</td><td>28</td><td> 1</td><td>54</td><td> 0</td><td> 7</td><td> 0</td></tr>\n",
              "\t<tr><td>ys ancestry                   </td><td>44</td><td> 2</td><td>31</td><td>24</td><td>19</td><td> 0</td><td> 3</td><td>  0</td><td> 7</td><td>34</td><td> 3</td><td> 0</td><td> 0</td><td>21</td><td> 0</td></tr>\n",
              "\t<tr><td>ys play                       </td><td>49</td><td>16</td><td>11</td><td>17</td><td>19</td><td> 2</td><td> 0</td><td> 43</td><td> 1</td><td>17</td><td> 4</td><td> 0</td><td> 0</td><td>19</td><td> 0</td></tr>\n",
              "</tbody>\n",
              "</table>\n"
            ],
            "text/markdown": "\nA tibble: 185 × 16\n\n| episode_name &lt;chr&gt; | Andy &lt;int&gt; | Angela &lt;int&gt; | Darryl &lt;int&gt; | Dwight &lt;int&gt; | Jim &lt;int&gt; | Kelly &lt;int&gt; | Kevin &lt;int&gt; | Michael &lt;int&gt; | Oscar &lt;int&gt; | Pam &lt;int&gt; | Phyllis &lt;int&gt; | Ryan &lt;int&gt; | Toby &lt;int&gt; | Erin &lt;int&gt; | Jan &lt;int&gt; |\n|---|---|---|---|---|---|---|---|---|---|---|---|---|---|---|---|\n| a benihana christmas | 28 | 37 |  3 | 61 | 44 |  5 | 14 | 108 |  1 | 57 | 12 |  8 |  8 |  0 |  0 |\n| aarm                 | 44 | 39 | 30 | 87 | 89 |  0 | 30 |   0 | 28 | 34 |  7 |  0 |  0 | 22 |  0 |\n| after hours          | 20 | 11 | 14 | 60 | 55 |  8 |  4 |   0 | 10 | 15 |  4 | 20 |  0 | 19 |  0 |\n| alliance             |  0 |  7 |  0 | 47 | 49 |  0 |  3 |  68 | 14 | 22 |  5 |  4 |  4 |  0 |  0 |\n| angry y              | 53 |  7 |  5 | 16 | 19 | 13 |  9 |   0 |  7 | 29 | 10 | 30 |  1 | 24 |  0 |\n| baby shower          | 13 | 13 |  9 | 35 | 27 |  2 |  4 |  79 |  3 | 25 |  7 |  0 |  0 |  0 | 38 |\n| back from vacation   |  3 |  4 |  6 | 22 | 25 |  0 |  5 |  70 |  0 | 33 |  2 |  0 |  7 |  0 | 12 |\n| banker               |  1 |  2 |  0 | 17 |  0 |  0 |  2 |  44 |  0 |  5 |  0 |  1 | 18 |  0 |  0 |\n| basketball           |  0 |  3 | 15 | 25 | 21 |  0 |  1 | 104 |  2 | 14 |  4 |  8 |  0 |  0 |  0 |\n| beach games          | 18 |  8 |  0 | 38 | 22 |  9 |  5 | 105 |  5 | 23 |  1 |  3 |  4 |  0 |  0 |\n| ben franklin         |  0 |  5 |  0 | 29 | 25 |  3 |  3 |  77 |  0 | 30 |  0 |  6 |  0 |  0 |  6 |\n| blood drive          |  0 |  4 |  0 | 31 | 35 |  9 | 15 |  86 | 14 | 32 | 11 |  0 |  0 |  0 |  0 |\n| boat                 | 54 | 12 |  4 | 34 |  9 |  0 | 25 |   0 | 27 | 11 |  0 |  0 |  9 | 40 |  0 |\n| body language        |  3 |  3 |  4 | 45 | 37 | 28 |  8 |  86 |  9 | 27 |  4 |  4 |  0 |  9 |  0 |\n| booze cruise         |  0 |  1 |  3 | 22 | 29 |  4 |  0 |  75 |  1 | 17 |  4 |  2 |  0 |  0 |  0 |\n| boys  girls          |  0 |  5 | 27 | 12 | 22 |  9 |  4 |  76 |  0 | 26 |  9 |  2 |  0 |  0 | 55 |\n| branch closing       |  5 |  7 |  4 | 39 | 21 |  2 | 12 |  67 |  0 | 22 |  8 |  7 |  3 |  0 | 32 |\n| branch wars          |  8 |  0 |  0 | 38 | 69 |  0 |  2 |  82 | 10 | 18 |  2 |  0 |  7 |  0 |  0 |\n| broke                |  3 |  2 |  0 | 25 | 29 |  2 |  1 |  76 |  0 | 33 |  1 | 24 |  0 |  1 |  0 |\n| business ethics      | 12 |  2 |  0 | 14 | 27 |  3 |  5 |  58 |  5 |  9 |  3 |  3 |  0 |  0 |  0 |\n| business school      |  0 |  2 |  0 | 22 | 11 |  9 |  6 |  45 |  4 | 26 |  0 | 15 |  3 |  0 |  0 |\n| business trip        | 69 | 10 |  0 | 16 | 22 | 15 |  2 |  77 | 38 | 14 |  2 | 13 |  0 |  0 |  0 |\n| cafe disco           | 16 | 17 |  0 | 28 | 17 | 11 |  7 |  84 |  5 | 19 | 25 |  2 |  0 | 23 |  0 |\n| carpet               |  0 |  2 |  3 | 25 | 27 | 10 |  7 | 101 |  5 | 28 |  1 | 13 |  1 |  0 |  0 |\n| casino night         |  0 |  5 |  8 | 31 | 52 |  1 | 16 |  94 |  4 | 44 |  7 |  1 |  4 |  0 | 40 |\n| casual friday        | 12 |  5 |  1 | 49 | 29 |  2 |  1 |  95 |  5 | 30 | 13 | 25 | 13 | 10 |  0 |\n| chair model          | 14 |  1 |  0 | 17 | 21 |  0 | 20 |  72 |  2 | 35 |  9 |  0 |  0 |  0 |  0 |\n| china                | 23 |  3 | 13 | 48 | 27 |  8 |  8 |  56 | 25 | 45 |  3 |  7 |  0 | 10 |  0 |\n| christening          | 25 |  8 |  2 | 16 | 38 |  2 |  4 |  74 |  2 | 33 |  5 |  6 |  3 |  9 |  0 |\n| christmas party      |  0 |  9 | 11 | 42 | 27 |  8 | 11 |  87 |  8 | 17 |  5 | 15 |  3 |  0 |  0 |\n| ⋮ | ⋮ | ⋮ | ⋮ | ⋮ | ⋮ | ⋮ | ⋮ | ⋮ | ⋮ | ⋮ | ⋮ | ⋮ | ⋮ | ⋮ | ⋮ |\n| sting                          | 38 |  2 | 23 | 56 | 59 |  3 | 12 |  85 | 16 | 10 |  8 |  3 |  0 |  2 |  0 |\n| stress relief                  | 23 | 16 |  6 | 73 | 35 |  3 |  8 | 118 | 11 | 32 | 11 |  0 |  0 |  0 |  0 |\n| suit warehouse                 |  0 | 13 | 19 | 41 | 18 |  0 | 19 |   0 | 19 | 23 |  6 |  0 |  0 | 11 |  0 |\n| surplus                        | 18 | 23 |  0 | 29 | 31 |  1 |  3 | 100 | 31 | 58 |  2 |  0 |  2 |  0 |  0 |\n| survivor man                   |  7 |  7 |  0 | 25 | 68 |  1 |  2 |  65 |  7 | 11 |  4 |  0 | 16 |  0 |  0 |\n| sx ed                          | 40 |  2 |  8 | 41 |  4 |  5 | 10 |  88 |  7 |  8 |  5 |  1 |  0 |  4 | 16 |\n| take your daughter to work day |  0 |  4 |  1 | 23 | 17 |  6 |  5 |  77 |  1 | 21 |  0 | 10 | 13 |  0 |  0 |\n| tallahassee                    | 22 |  0 |  4 | 63 | 32 |  3 |  2 |   0 |  1 | 10 |  0 |  9 |  0 | 21 |  0 |\n| target                         |  0 | 52 |  6 | 57 | 29 |  0 | 16 |   0 | 22 | 17 | 12 |  0 |  8 |  6 |  0 |\n| test store                     | 28 |  9 |  4 | 53 | 28 |  9 |  8 |   0 |  6 | 10 |  2 | 17 | 18 | 10 |  0 |\n| threat level midnight          |  2 |  0 |  0 |  4 |  6 |  1 |  4 |  75 |  2 |  8 |  0 |  2 |  0 |  1 |  4 |\n| todd packer                    | 29 |  1 |  0 | 41 | 38 |  3 | 13 |  57 |  1 | 36 |  1 |  4 |  0 | 10 |  0 |\n| training day                   | 12 |  4 |  8 | 10 | 10 |  5 |  4 |  68 |  5 |  8 |  2 |  2 |  0 | 10 |  0 |\n| traveling salesmen             | 29 | 17 |  0 | 33 | 39 |  2 |  7 |  48 |  0 | 26 | 10 |  8 |  0 |  0 |  1 |\n| trivia                         | 36 |  1 | 10 | 34 | 17 |  2 | 15 |   0 | 17 |  0 |  3 |  6 |  0 |  5 |  0 |\n| turf war                       | 28 |  3 |  0 | 56 | 48 |  0 |  1 |   0 |  1 | 23 |  1 |  0 |  7 |  8 |  0 |\n| two weeks                      | 14 |  6 |  0 | 12 | 26 |  6 | 13 |  88 | 12 | 38 |  3 |  0 |  1 |  0 |  0 |\n| ultimatum                      | 21 |  7 | 21 | 34 |  8 | 10 | 19 |  75 |  3 | 31 |  9 |  6 |  0 | 21 |  0 |\n| valentines day                 |  0 |  4 |  0 | 19 | 16 | 13 |  5 |  45 |  2 | 23 |  3 |  4 |  0 |  0 | 16 |\n| valism                         |  0 | 15 | 35 | 37 | 30 |  0 |  6 |   0 | 12 | 57 |  1 |  0 |  3 | 10 |  0 |\n| viewing party                  | 27 |  9 |  0 | 26 | 18 | 13 |  9 |  56 |  7 | 23 | 12 |  3 |  0 | 42 |  0 |\n| weight loss                    | 29 | 26 | 10 | 49 | 63 | 12 | 14 | 115 | 18 | 36 | 16 | 20 |  1 |  0 |  5 |\n| welcome party                  | 48 |  8 |  1 | 22 | 39 |  0 |  3 |   0 | 11 | 32 |  9 |  3 |  0 | 25 |  0 |\n| whale                          |  9 | 21 |  3 | 53 | 22 |  0 |  3 |   0 | 21 | 45 | 14 |  0 |  5 | 18 | 25 |\n| whistleblower                  | 17 |  4 |  6 | 19 | 13 |  5 |  7 |  67 |  2 | 17 |  5 |  2 |  7 |  4 |  0 |\n| womens appreciation            | 10 | 11 |  0 | 42 | 31 |  4 | 11 |  80 |  0 | 35 | 12 |  5 |  7 |  0 | 11 |\n| work bus                       | 43 |  5 | 11 | 40 | 60 |  0 | 17 |   0 | 14 | 29 |  5 |  0 |  2 | 11 |  0 |\n| wuphfcom                       | 10 | 20 |  0 | 24 | 24 |  5 |  9 |  66 |  5 | 28 |  1 | 54 |  0 |  7 |  0 |\n| ys ancestry                    | 44 |  2 | 31 | 24 | 19 |  0 |  3 |   0 |  7 | 34 |  3 |  0 |  0 | 21 |  0 |\n| ys play                        | 49 | 16 | 11 | 17 | 19 |  2 |  0 |  43 |  1 | 17 |  4 |  0 |  0 | 19 |  0 |\n\n",
            "text/latex": "A tibble: 185 × 16\n\\begin{tabular}{llllllllllllllll}\n episode\\_name & Andy & Angela & Darryl & Dwight & Jim & Kelly & Kevin & Michael & Oscar & Pam & Phyllis & Ryan & Toby & Erin & Jan\\\\\n <chr> & <int> & <int> & <int> & <int> & <int> & <int> & <int> & <int> & <int> & <int> & <int> & <int> & <int> & <int> & <int>\\\\\n\\hline\n\t a benihana christmas & 28 & 37 &  3 & 61 & 44 &  5 & 14 & 108 &  1 & 57 & 12 &  8 &  8 &  0 &  0\\\\\n\t aarm                 & 44 & 39 & 30 & 87 & 89 &  0 & 30 &   0 & 28 & 34 &  7 &  0 &  0 & 22 &  0\\\\\n\t after hours          & 20 & 11 & 14 & 60 & 55 &  8 &  4 &   0 & 10 & 15 &  4 & 20 &  0 & 19 &  0\\\\\n\t alliance             &  0 &  7 &  0 & 47 & 49 &  0 &  3 &  68 & 14 & 22 &  5 &  4 &  4 &  0 &  0\\\\\n\t angry y              & 53 &  7 &  5 & 16 & 19 & 13 &  9 &   0 &  7 & 29 & 10 & 30 &  1 & 24 &  0\\\\\n\t baby shower          & 13 & 13 &  9 & 35 & 27 &  2 &  4 &  79 &  3 & 25 &  7 &  0 &  0 &  0 & 38\\\\\n\t back from vacation   &  3 &  4 &  6 & 22 & 25 &  0 &  5 &  70 &  0 & 33 &  2 &  0 &  7 &  0 & 12\\\\\n\t banker               &  1 &  2 &  0 & 17 &  0 &  0 &  2 &  44 &  0 &  5 &  0 &  1 & 18 &  0 &  0\\\\\n\t basketball           &  0 &  3 & 15 & 25 & 21 &  0 &  1 & 104 &  2 & 14 &  4 &  8 &  0 &  0 &  0\\\\\n\t beach games          & 18 &  8 &  0 & 38 & 22 &  9 &  5 & 105 &  5 & 23 &  1 &  3 &  4 &  0 &  0\\\\\n\t ben franklin         &  0 &  5 &  0 & 29 & 25 &  3 &  3 &  77 &  0 & 30 &  0 &  6 &  0 &  0 &  6\\\\\n\t blood drive          &  0 &  4 &  0 & 31 & 35 &  9 & 15 &  86 & 14 & 32 & 11 &  0 &  0 &  0 &  0\\\\\n\t boat                 & 54 & 12 &  4 & 34 &  9 &  0 & 25 &   0 & 27 & 11 &  0 &  0 &  9 & 40 &  0\\\\\n\t body language        &  3 &  3 &  4 & 45 & 37 & 28 &  8 &  86 &  9 & 27 &  4 &  4 &  0 &  9 &  0\\\\\n\t booze cruise         &  0 &  1 &  3 & 22 & 29 &  4 &  0 &  75 &  1 & 17 &  4 &  2 &  0 &  0 &  0\\\\\n\t boys  girls          &  0 &  5 & 27 & 12 & 22 &  9 &  4 &  76 &  0 & 26 &  9 &  2 &  0 &  0 & 55\\\\\n\t branch closing       &  5 &  7 &  4 & 39 & 21 &  2 & 12 &  67 &  0 & 22 &  8 &  7 &  3 &  0 & 32\\\\\n\t branch wars          &  8 &  0 &  0 & 38 & 69 &  0 &  2 &  82 & 10 & 18 &  2 &  0 &  7 &  0 &  0\\\\\n\t broke                &  3 &  2 &  0 & 25 & 29 &  2 &  1 &  76 &  0 & 33 &  1 & 24 &  0 &  1 &  0\\\\\n\t business ethics      & 12 &  2 &  0 & 14 & 27 &  3 &  5 &  58 &  5 &  9 &  3 &  3 &  0 &  0 &  0\\\\\n\t business school      &  0 &  2 &  0 & 22 & 11 &  9 &  6 &  45 &  4 & 26 &  0 & 15 &  3 &  0 &  0\\\\\n\t business trip        & 69 & 10 &  0 & 16 & 22 & 15 &  2 &  77 & 38 & 14 &  2 & 13 &  0 &  0 &  0\\\\\n\t cafe disco           & 16 & 17 &  0 & 28 & 17 & 11 &  7 &  84 &  5 & 19 & 25 &  2 &  0 & 23 &  0\\\\\n\t carpet               &  0 &  2 &  3 & 25 & 27 & 10 &  7 & 101 &  5 & 28 &  1 & 13 &  1 &  0 &  0\\\\\n\t casino night         &  0 &  5 &  8 & 31 & 52 &  1 & 16 &  94 &  4 & 44 &  7 &  1 &  4 &  0 & 40\\\\\n\t casual friday        & 12 &  5 &  1 & 49 & 29 &  2 &  1 &  95 &  5 & 30 & 13 & 25 & 13 & 10 &  0\\\\\n\t chair model          & 14 &  1 &  0 & 17 & 21 &  0 & 20 &  72 &  2 & 35 &  9 &  0 &  0 &  0 &  0\\\\\n\t china                & 23 &  3 & 13 & 48 & 27 &  8 &  8 &  56 & 25 & 45 &  3 &  7 &  0 & 10 &  0\\\\\n\t christening          & 25 &  8 &  2 & 16 & 38 &  2 &  4 &  74 &  2 & 33 &  5 &  6 &  3 &  9 &  0\\\\\n\t christmas party      &  0 &  9 & 11 & 42 & 27 &  8 & 11 &  87 &  8 & 17 &  5 & 15 &  3 &  0 &  0\\\\\n\t ⋮ & ⋮ & ⋮ & ⋮ & ⋮ & ⋮ & ⋮ & ⋮ & ⋮ & ⋮ & ⋮ & ⋮ & ⋮ & ⋮ & ⋮ & ⋮\\\\\n\t sting                          & 38 &  2 & 23 & 56 & 59 &  3 & 12 &  85 & 16 & 10 &  8 &  3 &  0 &  2 &  0\\\\\n\t stress relief                  & 23 & 16 &  6 & 73 & 35 &  3 &  8 & 118 & 11 & 32 & 11 &  0 &  0 &  0 &  0\\\\\n\t suit warehouse                 &  0 & 13 & 19 & 41 & 18 &  0 & 19 &   0 & 19 & 23 &  6 &  0 &  0 & 11 &  0\\\\\n\t surplus                        & 18 & 23 &  0 & 29 & 31 &  1 &  3 & 100 & 31 & 58 &  2 &  0 &  2 &  0 &  0\\\\\n\t survivor man                   &  7 &  7 &  0 & 25 & 68 &  1 &  2 &  65 &  7 & 11 &  4 &  0 & 16 &  0 &  0\\\\\n\t sx ed                          & 40 &  2 &  8 & 41 &  4 &  5 & 10 &  88 &  7 &  8 &  5 &  1 &  0 &  4 & 16\\\\\n\t take your daughter to work day &  0 &  4 &  1 & 23 & 17 &  6 &  5 &  77 &  1 & 21 &  0 & 10 & 13 &  0 &  0\\\\\n\t tallahassee                    & 22 &  0 &  4 & 63 & 32 &  3 &  2 &   0 &  1 & 10 &  0 &  9 &  0 & 21 &  0\\\\\n\t target                         &  0 & 52 &  6 & 57 & 29 &  0 & 16 &   0 & 22 & 17 & 12 &  0 &  8 &  6 &  0\\\\\n\t test store                     & 28 &  9 &  4 & 53 & 28 &  9 &  8 &   0 &  6 & 10 &  2 & 17 & 18 & 10 &  0\\\\\n\t threat level midnight          &  2 &  0 &  0 &  4 &  6 &  1 &  4 &  75 &  2 &  8 &  0 &  2 &  0 &  1 &  4\\\\\n\t todd packer                    & 29 &  1 &  0 & 41 & 38 &  3 & 13 &  57 &  1 & 36 &  1 &  4 &  0 & 10 &  0\\\\\n\t training day                   & 12 &  4 &  8 & 10 & 10 &  5 &  4 &  68 &  5 &  8 &  2 &  2 &  0 & 10 &  0\\\\\n\t traveling salesmen             & 29 & 17 &  0 & 33 & 39 &  2 &  7 &  48 &  0 & 26 & 10 &  8 &  0 &  0 &  1\\\\\n\t trivia                         & 36 &  1 & 10 & 34 & 17 &  2 & 15 &   0 & 17 &  0 &  3 &  6 &  0 &  5 &  0\\\\\n\t turf war                       & 28 &  3 &  0 & 56 & 48 &  0 &  1 &   0 &  1 & 23 &  1 &  0 &  7 &  8 &  0\\\\\n\t two weeks                      & 14 &  6 &  0 & 12 & 26 &  6 & 13 &  88 & 12 & 38 &  3 &  0 &  1 &  0 &  0\\\\\n\t ultimatum                      & 21 &  7 & 21 & 34 &  8 & 10 & 19 &  75 &  3 & 31 &  9 &  6 &  0 & 21 &  0\\\\\n\t valentines day                 &  0 &  4 &  0 & 19 & 16 & 13 &  5 &  45 &  2 & 23 &  3 &  4 &  0 &  0 & 16\\\\\n\t valism                         &  0 & 15 & 35 & 37 & 30 &  0 &  6 &   0 & 12 & 57 &  1 &  0 &  3 & 10 &  0\\\\\n\t viewing party                  & 27 &  9 &  0 & 26 & 18 & 13 &  9 &  56 &  7 & 23 & 12 &  3 &  0 & 42 &  0\\\\\n\t weight loss                    & 29 & 26 & 10 & 49 & 63 & 12 & 14 & 115 & 18 & 36 & 16 & 20 &  1 &  0 &  5\\\\\n\t welcome party                  & 48 &  8 &  1 & 22 & 39 &  0 &  3 &   0 & 11 & 32 &  9 &  3 &  0 & 25 &  0\\\\\n\t whale                          &  9 & 21 &  3 & 53 & 22 &  0 &  3 &   0 & 21 & 45 & 14 &  0 &  5 & 18 & 25\\\\\n\t whistleblower                  & 17 &  4 &  6 & 19 & 13 &  5 &  7 &  67 &  2 & 17 &  5 &  2 &  7 &  4 &  0\\\\\n\t womens appreciation            & 10 & 11 &  0 & 42 & 31 &  4 & 11 &  80 &  0 & 35 & 12 &  5 &  7 &  0 & 11\\\\\n\t work bus                       & 43 &  5 & 11 & 40 & 60 &  0 & 17 &   0 & 14 & 29 &  5 &  0 &  2 & 11 &  0\\\\\n\t wuphfcom                       & 10 & 20 &  0 & 24 & 24 &  5 &  9 &  66 &  5 & 28 &  1 & 54 &  0 &  7 &  0\\\\\n\t ys ancestry                    & 44 &  2 & 31 & 24 & 19 &  0 &  3 &   0 &  7 & 34 &  3 &  0 &  0 & 21 &  0\\\\\n\t ys play                        & 49 & 16 & 11 & 17 & 19 &  2 &  0 &  43 &  1 & 17 &  4 &  0 &  0 & 19 &  0\\\\\n\\end{tabular}\n",
            "text/plain": [
              "    episode_name                   Andy Angela Darryl Dwight Jim Kelly Kevin\n",
              "1   a benihana christmas           28   37      3     61     44   5    14   \n",
              "2   aarm                           44   39     30     87     89   0    30   \n",
              "3   after hours                    20   11     14     60     55   8     4   \n",
              "4   alliance                        0    7      0     47     49   0     3   \n",
              "5   angry y                        53    7      5     16     19  13     9   \n",
              "6   baby shower                    13   13      9     35     27   2     4   \n",
              "7   back from vacation              3    4      6     22     25   0     5   \n",
              "8   banker                          1    2      0     17      0   0     2   \n",
              "9   basketball                      0    3     15     25     21   0     1   \n",
              "10  beach games                    18    8      0     38     22   9     5   \n",
              "11  ben franklin                    0    5      0     29     25   3     3   \n",
              "12  blood drive                     0    4      0     31     35   9    15   \n",
              "13  boat                           54   12      4     34      9   0    25   \n",
              "14  body language                   3    3      4     45     37  28     8   \n",
              "15  booze cruise                    0    1      3     22     29   4     0   \n",
              "16  boys  girls                     0    5     27     12     22   9     4   \n",
              "17  branch closing                  5    7      4     39     21   2    12   \n",
              "18  branch wars                     8    0      0     38     69   0     2   \n",
              "19  broke                           3    2      0     25     29   2     1   \n",
              "20  business ethics                12    2      0     14     27   3     5   \n",
              "21  business school                 0    2      0     22     11   9     6   \n",
              "22  business trip                  69   10      0     16     22  15     2   \n",
              "23  cafe disco                     16   17      0     28     17  11     7   \n",
              "24  carpet                          0    2      3     25     27  10     7   \n",
              "25  casino night                    0    5      8     31     52   1    16   \n",
              "26  casual friday                  12    5      1     49     29   2     1   \n",
              "27  chair model                    14    1      0     17     21   0    20   \n",
              "28  china                          23    3     13     48     27   8     8   \n",
              "29  christening                    25    8      2     16     38   2     4   \n",
              "30  christmas party                 0    9     11     42     27   8    11   \n",
              "⋮   ⋮                              ⋮    ⋮      ⋮      ⋮      ⋮   ⋮     ⋮    \n",
              "156 sting                          38    2     23     56     59   3    12   \n",
              "157 stress relief                  23   16      6     73     35   3     8   \n",
              "158 suit warehouse                  0   13     19     41     18   0    19   \n",
              "159 surplus                        18   23      0     29     31   1     3   \n",
              "160 survivor man                    7    7      0     25     68   1     2   \n",
              "161 sx ed                          40    2      8     41      4   5    10   \n",
              "162 take your daughter to work day  0    4      1     23     17   6     5   \n",
              "163 tallahassee                    22    0      4     63     32   3     2   \n",
              "164 target                          0   52      6     57     29   0    16   \n",
              "165 test store                     28    9      4     53     28   9     8   \n",
              "166 threat level midnight           2    0      0      4      6   1     4   \n",
              "167 todd packer                    29    1      0     41     38   3    13   \n",
              "168 training day                   12    4      8     10     10   5     4   \n",
              "169 traveling salesmen             29   17      0     33     39   2     7   \n",
              "170 trivia                         36    1     10     34     17   2    15   \n",
              "171 turf war                       28    3      0     56     48   0     1   \n",
              "172 two weeks                      14    6      0     12     26   6    13   \n",
              "173 ultimatum                      21    7     21     34      8  10    19   \n",
              "174 valentines day                  0    4      0     19     16  13     5   \n",
              "175 valism                          0   15     35     37     30   0     6   \n",
              "176 viewing party                  27    9      0     26     18  13     9   \n",
              "177 weight loss                    29   26     10     49     63  12    14   \n",
              "178 welcome party                  48    8      1     22     39   0     3   \n",
              "179 whale                           9   21      3     53     22   0     3   \n",
              "180 whistleblower                  17    4      6     19     13   5     7   \n",
              "181 womens appreciation            10   11      0     42     31   4    11   \n",
              "182 work bus                       43    5     11     40     60   0    17   \n",
              "183 wuphfcom                       10   20      0     24     24   5     9   \n",
              "184 ys ancestry                    44    2     31     24     19   0     3   \n",
              "185 ys play                        49   16     11     17     19   2     0   \n",
              "    Michael Oscar Pam Phyllis Ryan Toby Erin Jan\n",
              "1   108      1    57  12       8    8    0    0 \n",
              "2     0     28    34   7       0    0   22    0 \n",
              "3     0     10    15   4      20    0   19    0 \n",
              "4    68     14    22   5       4    4    0    0 \n",
              "5     0      7    29  10      30    1   24    0 \n",
              "6    79      3    25   7       0    0    0   38 \n",
              "7    70      0    33   2       0    7    0   12 \n",
              "8    44      0     5   0       1   18    0    0 \n",
              "9   104      2    14   4       8    0    0    0 \n",
              "10  105      5    23   1       3    4    0    0 \n",
              "11   77      0    30   0       6    0    0    6 \n",
              "12   86     14    32  11       0    0    0    0 \n",
              "13    0     27    11   0       0    9   40    0 \n",
              "14   86      9    27   4       4    0    9    0 \n",
              "15   75      1    17   4       2    0    0    0 \n",
              "16   76      0    26   9       2    0    0   55 \n",
              "17   67      0    22   8       7    3    0   32 \n",
              "18   82     10    18   2       0    7    0    0 \n",
              "19   76      0    33   1      24    0    1    0 \n",
              "20   58      5     9   3       3    0    0    0 \n",
              "21   45      4    26   0      15    3    0    0 \n",
              "22   77     38    14   2      13    0    0    0 \n",
              "23   84      5    19  25       2    0   23    0 \n",
              "24  101      5    28   1      13    1    0    0 \n",
              "25   94      4    44   7       1    4    0   40 \n",
              "26   95      5    30  13      25   13   10    0 \n",
              "27   72      2    35   9       0    0    0    0 \n",
              "28   56     25    45   3       7    0   10    0 \n",
              "29   74      2    33   5       6    3    9    0 \n",
              "30   87      8    17   5      15    3    0    0 \n",
              "⋮   ⋮       ⋮     ⋮   ⋮       ⋮    ⋮    ⋮    ⋮  \n",
              "156  85     16    10   8       3    0    2    0 \n",
              "157 118     11    32  11       0    0    0    0 \n",
              "158   0     19    23   6       0    0   11    0 \n",
              "159 100     31    58   2       0    2    0    0 \n",
              "160  65      7    11   4       0   16    0    0 \n",
              "161  88      7     8   5       1    0    4   16 \n",
              "162  77      1    21   0      10   13    0    0 \n",
              "163   0      1    10   0       9    0   21    0 \n",
              "164   0     22    17  12       0    8    6    0 \n",
              "165   0      6    10   2      17   18   10    0 \n",
              "166  75      2     8   0       2    0    1    4 \n",
              "167  57      1    36   1       4    0   10    0 \n",
              "168  68      5     8   2       2    0   10    0 \n",
              "169  48      0    26  10       8    0    0    1 \n",
              "170   0     17     0   3       6    0    5    0 \n",
              "171   0      1    23   1       0    7    8    0 \n",
              "172  88     12    38   3       0    1    0    0 \n",
              "173  75      3    31   9       6    0   21    0 \n",
              "174  45      2    23   3       4    0    0   16 \n",
              "175   0     12    57   1       0    3   10    0 \n",
              "176  56      7    23  12       3    0   42    0 \n",
              "177 115     18    36  16      20    1    0    5 \n",
              "178   0     11    32   9       3    0   25    0 \n",
              "179   0     21    45  14       0    5   18   25 \n",
              "180  67      2    17   5       2    7    4    0 \n",
              "181  80      0    35  12       5    7    0   11 \n",
              "182   0     14    29   5       0    2   11    0 \n",
              "183  66      5    28   1      54    0    7    0 \n",
              "184   0      7    34   3       0    0   21    0 \n",
              "185  43      1    17   4       0    0   19    0 "
            ]
          },
          "metadata": {}
        }
      ]
    },
    {
      "cell_type": "markdown",
      "source": [
        "Next, let’s find which directors and writers are involved in each episode. I’m choosing here to combine this into one category in modeling, for a simpler model, since these are often the same individuals."
      ],
      "metadata": {
        "id": "D7or3Sjc7rfR"
      }
    },
    {
      "cell_type": "code",
      "source": [
        "creators <- office_info %>%\n",
        "  distinct(episode_name, director, writer) %>%\n",
        "  pivot_longer(director:writer, names_to = \"role\", values_to = \"person\") %>%\n",
        "  separate_rows(person, sep = \";\") %>%\n",
        "  add_count(person) %>%\n",
        "  filter(n > 10) %>%\n",
        "  distinct(episode_name, person) %>%\n",
        "  mutate(person_value = 1) %>%\n",
        "  pivot_wider(\n",
        "    names_from = person,\n",
        "    values_from = person_value,\n",
        "    values_fill = list(person_value = 0)\n",
        "  )\n",
        "\n",
        "creators"
      ],
      "metadata": {
        "colab": {
          "base_uri": "https://localhost:8080/",
          "height": 1000
        },
        "id": "bT23B_kP7spR",
        "outputId": "51d9b367-6230-478c-c6b4-a4b93c6d4e34"
      },
      "execution_count": 23,
      "outputs": [
        {
          "output_type": "display_data",
          "data": {
            "text/html": [
              "<table class=\"dataframe\">\n",
              "<caption>A tibble: 135 × 14</caption>\n",
              "<thead>\n",
              "\t<tr><th scope=col>episode_name</th><th scope=col>Ken Kwapis</th><th scope=col>Greg Daniels</th><th scope=col>B.J. Novak</th><th scope=col>Paul Lieberstein</th><th scope=col>Mindy Kaling</th><th scope=col>Paul Feig</th><th scope=col>Gene Stupnitsky</th><th scope=col>Lee Eisenberg</th><th scope=col>Jennifer Celotta</th><th scope=col>Randall Einhorn</th><th scope=col>Brent Forrester</th><th scope=col>Jeffrey Blitz</th><th scope=col>Justin Spitzer</th></tr>\n",
              "\t<tr><th scope=col>&lt;chr&gt;</th><th scope=col>&lt;dbl&gt;</th><th scope=col>&lt;dbl&gt;</th><th scope=col>&lt;dbl&gt;</th><th scope=col>&lt;dbl&gt;</th><th scope=col>&lt;dbl&gt;</th><th scope=col>&lt;dbl&gt;</th><th scope=col>&lt;dbl&gt;</th><th scope=col>&lt;dbl&gt;</th><th scope=col>&lt;dbl&gt;</th><th scope=col>&lt;dbl&gt;</th><th scope=col>&lt;dbl&gt;</th><th scope=col>&lt;dbl&gt;</th><th scope=col>&lt;dbl&gt;</th></tr>\n",
              "</thead>\n",
              "<tbody>\n",
              "\t<tr><td>pilot                         </td><td>1</td><td>1</td><td>0</td><td>0</td><td>0</td><td>0</td><td>0</td><td>0</td><td>0</td><td>0</td><td>0</td><td>0</td><td>0</td></tr>\n",
              "\t<tr><td>diversity day                 </td><td>1</td><td>0</td><td>1</td><td>0</td><td>0</td><td>0</td><td>0</td><td>0</td><td>0</td><td>0</td><td>0</td><td>0</td><td>0</td></tr>\n",
              "\t<tr><td>health care                   </td><td>0</td><td>0</td><td>0</td><td>1</td><td>0</td><td>0</td><td>0</td><td>0</td><td>0</td><td>0</td><td>0</td><td>0</td><td>0</td></tr>\n",
              "\t<tr><td>basketball                    </td><td>0</td><td>1</td><td>0</td><td>0</td><td>0</td><td>0</td><td>0</td><td>0</td><td>0</td><td>0</td><td>0</td><td>0</td><td>0</td></tr>\n",
              "\t<tr><td>hot girl                      </td><td>0</td><td>0</td><td>0</td><td>0</td><td>1</td><td>0</td><td>0</td><td>0</td><td>0</td><td>0</td><td>0</td><td>0</td><td>0</td></tr>\n",
              "\t<tr><td>dundies                       </td><td>0</td><td>1</td><td>0</td><td>0</td><td>1</td><td>0</td><td>0</td><td>0</td><td>0</td><td>0</td><td>0</td><td>0</td><td>0</td></tr>\n",
              "\t<tr><td>sexual harassment             </td><td>1</td><td>0</td><td>1</td><td>0</td><td>0</td><td>0</td><td>0</td><td>0</td><td>0</td><td>0</td><td>0</td><td>0</td><td>0</td></tr>\n",
              "\t<tr><td>office olympics               </td><td>0</td><td>0</td><td>0</td><td>0</td><td>0</td><td>1</td><td>0</td><td>0</td><td>0</td><td>0</td><td>0</td><td>0</td><td>0</td></tr>\n",
              "\t<tr><td>fire                          </td><td>1</td><td>0</td><td>1</td><td>0</td><td>0</td><td>0</td><td>0</td><td>0</td><td>0</td><td>0</td><td>0</td><td>0</td><td>0</td></tr>\n",
              "\t<tr><td>halloween                     </td><td>0</td><td>1</td><td>0</td><td>0</td><td>0</td><td>1</td><td>0</td><td>0</td><td>0</td><td>0</td><td>0</td><td>0</td><td>0</td></tr>\n",
              "\t<tr><td>fight                         </td><td>1</td><td>0</td><td>0</td><td>0</td><td>0</td><td>0</td><td>1</td><td>1</td><td>0</td><td>0</td><td>0</td><td>0</td><td>0</td></tr>\n",
              "\t<tr><td>client                        </td><td>0</td><td>0</td><td>0</td><td>1</td><td>0</td><td>0</td><td>0</td><td>0</td><td>0</td><td>0</td><td>0</td><td>0</td><td>0</td></tr>\n",
              "\t<tr><td>performance review            </td><td>0</td><td>0</td><td>0</td><td>0</td><td>0</td><td>1</td><td>0</td><td>0</td><td>0</td><td>0</td><td>0</td><td>0</td><td>0</td></tr>\n",
              "\t<tr><td>email surveilance             </td><td>0</td><td>0</td><td>0</td><td>0</td><td>0</td><td>1</td><td>0</td><td>0</td><td>1</td><td>0</td><td>0</td><td>0</td><td>0</td></tr>\n",
              "\t<tr><td>booze cruise                  </td><td>1</td><td>1</td><td>0</td><td>0</td><td>0</td><td>0</td><td>0</td><td>0</td><td>0</td><td>0</td><td>0</td><td>0</td><td>0</td></tr>\n",
              "\t<tr><td>injury                        </td><td>0</td><td>0</td><td>0</td><td>0</td><td>1</td><td>0</td><td>0</td><td>0</td><td>0</td><td>0</td><td>0</td><td>0</td><td>0</td></tr>\n",
              "\t<tr><td>secret                        </td><td>0</td><td>0</td><td>0</td><td>0</td><td>0</td><td>0</td><td>1</td><td>1</td><td>0</td><td>0</td><td>0</td><td>0</td><td>0</td></tr>\n",
              "\t<tr><td>carpet                        </td><td>0</td><td>0</td><td>0</td><td>1</td><td>0</td><td>0</td><td>0</td><td>0</td><td>0</td><td>0</td><td>0</td><td>0</td><td>0</td></tr>\n",
              "\t<tr><td>boys  girls                   </td><td>0</td><td>0</td><td>1</td><td>0</td><td>0</td><td>0</td><td>0</td><td>0</td><td>0</td><td>0</td><td>0</td><td>0</td><td>0</td></tr>\n",
              "\t<tr><td>valentines day                </td><td>0</td><td>1</td><td>0</td><td>0</td><td>0</td><td>0</td><td>0</td><td>0</td><td>0</td><td>0</td><td>0</td><td>0</td><td>0</td></tr>\n",
              "\t<tr><td>dwights speech                </td><td>0</td><td>0</td><td>0</td><td>1</td><td>0</td><td>0</td><td>0</td><td>0</td><td>0</td><td>0</td><td>0</td><td>0</td><td>0</td></tr>\n",
              "\t<tr><td>take your daughter to work day</td><td>0</td><td>0</td><td>0</td><td>0</td><td>1</td><td>0</td><td>0</td><td>0</td><td>0</td><td>0</td><td>0</td><td>0</td><td>0</td></tr>\n",
              "\t<tr><td>michaels birthday             </td><td>0</td><td>0</td><td>0</td><td>0</td><td>0</td><td>0</td><td>1</td><td>1</td><td>0</td><td>0</td><td>0</td><td>0</td><td>0</td></tr>\n",
              "\t<tr><td>drug testing                  </td><td>0</td><td>1</td><td>0</td><td>0</td><td>0</td><td>0</td><td>0</td><td>0</td><td>1</td><td>0</td><td>0</td><td>0</td><td>0</td></tr>\n",
              "\t<tr><td>conflict resolution           </td><td>0</td><td>1</td><td>0</td><td>0</td><td>0</td><td>0</td><td>0</td><td>0</td><td>0</td><td>0</td><td>0</td><td>0</td><td>0</td></tr>\n",
              "\t<tr><td>casino night                  </td><td>0</td><td>1</td><td>0</td><td>0</td><td>0</td><td>0</td><td>0</td><td>0</td><td>0</td><td>0</td><td>0</td><td>0</td><td>0</td></tr>\n",
              "\t<tr><td>gay witch hunt                </td><td>1</td><td>1</td><td>0</td><td>0</td><td>0</td><td>0</td><td>0</td><td>0</td><td>0</td><td>0</td><td>0</td><td>0</td><td>0</td></tr>\n",
              "\t<tr><td>convention                    </td><td>0</td><td>0</td><td>0</td><td>0</td><td>0</td><td>0</td><td>1</td><td>1</td><td>0</td><td>0</td><td>0</td><td>0</td><td>0</td></tr>\n",
              "\t<tr><td>coup                          </td><td>0</td><td>1</td><td>0</td><td>1</td><td>0</td><td>0</td><td>0</td><td>0</td><td>0</td><td>0</td><td>0</td><td>0</td><td>0</td></tr>\n",
              "\t<tr><td>grief counseling              </td><td>0</td><td>0</td><td>0</td><td>0</td><td>0</td><td>0</td><td>0</td><td>0</td><td>1</td><td>0</td><td>0</td><td>0</td><td>0</td></tr>\n",
              "\t<tr><td>⋮</td><td>⋮</td><td>⋮</td><td>⋮</td><td>⋮</td><td>⋮</td><td>⋮</td><td>⋮</td><td>⋮</td><td>⋮</td><td>⋮</td><td>⋮</td><td>⋮</td><td>⋮</td></tr>\n",
              "\t<tr><td>costume contest                </td><td>0</td><td>0</td><td>0</td><td>0</td><td>0</td><td>0</td><td>0</td><td>0</td><td>0</td><td>0</td><td>0</td><td>0</td><td>1</td></tr>\n",
              "\t<tr><td>classy christmas               </td><td>0</td><td>0</td><td>0</td><td>0</td><td>1</td><td>0</td><td>0</td><td>0</td><td>0</td><td>0</td><td>0</td><td>0</td><td>0</td></tr>\n",
              "\t<tr><td>seminar                        </td><td>0</td><td>0</td><td>1</td><td>0</td><td>0</td><td>0</td><td>0</td><td>0</td><td>0</td><td>0</td><td>0</td><td>0</td><td>0</td></tr>\n",
              "\t<tr><td>search                         </td><td>0</td><td>0</td><td>0</td><td>0</td><td>0</td><td>0</td><td>0</td><td>0</td><td>0</td><td>0</td><td>1</td><td>0</td><td>0</td></tr>\n",
              "\t<tr><td>pda                            </td><td>0</td><td>1</td><td>0</td><td>0</td><td>0</td><td>0</td><td>0</td><td>0</td><td>0</td><td>0</td><td>0</td><td>0</td><td>0</td></tr>\n",
              "\t<tr><td>threat level midnight          </td><td>0</td><td>0</td><td>1</td><td>0</td><td>0</td><td>0</td><td>0</td><td>0</td><td>0</td><td>0</td><td>0</td><td>0</td><td>0</td></tr>\n",
              "\t<tr><td>todd packer                    </td><td>0</td><td>0</td><td>0</td><td>0</td><td>0</td><td>0</td><td>0</td><td>0</td><td>0</td><td>1</td><td>0</td><td>0</td><td>0</td></tr>\n",
              "\t<tr><td>training day                   </td><td>0</td><td>0</td><td>0</td><td>1</td><td>0</td><td>0</td><td>0</td><td>0</td><td>0</td><td>0</td><td>0</td><td>0</td><td>0</td></tr>\n",
              "\t<tr><td>michaels last dundies          </td><td>0</td><td>0</td><td>0</td><td>0</td><td>1</td><td>0</td><td>0</td><td>0</td><td>0</td><td>0</td><td>0</td><td>0</td><td>0</td></tr>\n",
              "\t<tr><td>goodbye michael                </td><td>0</td><td>1</td><td>0</td><td>0</td><td>0</td><td>1</td><td>0</td><td>0</td><td>0</td><td>0</td><td>0</td><td>0</td><td>0</td></tr>\n",
              "\t<tr><td>dwight k schrute acting manager</td><td>0</td><td>0</td><td>0</td><td>0</td><td>0</td><td>0</td><td>0</td><td>0</td><td>0</td><td>0</td><td>0</td><td>0</td><td>1</td></tr>\n",
              "\t<tr><td>search committee               </td><td>0</td><td>0</td><td>0</td><td>1</td><td>0</td><td>0</td><td>0</td><td>0</td><td>0</td><td>0</td><td>0</td><td>1</td><td>0</td></tr>\n",
              "\t<tr><td>list                           </td><td>0</td><td>0</td><td>1</td><td>0</td><td>0</td><td>0</td><td>0</td><td>0</td><td>0</td><td>0</td><td>0</td><td>0</td><td>0</td></tr>\n",
              "\t<tr><td>incentive                      </td><td>0</td><td>0</td><td>0</td><td>1</td><td>0</td><td>0</td><td>0</td><td>0</td><td>0</td><td>0</td><td>0</td><td>0</td><td>0</td></tr>\n",
              "\t<tr><td>garden party                   </td><td>0</td><td>0</td><td>0</td><td>0</td><td>0</td><td>0</td><td>0</td><td>0</td><td>0</td><td>0</td><td>0</td><td>0</td><td>1</td></tr>\n",
              "\t<tr><td>spooked                        </td><td>0</td><td>0</td><td>0</td><td>0</td><td>0</td><td>0</td><td>0</td><td>0</td><td>0</td><td>1</td><td>0</td><td>0</td><td>0</td></tr>\n",
              "\t<tr><td>gettysburg                     </td><td>0</td><td>0</td><td>0</td><td>0</td><td>0</td><td>0</td><td>0</td><td>0</td><td>0</td><td>0</td><td>0</td><td>1</td><td>0</td></tr>\n",
              "\t<tr><td>christmas wishes               </td><td>0</td><td>0</td><td>0</td><td>0</td><td>1</td><td>0</td><td>0</td><td>0</td><td>0</td><td>0</td><td>0</td><td>0</td><td>0</td></tr>\n",
              "\t<tr><td>trivia                         </td><td>0</td><td>0</td><td>1</td><td>0</td><td>0</td><td>0</td><td>0</td><td>0</td><td>0</td><td>0</td><td>0</td><td>0</td><td>0</td></tr>\n",
              "\t<tr><td>test store                     </td><td>0</td><td>0</td><td>0</td><td>0</td><td>1</td><td>0</td><td>0</td><td>0</td><td>0</td><td>0</td><td>1</td><td>0</td><td>0</td></tr>\n",
              "\t<tr><td>angry y                        </td><td>0</td><td>0</td><td>0</td><td>0</td><td>0</td><td>0</td><td>0</td><td>0</td><td>0</td><td>0</td><td>0</td><td>0</td><td>1</td></tr>\n",
              "\t<tr><td>free family portrait studio    </td><td>0</td><td>0</td><td>1</td><td>0</td><td>0</td><td>0</td><td>0</td><td>0</td><td>0</td><td>0</td><td>0</td><td>0</td><td>0</td></tr>\n",
              "\t<tr><td>new guys                       </td><td>0</td><td>1</td><td>0</td><td>0</td><td>0</td><td>0</td><td>0</td><td>0</td><td>0</td><td>0</td><td>0</td><td>0</td><td>0</td></tr>\n",
              "\t<tr><td>work bus                       </td><td>0</td><td>0</td><td>0</td><td>0</td><td>0</td><td>0</td><td>0</td><td>0</td><td>0</td><td>0</td><td>1</td><td>0</td><td>0</td></tr>\n",
              "\t<tr><td>target                         </td><td>0</td><td>0</td><td>0</td><td>0</td><td>0</td><td>0</td><td>0</td><td>0</td><td>0</td><td>0</td><td>1</td><td>0</td><td>0</td></tr>\n",
              "\t<tr><td>farm                           </td><td>0</td><td>0</td><td>0</td><td>1</td><td>0</td><td>0</td><td>0</td><td>0</td><td>0</td><td>0</td><td>0</td><td>0</td><td>0</td></tr>\n",
              "\t<tr><td>promos                         </td><td>0</td><td>0</td><td>0</td><td>0</td><td>0</td><td>0</td><td>0</td><td>0</td><td>1</td><td>0</td><td>0</td><td>0</td><td>0</td></tr>\n",
              "\t<tr><td>livin dream                    </td><td>0</td><td>0</td><td>0</td><td>0</td><td>0</td><td>0</td><td>0</td><td>0</td><td>0</td><td>0</td><td>0</td><td>1</td><td>0</td></tr>\n",
              "\t<tr><td>aarm                           </td><td>0</td><td>0</td><td>0</td><td>0</td><td>0</td><td>0</td><td>0</td><td>0</td><td>0</td><td>0</td><td>1</td><td>0</td><td>0</td></tr>\n",
              "\t<tr><td>finale                         </td><td>1</td><td>1</td><td>0</td><td>0</td><td>0</td><td>0</td><td>0</td><td>0</td><td>0</td><td>0</td><td>0</td><td>0</td><td>0</td></tr>\n",
              "</tbody>\n",
              "</table>\n"
            ],
            "text/markdown": "\nA tibble: 135 × 14\n\n| episode_name &lt;chr&gt; | Ken Kwapis &lt;dbl&gt; | Greg Daniels &lt;dbl&gt; | B.J. Novak &lt;dbl&gt; | Paul Lieberstein &lt;dbl&gt; | Mindy Kaling &lt;dbl&gt; | Paul Feig &lt;dbl&gt; | Gene Stupnitsky &lt;dbl&gt; | Lee Eisenberg &lt;dbl&gt; | Jennifer Celotta &lt;dbl&gt; | Randall Einhorn &lt;dbl&gt; | Brent Forrester &lt;dbl&gt; | Jeffrey Blitz &lt;dbl&gt; | Justin Spitzer &lt;dbl&gt; |\n|---|---|---|---|---|---|---|---|---|---|---|---|---|---|\n| pilot                          | 1 | 1 | 0 | 0 | 0 | 0 | 0 | 0 | 0 | 0 | 0 | 0 | 0 |\n| diversity day                  | 1 | 0 | 1 | 0 | 0 | 0 | 0 | 0 | 0 | 0 | 0 | 0 | 0 |\n| health care                    | 0 | 0 | 0 | 1 | 0 | 0 | 0 | 0 | 0 | 0 | 0 | 0 | 0 |\n| basketball                     | 0 | 1 | 0 | 0 | 0 | 0 | 0 | 0 | 0 | 0 | 0 | 0 | 0 |\n| hot girl                       | 0 | 0 | 0 | 0 | 1 | 0 | 0 | 0 | 0 | 0 | 0 | 0 | 0 |\n| dundies                        | 0 | 1 | 0 | 0 | 1 | 0 | 0 | 0 | 0 | 0 | 0 | 0 | 0 |\n| sexual harassment              | 1 | 0 | 1 | 0 | 0 | 0 | 0 | 0 | 0 | 0 | 0 | 0 | 0 |\n| office olympics                | 0 | 0 | 0 | 0 | 0 | 1 | 0 | 0 | 0 | 0 | 0 | 0 | 0 |\n| fire                           | 1 | 0 | 1 | 0 | 0 | 0 | 0 | 0 | 0 | 0 | 0 | 0 | 0 |\n| halloween                      | 0 | 1 | 0 | 0 | 0 | 1 | 0 | 0 | 0 | 0 | 0 | 0 | 0 |\n| fight                          | 1 | 0 | 0 | 0 | 0 | 0 | 1 | 1 | 0 | 0 | 0 | 0 | 0 |\n| client                         | 0 | 0 | 0 | 1 | 0 | 0 | 0 | 0 | 0 | 0 | 0 | 0 | 0 |\n| performance review             | 0 | 0 | 0 | 0 | 0 | 1 | 0 | 0 | 0 | 0 | 0 | 0 | 0 |\n| email surveilance              | 0 | 0 | 0 | 0 | 0 | 1 | 0 | 0 | 1 | 0 | 0 | 0 | 0 |\n| booze cruise                   | 1 | 1 | 0 | 0 | 0 | 0 | 0 | 0 | 0 | 0 | 0 | 0 | 0 |\n| injury                         | 0 | 0 | 0 | 0 | 1 | 0 | 0 | 0 | 0 | 0 | 0 | 0 | 0 |\n| secret                         | 0 | 0 | 0 | 0 | 0 | 0 | 1 | 1 | 0 | 0 | 0 | 0 | 0 |\n| carpet                         | 0 | 0 | 0 | 1 | 0 | 0 | 0 | 0 | 0 | 0 | 0 | 0 | 0 |\n| boys  girls                    | 0 | 0 | 1 | 0 | 0 | 0 | 0 | 0 | 0 | 0 | 0 | 0 | 0 |\n| valentines day                 | 0 | 1 | 0 | 0 | 0 | 0 | 0 | 0 | 0 | 0 | 0 | 0 | 0 |\n| dwights speech                 | 0 | 0 | 0 | 1 | 0 | 0 | 0 | 0 | 0 | 0 | 0 | 0 | 0 |\n| take your daughter to work day | 0 | 0 | 0 | 0 | 1 | 0 | 0 | 0 | 0 | 0 | 0 | 0 | 0 |\n| michaels birthday              | 0 | 0 | 0 | 0 | 0 | 0 | 1 | 1 | 0 | 0 | 0 | 0 | 0 |\n| drug testing                   | 0 | 1 | 0 | 0 | 0 | 0 | 0 | 0 | 1 | 0 | 0 | 0 | 0 |\n| conflict resolution            | 0 | 1 | 0 | 0 | 0 | 0 | 0 | 0 | 0 | 0 | 0 | 0 | 0 |\n| casino night                   | 0 | 1 | 0 | 0 | 0 | 0 | 0 | 0 | 0 | 0 | 0 | 0 | 0 |\n| gay witch hunt                 | 1 | 1 | 0 | 0 | 0 | 0 | 0 | 0 | 0 | 0 | 0 | 0 | 0 |\n| convention                     | 0 | 0 | 0 | 0 | 0 | 0 | 1 | 1 | 0 | 0 | 0 | 0 | 0 |\n| coup                           | 0 | 1 | 0 | 1 | 0 | 0 | 0 | 0 | 0 | 0 | 0 | 0 | 0 |\n| grief counseling               | 0 | 0 | 0 | 0 | 0 | 0 | 0 | 0 | 1 | 0 | 0 | 0 | 0 |\n| ⋮ | ⋮ | ⋮ | ⋮ | ⋮ | ⋮ | ⋮ | ⋮ | ⋮ | ⋮ | ⋮ | ⋮ | ⋮ | ⋮ |\n| costume contest                 | 0 | 0 | 0 | 0 | 0 | 0 | 0 | 0 | 0 | 0 | 0 | 0 | 1 |\n| classy christmas                | 0 | 0 | 0 | 0 | 1 | 0 | 0 | 0 | 0 | 0 | 0 | 0 | 0 |\n| seminar                         | 0 | 0 | 1 | 0 | 0 | 0 | 0 | 0 | 0 | 0 | 0 | 0 | 0 |\n| search                          | 0 | 0 | 0 | 0 | 0 | 0 | 0 | 0 | 0 | 0 | 1 | 0 | 0 |\n| pda                             | 0 | 1 | 0 | 0 | 0 | 0 | 0 | 0 | 0 | 0 | 0 | 0 | 0 |\n| threat level midnight           | 0 | 0 | 1 | 0 | 0 | 0 | 0 | 0 | 0 | 0 | 0 | 0 | 0 |\n| todd packer                     | 0 | 0 | 0 | 0 | 0 | 0 | 0 | 0 | 0 | 1 | 0 | 0 | 0 |\n| training day                    | 0 | 0 | 0 | 1 | 0 | 0 | 0 | 0 | 0 | 0 | 0 | 0 | 0 |\n| michaels last dundies           | 0 | 0 | 0 | 0 | 1 | 0 | 0 | 0 | 0 | 0 | 0 | 0 | 0 |\n| goodbye michael                 | 0 | 1 | 0 | 0 | 0 | 1 | 0 | 0 | 0 | 0 | 0 | 0 | 0 |\n| dwight k schrute acting manager | 0 | 0 | 0 | 0 | 0 | 0 | 0 | 0 | 0 | 0 | 0 | 0 | 1 |\n| search committee                | 0 | 0 | 0 | 1 | 0 | 0 | 0 | 0 | 0 | 0 | 0 | 1 | 0 |\n| list                            | 0 | 0 | 1 | 0 | 0 | 0 | 0 | 0 | 0 | 0 | 0 | 0 | 0 |\n| incentive                       | 0 | 0 | 0 | 1 | 0 | 0 | 0 | 0 | 0 | 0 | 0 | 0 | 0 |\n| garden party                    | 0 | 0 | 0 | 0 | 0 | 0 | 0 | 0 | 0 | 0 | 0 | 0 | 1 |\n| spooked                         | 0 | 0 | 0 | 0 | 0 | 0 | 0 | 0 | 0 | 1 | 0 | 0 | 0 |\n| gettysburg                      | 0 | 0 | 0 | 0 | 0 | 0 | 0 | 0 | 0 | 0 | 0 | 1 | 0 |\n| christmas wishes                | 0 | 0 | 0 | 0 | 1 | 0 | 0 | 0 | 0 | 0 | 0 | 0 | 0 |\n| trivia                          | 0 | 0 | 1 | 0 | 0 | 0 | 0 | 0 | 0 | 0 | 0 | 0 | 0 |\n| test store                      | 0 | 0 | 0 | 0 | 1 | 0 | 0 | 0 | 0 | 0 | 1 | 0 | 0 |\n| angry y                         | 0 | 0 | 0 | 0 | 0 | 0 | 0 | 0 | 0 | 0 | 0 | 0 | 1 |\n| free family portrait studio     | 0 | 0 | 1 | 0 | 0 | 0 | 0 | 0 | 0 | 0 | 0 | 0 | 0 |\n| new guys                        | 0 | 1 | 0 | 0 | 0 | 0 | 0 | 0 | 0 | 0 | 0 | 0 | 0 |\n| work bus                        | 0 | 0 | 0 | 0 | 0 | 0 | 0 | 0 | 0 | 0 | 1 | 0 | 0 |\n| target                          | 0 | 0 | 0 | 0 | 0 | 0 | 0 | 0 | 0 | 0 | 1 | 0 | 0 |\n| farm                            | 0 | 0 | 0 | 1 | 0 | 0 | 0 | 0 | 0 | 0 | 0 | 0 | 0 |\n| promos                          | 0 | 0 | 0 | 0 | 0 | 0 | 0 | 0 | 1 | 0 | 0 | 0 | 0 |\n| livin dream                     | 0 | 0 | 0 | 0 | 0 | 0 | 0 | 0 | 0 | 0 | 0 | 1 | 0 |\n| aarm                            | 0 | 0 | 0 | 0 | 0 | 0 | 0 | 0 | 0 | 0 | 1 | 0 | 0 |\n| finale                          | 1 | 1 | 0 | 0 | 0 | 0 | 0 | 0 | 0 | 0 | 0 | 0 | 0 |\n\n",
            "text/latex": "A tibble: 135 × 14\n\\begin{tabular}{llllllllllllll}\n episode\\_name & Ken Kwapis & Greg Daniels & B.J. Novak & Paul Lieberstein & Mindy Kaling & Paul Feig & Gene Stupnitsky & Lee Eisenberg & Jennifer Celotta & Randall Einhorn & Brent Forrester & Jeffrey Blitz & Justin Spitzer\\\\\n <chr> & <dbl> & <dbl> & <dbl> & <dbl> & <dbl> & <dbl> & <dbl> & <dbl> & <dbl> & <dbl> & <dbl> & <dbl> & <dbl>\\\\\n\\hline\n\t pilot                          & 1 & 1 & 0 & 0 & 0 & 0 & 0 & 0 & 0 & 0 & 0 & 0 & 0\\\\\n\t diversity day                  & 1 & 0 & 1 & 0 & 0 & 0 & 0 & 0 & 0 & 0 & 0 & 0 & 0\\\\\n\t health care                    & 0 & 0 & 0 & 1 & 0 & 0 & 0 & 0 & 0 & 0 & 0 & 0 & 0\\\\\n\t basketball                     & 0 & 1 & 0 & 0 & 0 & 0 & 0 & 0 & 0 & 0 & 0 & 0 & 0\\\\\n\t hot girl                       & 0 & 0 & 0 & 0 & 1 & 0 & 0 & 0 & 0 & 0 & 0 & 0 & 0\\\\\n\t dundies                        & 0 & 1 & 0 & 0 & 1 & 0 & 0 & 0 & 0 & 0 & 0 & 0 & 0\\\\\n\t sexual harassment              & 1 & 0 & 1 & 0 & 0 & 0 & 0 & 0 & 0 & 0 & 0 & 0 & 0\\\\\n\t office olympics                & 0 & 0 & 0 & 0 & 0 & 1 & 0 & 0 & 0 & 0 & 0 & 0 & 0\\\\\n\t fire                           & 1 & 0 & 1 & 0 & 0 & 0 & 0 & 0 & 0 & 0 & 0 & 0 & 0\\\\\n\t halloween                      & 0 & 1 & 0 & 0 & 0 & 1 & 0 & 0 & 0 & 0 & 0 & 0 & 0\\\\\n\t fight                          & 1 & 0 & 0 & 0 & 0 & 0 & 1 & 1 & 0 & 0 & 0 & 0 & 0\\\\\n\t client                         & 0 & 0 & 0 & 1 & 0 & 0 & 0 & 0 & 0 & 0 & 0 & 0 & 0\\\\\n\t performance review             & 0 & 0 & 0 & 0 & 0 & 1 & 0 & 0 & 0 & 0 & 0 & 0 & 0\\\\\n\t email surveilance              & 0 & 0 & 0 & 0 & 0 & 1 & 0 & 0 & 1 & 0 & 0 & 0 & 0\\\\\n\t booze cruise                   & 1 & 1 & 0 & 0 & 0 & 0 & 0 & 0 & 0 & 0 & 0 & 0 & 0\\\\\n\t injury                         & 0 & 0 & 0 & 0 & 1 & 0 & 0 & 0 & 0 & 0 & 0 & 0 & 0\\\\\n\t secret                         & 0 & 0 & 0 & 0 & 0 & 0 & 1 & 1 & 0 & 0 & 0 & 0 & 0\\\\\n\t carpet                         & 0 & 0 & 0 & 1 & 0 & 0 & 0 & 0 & 0 & 0 & 0 & 0 & 0\\\\\n\t boys  girls                    & 0 & 0 & 1 & 0 & 0 & 0 & 0 & 0 & 0 & 0 & 0 & 0 & 0\\\\\n\t valentines day                 & 0 & 1 & 0 & 0 & 0 & 0 & 0 & 0 & 0 & 0 & 0 & 0 & 0\\\\\n\t dwights speech                 & 0 & 0 & 0 & 1 & 0 & 0 & 0 & 0 & 0 & 0 & 0 & 0 & 0\\\\\n\t take your daughter to work day & 0 & 0 & 0 & 0 & 1 & 0 & 0 & 0 & 0 & 0 & 0 & 0 & 0\\\\\n\t michaels birthday              & 0 & 0 & 0 & 0 & 0 & 0 & 1 & 1 & 0 & 0 & 0 & 0 & 0\\\\\n\t drug testing                   & 0 & 1 & 0 & 0 & 0 & 0 & 0 & 0 & 1 & 0 & 0 & 0 & 0\\\\\n\t conflict resolution            & 0 & 1 & 0 & 0 & 0 & 0 & 0 & 0 & 0 & 0 & 0 & 0 & 0\\\\\n\t casino night                   & 0 & 1 & 0 & 0 & 0 & 0 & 0 & 0 & 0 & 0 & 0 & 0 & 0\\\\\n\t gay witch hunt                 & 1 & 1 & 0 & 0 & 0 & 0 & 0 & 0 & 0 & 0 & 0 & 0 & 0\\\\\n\t convention                     & 0 & 0 & 0 & 0 & 0 & 0 & 1 & 1 & 0 & 0 & 0 & 0 & 0\\\\\n\t coup                           & 0 & 1 & 0 & 1 & 0 & 0 & 0 & 0 & 0 & 0 & 0 & 0 & 0\\\\\n\t grief counseling               & 0 & 0 & 0 & 0 & 0 & 0 & 0 & 0 & 1 & 0 & 0 & 0 & 0\\\\\n\t ⋮ & ⋮ & ⋮ & ⋮ & ⋮ & ⋮ & ⋮ & ⋮ & ⋮ & ⋮ & ⋮ & ⋮ & ⋮ & ⋮\\\\\n\t costume contest                 & 0 & 0 & 0 & 0 & 0 & 0 & 0 & 0 & 0 & 0 & 0 & 0 & 1\\\\\n\t classy christmas                & 0 & 0 & 0 & 0 & 1 & 0 & 0 & 0 & 0 & 0 & 0 & 0 & 0\\\\\n\t seminar                         & 0 & 0 & 1 & 0 & 0 & 0 & 0 & 0 & 0 & 0 & 0 & 0 & 0\\\\\n\t search                          & 0 & 0 & 0 & 0 & 0 & 0 & 0 & 0 & 0 & 0 & 1 & 0 & 0\\\\\n\t pda                             & 0 & 1 & 0 & 0 & 0 & 0 & 0 & 0 & 0 & 0 & 0 & 0 & 0\\\\\n\t threat level midnight           & 0 & 0 & 1 & 0 & 0 & 0 & 0 & 0 & 0 & 0 & 0 & 0 & 0\\\\\n\t todd packer                     & 0 & 0 & 0 & 0 & 0 & 0 & 0 & 0 & 0 & 1 & 0 & 0 & 0\\\\\n\t training day                    & 0 & 0 & 0 & 1 & 0 & 0 & 0 & 0 & 0 & 0 & 0 & 0 & 0\\\\\n\t michaels last dundies           & 0 & 0 & 0 & 0 & 1 & 0 & 0 & 0 & 0 & 0 & 0 & 0 & 0\\\\\n\t goodbye michael                 & 0 & 1 & 0 & 0 & 0 & 1 & 0 & 0 & 0 & 0 & 0 & 0 & 0\\\\\n\t dwight k schrute acting manager & 0 & 0 & 0 & 0 & 0 & 0 & 0 & 0 & 0 & 0 & 0 & 0 & 1\\\\\n\t search committee                & 0 & 0 & 0 & 1 & 0 & 0 & 0 & 0 & 0 & 0 & 0 & 1 & 0\\\\\n\t list                            & 0 & 0 & 1 & 0 & 0 & 0 & 0 & 0 & 0 & 0 & 0 & 0 & 0\\\\\n\t incentive                       & 0 & 0 & 0 & 1 & 0 & 0 & 0 & 0 & 0 & 0 & 0 & 0 & 0\\\\\n\t garden party                    & 0 & 0 & 0 & 0 & 0 & 0 & 0 & 0 & 0 & 0 & 0 & 0 & 1\\\\\n\t spooked                         & 0 & 0 & 0 & 0 & 0 & 0 & 0 & 0 & 0 & 1 & 0 & 0 & 0\\\\\n\t gettysburg                      & 0 & 0 & 0 & 0 & 0 & 0 & 0 & 0 & 0 & 0 & 0 & 1 & 0\\\\\n\t christmas wishes                & 0 & 0 & 0 & 0 & 1 & 0 & 0 & 0 & 0 & 0 & 0 & 0 & 0\\\\\n\t trivia                          & 0 & 0 & 1 & 0 & 0 & 0 & 0 & 0 & 0 & 0 & 0 & 0 & 0\\\\\n\t test store                      & 0 & 0 & 0 & 0 & 1 & 0 & 0 & 0 & 0 & 0 & 1 & 0 & 0\\\\\n\t angry y                         & 0 & 0 & 0 & 0 & 0 & 0 & 0 & 0 & 0 & 0 & 0 & 0 & 1\\\\\n\t free family portrait studio     & 0 & 0 & 1 & 0 & 0 & 0 & 0 & 0 & 0 & 0 & 0 & 0 & 0\\\\\n\t new guys                        & 0 & 1 & 0 & 0 & 0 & 0 & 0 & 0 & 0 & 0 & 0 & 0 & 0\\\\\n\t work bus                        & 0 & 0 & 0 & 0 & 0 & 0 & 0 & 0 & 0 & 0 & 1 & 0 & 0\\\\\n\t target                          & 0 & 0 & 0 & 0 & 0 & 0 & 0 & 0 & 0 & 0 & 1 & 0 & 0\\\\\n\t farm                            & 0 & 0 & 0 & 1 & 0 & 0 & 0 & 0 & 0 & 0 & 0 & 0 & 0\\\\\n\t promos                          & 0 & 0 & 0 & 0 & 0 & 0 & 0 & 0 & 1 & 0 & 0 & 0 & 0\\\\\n\t livin dream                     & 0 & 0 & 0 & 0 & 0 & 0 & 0 & 0 & 0 & 0 & 0 & 1 & 0\\\\\n\t aarm                            & 0 & 0 & 0 & 0 & 0 & 0 & 0 & 0 & 0 & 0 & 1 & 0 & 0\\\\\n\t finale                          & 1 & 1 & 0 & 0 & 0 & 0 & 0 & 0 & 0 & 0 & 0 & 0 & 0\\\\\n\\end{tabular}\n",
            "text/plain": [
              "    episode_name                    Ken Kwapis Greg Daniels B.J. Novak\n",
              "1   pilot                           1          1            0         \n",
              "2   diversity day                   1          0            1         \n",
              "3   health care                     0          0            0         \n",
              "4   basketball                      0          1            0         \n",
              "5   hot girl                        0          0            0         \n",
              "6   dundies                         0          1            0         \n",
              "7   sexual harassment               1          0            1         \n",
              "8   office olympics                 0          0            0         \n",
              "9   fire                            1          0            1         \n",
              "10  halloween                       0          1            0         \n",
              "11  fight                           1          0            0         \n",
              "12  client                          0          0            0         \n",
              "13  performance review              0          0            0         \n",
              "14  email surveilance               0          0            0         \n",
              "15  booze cruise                    1          1            0         \n",
              "16  injury                          0          0            0         \n",
              "17  secret                          0          0            0         \n",
              "18  carpet                          0          0            0         \n",
              "19  boys  girls                     0          0            1         \n",
              "20  valentines day                  0          1            0         \n",
              "21  dwights speech                  0          0            0         \n",
              "22  take your daughter to work day  0          0            0         \n",
              "23  michaels birthday               0          0            0         \n",
              "24  drug testing                    0          1            0         \n",
              "25  conflict resolution             0          1            0         \n",
              "26  casino night                    0          1            0         \n",
              "27  gay witch hunt                  1          1            0         \n",
              "28  convention                      0          0            0         \n",
              "29  coup                            0          1            0         \n",
              "30  grief counseling                0          0            0         \n",
              "⋮   ⋮                               ⋮          ⋮            ⋮         \n",
              "106 costume contest                 0          0            0         \n",
              "107 classy christmas                0          0            0         \n",
              "108 seminar                         0          0            1         \n",
              "109 search                          0          0            0         \n",
              "110 pda                             0          1            0         \n",
              "111 threat level midnight           0          0            1         \n",
              "112 todd packer                     0          0            0         \n",
              "113 training day                    0          0            0         \n",
              "114 michaels last dundies           0          0            0         \n",
              "115 goodbye michael                 0          1            0         \n",
              "116 dwight k schrute acting manager 0          0            0         \n",
              "117 search committee                0          0            0         \n",
              "118 list                            0          0            1         \n",
              "119 incentive                       0          0            0         \n",
              "120 garden party                    0          0            0         \n",
              "121 spooked                         0          0            0         \n",
              "122 gettysburg                      0          0            0         \n",
              "123 christmas wishes                0          0            0         \n",
              "124 trivia                          0          0            1         \n",
              "125 test store                      0          0            0         \n",
              "126 angry y                         0          0            0         \n",
              "127 free family portrait studio     0          0            1         \n",
              "128 new guys                        0          1            0         \n",
              "129 work bus                        0          0            0         \n",
              "130 target                          0          0            0         \n",
              "131 farm                            0          0            0         \n",
              "132 promos                          0          0            0         \n",
              "133 livin dream                     0          0            0         \n",
              "134 aarm                            0          0            0         \n",
              "135 finale                          1          1            0         \n",
              "    Paul Lieberstein Mindy Kaling Paul Feig Gene Stupnitsky Lee Eisenberg\n",
              "1   0                0            0         0               0            \n",
              "2   0                0            0         0               0            \n",
              "3   1                0            0         0               0            \n",
              "4   0                0            0         0               0            \n",
              "5   0                1            0         0               0            \n",
              "6   0                1            0         0               0            \n",
              "7   0                0            0         0               0            \n",
              "8   0                0            1         0               0            \n",
              "9   0                0            0         0               0            \n",
              "10  0                0            1         0               0            \n",
              "11  0                0            0         1               1            \n",
              "12  1                0            0         0               0            \n",
              "13  0                0            1         0               0            \n",
              "14  0                0            1         0               0            \n",
              "15  0                0            0         0               0            \n",
              "16  0                1            0         0               0            \n",
              "17  0                0            0         1               1            \n",
              "18  1                0            0         0               0            \n",
              "19  0                0            0         0               0            \n",
              "20  0                0            0         0               0            \n",
              "21  1                0            0         0               0            \n",
              "22  0                1            0         0               0            \n",
              "23  0                0            0         1               1            \n",
              "24  0                0            0         0               0            \n",
              "25  0                0            0         0               0            \n",
              "26  0                0            0         0               0            \n",
              "27  0                0            0         0               0            \n",
              "28  0                0            0         1               1            \n",
              "29  1                0            0         0               0            \n",
              "30  0                0            0         0               0            \n",
              "⋮   ⋮                ⋮            ⋮         ⋮               ⋮            \n",
              "106 0                0            0         0               0            \n",
              "107 0                1            0         0               0            \n",
              "108 0                0            0         0               0            \n",
              "109 0                0            0         0               0            \n",
              "110 0                0            0         0               0            \n",
              "111 0                0            0         0               0            \n",
              "112 0                0            0         0               0            \n",
              "113 1                0            0         0               0            \n",
              "114 0                1            0         0               0            \n",
              "115 0                0            1         0               0            \n",
              "116 0                0            0         0               0            \n",
              "117 1                0            0         0               0            \n",
              "118 0                0            0         0               0            \n",
              "119 1                0            0         0               0            \n",
              "120 0                0            0         0               0            \n",
              "121 0                0            0         0               0            \n",
              "122 0                0            0         0               0            \n",
              "123 0                1            0         0               0            \n",
              "124 0                0            0         0               0            \n",
              "125 0                1            0         0               0            \n",
              "126 0                0            0         0               0            \n",
              "127 0                0            0         0               0            \n",
              "128 0                0            0         0               0            \n",
              "129 0                0            0         0               0            \n",
              "130 0                0            0         0               0            \n",
              "131 1                0            0         0               0            \n",
              "132 0                0            0         0               0            \n",
              "133 0                0            0         0               0            \n",
              "134 0                0            0         0               0            \n",
              "135 0                0            0         0               0            \n",
              "    Jennifer Celotta Randall Einhorn Brent Forrester Jeffrey Blitz\n",
              "1   0                0               0               0            \n",
              "2   0                0               0               0            \n",
              "3   0                0               0               0            \n",
              "4   0                0               0               0            \n",
              "5   0                0               0               0            \n",
              "6   0                0               0               0            \n",
              "7   0                0               0               0            \n",
              "8   0                0               0               0            \n",
              "9   0                0               0               0            \n",
              "10  0                0               0               0            \n",
              "11  0                0               0               0            \n",
              "12  0                0               0               0            \n",
              "13  0                0               0               0            \n",
              "14  1                0               0               0            \n",
              "15  0                0               0               0            \n",
              "16  0                0               0               0            \n",
              "17  0                0               0               0            \n",
              "18  0                0               0               0            \n",
              "19  0                0               0               0            \n",
              "20  0                0               0               0            \n",
              "21  0                0               0               0            \n",
              "22  0                0               0               0            \n",
              "23  0                0               0               0            \n",
              "24  1                0               0               0            \n",
              "25  0                0               0               0            \n",
              "26  0                0               0               0            \n",
              "27  0                0               0               0            \n",
              "28  0                0               0               0            \n",
              "29  0                0               0               0            \n",
              "30  1                0               0               0            \n",
              "⋮   ⋮                ⋮               ⋮               ⋮            \n",
              "106 0                0               0               0            \n",
              "107 0                0               0               0            \n",
              "108 0                0               0               0            \n",
              "109 0                0               1               0            \n",
              "110 0                0               0               0            \n",
              "111 0                0               0               0            \n",
              "112 0                1               0               0            \n",
              "113 0                0               0               0            \n",
              "114 0                0               0               0            \n",
              "115 0                0               0               0            \n",
              "116 0                0               0               0            \n",
              "117 0                0               0               1            \n",
              "118 0                0               0               0            \n",
              "119 0                0               0               0            \n",
              "120 0                0               0               0            \n",
              "121 0                1               0               0            \n",
              "122 0                0               0               1            \n",
              "123 0                0               0               0            \n",
              "124 0                0               0               0            \n",
              "125 0                0               1               0            \n",
              "126 0                0               0               0            \n",
              "127 0                0               0               0            \n",
              "128 0                0               0               0            \n",
              "129 0                0               1               0            \n",
              "130 0                0               1               0            \n",
              "131 0                0               0               0            \n",
              "132 1                0               0               0            \n",
              "133 0                0               0               1            \n",
              "134 0                0               1               0            \n",
              "135 0                0               0               0            \n",
              "    Justin Spitzer\n",
              "1   0             \n",
              "2   0             \n",
              "3   0             \n",
              "4   0             \n",
              "5   0             \n",
              "6   0             \n",
              "7   0             \n",
              "8   0             \n",
              "9   0             \n",
              "10  0             \n",
              "11  0             \n",
              "12  0             \n",
              "13  0             \n",
              "14  0             \n",
              "15  0             \n",
              "16  0             \n",
              "17  0             \n",
              "18  0             \n",
              "19  0             \n",
              "20  0             \n",
              "21  0             \n",
              "22  0             \n",
              "23  0             \n",
              "24  0             \n",
              "25  0             \n",
              "26  0             \n",
              "27  0             \n",
              "28  0             \n",
              "29  0             \n",
              "30  0             \n",
              "⋮   ⋮             \n",
              "106 1             \n",
              "107 0             \n",
              "108 0             \n",
              "109 0             \n",
              "110 0             \n",
              "111 0             \n",
              "112 0             \n",
              "113 0             \n",
              "114 0             \n",
              "115 0             \n",
              "116 1             \n",
              "117 0             \n",
              "118 0             \n",
              "119 0             \n",
              "120 1             \n",
              "121 0             \n",
              "122 0             \n",
              "123 0             \n",
              "124 0             \n",
              "125 0             \n",
              "126 1             \n",
              "127 0             \n",
              "128 0             \n",
              "129 0             \n",
              "130 0             \n",
              "131 0             \n",
              "132 0             \n",
              "133 0             \n",
              "134 0             \n",
              "135 0             "
            ]
          },
          "metadata": {}
        }
      ]
    },
    {
      "cell_type": "markdown",
      "source": [
        "Next, let’s find the season and episode number for each episode, and then finally let’s put it all together into one dataset for modeling."
      ],
      "metadata": {
        "id": "pyq5EDMZ7vku"
      }
    },
    {
      "cell_type": "code",
      "source": [
        "office <- office_info %>%\n",
        "  distinct(season, episode, episode_name) %>%\n",
        "  inner_join(characters) %>%\n",
        "  inner_join(creators) %>%\n",
        "  inner_join(office_ratings %>%\n",
        "    select(episode_name, imdb_rating)) %>%\n",
        "  janitor::clean_names()\n",
        "\n",
        "office"
      ],
      "metadata": {
        "colab": {
          "base_uri": "https://localhost:8080/",
          "height": 1000
        },
        "id": "C7rPNDrm7zHG",
        "outputId": "30fc7b40-7ac4-4f3e-865a-d67e5ef460c6"
      },
      "execution_count": 27,
      "outputs": [
        {
          "output_type": "stream",
          "name": "stderr",
          "text": [
            "\u001b[1m\u001b[22mJoining with `by = join_by(episode_name)`\n",
            "\u001b[1m\u001b[22mJoining with `by = join_by(episode_name)`\n",
            "\u001b[1m\u001b[22mJoining with `by = join_by(episode_name)`\n",
            "Warning message in inner_join(., office_ratings %>% select(episode_name, imdb_rating)):\n",
            "“\u001b[1m\u001b[22mDetected an unexpected many-to-many relationship between `x` and `y`.\n",
            "\u001b[36mℹ\u001b[39m Row 71 of `x` matches multiple rows in `y`.\n",
            "\u001b[36mℹ\u001b[39m Row 79 of `y` matches multiple rows in `x`.\n",
            "\u001b[36mℹ\u001b[39m If a many-to-many relationship is expected, set `relationship =\n",
            "  \"many-to-many\"` to silence this warning.”\n"
          ]
        },
        {
          "output_type": "display_data",
          "data": {
            "text/html": [
              "<table class=\"dataframe\">\n",
              "<caption>A tibble: 136 × 32</caption>\n",
              "<thead>\n",
              "\t<tr><th scope=col>season</th><th scope=col>episode</th><th scope=col>episode_name</th><th scope=col>andy</th><th scope=col>angela</th><th scope=col>darryl</th><th scope=col>dwight</th><th scope=col>jim</th><th scope=col>kelly</th><th scope=col>kevin</th><th scope=col>⋯</th><th scope=col>mindy_kaling</th><th scope=col>paul_feig</th><th scope=col>gene_stupnitsky</th><th scope=col>lee_eisenberg</th><th scope=col>jennifer_celotta</th><th scope=col>randall_einhorn</th><th scope=col>brent_forrester</th><th scope=col>jeffrey_blitz</th><th scope=col>justin_spitzer</th><th scope=col>imdb_rating</th></tr>\n",
              "\t<tr><th scope=col>&lt;dbl&gt;</th><th scope=col>&lt;dbl&gt;</th><th scope=col>&lt;chr&gt;</th><th scope=col>&lt;int&gt;</th><th scope=col>&lt;int&gt;</th><th scope=col>&lt;int&gt;</th><th scope=col>&lt;int&gt;</th><th scope=col>&lt;int&gt;</th><th scope=col>&lt;int&gt;</th><th scope=col>&lt;int&gt;</th><th scope=col>⋯</th><th scope=col>&lt;dbl&gt;</th><th scope=col>&lt;dbl&gt;</th><th scope=col>&lt;dbl&gt;</th><th scope=col>&lt;dbl&gt;</th><th scope=col>&lt;dbl&gt;</th><th scope=col>&lt;dbl&gt;</th><th scope=col>&lt;dbl&gt;</th><th scope=col>&lt;dbl&gt;</th><th scope=col>&lt;dbl&gt;</th><th scope=col>&lt;dbl&gt;</th></tr>\n",
              "</thead>\n",
              "<tbody>\n",
              "\t<tr><td>1</td><td> 1</td><td>pilot                         </td><td> 0</td><td> 1</td><td> 0</td><td>29</td><td>36</td><td> 0</td><td> 1</td><td>⋯</td><td>0</td><td>0</td><td>0</td><td>0</td><td>0</td><td>0</td><td>0</td><td>0</td><td>0</td><td>7.6</td></tr>\n",
              "\t<tr><td>1</td><td> 2</td><td>diversity day                 </td><td> 0</td><td> 4</td><td> 0</td><td>17</td><td>25</td><td> 2</td><td> 8</td><td>⋯</td><td>0</td><td>0</td><td>0</td><td>0</td><td>0</td><td>0</td><td>0</td><td>0</td><td>0</td><td>8.3</td></tr>\n",
              "\t<tr><td>1</td><td> 3</td><td>health care                   </td><td> 0</td><td> 5</td><td> 0</td><td>62</td><td>42</td><td> 0</td><td> 6</td><td>⋯</td><td>0</td><td>0</td><td>0</td><td>0</td><td>0</td><td>0</td><td>0</td><td>0</td><td>0</td><td>7.9</td></tr>\n",
              "\t<tr><td>1</td><td> 5</td><td>basketball                    </td><td> 0</td><td> 3</td><td>15</td><td>25</td><td>21</td><td> 0</td><td> 1</td><td>⋯</td><td>0</td><td>0</td><td>0</td><td>0</td><td>0</td><td>0</td><td>0</td><td>0</td><td>0</td><td>8.4</td></tr>\n",
              "\t<tr><td>1</td><td> 6</td><td>hot girl                      </td><td> 0</td><td> 3</td><td> 0</td><td>28</td><td>55</td><td> 0</td><td> 5</td><td>⋯</td><td>1</td><td>0</td><td>0</td><td>0</td><td>0</td><td>0</td><td>0</td><td>0</td><td>0</td><td>7.8</td></tr>\n",
              "\t<tr><td>2</td><td> 1</td><td>dundies                       </td><td> 0</td><td> 1</td><td> 1</td><td>32</td><td>32</td><td> 7</td><td> 1</td><td>⋯</td><td>1</td><td>0</td><td>0</td><td>0</td><td>0</td><td>0</td><td>0</td><td>0</td><td>0</td><td>8.7</td></tr>\n",
              "\t<tr><td>2</td><td> 2</td><td>sexual harassment             </td><td> 0</td><td> 2</td><td> 9</td><td>11</td><td>16</td><td> 0</td><td> 6</td><td>⋯</td><td>0</td><td>0</td><td>0</td><td>0</td><td>0</td><td>0</td><td>0</td><td>0</td><td>0</td><td>8.2</td></tr>\n",
              "\t<tr><td>2</td><td> 3</td><td>office olympics               </td><td> 0</td><td> 6</td><td> 0</td><td>55</td><td>55</td><td> 0</td><td> 9</td><td>⋯</td><td>0</td><td>1</td><td>0</td><td>0</td><td>0</td><td>0</td><td>0</td><td>0</td><td>0</td><td>8.4</td></tr>\n",
              "\t<tr><td>2</td><td> 4</td><td>fire                          </td><td> 0</td><td>17</td><td> 0</td><td>65</td><td>51</td><td> 4</td><td> 5</td><td>⋯</td><td>0</td><td>0</td><td>0</td><td>0</td><td>0</td><td>0</td><td>0</td><td>0</td><td>0</td><td>8.4</td></tr>\n",
              "\t<tr><td>2</td><td> 5</td><td>halloween                     </td><td> 0</td><td>13</td><td> 0</td><td>33</td><td>30</td><td> 3</td><td> 2</td><td>⋯</td><td>0</td><td>1</td><td>0</td><td>0</td><td>0</td><td>0</td><td>0</td><td>0</td><td>0</td><td>8.2</td></tr>\n",
              "\t<tr><td>2</td><td> 6</td><td>fight                         </td><td> 0</td><td> 3</td><td> 0</td><td>64</td><td>49</td><td> 3</td><td> 3</td><td>⋯</td><td>0</td><td>0</td><td>1</td><td>1</td><td>0</td><td>0</td><td>0</td><td>0</td><td>0</td><td>8.2</td></tr>\n",
              "\t<tr><td>2</td><td> 7</td><td>client                        </td><td> 0</td><td> 0</td><td> 0</td><td>22</td><td>40</td><td> 1</td><td> 1</td><td>⋯</td><td>0</td><td>0</td><td>0</td><td>0</td><td>0</td><td>0</td><td>0</td><td>0</td><td>0</td><td>8.6</td></tr>\n",
              "\t<tr><td>2</td><td> 8</td><td>performance review            </td><td> 0</td><td> 5</td><td> 0</td><td>42</td><td>26</td><td> 2</td><td> 4</td><td>⋯</td><td>0</td><td>1</td><td>0</td><td>0</td><td>0</td><td>0</td><td>0</td><td>0</td><td>0</td><td>8.2</td></tr>\n",
              "\t<tr><td>2</td><td>11</td><td>booze cruise                  </td><td> 0</td><td> 1</td><td> 3</td><td>22</td><td>29</td><td> 4</td><td> 0</td><td>⋯</td><td>0</td><td>0</td><td>0</td><td>0</td><td>0</td><td>0</td><td>0</td><td>0</td><td>0</td><td>8.6</td></tr>\n",
              "\t<tr><td>2</td><td>12</td><td>injury                        </td><td> 0</td><td> 5</td><td> 0</td><td>60</td><td>55</td><td> 1</td><td> 2</td><td>⋯</td><td>1</td><td>0</td><td>0</td><td>0</td><td>0</td><td>0</td><td>0</td><td>0</td><td>0</td><td>9.0</td></tr>\n",
              "\t<tr><td>2</td><td>13</td><td>secret                        </td><td> 0</td><td> 5</td><td> 0</td><td>38</td><td>50</td><td> 5</td><td> 8</td><td>⋯</td><td>0</td><td>0</td><td>1</td><td>1</td><td>0</td><td>0</td><td>0</td><td>0</td><td>0</td><td>8.3</td></tr>\n",
              "\t<tr><td>2</td><td>14</td><td>carpet                        </td><td> 0</td><td> 2</td><td> 3</td><td>25</td><td>27</td><td>10</td><td> 7</td><td>⋯</td><td>0</td><td>0</td><td>0</td><td>0</td><td>0</td><td>0</td><td>0</td><td>0</td><td>0</td><td>7.9</td></tr>\n",
              "\t<tr><td>2</td><td>15</td><td>boys  girls                   </td><td> 0</td><td> 5</td><td>27</td><td>12</td><td>22</td><td> 9</td><td> 4</td><td>⋯</td><td>0</td><td>0</td><td>0</td><td>0</td><td>0</td><td>0</td><td>0</td><td>0</td><td>0</td><td>8.2</td></tr>\n",
              "\t<tr><td>2</td><td>16</td><td>valentines day                </td><td> 0</td><td> 4</td><td> 0</td><td>19</td><td>16</td><td>13</td><td> 5</td><td>⋯</td><td>0</td><td>0</td><td>0</td><td>0</td><td>0</td><td>0</td><td>0</td><td>0</td><td>0</td><td>8.3</td></tr>\n",
              "\t<tr><td>2</td><td>17</td><td>dwights speech                </td><td> 0</td><td> 4</td><td> 0</td><td>49</td><td>35</td><td> 5</td><td> 4</td><td>⋯</td><td>0</td><td>0</td><td>0</td><td>0</td><td>0</td><td>0</td><td>0</td><td>0</td><td>0</td><td>8.4</td></tr>\n",
              "\t<tr><td>2</td><td>18</td><td>take your daughter to work day</td><td> 0</td><td> 4</td><td> 1</td><td>23</td><td>17</td><td> 6</td><td> 5</td><td>⋯</td><td>1</td><td>0</td><td>0</td><td>0</td><td>0</td><td>0</td><td>0</td><td>0</td><td>0</td><td>8.3</td></tr>\n",
              "\t<tr><td>2</td><td>19</td><td>michaels birthday             </td><td> 0</td><td>12</td><td> 0</td><td>43</td><td>22</td><td> 4</td><td>14</td><td>⋯</td><td>0</td><td>0</td><td>1</td><td>1</td><td>0</td><td>0</td><td>0</td><td>0</td><td>0</td><td>8.1</td></tr>\n",
              "\t<tr><td>2</td><td>20</td><td>drug testing                  </td><td> 0</td><td> 7</td><td> 0</td><td>71</td><td>20</td><td> 5</td><td> 6</td><td>⋯</td><td>0</td><td>0</td><td>0</td><td>0</td><td>1</td><td>0</td><td>0</td><td>0</td><td>0</td><td>8.4</td></tr>\n",
              "\t<tr><td>2</td><td>21</td><td>conflict resolution           </td><td> 0</td><td>12</td><td> 0</td><td>33</td><td>28</td><td> 2</td><td> 3</td><td>⋯</td><td>0</td><td>0</td><td>0</td><td>0</td><td>0</td><td>0</td><td>0</td><td>0</td><td>0</td><td>8.7</td></tr>\n",
              "\t<tr><td>2</td><td>22</td><td>casino night                  </td><td> 0</td><td> 5</td><td> 8</td><td>31</td><td>52</td><td> 1</td><td>16</td><td>⋯</td><td>0</td><td>0</td><td>0</td><td>0</td><td>0</td><td>0</td><td>0</td><td>0</td><td>0</td><td>9.3</td></tr>\n",
              "\t<tr><td>3</td><td> 1</td><td>gay witch hunt                </td><td> 5</td><td> 4</td><td> 0</td><td>18</td><td>11</td><td> 1</td><td> 1</td><td>⋯</td><td>0</td><td>0</td><td>0</td><td>0</td><td>0</td><td>0</td><td>0</td><td>0</td><td>0</td><td>8.9</td></tr>\n",
              "\t<tr><td>3</td><td> 2</td><td>convention                    </td><td> 0</td><td> 9</td><td> 0</td><td>37</td><td>32</td><td> 8</td><td> 3</td><td>⋯</td><td>0</td><td>0</td><td>1</td><td>1</td><td>0</td><td>0</td><td>0</td><td>0</td><td>0</td><td>8.2</td></tr>\n",
              "\t<tr><td>3</td><td> 3</td><td>coup                          </td><td>10</td><td>12</td><td> 0</td><td>71</td><td>12</td><td> 8</td><td> 4</td><td>⋯</td><td>0</td><td>0</td><td>0</td><td>0</td><td>0</td><td>0</td><td>0</td><td>0</td><td>0</td><td>8.5</td></tr>\n",
              "\t<tr><td>3</td><td> 4</td><td>grief counseling              </td><td> 4</td><td> 6</td><td> 0</td><td>36</td><td>15</td><td> 5</td><td> 2</td><td>⋯</td><td>0</td><td>0</td><td>0</td><td>0</td><td>1</td><td>0</td><td>0</td><td>0</td><td>0</td><td>8.0</td></tr>\n",
              "\t<tr><td>3</td><td> 5</td><td>initiation                    </td><td> 5</td><td> 4</td><td> 0</td><td>45</td><td>45</td><td> 6</td><td> 3</td><td>⋯</td><td>0</td><td>0</td><td>0</td><td>0</td><td>0</td><td>1</td><td>0</td><td>0</td><td>0</td><td>8.2</td></tr>\n",
              "\t<tr><td>⋮</td><td>⋮</td><td>⋮</td><td>⋮</td><td>⋮</td><td>⋮</td><td>⋮</td><td>⋮</td><td>⋮</td><td>⋮</td><td>⋱</td><td>⋮</td><td>⋮</td><td>⋮</td><td>⋮</td><td>⋮</td><td>⋮</td><td>⋮</td><td>⋮</td><td>⋮</td><td>⋮</td></tr>\n",
              "\t<tr><td>7</td><td> 6</td><td>costume contest                </td><td>16</td><td> 5</td><td>26</td><td>14</td><td>27</td><td> 5</td><td>19</td><td>⋯</td><td>0</td><td>0</td><td>0</td><td>0</td><td>0</td><td>0</td><td>0</td><td>0</td><td>1</td><td>8.2</td></tr>\n",
              "\t<tr><td>7</td><td>11</td><td>classy christmas               </td><td>28</td><td>26</td><td>23</td><td>38</td><td>50</td><td>14</td><td>15</td><td>⋯</td><td>1</td><td>0</td><td>0</td><td>0</td><td>0</td><td>0</td><td>0</td><td>0</td><td>0</td><td>8.9</td></tr>\n",
              "\t<tr><td>7</td><td>14</td><td>seminar                        </td><td>51</td><td> 0</td><td> 3</td><td>19</td><td>24</td><td>12</td><td> 9</td><td>⋯</td><td>0</td><td>0</td><td>0</td><td>0</td><td>0</td><td>0</td><td>0</td><td>0</td><td>0</td><td>7.7</td></tr>\n",
              "\t<tr><td>7</td><td>15</td><td>search                         </td><td>14</td><td> 1</td><td> 8</td><td>26</td><td>32</td><td> 9</td><td> 7</td><td>⋯</td><td>0</td><td>0</td><td>0</td><td>0</td><td>0</td><td>0</td><td>1</td><td>0</td><td>0</td><td>8.5</td></tr>\n",
              "\t<tr><td>7</td><td>16</td><td>pda                            </td><td>37</td><td> 9</td><td>16</td><td>24</td><td>23</td><td> 1</td><td>13</td><td>⋯</td><td>0</td><td>0</td><td>0</td><td>0</td><td>0</td><td>0</td><td>0</td><td>0</td><td>0</td><td>8.4</td></tr>\n",
              "\t<tr><td>7</td><td>17</td><td>threat level midnight          </td><td> 2</td><td> 0</td><td> 0</td><td> 4</td><td> 6</td><td> 1</td><td> 4</td><td>⋯</td><td>0</td><td>0</td><td>0</td><td>0</td><td>0</td><td>0</td><td>0</td><td>0</td><td>0</td><td>9.3</td></tr>\n",
              "\t<tr><td>7</td><td>18</td><td>todd packer                    </td><td>29</td><td> 1</td><td> 0</td><td>41</td><td>38</td><td> 3</td><td>13</td><td>⋯</td><td>0</td><td>0</td><td>0</td><td>0</td><td>0</td><td>1</td><td>0</td><td>0</td><td>0</td><td>7.5</td></tr>\n",
              "\t<tr><td>7</td><td>20</td><td>training day                   </td><td>12</td><td> 4</td><td> 8</td><td>10</td><td>10</td><td> 5</td><td> 4</td><td>⋯</td><td>0</td><td>0</td><td>0</td><td>0</td><td>0</td><td>0</td><td>0</td><td>0</td><td>0</td><td>7.8</td></tr>\n",
              "\t<tr><td>7</td><td>21</td><td>michaels last dundies          </td><td> 4</td><td> 1</td><td> 3</td><td>13</td><td>23</td><td> 0</td><td> 6</td><td>⋯</td><td>1</td><td>0</td><td>0</td><td>0</td><td>0</td><td>0</td><td>0</td><td>0</td><td>0</td><td>8.9</td></tr>\n",
              "\t<tr><td>7</td><td>22</td><td>goodbye michael                </td><td>24</td><td>12</td><td> 3</td><td>16</td><td>18</td><td> 3</td><td>11</td><td>⋯</td><td>0</td><td>1</td><td>0</td><td>0</td><td>0</td><td>0</td><td>0</td><td>0</td><td>0</td><td>9.7</td></tr>\n",
              "\t<tr><td>7</td><td>24</td><td>dwight k schrute acting manager</td><td>26</td><td>11</td><td> 5</td><td>73</td><td>28</td><td> 6</td><td>20</td><td>⋯</td><td>0</td><td>0</td><td>0</td><td>0</td><td>0</td><td>0</td><td>0</td><td>0</td><td>1</td><td>8.7</td></tr>\n",
              "\t<tr><td>7</td><td>25</td><td>search committee               </td><td>26</td><td>11</td><td>27</td><td>44</td><td>90</td><td>17</td><td>14</td><td>⋯</td><td>0</td><td>0</td><td>0</td><td>0</td><td>0</td><td>0</td><td>0</td><td>1</td><td>0</td><td>8.8</td></tr>\n",
              "\t<tr><td>8</td><td> 1</td><td>list                           </td><td>50</td><td> 6</td><td> 4</td><td>28</td><td>33</td><td> 5</td><td> 8</td><td>⋯</td><td>0</td><td>0</td><td>0</td><td>0</td><td>0</td><td>0</td><td>0</td><td>0</td><td>0</td><td>8.2</td></tr>\n",
              "\t<tr><td>8</td><td> 2</td><td>incentive                      </td><td>72</td><td>14</td><td> 7</td><td>21</td><td>39</td><td> 3</td><td>24</td><td>⋯</td><td>0</td><td>0</td><td>0</td><td>0</td><td>0</td><td>0</td><td>0</td><td>0</td><td>0</td><td>8.2</td></tr>\n",
              "\t<tr><td>8</td><td> 4</td><td>garden party                   </td><td>61</td><td> 7</td><td> 9</td><td>26</td><td>22</td><td> 3</td><td> 4</td><td>⋯</td><td>0</td><td>0</td><td>0</td><td>0</td><td>0</td><td>0</td><td>0</td><td>0</td><td>1</td><td>8.1</td></tr>\n",
              "\t<tr><td>8</td><td> 5</td><td>spooked                        </td><td>34</td><td> 4</td><td> 9</td><td>18</td><td>25</td><td>12</td><td> 9</td><td>⋯</td><td>0</td><td>0</td><td>0</td><td>0</td><td>0</td><td>1</td><td>0</td><td>0</td><td>0</td><td>7.6</td></tr>\n",
              "\t<tr><td>8</td><td> 8</td><td>gettysburg                     </td><td>45</td><td> 1</td><td>11</td><td>26</td><td>16</td><td> 4</td><td>15</td><td>⋯</td><td>0</td><td>0</td><td>0</td><td>0</td><td>0</td><td>0</td><td>0</td><td>1</td><td>0</td><td>7.0</td></tr>\n",
              "\t<tr><td>8</td><td>10</td><td>christmas wishes               </td><td>75</td><td> 2</td><td>10</td><td>23</td><td>40</td><td>10</td><td> 9</td><td>⋯</td><td>1</td><td>0</td><td>0</td><td>0</td><td>0</td><td>0</td><td>0</td><td>0</td><td>0</td><td>8.0</td></tr>\n",
              "\t<tr><td>8</td><td>11</td><td>trivia                         </td><td>36</td><td> 1</td><td>10</td><td>34</td><td>17</td><td> 2</td><td>15</td><td>⋯</td><td>0</td><td>0</td><td>0</td><td>0</td><td>0</td><td>0</td><td>0</td><td>0</td><td>0</td><td>7.9</td></tr>\n",
              "\t<tr><td>8</td><td>17</td><td>test store                     </td><td>28</td><td> 9</td><td> 4</td><td>53</td><td>28</td><td> 9</td><td> 8</td><td>⋯</td><td>1</td><td>0</td><td>0</td><td>0</td><td>0</td><td>0</td><td>1</td><td>0</td><td>0</td><td>7.8</td></tr>\n",
              "\t<tr><td>8</td><td>21</td><td>angry y                        </td><td>53</td><td> 7</td><td> 5</td><td>16</td><td>19</td><td>13</td><td> 9</td><td>⋯</td><td>0</td><td>0</td><td>0</td><td>0</td><td>0</td><td>0</td><td>0</td><td>0</td><td>1</td><td>7.1</td></tr>\n",
              "\t<tr><td>8</td><td>24</td><td>free family portrait studio    </td><td>49</td><td>20</td><td>15</td><td>27</td><td>31</td><td> 4</td><td> 3</td><td>⋯</td><td>0</td><td>0</td><td>0</td><td>0</td><td>0</td><td>0</td><td>0</td><td>0</td><td>0</td><td>7.8</td></tr>\n",
              "\t<tr><td>9</td><td> 1</td><td>new guys                       </td><td>33</td><td>16</td><td> 3</td><td>42</td><td>21</td><td> 2</td><td> 7</td><td>⋯</td><td>0</td><td>0</td><td>0</td><td>0</td><td>0</td><td>0</td><td>0</td><td>0</td><td>0</td><td>7.7</td></tr>\n",
              "\t<tr><td>9</td><td> 4</td><td>work bus                       </td><td>43</td><td> 5</td><td>11</td><td>40</td><td>60</td><td> 0</td><td>17</td><td>⋯</td><td>0</td><td>0</td><td>0</td><td>0</td><td>0</td><td>0</td><td>1</td><td>0</td><td>0</td><td>7.9</td></tr>\n",
              "\t<tr><td>9</td><td> 8</td><td>target                         </td><td> 0</td><td>52</td><td> 6</td><td>57</td><td>29</td><td> 0</td><td>16</td><td>⋯</td><td>0</td><td>0</td><td>0</td><td>0</td><td>0</td><td>0</td><td>1</td><td>0</td><td>0</td><td>7.8</td></tr>\n",
              "\t<tr><td>9</td><td>17</td><td>farm                           </td><td> 5</td><td> 8</td><td> 1</td><td>51</td><td> 6</td><td> 0</td><td>12</td><td>⋯</td><td>0</td><td>0</td><td>0</td><td>0</td><td>0</td><td>0</td><td>0</td><td>0</td><td>0</td><td>7.5</td></tr>\n",
              "\t<tr><td>9</td><td>18</td><td>promos                         </td><td>11</td><td>32</td><td>12</td><td>37</td><td>31</td><td> 0</td><td> 9</td><td>⋯</td><td>0</td><td>0</td><td>0</td><td>0</td><td>1</td><td>0</td><td>0</td><td>0</td><td>0</td><td>8.0</td></tr>\n",
              "\t<tr><td>9</td><td>21</td><td>livin dream                    </td><td>68</td><td>30</td><td>11</td><td>54</td><td>63</td><td> 0</td><td>13</td><td>⋯</td><td>0</td><td>0</td><td>0</td><td>0</td><td>0</td><td>0</td><td>0</td><td>1</td><td>0</td><td>8.9</td></tr>\n",
              "\t<tr><td>9</td><td>22</td><td>aarm                           </td><td>44</td><td>39</td><td>30</td><td>87</td><td>89</td><td> 0</td><td>30</td><td>⋯</td><td>0</td><td>0</td><td>0</td><td>0</td><td>0</td><td>0</td><td>1</td><td>0</td><td>0</td><td>9.3</td></tr>\n",
              "\t<tr><td>9</td><td>24</td><td>finale                         </td><td>31</td><td>23</td><td>19</td><td>76</td><td>73</td><td>12</td><td>31</td><td>⋯</td><td>0</td><td>0</td><td>0</td><td>0</td><td>0</td><td>0</td><td>0</td><td>0</td><td>0</td><td>9.7</td></tr>\n",
              "</tbody>\n",
              "</table>\n"
            ],
            "text/markdown": "\nA tibble: 136 × 32\n\n| season &lt;dbl&gt; | episode &lt;dbl&gt; | episode_name &lt;chr&gt; | andy &lt;int&gt; | angela &lt;int&gt; | darryl &lt;int&gt; | dwight &lt;int&gt; | jim &lt;int&gt; | kelly &lt;int&gt; | kevin &lt;int&gt; | ⋯ ⋯ | mindy_kaling &lt;dbl&gt; | paul_feig &lt;dbl&gt; | gene_stupnitsky &lt;dbl&gt; | lee_eisenberg &lt;dbl&gt; | jennifer_celotta &lt;dbl&gt; | randall_einhorn &lt;dbl&gt; | brent_forrester &lt;dbl&gt; | jeffrey_blitz &lt;dbl&gt; | justin_spitzer &lt;dbl&gt; | imdb_rating &lt;dbl&gt; |\n|---|---|---|---|---|---|---|---|---|---|---|---|---|---|---|---|---|---|---|---|---|\n| 1 |  1 | pilot                          |  0 |  1 |  0 | 29 | 36 |  0 |  1 | ⋯ | 0 | 0 | 0 | 0 | 0 | 0 | 0 | 0 | 0 | 7.6 |\n| 1 |  2 | diversity day                  |  0 |  4 |  0 | 17 | 25 |  2 |  8 | ⋯ | 0 | 0 | 0 | 0 | 0 | 0 | 0 | 0 | 0 | 8.3 |\n| 1 |  3 | health care                    |  0 |  5 |  0 | 62 | 42 |  0 |  6 | ⋯ | 0 | 0 | 0 | 0 | 0 | 0 | 0 | 0 | 0 | 7.9 |\n| 1 |  5 | basketball                     |  0 |  3 | 15 | 25 | 21 |  0 |  1 | ⋯ | 0 | 0 | 0 | 0 | 0 | 0 | 0 | 0 | 0 | 8.4 |\n| 1 |  6 | hot girl                       |  0 |  3 |  0 | 28 | 55 |  0 |  5 | ⋯ | 1 | 0 | 0 | 0 | 0 | 0 | 0 | 0 | 0 | 7.8 |\n| 2 |  1 | dundies                        |  0 |  1 |  1 | 32 | 32 |  7 |  1 | ⋯ | 1 | 0 | 0 | 0 | 0 | 0 | 0 | 0 | 0 | 8.7 |\n| 2 |  2 | sexual harassment              |  0 |  2 |  9 | 11 | 16 |  0 |  6 | ⋯ | 0 | 0 | 0 | 0 | 0 | 0 | 0 | 0 | 0 | 8.2 |\n| 2 |  3 | office olympics                |  0 |  6 |  0 | 55 | 55 |  0 |  9 | ⋯ | 0 | 1 | 0 | 0 | 0 | 0 | 0 | 0 | 0 | 8.4 |\n| 2 |  4 | fire                           |  0 | 17 |  0 | 65 | 51 |  4 |  5 | ⋯ | 0 | 0 | 0 | 0 | 0 | 0 | 0 | 0 | 0 | 8.4 |\n| 2 |  5 | halloween                      |  0 | 13 |  0 | 33 | 30 |  3 |  2 | ⋯ | 0 | 1 | 0 | 0 | 0 | 0 | 0 | 0 | 0 | 8.2 |\n| 2 |  6 | fight                          |  0 |  3 |  0 | 64 | 49 |  3 |  3 | ⋯ | 0 | 0 | 1 | 1 | 0 | 0 | 0 | 0 | 0 | 8.2 |\n| 2 |  7 | client                         |  0 |  0 |  0 | 22 | 40 |  1 |  1 | ⋯ | 0 | 0 | 0 | 0 | 0 | 0 | 0 | 0 | 0 | 8.6 |\n| 2 |  8 | performance review             |  0 |  5 |  0 | 42 | 26 |  2 |  4 | ⋯ | 0 | 1 | 0 | 0 | 0 | 0 | 0 | 0 | 0 | 8.2 |\n| 2 | 11 | booze cruise                   |  0 |  1 |  3 | 22 | 29 |  4 |  0 | ⋯ | 0 | 0 | 0 | 0 | 0 | 0 | 0 | 0 | 0 | 8.6 |\n| 2 | 12 | injury                         |  0 |  5 |  0 | 60 | 55 |  1 |  2 | ⋯ | 1 | 0 | 0 | 0 | 0 | 0 | 0 | 0 | 0 | 9.0 |\n| 2 | 13 | secret                         |  0 |  5 |  0 | 38 | 50 |  5 |  8 | ⋯ | 0 | 0 | 1 | 1 | 0 | 0 | 0 | 0 | 0 | 8.3 |\n| 2 | 14 | carpet                         |  0 |  2 |  3 | 25 | 27 | 10 |  7 | ⋯ | 0 | 0 | 0 | 0 | 0 | 0 | 0 | 0 | 0 | 7.9 |\n| 2 | 15 | boys  girls                    |  0 |  5 | 27 | 12 | 22 |  9 |  4 | ⋯ | 0 | 0 | 0 | 0 | 0 | 0 | 0 | 0 | 0 | 8.2 |\n| 2 | 16 | valentines day                 |  0 |  4 |  0 | 19 | 16 | 13 |  5 | ⋯ | 0 | 0 | 0 | 0 | 0 | 0 | 0 | 0 | 0 | 8.3 |\n| 2 | 17 | dwights speech                 |  0 |  4 |  0 | 49 | 35 |  5 |  4 | ⋯ | 0 | 0 | 0 | 0 | 0 | 0 | 0 | 0 | 0 | 8.4 |\n| 2 | 18 | take your daughter to work day |  0 |  4 |  1 | 23 | 17 |  6 |  5 | ⋯ | 1 | 0 | 0 | 0 | 0 | 0 | 0 | 0 | 0 | 8.3 |\n| 2 | 19 | michaels birthday              |  0 | 12 |  0 | 43 | 22 |  4 | 14 | ⋯ | 0 | 0 | 1 | 1 | 0 | 0 | 0 | 0 | 0 | 8.1 |\n| 2 | 20 | drug testing                   |  0 |  7 |  0 | 71 | 20 |  5 |  6 | ⋯ | 0 | 0 | 0 | 0 | 1 | 0 | 0 | 0 | 0 | 8.4 |\n| 2 | 21 | conflict resolution            |  0 | 12 |  0 | 33 | 28 |  2 |  3 | ⋯ | 0 | 0 | 0 | 0 | 0 | 0 | 0 | 0 | 0 | 8.7 |\n| 2 | 22 | casino night                   |  0 |  5 |  8 | 31 | 52 |  1 | 16 | ⋯ | 0 | 0 | 0 | 0 | 0 | 0 | 0 | 0 | 0 | 9.3 |\n| 3 |  1 | gay witch hunt                 |  5 |  4 |  0 | 18 | 11 |  1 |  1 | ⋯ | 0 | 0 | 0 | 0 | 0 | 0 | 0 | 0 | 0 | 8.9 |\n| 3 |  2 | convention                     |  0 |  9 |  0 | 37 | 32 |  8 |  3 | ⋯ | 0 | 0 | 1 | 1 | 0 | 0 | 0 | 0 | 0 | 8.2 |\n| 3 |  3 | coup                           | 10 | 12 |  0 | 71 | 12 |  8 |  4 | ⋯ | 0 | 0 | 0 | 0 | 0 | 0 | 0 | 0 | 0 | 8.5 |\n| 3 |  4 | grief counseling               |  4 |  6 |  0 | 36 | 15 |  5 |  2 | ⋯ | 0 | 0 | 0 | 0 | 1 | 0 | 0 | 0 | 0 | 8.0 |\n| 3 |  5 | initiation                     |  5 |  4 |  0 | 45 | 45 |  6 |  3 | ⋯ | 0 | 0 | 0 | 0 | 0 | 1 | 0 | 0 | 0 | 8.2 |\n| ⋮ | ⋮ | ⋮ | ⋮ | ⋮ | ⋮ | ⋮ | ⋮ | ⋮ | ⋮ | ⋱ | ⋮ | ⋮ | ⋮ | ⋮ | ⋮ | ⋮ | ⋮ | ⋮ | ⋮ | ⋮ |\n| 7 |  6 | costume contest                 | 16 |  5 | 26 | 14 | 27 |  5 | 19 | ⋯ | 0 | 0 | 0 | 0 | 0 | 0 | 0 | 0 | 1 | 8.2 |\n| 7 | 11 | classy christmas                | 28 | 26 | 23 | 38 | 50 | 14 | 15 | ⋯ | 1 | 0 | 0 | 0 | 0 | 0 | 0 | 0 | 0 | 8.9 |\n| 7 | 14 | seminar                         | 51 |  0 |  3 | 19 | 24 | 12 |  9 | ⋯ | 0 | 0 | 0 | 0 | 0 | 0 | 0 | 0 | 0 | 7.7 |\n| 7 | 15 | search                          | 14 |  1 |  8 | 26 | 32 |  9 |  7 | ⋯ | 0 | 0 | 0 | 0 | 0 | 0 | 1 | 0 | 0 | 8.5 |\n| 7 | 16 | pda                             | 37 |  9 | 16 | 24 | 23 |  1 | 13 | ⋯ | 0 | 0 | 0 | 0 | 0 | 0 | 0 | 0 | 0 | 8.4 |\n| 7 | 17 | threat level midnight           |  2 |  0 |  0 |  4 |  6 |  1 |  4 | ⋯ | 0 | 0 | 0 | 0 | 0 | 0 | 0 | 0 | 0 | 9.3 |\n| 7 | 18 | todd packer                     | 29 |  1 |  0 | 41 | 38 |  3 | 13 | ⋯ | 0 | 0 | 0 | 0 | 0 | 1 | 0 | 0 | 0 | 7.5 |\n| 7 | 20 | training day                    | 12 |  4 |  8 | 10 | 10 |  5 |  4 | ⋯ | 0 | 0 | 0 | 0 | 0 | 0 | 0 | 0 | 0 | 7.8 |\n| 7 | 21 | michaels last dundies           |  4 |  1 |  3 | 13 | 23 |  0 |  6 | ⋯ | 1 | 0 | 0 | 0 | 0 | 0 | 0 | 0 | 0 | 8.9 |\n| 7 | 22 | goodbye michael                 | 24 | 12 |  3 | 16 | 18 |  3 | 11 | ⋯ | 0 | 1 | 0 | 0 | 0 | 0 | 0 | 0 | 0 | 9.7 |\n| 7 | 24 | dwight k schrute acting manager | 26 | 11 |  5 | 73 | 28 |  6 | 20 | ⋯ | 0 | 0 | 0 | 0 | 0 | 0 | 0 | 0 | 1 | 8.7 |\n| 7 | 25 | search committee                | 26 | 11 | 27 | 44 | 90 | 17 | 14 | ⋯ | 0 | 0 | 0 | 0 | 0 | 0 | 0 | 1 | 0 | 8.8 |\n| 8 |  1 | list                            | 50 |  6 |  4 | 28 | 33 |  5 |  8 | ⋯ | 0 | 0 | 0 | 0 | 0 | 0 | 0 | 0 | 0 | 8.2 |\n| 8 |  2 | incentive                       | 72 | 14 |  7 | 21 | 39 |  3 | 24 | ⋯ | 0 | 0 | 0 | 0 | 0 | 0 | 0 | 0 | 0 | 8.2 |\n| 8 |  4 | garden party                    | 61 |  7 |  9 | 26 | 22 |  3 |  4 | ⋯ | 0 | 0 | 0 | 0 | 0 | 0 | 0 | 0 | 1 | 8.1 |\n| 8 |  5 | spooked                         | 34 |  4 |  9 | 18 | 25 | 12 |  9 | ⋯ | 0 | 0 | 0 | 0 | 0 | 1 | 0 | 0 | 0 | 7.6 |\n| 8 |  8 | gettysburg                      | 45 |  1 | 11 | 26 | 16 |  4 | 15 | ⋯ | 0 | 0 | 0 | 0 | 0 | 0 | 0 | 1 | 0 | 7.0 |\n| 8 | 10 | christmas wishes                | 75 |  2 | 10 | 23 | 40 | 10 |  9 | ⋯ | 1 | 0 | 0 | 0 | 0 | 0 | 0 | 0 | 0 | 8.0 |\n| 8 | 11 | trivia                          | 36 |  1 | 10 | 34 | 17 |  2 | 15 | ⋯ | 0 | 0 | 0 | 0 | 0 | 0 | 0 | 0 | 0 | 7.9 |\n| 8 | 17 | test store                      | 28 |  9 |  4 | 53 | 28 |  9 |  8 | ⋯ | 1 | 0 | 0 | 0 | 0 | 0 | 1 | 0 | 0 | 7.8 |\n| 8 | 21 | angry y                         | 53 |  7 |  5 | 16 | 19 | 13 |  9 | ⋯ | 0 | 0 | 0 | 0 | 0 | 0 | 0 | 0 | 1 | 7.1 |\n| 8 | 24 | free family portrait studio     | 49 | 20 | 15 | 27 | 31 |  4 |  3 | ⋯ | 0 | 0 | 0 | 0 | 0 | 0 | 0 | 0 | 0 | 7.8 |\n| 9 |  1 | new guys                        | 33 | 16 |  3 | 42 | 21 |  2 |  7 | ⋯ | 0 | 0 | 0 | 0 | 0 | 0 | 0 | 0 | 0 | 7.7 |\n| 9 |  4 | work bus                        | 43 |  5 | 11 | 40 | 60 |  0 | 17 | ⋯ | 0 | 0 | 0 | 0 | 0 | 0 | 1 | 0 | 0 | 7.9 |\n| 9 |  8 | target                          |  0 | 52 |  6 | 57 | 29 |  0 | 16 | ⋯ | 0 | 0 | 0 | 0 | 0 | 0 | 1 | 0 | 0 | 7.8 |\n| 9 | 17 | farm                            |  5 |  8 |  1 | 51 |  6 |  0 | 12 | ⋯ | 0 | 0 | 0 | 0 | 0 | 0 | 0 | 0 | 0 | 7.5 |\n| 9 | 18 | promos                          | 11 | 32 | 12 | 37 | 31 |  0 |  9 | ⋯ | 0 | 0 | 0 | 0 | 1 | 0 | 0 | 0 | 0 | 8.0 |\n| 9 | 21 | livin dream                     | 68 | 30 | 11 | 54 | 63 |  0 | 13 | ⋯ | 0 | 0 | 0 | 0 | 0 | 0 | 0 | 1 | 0 | 8.9 |\n| 9 | 22 | aarm                            | 44 | 39 | 30 | 87 | 89 |  0 | 30 | ⋯ | 0 | 0 | 0 | 0 | 0 | 0 | 1 | 0 | 0 | 9.3 |\n| 9 | 24 | finale                          | 31 | 23 | 19 | 76 | 73 | 12 | 31 | ⋯ | 0 | 0 | 0 | 0 | 0 | 0 | 0 | 0 | 0 | 9.7 |\n\n",
            "text/latex": "A tibble: 136 × 32\n\\begin{tabular}{lllllllllllllllllllll}\n season & episode & episode\\_name & andy & angela & darryl & dwight & jim & kelly & kevin & ⋯ & mindy\\_kaling & paul\\_feig & gene\\_stupnitsky & lee\\_eisenberg & jennifer\\_celotta & randall\\_einhorn & brent\\_forrester & jeffrey\\_blitz & justin\\_spitzer & imdb\\_rating\\\\\n <dbl> & <dbl> & <chr> & <int> & <int> & <int> & <int> & <int> & <int> & <int> & ⋯ & <dbl> & <dbl> & <dbl> & <dbl> & <dbl> & <dbl> & <dbl> & <dbl> & <dbl> & <dbl>\\\\\n\\hline\n\t 1 &  1 & pilot                          &  0 &  1 &  0 & 29 & 36 &  0 &  1 & ⋯ & 0 & 0 & 0 & 0 & 0 & 0 & 0 & 0 & 0 & 7.6\\\\\n\t 1 &  2 & diversity day                  &  0 &  4 &  0 & 17 & 25 &  2 &  8 & ⋯ & 0 & 0 & 0 & 0 & 0 & 0 & 0 & 0 & 0 & 8.3\\\\\n\t 1 &  3 & health care                    &  0 &  5 &  0 & 62 & 42 &  0 &  6 & ⋯ & 0 & 0 & 0 & 0 & 0 & 0 & 0 & 0 & 0 & 7.9\\\\\n\t 1 &  5 & basketball                     &  0 &  3 & 15 & 25 & 21 &  0 &  1 & ⋯ & 0 & 0 & 0 & 0 & 0 & 0 & 0 & 0 & 0 & 8.4\\\\\n\t 1 &  6 & hot girl                       &  0 &  3 &  0 & 28 & 55 &  0 &  5 & ⋯ & 1 & 0 & 0 & 0 & 0 & 0 & 0 & 0 & 0 & 7.8\\\\\n\t 2 &  1 & dundies                        &  0 &  1 &  1 & 32 & 32 &  7 &  1 & ⋯ & 1 & 0 & 0 & 0 & 0 & 0 & 0 & 0 & 0 & 8.7\\\\\n\t 2 &  2 & sexual harassment              &  0 &  2 &  9 & 11 & 16 &  0 &  6 & ⋯ & 0 & 0 & 0 & 0 & 0 & 0 & 0 & 0 & 0 & 8.2\\\\\n\t 2 &  3 & office olympics                &  0 &  6 &  0 & 55 & 55 &  0 &  9 & ⋯ & 0 & 1 & 0 & 0 & 0 & 0 & 0 & 0 & 0 & 8.4\\\\\n\t 2 &  4 & fire                           &  0 & 17 &  0 & 65 & 51 &  4 &  5 & ⋯ & 0 & 0 & 0 & 0 & 0 & 0 & 0 & 0 & 0 & 8.4\\\\\n\t 2 &  5 & halloween                      &  0 & 13 &  0 & 33 & 30 &  3 &  2 & ⋯ & 0 & 1 & 0 & 0 & 0 & 0 & 0 & 0 & 0 & 8.2\\\\\n\t 2 &  6 & fight                          &  0 &  3 &  0 & 64 & 49 &  3 &  3 & ⋯ & 0 & 0 & 1 & 1 & 0 & 0 & 0 & 0 & 0 & 8.2\\\\\n\t 2 &  7 & client                         &  0 &  0 &  0 & 22 & 40 &  1 &  1 & ⋯ & 0 & 0 & 0 & 0 & 0 & 0 & 0 & 0 & 0 & 8.6\\\\\n\t 2 &  8 & performance review             &  0 &  5 &  0 & 42 & 26 &  2 &  4 & ⋯ & 0 & 1 & 0 & 0 & 0 & 0 & 0 & 0 & 0 & 8.2\\\\\n\t 2 & 11 & booze cruise                   &  0 &  1 &  3 & 22 & 29 &  4 &  0 & ⋯ & 0 & 0 & 0 & 0 & 0 & 0 & 0 & 0 & 0 & 8.6\\\\\n\t 2 & 12 & injury                         &  0 &  5 &  0 & 60 & 55 &  1 &  2 & ⋯ & 1 & 0 & 0 & 0 & 0 & 0 & 0 & 0 & 0 & 9.0\\\\\n\t 2 & 13 & secret                         &  0 &  5 &  0 & 38 & 50 &  5 &  8 & ⋯ & 0 & 0 & 1 & 1 & 0 & 0 & 0 & 0 & 0 & 8.3\\\\\n\t 2 & 14 & carpet                         &  0 &  2 &  3 & 25 & 27 & 10 &  7 & ⋯ & 0 & 0 & 0 & 0 & 0 & 0 & 0 & 0 & 0 & 7.9\\\\\n\t 2 & 15 & boys  girls                    &  0 &  5 & 27 & 12 & 22 &  9 &  4 & ⋯ & 0 & 0 & 0 & 0 & 0 & 0 & 0 & 0 & 0 & 8.2\\\\\n\t 2 & 16 & valentines day                 &  0 &  4 &  0 & 19 & 16 & 13 &  5 & ⋯ & 0 & 0 & 0 & 0 & 0 & 0 & 0 & 0 & 0 & 8.3\\\\\n\t 2 & 17 & dwights speech                 &  0 &  4 &  0 & 49 & 35 &  5 &  4 & ⋯ & 0 & 0 & 0 & 0 & 0 & 0 & 0 & 0 & 0 & 8.4\\\\\n\t 2 & 18 & take your daughter to work day &  0 &  4 &  1 & 23 & 17 &  6 &  5 & ⋯ & 1 & 0 & 0 & 0 & 0 & 0 & 0 & 0 & 0 & 8.3\\\\\n\t 2 & 19 & michaels birthday              &  0 & 12 &  0 & 43 & 22 &  4 & 14 & ⋯ & 0 & 0 & 1 & 1 & 0 & 0 & 0 & 0 & 0 & 8.1\\\\\n\t 2 & 20 & drug testing                   &  0 &  7 &  0 & 71 & 20 &  5 &  6 & ⋯ & 0 & 0 & 0 & 0 & 1 & 0 & 0 & 0 & 0 & 8.4\\\\\n\t 2 & 21 & conflict resolution            &  0 & 12 &  0 & 33 & 28 &  2 &  3 & ⋯ & 0 & 0 & 0 & 0 & 0 & 0 & 0 & 0 & 0 & 8.7\\\\\n\t 2 & 22 & casino night                   &  0 &  5 &  8 & 31 & 52 &  1 & 16 & ⋯ & 0 & 0 & 0 & 0 & 0 & 0 & 0 & 0 & 0 & 9.3\\\\\n\t 3 &  1 & gay witch hunt                 &  5 &  4 &  0 & 18 & 11 &  1 &  1 & ⋯ & 0 & 0 & 0 & 0 & 0 & 0 & 0 & 0 & 0 & 8.9\\\\\n\t 3 &  2 & convention                     &  0 &  9 &  0 & 37 & 32 &  8 &  3 & ⋯ & 0 & 0 & 1 & 1 & 0 & 0 & 0 & 0 & 0 & 8.2\\\\\n\t 3 &  3 & coup                           & 10 & 12 &  0 & 71 & 12 &  8 &  4 & ⋯ & 0 & 0 & 0 & 0 & 0 & 0 & 0 & 0 & 0 & 8.5\\\\\n\t 3 &  4 & grief counseling               &  4 &  6 &  0 & 36 & 15 &  5 &  2 & ⋯ & 0 & 0 & 0 & 0 & 1 & 0 & 0 & 0 & 0 & 8.0\\\\\n\t 3 &  5 & initiation                     &  5 &  4 &  0 & 45 & 45 &  6 &  3 & ⋯ & 0 & 0 & 0 & 0 & 0 & 1 & 0 & 0 & 0 & 8.2\\\\\n\t ⋮ & ⋮ & ⋮ & ⋮ & ⋮ & ⋮ & ⋮ & ⋮ & ⋮ & ⋮ & ⋱ & ⋮ & ⋮ & ⋮ & ⋮ & ⋮ & ⋮ & ⋮ & ⋮ & ⋮ & ⋮\\\\\n\t 7 &  6 & costume contest                 & 16 &  5 & 26 & 14 & 27 &  5 & 19 & ⋯ & 0 & 0 & 0 & 0 & 0 & 0 & 0 & 0 & 1 & 8.2\\\\\n\t 7 & 11 & classy christmas                & 28 & 26 & 23 & 38 & 50 & 14 & 15 & ⋯ & 1 & 0 & 0 & 0 & 0 & 0 & 0 & 0 & 0 & 8.9\\\\\n\t 7 & 14 & seminar                         & 51 &  0 &  3 & 19 & 24 & 12 &  9 & ⋯ & 0 & 0 & 0 & 0 & 0 & 0 & 0 & 0 & 0 & 7.7\\\\\n\t 7 & 15 & search                          & 14 &  1 &  8 & 26 & 32 &  9 &  7 & ⋯ & 0 & 0 & 0 & 0 & 0 & 0 & 1 & 0 & 0 & 8.5\\\\\n\t 7 & 16 & pda                             & 37 &  9 & 16 & 24 & 23 &  1 & 13 & ⋯ & 0 & 0 & 0 & 0 & 0 & 0 & 0 & 0 & 0 & 8.4\\\\\n\t 7 & 17 & threat level midnight           &  2 &  0 &  0 &  4 &  6 &  1 &  4 & ⋯ & 0 & 0 & 0 & 0 & 0 & 0 & 0 & 0 & 0 & 9.3\\\\\n\t 7 & 18 & todd packer                     & 29 &  1 &  0 & 41 & 38 &  3 & 13 & ⋯ & 0 & 0 & 0 & 0 & 0 & 1 & 0 & 0 & 0 & 7.5\\\\\n\t 7 & 20 & training day                    & 12 &  4 &  8 & 10 & 10 &  5 &  4 & ⋯ & 0 & 0 & 0 & 0 & 0 & 0 & 0 & 0 & 0 & 7.8\\\\\n\t 7 & 21 & michaels last dundies           &  4 &  1 &  3 & 13 & 23 &  0 &  6 & ⋯ & 1 & 0 & 0 & 0 & 0 & 0 & 0 & 0 & 0 & 8.9\\\\\n\t 7 & 22 & goodbye michael                 & 24 & 12 &  3 & 16 & 18 &  3 & 11 & ⋯ & 0 & 1 & 0 & 0 & 0 & 0 & 0 & 0 & 0 & 9.7\\\\\n\t 7 & 24 & dwight k schrute acting manager & 26 & 11 &  5 & 73 & 28 &  6 & 20 & ⋯ & 0 & 0 & 0 & 0 & 0 & 0 & 0 & 0 & 1 & 8.7\\\\\n\t 7 & 25 & search committee                & 26 & 11 & 27 & 44 & 90 & 17 & 14 & ⋯ & 0 & 0 & 0 & 0 & 0 & 0 & 0 & 1 & 0 & 8.8\\\\\n\t 8 &  1 & list                            & 50 &  6 &  4 & 28 & 33 &  5 &  8 & ⋯ & 0 & 0 & 0 & 0 & 0 & 0 & 0 & 0 & 0 & 8.2\\\\\n\t 8 &  2 & incentive                       & 72 & 14 &  7 & 21 & 39 &  3 & 24 & ⋯ & 0 & 0 & 0 & 0 & 0 & 0 & 0 & 0 & 0 & 8.2\\\\\n\t 8 &  4 & garden party                    & 61 &  7 &  9 & 26 & 22 &  3 &  4 & ⋯ & 0 & 0 & 0 & 0 & 0 & 0 & 0 & 0 & 1 & 8.1\\\\\n\t 8 &  5 & spooked                         & 34 &  4 &  9 & 18 & 25 & 12 &  9 & ⋯ & 0 & 0 & 0 & 0 & 0 & 1 & 0 & 0 & 0 & 7.6\\\\\n\t 8 &  8 & gettysburg                      & 45 &  1 & 11 & 26 & 16 &  4 & 15 & ⋯ & 0 & 0 & 0 & 0 & 0 & 0 & 0 & 1 & 0 & 7.0\\\\\n\t 8 & 10 & christmas wishes                & 75 &  2 & 10 & 23 & 40 & 10 &  9 & ⋯ & 1 & 0 & 0 & 0 & 0 & 0 & 0 & 0 & 0 & 8.0\\\\\n\t 8 & 11 & trivia                          & 36 &  1 & 10 & 34 & 17 &  2 & 15 & ⋯ & 0 & 0 & 0 & 0 & 0 & 0 & 0 & 0 & 0 & 7.9\\\\\n\t 8 & 17 & test store                      & 28 &  9 &  4 & 53 & 28 &  9 &  8 & ⋯ & 1 & 0 & 0 & 0 & 0 & 0 & 1 & 0 & 0 & 7.8\\\\\n\t 8 & 21 & angry y                         & 53 &  7 &  5 & 16 & 19 & 13 &  9 & ⋯ & 0 & 0 & 0 & 0 & 0 & 0 & 0 & 0 & 1 & 7.1\\\\\n\t 8 & 24 & free family portrait studio     & 49 & 20 & 15 & 27 & 31 &  4 &  3 & ⋯ & 0 & 0 & 0 & 0 & 0 & 0 & 0 & 0 & 0 & 7.8\\\\\n\t 9 &  1 & new guys                        & 33 & 16 &  3 & 42 & 21 &  2 &  7 & ⋯ & 0 & 0 & 0 & 0 & 0 & 0 & 0 & 0 & 0 & 7.7\\\\\n\t 9 &  4 & work bus                        & 43 &  5 & 11 & 40 & 60 &  0 & 17 & ⋯ & 0 & 0 & 0 & 0 & 0 & 0 & 1 & 0 & 0 & 7.9\\\\\n\t 9 &  8 & target                          &  0 & 52 &  6 & 57 & 29 &  0 & 16 & ⋯ & 0 & 0 & 0 & 0 & 0 & 0 & 1 & 0 & 0 & 7.8\\\\\n\t 9 & 17 & farm                            &  5 &  8 &  1 & 51 &  6 &  0 & 12 & ⋯ & 0 & 0 & 0 & 0 & 0 & 0 & 0 & 0 & 0 & 7.5\\\\\n\t 9 & 18 & promos                          & 11 & 32 & 12 & 37 & 31 &  0 &  9 & ⋯ & 0 & 0 & 0 & 0 & 1 & 0 & 0 & 0 & 0 & 8.0\\\\\n\t 9 & 21 & livin dream                     & 68 & 30 & 11 & 54 & 63 &  0 & 13 & ⋯ & 0 & 0 & 0 & 0 & 0 & 0 & 0 & 1 & 0 & 8.9\\\\\n\t 9 & 22 & aarm                            & 44 & 39 & 30 & 87 & 89 &  0 & 30 & ⋯ & 0 & 0 & 0 & 0 & 0 & 0 & 1 & 0 & 0 & 9.3\\\\\n\t 9 & 24 & finale                          & 31 & 23 & 19 & 76 & 73 & 12 & 31 & ⋯ & 0 & 0 & 0 & 0 & 0 & 0 & 0 & 0 & 0 & 9.7\\\\\n\\end{tabular}\n",
            "text/plain": [
              "    season episode episode_name                    andy angela darryl dwight\n",
              "1   1       1      pilot                            0    1      0     29    \n",
              "2   1       2      diversity day                    0    4      0     17    \n",
              "3   1       3      health care                      0    5      0     62    \n",
              "4   1       5      basketball                       0    3     15     25    \n",
              "5   1       6      hot girl                         0    3      0     28    \n",
              "6   2       1      dundies                          0    1      1     32    \n",
              "7   2       2      sexual harassment                0    2      9     11    \n",
              "8   2       3      office olympics                  0    6      0     55    \n",
              "9   2       4      fire                             0   17      0     65    \n",
              "10  2       5      halloween                        0   13      0     33    \n",
              "11  2       6      fight                            0    3      0     64    \n",
              "12  2       7      client                           0    0      0     22    \n",
              "13  2       8      performance review               0    5      0     42    \n",
              "14  2      11      booze cruise                     0    1      3     22    \n",
              "15  2      12      injury                           0    5      0     60    \n",
              "16  2      13      secret                           0    5      0     38    \n",
              "17  2      14      carpet                           0    2      3     25    \n",
              "18  2      15      boys  girls                      0    5     27     12    \n",
              "19  2      16      valentines day                   0    4      0     19    \n",
              "20  2      17      dwights speech                   0    4      0     49    \n",
              "21  2      18      take your daughter to work day   0    4      1     23    \n",
              "22  2      19      michaels birthday                0   12      0     43    \n",
              "23  2      20      drug testing                     0    7      0     71    \n",
              "24  2      21      conflict resolution              0   12      0     33    \n",
              "25  2      22      casino night                     0    5      8     31    \n",
              "26  3       1      gay witch hunt                   5    4      0     18    \n",
              "27  3       2      convention                       0    9      0     37    \n",
              "28  3       3      coup                            10   12      0     71    \n",
              "29  3       4      grief counseling                 4    6      0     36    \n",
              "30  3       5      initiation                       5    4      0     45    \n",
              "⋮   ⋮      ⋮       ⋮                               ⋮    ⋮      ⋮      ⋮     \n",
              "107 7       6      costume contest                 16    5     26     14    \n",
              "108 7      11      classy christmas                28   26     23     38    \n",
              "109 7      14      seminar                         51    0      3     19    \n",
              "110 7      15      search                          14    1      8     26    \n",
              "111 7      16      pda                             37    9     16     24    \n",
              "112 7      17      threat level midnight            2    0      0      4    \n",
              "113 7      18      todd packer                     29    1      0     41    \n",
              "114 7      20      training day                    12    4      8     10    \n",
              "115 7      21      michaels last dundies            4    1      3     13    \n",
              "116 7      22      goodbye michael                 24   12      3     16    \n",
              "117 7      24      dwight k schrute acting manager 26   11      5     73    \n",
              "118 7      25      search committee                26   11     27     44    \n",
              "119 8       1      list                            50    6      4     28    \n",
              "120 8       2      incentive                       72   14      7     21    \n",
              "121 8       4      garden party                    61    7      9     26    \n",
              "122 8       5      spooked                         34    4      9     18    \n",
              "123 8       8      gettysburg                      45    1     11     26    \n",
              "124 8      10      christmas wishes                75    2     10     23    \n",
              "125 8      11      trivia                          36    1     10     34    \n",
              "126 8      17      test store                      28    9      4     53    \n",
              "127 8      21      angry y                         53    7      5     16    \n",
              "128 8      24      free family portrait studio     49   20     15     27    \n",
              "129 9       1      new guys                        33   16      3     42    \n",
              "130 9       4      work bus                        43    5     11     40    \n",
              "131 9       8      target                           0   52      6     57    \n",
              "132 9      17      farm                             5    8      1     51    \n",
              "133 9      18      promos                          11   32     12     37    \n",
              "134 9      21      livin dream                     68   30     11     54    \n",
              "135 9      22      aarm                            44   39     30     87    \n",
              "136 9      24      finale                          31   23     19     76    \n",
              "    jim kelly kevin ⋯ mindy_kaling paul_feig gene_stupnitsky lee_eisenberg\n",
              "1   36   0     1    ⋯ 0            0         0               0            \n",
              "2   25   2     8    ⋯ 0            0         0               0            \n",
              "3   42   0     6    ⋯ 0            0         0               0            \n",
              "4   21   0     1    ⋯ 0            0         0               0            \n",
              "5   55   0     5    ⋯ 1            0         0               0            \n",
              "6   32   7     1    ⋯ 1            0         0               0            \n",
              "7   16   0     6    ⋯ 0            0         0               0            \n",
              "8   55   0     9    ⋯ 0            1         0               0            \n",
              "9   51   4     5    ⋯ 0            0         0               0            \n",
              "10  30   3     2    ⋯ 0            1         0               0            \n",
              "11  49   3     3    ⋯ 0            0         1               1            \n",
              "12  40   1     1    ⋯ 0            0         0               0            \n",
              "13  26   2     4    ⋯ 0            1         0               0            \n",
              "14  29   4     0    ⋯ 0            0         0               0            \n",
              "15  55   1     2    ⋯ 1            0         0               0            \n",
              "16  50   5     8    ⋯ 0            0         1               1            \n",
              "17  27  10     7    ⋯ 0            0         0               0            \n",
              "18  22   9     4    ⋯ 0            0         0               0            \n",
              "19  16  13     5    ⋯ 0            0         0               0            \n",
              "20  35   5     4    ⋯ 0            0         0               0            \n",
              "21  17   6     5    ⋯ 1            0         0               0            \n",
              "22  22   4    14    ⋯ 0            0         1               1            \n",
              "23  20   5     6    ⋯ 0            0         0               0            \n",
              "24  28   2     3    ⋯ 0            0         0               0            \n",
              "25  52   1    16    ⋯ 0            0         0               0            \n",
              "26  11   1     1    ⋯ 0            0         0               0            \n",
              "27  32   8     3    ⋯ 0            0         1               1            \n",
              "28  12   8     4    ⋯ 0            0         0               0            \n",
              "29  15   5     2    ⋯ 0            0         0               0            \n",
              "30  45   6     3    ⋯ 0            0         0               0            \n",
              "⋮   ⋮   ⋮     ⋮     ⋱ ⋮            ⋮         ⋮               ⋮            \n",
              "107 27   5    19    ⋯ 0            0         0               0            \n",
              "108 50  14    15    ⋯ 1            0         0               0            \n",
              "109 24  12     9    ⋯ 0            0         0               0            \n",
              "110 32   9     7    ⋯ 0            0         0               0            \n",
              "111 23   1    13    ⋯ 0            0         0               0            \n",
              "112  6   1     4    ⋯ 0            0         0               0            \n",
              "113 38   3    13    ⋯ 0            0         0               0            \n",
              "114 10   5     4    ⋯ 0            0         0               0            \n",
              "115 23   0     6    ⋯ 1            0         0               0            \n",
              "116 18   3    11    ⋯ 0            1         0               0            \n",
              "117 28   6    20    ⋯ 0            0         0               0            \n",
              "118 90  17    14    ⋯ 0            0         0               0            \n",
              "119 33   5     8    ⋯ 0            0         0               0            \n",
              "120 39   3    24    ⋯ 0            0         0               0            \n",
              "121 22   3     4    ⋯ 0            0         0               0            \n",
              "122 25  12     9    ⋯ 0            0         0               0            \n",
              "123 16   4    15    ⋯ 0            0         0               0            \n",
              "124 40  10     9    ⋯ 1            0         0               0            \n",
              "125 17   2    15    ⋯ 0            0         0               0            \n",
              "126 28   9     8    ⋯ 1            0         0               0            \n",
              "127 19  13     9    ⋯ 0            0         0               0            \n",
              "128 31   4     3    ⋯ 0            0         0               0            \n",
              "129 21   2     7    ⋯ 0            0         0               0            \n",
              "130 60   0    17    ⋯ 0            0         0               0            \n",
              "131 29   0    16    ⋯ 0            0         0               0            \n",
              "132  6   0    12    ⋯ 0            0         0               0            \n",
              "133 31   0     9    ⋯ 0            0         0               0            \n",
              "134 63   0    13    ⋯ 0            0         0               0            \n",
              "135 89   0    30    ⋯ 0            0         0               0            \n",
              "136 73  12    31    ⋯ 0            0         0               0            \n",
              "    jennifer_celotta randall_einhorn brent_forrester jeffrey_blitz\n",
              "1   0                0               0               0            \n",
              "2   0                0               0               0            \n",
              "3   0                0               0               0            \n",
              "4   0                0               0               0            \n",
              "5   0                0               0               0            \n",
              "6   0                0               0               0            \n",
              "7   0                0               0               0            \n",
              "8   0                0               0               0            \n",
              "9   0                0               0               0            \n",
              "10  0                0               0               0            \n",
              "11  0                0               0               0            \n",
              "12  0                0               0               0            \n",
              "13  0                0               0               0            \n",
              "14  0                0               0               0            \n",
              "15  0                0               0               0            \n",
              "16  0                0               0               0            \n",
              "17  0                0               0               0            \n",
              "18  0                0               0               0            \n",
              "19  0                0               0               0            \n",
              "20  0                0               0               0            \n",
              "21  0                0               0               0            \n",
              "22  0                0               0               0            \n",
              "23  1                0               0               0            \n",
              "24  0                0               0               0            \n",
              "25  0                0               0               0            \n",
              "26  0                0               0               0            \n",
              "27  0                0               0               0            \n",
              "28  0                0               0               0            \n",
              "29  1                0               0               0            \n",
              "30  0                1               0               0            \n",
              "⋮   ⋮                ⋮               ⋮               ⋮            \n",
              "107 0                0               0               0            \n",
              "108 0                0               0               0            \n",
              "109 0                0               0               0            \n",
              "110 0                0               1               0            \n",
              "111 0                0               0               0            \n",
              "112 0                0               0               0            \n",
              "113 0                1               0               0            \n",
              "114 0                0               0               0            \n",
              "115 0                0               0               0            \n",
              "116 0                0               0               0            \n",
              "117 0                0               0               0            \n",
              "118 0                0               0               1            \n",
              "119 0                0               0               0            \n",
              "120 0                0               0               0            \n",
              "121 0                0               0               0            \n",
              "122 0                1               0               0            \n",
              "123 0                0               0               1            \n",
              "124 0                0               0               0            \n",
              "125 0                0               0               0            \n",
              "126 0                0               1               0            \n",
              "127 0                0               0               0            \n",
              "128 0                0               0               0            \n",
              "129 0                0               0               0            \n",
              "130 0                0               1               0            \n",
              "131 0                0               1               0            \n",
              "132 0                0               0               0            \n",
              "133 1                0               0               0            \n",
              "134 0                0               0               1            \n",
              "135 0                0               1               0            \n",
              "136 0                0               0               0            \n",
              "    justin_spitzer imdb_rating\n",
              "1   0              7.6        \n",
              "2   0              8.3        \n",
              "3   0              7.9        \n",
              "4   0              8.4        \n",
              "5   0              7.8        \n",
              "6   0              8.7        \n",
              "7   0              8.2        \n",
              "8   0              8.4        \n",
              "9   0              8.4        \n",
              "10  0              8.2        \n",
              "11  0              8.2        \n",
              "12  0              8.6        \n",
              "13  0              8.2        \n",
              "14  0              8.6        \n",
              "15  0              9.0        \n",
              "16  0              8.3        \n",
              "17  0              7.9        \n",
              "18  0              8.2        \n",
              "19  0              8.3        \n",
              "20  0              8.4        \n",
              "21  0              8.3        \n",
              "22  0              8.1        \n",
              "23  0              8.4        \n",
              "24  0              8.7        \n",
              "25  0              9.3        \n",
              "26  0              8.9        \n",
              "27  0              8.2        \n",
              "28  0              8.5        \n",
              "29  0              8.0        \n",
              "30  0              8.2        \n",
              "⋮   ⋮              ⋮          \n",
              "107 1              8.2        \n",
              "108 0              8.9        \n",
              "109 0              7.7        \n",
              "110 0              8.5        \n",
              "111 0              8.4        \n",
              "112 0              9.3        \n",
              "113 0              7.5        \n",
              "114 0              7.8        \n",
              "115 0              8.9        \n",
              "116 0              9.7        \n",
              "117 1              8.7        \n",
              "118 0              8.8        \n",
              "119 0              8.2        \n",
              "120 0              8.2        \n",
              "121 1              8.1        \n",
              "122 0              7.6        \n",
              "123 0              7.0        \n",
              "124 0              8.0        \n",
              "125 0              7.9        \n",
              "126 0              7.8        \n",
              "127 1              7.1        \n",
              "128 0              7.8        \n",
              "129 0              7.7        \n",
              "130 0              7.9        \n",
              "131 0              7.8        \n",
              "132 0              7.5        \n",
              "133 0              8.0        \n",
              "134 0              8.9        \n",
              "135 0              9.3        \n",
              "136 0              9.7        "
            ]
          },
          "metadata": {}
        }
      ]
    },
    {
      "cell_type": "markdown",
      "source": [
        "There are lots of great examples of EDA on Twitter; I especially encourage you to check out the screencast of my coauthor Dave, which is similar in spirit to the modeling I am showing here and includes more EDA. Just for kicks, let’s show one graph."
      ],
      "metadata": {
        "id": "ZLFzOogZ73UE"
      }
    },
    {
      "cell_type": "code",
      "source": [
        "office %>%\n",
        "  ggplot(aes(episode, imdb_rating, fill = as.factor(episode))) +\n",
        "  geom_boxplot(show.legend = FALSE)"
      ],
      "metadata": {
        "colab": {
          "base_uri": "https://localhost:8080/",
          "height": 437
        },
        "id": "w7501tFm70t6",
        "outputId": "d4831bf4-9ad4-4c59-aea9-49d4fc085e4d"
      },
      "execution_count": 28,
      "outputs": [
        {
          "output_type": "display_data",
          "data": {
            "text/plain": [
              "plot without title"
            ],
            "image/png": "[encoded data removed]"
          },
          "metadata": {
            "image/png": {
              "width": 420,
              "height": 420
            }
          }
        }
      ]
    },
    {
      "cell_type": "markdown",
      "source": [
        "Ratings are higher for episodes later in the season. What else is associated with higher ratings? Let’s use lasso regression to find out! 🚀"
      ],
      "metadata": {
        "id": "EbFjS86a77e9"
      }
    },
    {
      "cell_type": "markdown",
      "source": [
        "# Train a model"
      ],
      "metadata": {
        "id": "RvmGnagD78Xa"
      }
    },
    {
      "cell_type": "markdown",
      "source": [
        "We can start by loading the tidymodels metapackage, and splitting our data into training and testing sets."
      ],
      "metadata": {
        "id": "60RVgHWe7_Fa"
      }
    },
    {
      "cell_type": "code",
      "source": [
        "office_split <- initial_split(office, strata = season)\n",
        "office_train <- training(office_split)\n",
        "office_test <- testing(office_split)"
      ],
      "metadata": {
        "id": "eTFamesF8AbK"
      },
      "execution_count": 29,
      "outputs": []
    },
    {
      "cell_type": "markdown",
      "source": [
        "Then, we build a recipe for data preprocessing.\n",
        "\n",
        "- First, we must tell the recipe() what our model is going to be (using a formula here) and what our training data is.\n",
        "- Next, we update the role for episode_name, since this is a variable we might like to keep around for convenience as an identifier for rows but is not a predictor or outcome.\n",
        "- Next, we remove any numeric variables that have zero variance.\n",
        "- As a last step, we normalize (center and scale) the numeric variables. We need to do this because it’s important for lasso regularization.\n",
        "\n",
        "The object office_rec is a recipe that has not been trained on data yet (for example, the centered and scaling has not been calculated) and office_prep is an object that has been trained on data. The reason I use strings_as_factors = FALSE here is that my ID column episode_name is of type character (as opposed to, say, integers)."
      ],
      "metadata": {
        "id": "7l9jofGAAJ7e"
      }
    },
    {
      "cell_type": "code",
      "source": [
        "office_rec <- recipe(imdb_rating ~ ., data = office_train) %>%\n",
        "  update_role(episode_name, new_role = \"ID\") %>%\n",
        "  step_zv(all_numeric(), -all_outcomes()) %>%\n",
        "  step_normalize(all_numeric(), -all_outcomes())\n",
        "\n",
        "office_prep <- office_rec %>%\n",
        "  prep(strings_as_factors = FALSE)"
      ],
      "metadata": {
        "id": "puEIgHckARVq"
      },
      "execution_count": 30,
      "outputs": []
    },
    {
      "cell_type": "markdown",
      "source": [
        "Now it’s time to specify and then fit our models. Here I set up one model specification for lasso regression; I picked a value for penalty (sort of randomly) and I set mixture = 1 for lasso. I am using a workflow() in this example for convenience; these are objects that can help you manage modeling pipelines more easily, with pieces that fit together like Lego blocks. You can fit() a workflow, much like you can fit a model, and then you can pull out the fit object and tidy() it!"
      ],
      "metadata": {
        "id": "UfkA9-fDDRvD"
      }
    },
    {
      "cell_type": "code",
      "source": [
        "lasso_spec <- linear_reg(penalty = 0.1, mixture = 1) %>%\n",
        "  set_engine(\"glmnet\")\n",
        "\n",
        "wf <- workflow() %>%\n",
        "  add_recipe(office_rec)\n",
        "\n",
        "lasso_fit <- wf %>%\n",
        "  add_model(lasso_spec) %>%\n",
        "  fit(data = office_train)\n",
        "\n",
        "lasso_fit %>%\n",
        "  pull_workflow_fit() %>%\n",
        "  tidy()"
      ],
      "metadata": {
        "colab": {
          "base_uri": "https://localhost:8080/",
          "height": 1000
        },
        "id": "6tMaOfz4CxkI",
        "outputId": "8edd336a-0f6e-459c-e0f0-22e38eacd065"
      },
      "execution_count": 39,
      "outputs": [
        {
          "output_type": "stream",
          "name": "stderr",
          "text": [
            "Warning message:\n",
            "“\u001b[1m\u001b[22m`pull_workflow_fit()` was deprecated in workflows 0.2.3.\n",
            "\u001b[36mℹ\u001b[39m Please use `extract_fit_parsnip()` instead.”\n"
          ]
        },
        {
          "output_type": "display_data",
          "data": {
            "text/html": [
              "<table class=\"dataframe\">\n",
              "<caption>A tibble: 31 × 3</caption>\n",
              "<thead>\n",
              "\t<tr><th scope=col>term</th><th scope=col>estimate</th><th scope=col>penalty</th></tr>\n",
              "\t<tr><th scope=col>&lt;chr&gt;</th><th scope=col>&lt;dbl&gt;</th><th scope=col>&lt;dbl&gt;</th></tr>\n",
              "</thead>\n",
              "<tbody>\n",
              "\t<tr><td>(Intercept)     </td><td>8.33500000</td><td>0.1</td></tr>\n",
              "\t<tr><td>season          </td><td>0.00000000</td><td>0.1</td></tr>\n",
              "\t<tr><td>episode         </td><td>0.00000000</td><td>0.1</td></tr>\n",
              "\t<tr><td>andy            </td><td>0.00000000</td><td>0.1</td></tr>\n",
              "\t<tr><td>angela          </td><td>0.00000000</td><td>0.1</td></tr>\n",
              "\t<tr><td>darryl          </td><td>0.00000000</td><td>0.1</td></tr>\n",
              "\t<tr><td>dwight          </td><td>0.00000000</td><td>0.1</td></tr>\n",
              "\t<tr><td>jim             </td><td>0.06258487</td><td>0.1</td></tr>\n",
              "\t<tr><td>kelly           </td><td>0.00000000</td><td>0.1</td></tr>\n",
              "\t<tr><td>kevin           </td><td>0.00000000</td><td>0.1</td></tr>\n",
              "\t<tr><td>michael         </td><td>0.09914356</td><td>0.1</td></tr>\n",
              "\t<tr><td>oscar           </td><td>0.00000000</td><td>0.1</td></tr>\n",
              "\t<tr><td>pam             </td><td>0.00000000</td><td>0.1</td></tr>\n",
              "\t<tr><td>phyllis         </td><td>0.00000000</td><td>0.1</td></tr>\n",
              "\t<tr><td>ryan            </td><td>0.00000000</td><td>0.1</td></tr>\n",
              "\t<tr><td>toby            </td><td>0.00000000</td><td>0.1</td></tr>\n",
              "\t<tr><td>erin            </td><td>0.00000000</td><td>0.1</td></tr>\n",
              "\t<tr><td>jan             </td><td>0.00000000</td><td>0.1</td></tr>\n",
              "\t<tr><td>ken_kwapis      </td><td>0.00000000</td><td>0.1</td></tr>\n",
              "\t<tr><td>greg_daniels    </td><td>0.00000000</td><td>0.1</td></tr>\n",
              "\t<tr><td>b_j_novak       </td><td>0.00000000</td><td>0.1</td></tr>\n",
              "\t<tr><td>paul_lieberstein</td><td>0.00000000</td><td>0.1</td></tr>\n",
              "\t<tr><td>mindy_kaling    </td><td>0.00000000</td><td>0.1</td></tr>\n",
              "\t<tr><td>paul_feig       </td><td>0.00000000</td><td>0.1</td></tr>\n",
              "\t<tr><td>gene_stupnitsky </td><td>0.00000000</td><td>0.1</td></tr>\n",
              "\t<tr><td>lee_eisenberg   </td><td>0.00000000</td><td>0.1</td></tr>\n",
              "\t<tr><td>jennifer_celotta</td><td>0.00000000</td><td>0.1</td></tr>\n",
              "\t<tr><td>randall_einhorn </td><td>0.00000000</td><td>0.1</td></tr>\n",
              "\t<tr><td>brent_forrester </td><td>0.00000000</td><td>0.1</td></tr>\n",
              "\t<tr><td>jeffrey_blitz   </td><td>0.00000000</td><td>0.1</td></tr>\n",
              "\t<tr><td>justin_spitzer  </td><td>0.00000000</td><td>0.1</td></tr>\n",
              "</tbody>\n",
              "</table>\n"
            ],
            "text/markdown": "\nA tibble: 31 × 3\n\n| term &lt;chr&gt; | estimate &lt;dbl&gt; | penalty &lt;dbl&gt; |\n|---|---|---|\n| (Intercept)      | 8.33500000 | 0.1 |\n| season           | 0.00000000 | 0.1 |\n| episode          | 0.00000000 | 0.1 |\n| andy             | 0.00000000 | 0.1 |\n| angela           | 0.00000000 | 0.1 |\n| darryl           | 0.00000000 | 0.1 |\n| dwight           | 0.00000000 | 0.1 |\n| jim              | 0.06258487 | 0.1 |\n| kelly            | 0.00000000 | 0.1 |\n| kevin            | 0.00000000 | 0.1 |\n| michael          | 0.09914356 | 0.1 |\n| oscar            | 0.00000000 | 0.1 |\n| pam              | 0.00000000 | 0.1 |\n| phyllis          | 0.00000000 | 0.1 |\n| ryan             | 0.00000000 | 0.1 |\n| toby             | 0.00000000 | 0.1 |\n| erin             | 0.00000000 | 0.1 |\n| jan              | 0.00000000 | 0.1 |\n| ken_kwapis       | 0.00000000 | 0.1 |\n| greg_daniels     | 0.00000000 | 0.1 |\n| b_j_novak        | 0.00000000 | 0.1 |\n| paul_lieberstein | 0.00000000 | 0.1 |\n| mindy_kaling     | 0.00000000 | 0.1 |\n| paul_feig        | 0.00000000 | 0.1 |\n| gene_stupnitsky  | 0.00000000 | 0.1 |\n| lee_eisenberg    | 0.00000000 | 0.1 |\n| jennifer_celotta | 0.00000000 | 0.1 |\n| randall_einhorn  | 0.00000000 | 0.1 |\n| brent_forrester  | 0.00000000 | 0.1 |\n| jeffrey_blitz    | 0.00000000 | 0.1 |\n| justin_spitzer   | 0.00000000 | 0.1 |\n\n",
            "text/latex": "A tibble: 31 × 3\n\\begin{tabular}{lll}\n term & estimate & penalty\\\\\n <chr> & <dbl> & <dbl>\\\\\n\\hline\n\t (Intercept)      & 8.33500000 & 0.1\\\\\n\t season           & 0.00000000 & 0.1\\\\\n\t episode          & 0.00000000 & 0.1\\\\\n\t andy             & 0.00000000 & 0.1\\\\\n\t angela           & 0.00000000 & 0.1\\\\\n\t darryl           & 0.00000000 & 0.1\\\\\n\t dwight           & 0.00000000 & 0.1\\\\\n\t jim              & 0.06258487 & 0.1\\\\\n\t kelly            & 0.00000000 & 0.1\\\\\n\t kevin            & 0.00000000 & 0.1\\\\\n\t michael          & 0.09914356 & 0.1\\\\\n\t oscar            & 0.00000000 & 0.1\\\\\n\t pam              & 0.00000000 & 0.1\\\\\n\t phyllis          & 0.00000000 & 0.1\\\\\n\t ryan             & 0.00000000 & 0.1\\\\\n\t toby             & 0.00000000 & 0.1\\\\\n\t erin             & 0.00000000 & 0.1\\\\\n\t jan              & 0.00000000 & 0.1\\\\\n\t ken\\_kwapis       & 0.00000000 & 0.1\\\\\n\t greg\\_daniels     & 0.00000000 & 0.1\\\\\n\t b\\_j\\_novak        & 0.00000000 & 0.1\\\\\n\t paul\\_lieberstein & 0.00000000 & 0.1\\\\\n\t mindy\\_kaling     & 0.00000000 & 0.1\\\\\n\t paul\\_feig        & 0.00000000 & 0.1\\\\\n\t gene\\_stupnitsky  & 0.00000000 & 0.1\\\\\n\t lee\\_eisenberg    & 0.00000000 & 0.1\\\\\n\t jennifer\\_celotta & 0.00000000 & 0.1\\\\\n\t randall\\_einhorn  & 0.00000000 & 0.1\\\\\n\t brent\\_forrester  & 0.00000000 & 0.1\\\\\n\t jeffrey\\_blitz    & 0.00000000 & 0.1\\\\\n\t justin\\_spitzer   & 0.00000000 & 0.1\\\\\n\\end{tabular}\n",
            "text/plain": [
              "   term             estimate   penalty\n",
              "1  (Intercept)      8.33500000 0.1    \n",
              "2  season           0.00000000 0.1    \n",
              "3  episode          0.00000000 0.1    \n",
              "4  andy             0.00000000 0.1    \n",
              "5  angela           0.00000000 0.1    \n",
              "6  darryl           0.00000000 0.1    \n",
              "7  dwight           0.00000000 0.1    \n",
              "8  jim              0.06258487 0.1    \n",
              "9  kelly            0.00000000 0.1    \n",
              "10 kevin            0.00000000 0.1    \n",
              "11 michael          0.09914356 0.1    \n",
              "12 oscar            0.00000000 0.1    \n",
              "13 pam              0.00000000 0.1    \n",
              "14 phyllis          0.00000000 0.1    \n",
              "15 ryan             0.00000000 0.1    \n",
              "16 toby             0.00000000 0.1    \n",
              "17 erin             0.00000000 0.1    \n",
              "18 jan              0.00000000 0.1    \n",
              "19 ken_kwapis       0.00000000 0.1    \n",
              "20 greg_daniels     0.00000000 0.1    \n",
              "21 b_j_novak        0.00000000 0.1    \n",
              "22 paul_lieberstein 0.00000000 0.1    \n",
              "23 mindy_kaling     0.00000000 0.1    \n",
              "24 paul_feig        0.00000000 0.1    \n",
              "25 gene_stupnitsky  0.00000000 0.1    \n",
              "26 lee_eisenberg    0.00000000 0.1    \n",
              "27 jennifer_celotta 0.00000000 0.1    \n",
              "28 randall_einhorn  0.00000000 0.1    \n",
              "29 brent_forrester  0.00000000 0.1    \n",
              "30 jeffrey_blitz    0.00000000 0.1    \n",
              "31 justin_spitzer   0.00000000 0.1    "
            ]
          },
          "metadata": {}
        }
      ]
    },
    {
      "cell_type": "markdown",
      "source": [
        "If you have used glmnet before, this is the familiar output where we can see (here, for the most regularized examples) what contributes to higher IMDB ratings."
      ],
      "metadata": {
        "id": "i0_mhaOeENTw"
      }
    },
    {
      "cell_type": "markdown",
      "source": [
        "# Tune LASSO parameters"
      ],
      "metadata": {
        "id": "9fWoEB8aEPhI"
      }
    },
    {
      "cell_type": "markdown",
      "source": [
        "So we fit one lasso model, but how do we know the right regularization parameter penalty? We can figure that out using resampling and tuning the model. Let’s build a set of bootstrap resamples, and set penalty = tune() instead of to a single value. We can use a function penalty() to set up an appropriate grid for this kind of regularization model."
      ],
      "metadata": {
        "id": "Ip2Rr5BPERdg"
      }
    },
    {
      "cell_type": "code",
      "source": [
        "set.seed(1234)\n",
        "office_boot <- bootstraps(office_train, strata = season)\n",
        "\n",
        "tune_spec <- linear_reg(penalty = tune(), mixture = 1) %>%\n",
        "  set_engine(\"glmnet\")\n",
        "\n",
        "lambda_grid <- grid_regular(penalty(), levels = 50)"
      ],
      "metadata": {
        "id": "puOYyfdOETn1"
      },
      "execution_count": 40,
      "outputs": []
    },
    {
      "cell_type": "markdown",
      "source": [
        "Now it’s time to tune the grid, using our workflow object."
      ],
      "metadata": {
        "id": "ySPc9UyfEWK4"
      }
    },
    {
      "cell_type": "code",
      "source": [
        "doParallel::registerDoParallel()\n",
        "\n",
        "set.seed(2020)\n",
        "lasso_grid <- tune_grid(\n",
        "  wf %>% add_model(tune_spec),\n",
        "  resamples = office_boot,\n",
        "  grid = lambda_grid\n",
        ")"
      ],
      "metadata": {
        "id": "QNM02i6LEV34"
      },
      "execution_count": 41,
      "outputs": []
    },
    {
      "cell_type": "markdown",
      "source": [
        "What results did we get?"
      ],
      "metadata": {
        "id": "2O5O9Lk5EaPC"
      }
    },
    {
      "cell_type": "code",
      "source": [
        "lasso_grid %>%\n",
        "  collect_metrics()"
      ],
      "metadata": {
        "colab": {
          "base_uri": "https://localhost:8080/",
          "height": 1000
        },
        "id": "niiv5gLcEZ15",
        "outputId": "d6a11b8c-db84-4ed0-c5b7-cee7f80f45ec"
      },
      "execution_count": 42,
      "outputs": [
        {
          "output_type": "display_data",
          "data": {
            "text/html": [
              "<table class=\"dataframe\">\n",
              "<caption>A tibble: 100 × 7</caption>\n",
              "<thead>\n",
              "\t<tr><th scope=col>penalty</th><th scope=col>.metric</th><th scope=col>.estimator</th><th scope=col>mean</th><th scope=col>n</th><th scope=col>std_err</th><th scope=col>.config</th></tr>\n",
              "\t<tr><th scope=col>&lt;dbl&gt;</th><th scope=col>&lt;chr&gt;</th><th scope=col>&lt;chr&gt;</th><th scope=col>&lt;dbl&gt;</th><th scope=col>&lt;int&gt;</th><th scope=col>&lt;dbl&gt;</th><th scope=col>&lt;chr&gt;</th></tr>\n",
              "</thead>\n",
              "<tbody>\n",
              "\t<tr><td>1.000000e-10</td><td>rmse</td><td>standard</td><td>0.5980180</td><td>25</td><td>0.01656739</td><td>Preprocessor1_Model01</td></tr>\n",
              "\t<tr><td>1.000000e-10</td><td>rsq </td><td>standard</td><td>0.1230645</td><td>25</td><td>0.01715291</td><td>Preprocessor1_Model01</td></tr>\n",
              "\t<tr><td>1.599859e-10</td><td>rmse</td><td>standard</td><td>0.5980180</td><td>25</td><td>0.01656739</td><td>Preprocessor1_Model02</td></tr>\n",
              "\t<tr><td>1.599859e-10</td><td>rsq </td><td>standard</td><td>0.1230645</td><td>25</td><td>0.01715291</td><td>Preprocessor1_Model02</td></tr>\n",
              "\t<tr><td>2.559548e-10</td><td>rmse</td><td>standard</td><td>0.5980180</td><td>25</td><td>0.01656739</td><td>Preprocessor1_Model03</td></tr>\n",
              "\t<tr><td>2.559548e-10</td><td>rsq </td><td>standard</td><td>0.1230645</td><td>25</td><td>0.01715291</td><td>Preprocessor1_Model03</td></tr>\n",
              "\t<tr><td>4.094915e-10</td><td>rmse</td><td>standard</td><td>0.5980180</td><td>25</td><td>0.01656739</td><td>Preprocessor1_Model04</td></tr>\n",
              "\t<tr><td>4.094915e-10</td><td>rsq </td><td>standard</td><td>0.1230645</td><td>25</td><td>0.01715291</td><td>Preprocessor1_Model04</td></tr>\n",
              "\t<tr><td>6.551286e-10</td><td>rmse</td><td>standard</td><td>0.5980180</td><td>25</td><td>0.01656739</td><td>Preprocessor1_Model05</td></tr>\n",
              "\t<tr><td>6.551286e-10</td><td>rsq </td><td>standard</td><td>0.1230645</td><td>25</td><td>0.01715291</td><td>Preprocessor1_Model05</td></tr>\n",
              "\t<tr><td>1.048113e-09</td><td>rmse</td><td>standard</td><td>0.5980180</td><td>25</td><td>0.01656739</td><td>Preprocessor1_Model06</td></tr>\n",
              "\t<tr><td>1.048113e-09</td><td>rsq </td><td>standard</td><td>0.1230645</td><td>25</td><td>0.01715291</td><td>Preprocessor1_Model06</td></tr>\n",
              "\t<tr><td>1.676833e-09</td><td>rmse</td><td>standard</td><td>0.5980180</td><td>25</td><td>0.01656739</td><td>Preprocessor1_Model07</td></tr>\n",
              "\t<tr><td>1.676833e-09</td><td>rsq </td><td>standard</td><td>0.1230645</td><td>25</td><td>0.01715291</td><td>Preprocessor1_Model07</td></tr>\n",
              "\t<tr><td>2.682696e-09</td><td>rmse</td><td>standard</td><td>0.5980180</td><td>25</td><td>0.01656739</td><td>Preprocessor1_Model08</td></tr>\n",
              "\t<tr><td>2.682696e-09</td><td>rsq </td><td>standard</td><td>0.1230645</td><td>25</td><td>0.01715291</td><td>Preprocessor1_Model08</td></tr>\n",
              "\t<tr><td>4.291934e-09</td><td>rmse</td><td>standard</td><td>0.5980180</td><td>25</td><td>0.01656739</td><td>Preprocessor1_Model09</td></tr>\n",
              "\t<tr><td>4.291934e-09</td><td>rsq </td><td>standard</td><td>0.1230645</td><td>25</td><td>0.01715291</td><td>Preprocessor1_Model09</td></tr>\n",
              "\t<tr><td>6.866488e-09</td><td>rmse</td><td>standard</td><td>0.5980180</td><td>25</td><td>0.01656739</td><td>Preprocessor1_Model10</td></tr>\n",
              "\t<tr><td>6.866488e-09</td><td>rsq </td><td>standard</td><td>0.1230645</td><td>25</td><td>0.01715291</td><td>Preprocessor1_Model10</td></tr>\n",
              "\t<tr><td>1.098541e-08</td><td>rmse</td><td>standard</td><td>0.5980180</td><td>25</td><td>0.01656739</td><td>Preprocessor1_Model11</td></tr>\n",
              "\t<tr><td>1.098541e-08</td><td>rsq </td><td>standard</td><td>0.1230645</td><td>25</td><td>0.01715291</td><td>Preprocessor1_Model11</td></tr>\n",
              "\t<tr><td>1.757511e-08</td><td>rmse</td><td>standard</td><td>0.5980180</td><td>25</td><td>0.01656739</td><td>Preprocessor1_Model12</td></tr>\n",
              "\t<tr><td>1.757511e-08</td><td>rsq </td><td>standard</td><td>0.1230645</td><td>25</td><td>0.01715291</td><td>Preprocessor1_Model12</td></tr>\n",
              "\t<tr><td>2.811769e-08</td><td>rmse</td><td>standard</td><td>0.5980180</td><td>25</td><td>0.01656739</td><td>Preprocessor1_Model13</td></tr>\n",
              "\t<tr><td>2.811769e-08</td><td>rsq </td><td>standard</td><td>0.1230645</td><td>25</td><td>0.01715291</td><td>Preprocessor1_Model13</td></tr>\n",
              "\t<tr><td>4.498433e-08</td><td>rmse</td><td>standard</td><td>0.5980180</td><td>25</td><td>0.01656739</td><td>Preprocessor1_Model14</td></tr>\n",
              "\t<tr><td>4.498433e-08</td><td>rsq </td><td>standard</td><td>0.1230645</td><td>25</td><td>0.01715291</td><td>Preprocessor1_Model14</td></tr>\n",
              "\t<tr><td>7.196857e-08</td><td>rmse</td><td>standard</td><td>0.5980180</td><td>25</td><td>0.01656739</td><td>Preprocessor1_Model15</td></tr>\n",
              "\t<tr><td>7.196857e-08</td><td>rsq </td><td>standard</td><td>0.1230645</td><td>25</td><td>0.01715291</td><td>Preprocessor1_Model15</td></tr>\n",
              "\t<tr><td>⋮</td><td>⋮</td><td>⋮</td><td>⋮</td><td>⋮</td><td>⋮</td><td>⋮</td></tr>\n",
              "\t<tr><td>0.001389495</td><td>rmse</td><td>standard</td><td>0.587685505</td><td>25</td><td>0.015768713</td><td>Preprocessor1_Model36</td></tr>\n",
              "\t<tr><td>0.001389495</td><td>rsq </td><td>standard</td><td>0.123352328</td><td>25</td><td>0.017327298</td><td>Preprocessor1_Model36</td></tr>\n",
              "\t<tr><td>0.002222996</td><td>rmse</td><td>standard</td><td>0.580956673</td><td>25</td><td>0.015287630</td><td>Preprocessor1_Model37</td></tr>\n",
              "\t<tr><td>0.002222996</td><td>rsq </td><td>standard</td><td>0.123728257</td><td>25</td><td>0.017474104</td><td>Preprocessor1_Model37</td></tr>\n",
              "\t<tr><td>0.003556480</td><td>rmse</td><td>standard</td><td>0.571411159</td><td>25</td><td>0.014647547</td><td>Preprocessor1_Model38</td></tr>\n",
              "\t<tr><td>0.003556480</td><td>rsq </td><td>standard</td><td>0.124158566</td><td>25</td><td>0.017552799</td><td>Preprocessor1_Model38</td></tr>\n",
              "\t<tr><td>0.005689866</td><td>rmse</td><td>standard</td><td>0.558054380</td><td>25</td><td>0.013917949</td><td>Preprocessor1_Model39</td></tr>\n",
              "\t<tr><td>0.005689866</td><td>rsq </td><td>standard</td><td>0.124888697</td><td>25</td><td>0.017692352</td><td>Preprocessor1_Model39</td></tr>\n",
              "\t<tr><td>0.009102982</td><td>rmse</td><td>standard</td><td>0.541781569</td><td>25</td><td>0.013539164</td><td>Preprocessor1_Model40</td></tr>\n",
              "\t<tr><td>0.009102982</td><td>rsq </td><td>standard</td><td>0.128099971</td><td>25</td><td>0.018020704</td><td>Preprocessor1_Model40</td></tr>\n",
              "\t<tr><td>0.014563485</td><td>rmse</td><td>standard</td><td>0.524023420</td><td>25</td><td>0.013442138</td><td>Preprocessor1_Model41</td></tr>\n",
              "\t<tr><td>0.014563485</td><td>rsq </td><td>standard</td><td>0.136408342</td><td>25</td><td>0.018982378</td><td>Preprocessor1_Model41</td></tr>\n",
              "\t<tr><td>0.023299518</td><td>rmse</td><td>standard</td><td>0.506498981</td><td>25</td><td>0.013193019</td><td>Preprocessor1_Model42</td></tr>\n",
              "\t<tr><td>0.023299518</td><td>rsq </td><td>standard</td><td>0.148543192</td><td>25</td><td>0.021348333</td><td>Preprocessor1_Model42</td></tr>\n",
              "\t<tr><td>0.037275937</td><td>rmse</td><td>standard</td><td>0.495921695</td><td>25</td><td>0.013393312</td><td>Preprocessor1_Model43</td></tr>\n",
              "\t<tr><td>0.037275937</td><td>rsq </td><td>standard</td><td>0.152069739</td><td>25</td><td>0.022893767</td><td>Preprocessor1_Model43</td></tr>\n",
              "\t<tr><td>0.059636233</td><td>rmse</td><td>standard</td><td>0.496568861</td><td>25</td><td>0.013209550</td><td>Preprocessor1_Model44</td></tr>\n",
              "\t<tr><td>0.059636233</td><td>rsq </td><td>standard</td><td>0.140001241</td><td>25</td><td>0.023410858</td><td>Preprocessor1_Model44</td></tr>\n",
              "\t<tr><td>0.095409548</td><td>rmse</td><td>standard</td><td>0.496792778</td><td>25</td><td>0.011400759</td><td>Preprocessor1_Model45</td></tr>\n",
              "\t<tr><td>0.095409548</td><td>rsq </td><td>standard</td><td>0.130167094</td><td>25</td><td>0.021130074</td><td>Preprocessor1_Model45</td></tr>\n",
              "\t<tr><td>0.152641797</td><td>rmse</td><td>standard</td><td>0.500997576</td><td>25</td><td>0.009775754</td><td>Preprocessor1_Model46</td></tr>\n",
              "\t<tr><td>0.152641797</td><td>rsq </td><td>standard</td><td>0.113401070</td><td>24</td><td>0.017093055</td><td>Preprocessor1_Model46</td></tr>\n",
              "\t<tr><td>0.244205309</td><td>rmse</td><td>standard</td><td>0.512668845</td><td>25</td><td>0.009448717</td><td>Preprocessor1_Model47</td></tr>\n",
              "\t<tr><td>0.244205309</td><td>rsq </td><td>standard</td><td>0.069781604</td><td> 6</td><td>0.024627949</td><td>Preprocessor1_Model47</td></tr>\n",
              "\t<tr><td>0.390693994</td><td>rmse</td><td>standard</td><td>0.512135353</td><td>25</td><td>0.010318555</td><td>Preprocessor1_Model48</td></tr>\n",
              "\t<tr><td>0.390693994</td><td>rsq </td><td>standard</td><td>0.001895995</td><td> 1</td><td>         NA</td><td>Preprocessor1_Model48</td></tr>\n",
              "\t<tr><td>0.625055193</td><td>rmse</td><td>standard</td><td>0.512009330</td><td>25</td><td>0.010379464</td><td>Preprocessor1_Model49</td></tr>\n",
              "\t<tr><td>0.625055193</td><td>rsq </td><td>standard</td><td>        NaN</td><td> 0</td><td>         NA</td><td>Preprocessor1_Model49</td></tr>\n",
              "\t<tr><td>1.000000000</td><td>rmse</td><td>standard</td><td>0.512009330</td><td>25</td><td>0.010379464</td><td>Preprocessor1_Model50</td></tr>\n",
              "\t<tr><td>1.000000000</td><td>rsq </td><td>standard</td><td>        NaN</td><td> 0</td><td>         NA</td><td>Preprocessor1_Model50</td></tr>\n",
              "</tbody>\n",
              "</table>\n"
            ],
            "text/markdown": "\nA tibble: 100 × 7\n\n| penalty &lt;dbl&gt; | .metric &lt;chr&gt; | .estimator &lt;chr&gt; | mean &lt;dbl&gt; | n &lt;int&gt; | std_err &lt;dbl&gt; | .config &lt;chr&gt; |\n|---|---|---|---|---|---|---|\n| 1.000000e-10 | rmse | standard | 0.5980180 | 25 | 0.01656739 | Preprocessor1_Model01 |\n| 1.000000e-10 | rsq  | standard | 0.1230645 | 25 | 0.01715291 | Preprocessor1_Model01 |\n| 1.599859e-10 | rmse | standard | 0.5980180 | 25 | 0.01656739 | Preprocessor1_Model02 |\n| 1.599859e-10 | rsq  | standard | 0.1230645 | 25 | 0.01715291 | Preprocessor1_Model02 |\n| 2.559548e-10 | rmse | standard | 0.5980180 | 25 | 0.01656739 | Preprocessor1_Model03 |\n| 2.559548e-10 | rsq  | standard | 0.1230645 | 25 | 0.01715291 | Preprocessor1_Model03 |\n| 4.094915e-10 | rmse | standard | 0.5980180 | 25 | 0.01656739 | Preprocessor1_Model04 |\n| 4.094915e-10 | rsq  | standard | 0.1230645 | 25 | 0.01715291 | Preprocessor1_Model04 |\n| 6.551286e-10 | rmse | standard | 0.5980180 | 25 | 0.01656739 | Preprocessor1_Model05 |\n| 6.551286e-10 | rsq  | standard | 0.1230645 | 25 | 0.01715291 | Preprocessor1_Model05 |\n| 1.048113e-09 | rmse | standard | 0.5980180 | 25 | 0.01656739 | Preprocessor1_Model06 |\n| 1.048113e-09 | rsq  | standard | 0.1230645 | 25 | 0.01715291 | Preprocessor1_Model06 |\n| 1.676833e-09 | rmse | standard | 0.5980180 | 25 | 0.01656739 | Preprocessor1_Model07 |\n| 1.676833e-09 | rsq  | standard | 0.1230645 | 25 | 0.01715291 | Preprocessor1_Model07 |\n| 2.682696e-09 | rmse | standard | 0.5980180 | 25 | 0.01656739 | Preprocessor1_Model08 |\n| 2.682696e-09 | rsq  | standard | 0.1230645 | 25 | 0.01715291 | Preprocessor1_Model08 |\n| 4.291934e-09 | rmse | standard | 0.5980180 | 25 | 0.01656739 | Preprocessor1_Model09 |\n| 4.291934e-09 | rsq  | standard | 0.1230645 | 25 | 0.01715291 | Preprocessor1_Model09 |\n| 6.866488e-09 | rmse | standard | 0.5980180 | 25 | 0.01656739 | Preprocessor1_Model10 |\n| 6.866488e-09 | rsq  | standard | 0.1230645 | 25 | 0.01715291 | Preprocessor1_Model10 |\n| 1.098541e-08 | rmse | standard | 0.5980180 | 25 | 0.01656739 | Preprocessor1_Model11 |\n| 1.098541e-08 | rsq  | standard | 0.1230645 | 25 | 0.01715291 | Preprocessor1_Model11 |\n| 1.757511e-08 | rmse | standard | 0.5980180 | 25 | 0.01656739 | Preprocessor1_Model12 |\n| 1.757511e-08 | rsq  | standard | 0.1230645 | 25 | 0.01715291 | Preprocessor1_Model12 |\n| 2.811769e-08 | rmse | standard | 0.5980180 | 25 | 0.01656739 | Preprocessor1_Model13 |\n| 2.811769e-08 | rsq  | standard | 0.1230645 | 25 | 0.01715291 | Preprocessor1_Model13 |\n| 4.498433e-08 | rmse | standard | 0.5980180 | 25 | 0.01656739 | Preprocessor1_Model14 |\n| 4.498433e-08 | rsq  | standard | 0.1230645 | 25 | 0.01715291 | Preprocessor1_Model14 |\n| 7.196857e-08 | rmse | standard | 0.5980180 | 25 | 0.01656739 | Preprocessor1_Model15 |\n| 7.196857e-08 | rsq  | standard | 0.1230645 | 25 | 0.01715291 | Preprocessor1_Model15 |\n| ⋮ | ⋮ | ⋮ | ⋮ | ⋮ | ⋮ | ⋮ |\n| 0.001389495 | rmse | standard | 0.587685505 | 25 | 0.015768713 | Preprocessor1_Model36 |\n| 0.001389495 | rsq  | standard | 0.123352328 | 25 | 0.017327298 | Preprocessor1_Model36 |\n| 0.002222996 | rmse | standard | 0.580956673 | 25 | 0.015287630 | Preprocessor1_Model37 |\n| 0.002222996 | rsq  | standard | 0.123728257 | 25 | 0.017474104 | Preprocessor1_Model37 |\n| 0.003556480 | rmse | standard | 0.571411159 | 25 | 0.014647547 | Preprocessor1_Model38 |\n| 0.003556480 | rsq  | standard | 0.124158566 | 25 | 0.017552799 | Preprocessor1_Model38 |\n| 0.005689866 | rmse | standard | 0.558054380 | 25 | 0.013917949 | Preprocessor1_Model39 |\n| 0.005689866 | rsq  | standard | 0.124888697 | 25 | 0.017692352 | Preprocessor1_Model39 |\n| 0.009102982 | rmse | standard | 0.541781569 | 25 | 0.013539164 | Preprocessor1_Model40 |\n| 0.009102982 | rsq  | standard | 0.128099971 | 25 | 0.018020704 | Preprocessor1_Model40 |\n| 0.014563485 | rmse | standard | 0.524023420 | 25 | 0.013442138 | Preprocessor1_Model41 |\n| 0.014563485 | rsq  | standard | 0.136408342 | 25 | 0.018982378 | Preprocessor1_Model41 |\n| 0.023299518 | rmse | standard | 0.506498981 | 25 | 0.013193019 | Preprocessor1_Model42 |\n| 0.023299518 | rsq  | standard | 0.148543192 | 25 | 0.021348333 | Preprocessor1_Model42 |\n| 0.037275937 | rmse | standard | 0.495921695 | 25 | 0.013393312 | Preprocessor1_Model43 |\n| 0.037275937 | rsq  | standard | 0.152069739 | 25 | 0.022893767 | Preprocessor1_Model43 |\n| 0.059636233 | rmse | standard | 0.496568861 | 25 | 0.013209550 | Preprocessor1_Model44 |\n| 0.059636233 | rsq  | standard | 0.140001241 | 25 | 0.023410858 | Preprocessor1_Model44 |\n| 0.095409548 | rmse | standard | 0.496792778 | 25 | 0.011400759 | Preprocessor1_Model45 |\n| 0.095409548 | rsq  | standard | 0.130167094 | 25 | 0.021130074 | Preprocessor1_Model45 |\n| 0.152641797 | rmse | standard | 0.500997576 | 25 | 0.009775754 | Preprocessor1_Model46 |\n| 0.152641797 | rsq  | standard | 0.113401070 | 24 | 0.017093055 | Preprocessor1_Model46 |\n| 0.244205309 | rmse | standard | 0.512668845 | 25 | 0.009448717 | Preprocessor1_Model47 |\n| 0.244205309 | rsq  | standard | 0.069781604 |  6 | 0.024627949 | Preprocessor1_Model47 |\n| 0.390693994 | rmse | standard | 0.512135353 | 25 | 0.010318555 | Preprocessor1_Model48 |\n| 0.390693994 | rsq  | standard | 0.001895995 |  1 |          NA | Preprocessor1_Model48 |\n| 0.625055193 | rmse | standard | 0.512009330 | 25 | 0.010379464 | Preprocessor1_Model49 |\n| 0.625055193 | rsq  | standard |         NaN |  0 |          NA | Preprocessor1_Model49 |\n| 1.000000000 | rmse | standard | 0.512009330 | 25 | 0.010379464 | Preprocessor1_Model50 |\n| 1.000000000 | rsq  | standard |         NaN |  0 |          NA | Preprocessor1_Model50 |\n\n",
            "text/latex": "A tibble: 100 × 7\n\\begin{tabular}{lllllll}\n penalty & .metric & .estimator & mean & n & std\\_err & .config\\\\\n <dbl> & <chr> & <chr> & <dbl> & <int> & <dbl> & <chr>\\\\\n\\hline\n\t 1.000000e-10 & rmse & standard & 0.5980180 & 25 & 0.01656739 & Preprocessor1\\_Model01\\\\\n\t 1.000000e-10 & rsq  & standard & 0.1230645 & 25 & 0.01715291 & Preprocessor1\\_Model01\\\\\n\t 1.599859e-10 & rmse & standard & 0.5980180 & 25 & 0.01656739 & Preprocessor1\\_Model02\\\\\n\t 1.599859e-10 & rsq  & standard & 0.1230645 & 25 & 0.01715291 & Preprocessor1\\_Model02\\\\\n\t 2.559548e-10 & rmse & standard & 0.5980180 & 25 & 0.01656739 & Preprocessor1\\_Model03\\\\\n\t 2.559548e-10 & rsq  & standard & 0.1230645 & 25 & 0.01715291 & Preprocessor1\\_Model03\\\\\n\t 4.094915e-10 & rmse & standard & 0.5980180 & 25 & 0.01656739 & Preprocessor1\\_Model04\\\\\n\t 4.094915e-10 & rsq  & standard & 0.1230645 & 25 & 0.01715291 & Preprocessor1\\_Model04\\\\\n\t 6.551286e-10 & rmse & standard & 0.5980180 & 25 & 0.01656739 & Preprocessor1\\_Model05\\\\\n\t 6.551286e-10 & rsq  & standard & 0.1230645 & 25 & 0.01715291 & Preprocessor1\\_Model05\\\\\n\t 1.048113e-09 & rmse & standard & 0.5980180 & 25 & 0.01656739 & Preprocessor1\\_Model06\\\\\n\t 1.048113e-09 & rsq  & standard & 0.1230645 & 25 & 0.01715291 & Preprocessor1\\_Model06\\\\\n\t 1.676833e-09 & rmse & standard & 0.5980180 & 25 & 0.01656739 & Preprocessor1\\_Model07\\\\\n\t 1.676833e-09 & rsq  & standard & 0.1230645 & 25 & 0.01715291 & Preprocessor1\\_Model07\\\\\n\t 2.682696e-09 & rmse & standard & 0.5980180 & 25 & 0.01656739 & Preprocessor1\\_Model08\\\\\n\t 2.682696e-09 & rsq  & standard & 0.1230645 & 25 & 0.01715291 & Preprocessor1\\_Model08\\\\\n\t 4.291934e-09 & rmse & standard & 0.5980180 & 25 & 0.01656739 & Preprocessor1\\_Model09\\\\\n\t 4.291934e-09 & rsq  & standard & 0.1230645 & 25 & 0.01715291 & Preprocessor1\\_Model09\\\\\n\t 6.866488e-09 & rmse & standard & 0.5980180 & 25 & 0.01656739 & Preprocessor1\\_Model10\\\\\n\t 6.866488e-09 & rsq  & standard & 0.1230645 & 25 & 0.01715291 & Preprocessor1\\_Model10\\\\\n\t 1.098541e-08 & rmse & standard & 0.5980180 & 25 & 0.01656739 & Preprocessor1\\_Model11\\\\\n\t 1.098541e-08 & rsq  & standard & 0.1230645 & 25 & 0.01715291 & Preprocessor1\\_Model11\\\\\n\t 1.757511e-08 & rmse & standard & 0.5980180 & 25 & 0.01656739 & Preprocessor1\\_Model12\\\\\n\t 1.757511e-08 & rsq  & standard & 0.1230645 & 25 & 0.01715291 & Preprocessor1\\_Model12\\\\\n\t 2.811769e-08 & rmse & standard & 0.5980180 & 25 & 0.01656739 & Preprocessor1\\_Model13\\\\\n\t 2.811769e-08 & rsq  & standard & 0.1230645 & 25 & 0.01715291 & Preprocessor1\\_Model13\\\\\n\t 4.498433e-08 & rmse & standard & 0.5980180 & 25 & 0.01656739 & Preprocessor1\\_Model14\\\\\n\t 4.498433e-08 & rsq  & standard & 0.1230645 & 25 & 0.01715291 & Preprocessor1\\_Model14\\\\\n\t 7.196857e-08 & rmse & standard & 0.5980180 & 25 & 0.01656739 & Preprocessor1\\_Model15\\\\\n\t 7.196857e-08 & rsq  & standard & 0.1230645 & 25 & 0.01715291 & Preprocessor1\\_Model15\\\\\n\t ⋮ & ⋮ & ⋮ & ⋮ & ⋮ & ⋮ & ⋮\\\\\n\t 0.001389495 & rmse & standard & 0.587685505 & 25 & 0.015768713 & Preprocessor1\\_Model36\\\\\n\t 0.001389495 & rsq  & standard & 0.123352328 & 25 & 0.017327298 & Preprocessor1\\_Model36\\\\\n\t 0.002222996 & rmse & standard & 0.580956673 & 25 & 0.015287630 & Preprocessor1\\_Model37\\\\\n\t 0.002222996 & rsq  & standard & 0.123728257 & 25 & 0.017474104 & Preprocessor1\\_Model37\\\\\n\t 0.003556480 & rmse & standard & 0.571411159 & 25 & 0.014647547 & Preprocessor1\\_Model38\\\\\n\t 0.003556480 & rsq  & standard & 0.124158566 & 25 & 0.017552799 & Preprocessor1\\_Model38\\\\\n\t 0.005689866 & rmse & standard & 0.558054380 & 25 & 0.013917949 & Preprocessor1\\_Model39\\\\\n\t 0.005689866 & rsq  & standard & 0.124888697 & 25 & 0.017692352 & Preprocessor1\\_Model39\\\\\n\t 0.009102982 & rmse & standard & 0.541781569 & 25 & 0.013539164 & Preprocessor1\\_Model40\\\\\n\t 0.009102982 & rsq  & standard & 0.128099971 & 25 & 0.018020704 & Preprocessor1\\_Model40\\\\\n\t 0.014563485 & rmse & standard & 0.524023420 & 25 & 0.013442138 & Preprocessor1\\_Model41\\\\\n\t 0.014563485 & rsq  & standard & 0.136408342 & 25 & 0.018982378 & Preprocessor1\\_Model41\\\\\n\t 0.023299518 & rmse & standard & 0.506498981 & 25 & 0.013193019 & Preprocessor1\\_Model42\\\\\n\t 0.023299518 & rsq  & standard & 0.148543192 & 25 & 0.021348333 & Preprocessor1\\_Model42\\\\\n\t 0.037275937 & rmse & standard & 0.495921695 & 25 & 0.013393312 & Preprocessor1\\_Model43\\\\\n\t 0.037275937 & rsq  & standard & 0.152069739 & 25 & 0.022893767 & Preprocessor1\\_Model43\\\\\n\t 0.059636233 & rmse & standard & 0.496568861 & 25 & 0.013209550 & Preprocessor1\\_Model44\\\\\n\t 0.059636233 & rsq  & standard & 0.140001241 & 25 & 0.023410858 & Preprocessor1\\_Model44\\\\\n\t 0.095409548 & rmse & standard & 0.496792778 & 25 & 0.011400759 & Preprocessor1\\_Model45\\\\\n\t 0.095409548 & rsq  & standard & 0.130167094 & 25 & 0.021130074 & Preprocessor1\\_Model45\\\\\n\t 0.152641797 & rmse & standard & 0.500997576 & 25 & 0.009775754 & Preprocessor1\\_Model46\\\\\n\t 0.152641797 & rsq  & standard & 0.113401070 & 24 & 0.017093055 & Preprocessor1\\_Model46\\\\\n\t 0.244205309 & rmse & standard & 0.512668845 & 25 & 0.009448717 & Preprocessor1\\_Model47\\\\\n\t 0.244205309 & rsq  & standard & 0.069781604 &  6 & 0.024627949 & Preprocessor1\\_Model47\\\\\n\t 0.390693994 & rmse & standard & 0.512135353 & 25 & 0.010318555 & Preprocessor1\\_Model48\\\\\n\t 0.390693994 & rsq  & standard & 0.001895995 &  1 &          NA & Preprocessor1\\_Model48\\\\\n\t 0.625055193 & rmse & standard & 0.512009330 & 25 & 0.010379464 & Preprocessor1\\_Model49\\\\\n\t 0.625055193 & rsq  & standard &         NaN &  0 &          NA & Preprocessor1\\_Model49\\\\\n\t 1.000000000 & rmse & standard & 0.512009330 & 25 & 0.010379464 & Preprocessor1\\_Model50\\\\\n\t 1.000000000 & rsq  & standard &         NaN &  0 &          NA & Preprocessor1\\_Model50\\\\\n\\end{tabular}\n",
            "text/plain": [
              "    penalty      .metric .estimator mean        n  std_err    \n",
              "1   1.000000e-10 rmse    standard   0.5980180   25 0.01656739 \n",
              "2   1.000000e-10 rsq     standard   0.1230645   25 0.01715291 \n",
              "3   1.599859e-10 rmse    standard   0.5980180   25 0.01656739 \n",
              "4   1.599859e-10 rsq     standard   0.1230645   25 0.01715291 \n",
              "5   2.559548e-10 rmse    standard   0.5980180   25 0.01656739 \n",
              "6   2.559548e-10 rsq     standard   0.1230645   25 0.01715291 \n",
              "7   4.094915e-10 rmse    standard   0.5980180   25 0.01656739 \n",
              "8   4.094915e-10 rsq     standard   0.1230645   25 0.01715291 \n",
              "9   6.551286e-10 rmse    standard   0.5980180   25 0.01656739 \n",
              "10  6.551286e-10 rsq     standard   0.1230645   25 0.01715291 \n",
              "11  1.048113e-09 rmse    standard   0.5980180   25 0.01656739 \n",
              "12  1.048113e-09 rsq     standard   0.1230645   25 0.01715291 \n",
              "13  1.676833e-09 rmse    standard   0.5980180   25 0.01656739 \n",
              "14  1.676833e-09 rsq     standard   0.1230645   25 0.01715291 \n",
              "15  2.682696e-09 rmse    standard   0.5980180   25 0.01656739 \n",
              "16  2.682696e-09 rsq     standard   0.1230645   25 0.01715291 \n",
              "17  4.291934e-09 rmse    standard   0.5980180   25 0.01656739 \n",
              "18  4.291934e-09 rsq     standard   0.1230645   25 0.01715291 \n",
              "19  6.866488e-09 rmse    standard   0.5980180   25 0.01656739 \n",
              "20  6.866488e-09 rsq     standard   0.1230645   25 0.01715291 \n",
              "21  1.098541e-08 rmse    standard   0.5980180   25 0.01656739 \n",
              "22  1.098541e-08 rsq     standard   0.1230645   25 0.01715291 \n",
              "23  1.757511e-08 rmse    standard   0.5980180   25 0.01656739 \n",
              "24  1.757511e-08 rsq     standard   0.1230645   25 0.01715291 \n",
              "25  2.811769e-08 rmse    standard   0.5980180   25 0.01656739 \n",
              "26  2.811769e-08 rsq     standard   0.1230645   25 0.01715291 \n",
              "27  4.498433e-08 rmse    standard   0.5980180   25 0.01656739 \n",
              "28  4.498433e-08 rsq     standard   0.1230645   25 0.01715291 \n",
              "29  7.196857e-08 rmse    standard   0.5980180   25 0.01656739 \n",
              "30  7.196857e-08 rsq     standard   0.1230645   25 0.01715291 \n",
              "⋮   ⋮            ⋮       ⋮          ⋮           ⋮  ⋮          \n",
              "71  0.001389495  rmse    standard   0.587685505 25 0.015768713\n",
              "72  0.001389495  rsq     standard   0.123352328 25 0.017327298\n",
              "73  0.002222996  rmse    standard   0.580956673 25 0.015287630\n",
              "74  0.002222996  rsq     standard   0.123728257 25 0.017474104\n",
              "75  0.003556480  rmse    standard   0.571411159 25 0.014647547\n",
              "76  0.003556480  rsq     standard   0.124158566 25 0.017552799\n",
              "77  0.005689866  rmse    standard   0.558054380 25 0.013917949\n",
              "78  0.005689866  rsq     standard   0.124888697 25 0.017692352\n",
              "79  0.009102982  rmse    standard   0.541781569 25 0.013539164\n",
              "80  0.009102982  rsq     standard   0.128099971 25 0.018020704\n",
              "81  0.014563485  rmse    standard   0.524023420 25 0.013442138\n",
              "82  0.014563485  rsq     standard   0.136408342 25 0.018982378\n",
              "83  0.023299518  rmse    standard   0.506498981 25 0.013193019\n",
              "84  0.023299518  rsq     standard   0.148543192 25 0.021348333\n",
              "85  0.037275937  rmse    standard   0.495921695 25 0.013393312\n",
              "86  0.037275937  rsq     standard   0.152069739 25 0.022893767\n",
              "87  0.059636233  rmse    standard   0.496568861 25 0.013209550\n",
              "88  0.059636233  rsq     standard   0.140001241 25 0.023410858\n",
              "89  0.095409548  rmse    standard   0.496792778 25 0.011400759\n",
              "90  0.095409548  rsq     standard   0.130167094 25 0.021130074\n",
              "91  0.152641797  rmse    standard   0.500997576 25 0.009775754\n",
              "92  0.152641797  rsq     standard   0.113401070 24 0.017093055\n",
              "93  0.244205309  rmse    standard   0.512668845 25 0.009448717\n",
              "94  0.244205309  rsq     standard   0.069781604  6 0.024627949\n",
              "95  0.390693994  rmse    standard   0.512135353 25 0.010318555\n",
              "96  0.390693994  rsq     standard   0.001895995  1          NA\n",
              "97  0.625055193  rmse    standard   0.512009330 25 0.010379464\n",
              "98  0.625055193  rsq     standard           NaN  0          NA\n",
              "99  1.000000000  rmse    standard   0.512009330 25 0.010379464\n",
              "100 1.000000000  rsq     standard           NaN  0          NA\n",
              "    .config              \n",
              "1   Preprocessor1_Model01\n",
              "2   Preprocessor1_Model01\n",
              "3   Preprocessor1_Model02\n",
              "4   Preprocessor1_Model02\n",
              "5   Preprocessor1_Model03\n",
              "6   Preprocessor1_Model03\n",
              "7   Preprocessor1_Model04\n",
              "8   Preprocessor1_Model04\n",
              "9   Preprocessor1_Model05\n",
              "10  Preprocessor1_Model05\n",
              "11  Preprocessor1_Model06\n",
              "12  Preprocessor1_Model06\n",
              "13  Preprocessor1_Model07\n",
              "14  Preprocessor1_Model07\n",
              "15  Preprocessor1_Model08\n",
              "16  Preprocessor1_Model08\n",
              "17  Preprocessor1_Model09\n",
              "18  Preprocessor1_Model09\n",
              "19  Preprocessor1_Model10\n",
              "20  Preprocessor1_Model10\n",
              "21  Preprocessor1_Model11\n",
              "22  Preprocessor1_Model11\n",
              "23  Preprocessor1_Model12\n",
              "24  Preprocessor1_Model12\n",
              "25  Preprocessor1_Model13\n",
              "26  Preprocessor1_Model13\n",
              "27  Preprocessor1_Model14\n",
              "28  Preprocessor1_Model14\n",
              "29  Preprocessor1_Model15\n",
              "30  Preprocessor1_Model15\n",
              "⋮   ⋮                    \n",
              "71  Preprocessor1_Model36\n",
              "72  Preprocessor1_Model36\n",
              "73  Preprocessor1_Model37\n",
              "74  Preprocessor1_Model37\n",
              "75  Preprocessor1_Model38\n",
              "76  Preprocessor1_Model38\n",
              "77  Preprocessor1_Model39\n",
              "78  Preprocessor1_Model39\n",
              "79  Preprocessor1_Model40\n",
              "80  Preprocessor1_Model40\n",
              "81  Preprocessor1_Model41\n",
              "82  Preprocessor1_Model41\n",
              "83  Preprocessor1_Model42\n",
              "84  Preprocessor1_Model42\n",
              "85  Preprocessor1_Model43\n",
              "86  Preprocessor1_Model43\n",
              "87  Preprocessor1_Model44\n",
              "88  Preprocessor1_Model44\n",
              "89  Preprocessor1_Model45\n",
              "90  Preprocessor1_Model45\n",
              "91  Preprocessor1_Model46\n",
              "92  Preprocessor1_Model46\n",
              "93  Preprocessor1_Model47\n",
              "94  Preprocessor1_Model47\n",
              "95  Preprocessor1_Model48\n",
              "96  Preprocessor1_Model48\n",
              "97  Preprocessor1_Model49\n",
              "98  Preprocessor1_Model49\n",
              "99  Preprocessor1_Model50\n",
              "100 Preprocessor1_Model50"
            ]
          },
          "metadata": {}
        }
      ]
    },
    {
      "cell_type": "markdown",
      "source": [
        "That’s nice, but I would rather see a visualization of performance with the regularization parameter."
      ],
      "metadata": {
        "id": "gAagFJsEEeAd"
      }
    },
    {
      "cell_type": "code",
      "source": [
        "lasso_grid %>%\n",
        "  collect_metrics() %>%\n",
        "  ggplot(aes(penalty, mean, color = .metric)) +\n",
        "  geom_errorbar(aes(\n",
        "    ymin = mean - std_err,\n",
        "    ymax = mean + std_err\n",
        "  ),\n",
        "  alpha = 0.5\n",
        "  ) +\n",
        "  geom_line(size = 1.5) +\n",
        "  facet_wrap(~.metric, scales = \"free\", nrow = 2) +\n",
        "  scale_x_log10() +\n",
        "  theme(legend.position = \"none\")"
      ],
      "metadata": {
        "colab": {
          "base_uri": "https://localhost:8080/",
          "height": 524
        },
        "id": "k7dsU4feEfUE",
        "outputId": "4c3915c4-51d8-4ef8-8277-08b8fe9371b9"
      },
      "execution_count": 43,
      "outputs": [
        {
          "output_type": "stream",
          "name": "stderr",
          "text": [
            "Warning message:\n",
            "“\u001b[1m\u001b[22mUsing `size` aesthetic for lines was deprecated in ggplot2 3.4.0.\n",
            "\u001b[36mℹ\u001b[39m Please use `linewidth` instead.”\n",
            "Warning message:\n",
            "“\u001b[1m\u001b[22mRemoved 2 rows containing missing values (`geom_line()`).”\n"
          ]
        },
        {
          "output_type": "display_data",
          "data": {
            "text/plain": [
              "plot without title"
            ],
            "image/png": "[encoded data removed]"
          },
          "metadata": {
            "image/png": {
              "width": 420,
              "height": 420
            }
          }
        }
      ]
    },
    {
      "cell_type": "markdown",
      "source": [
        "This is a great way to see that regularization helps this modeling a lot. We have a couple of options for choosing our final parameter, such as select_by_pct_loss() or select_by_one_std_err(), but for now let’s stick with just picking the lowest RMSE. After we have that parameter, we can finalize our workflow, i.e. update it with this value."
      ],
      "metadata": {
        "id": "P0o2FwCyEh1L"
      }
    },
    {
      "cell_type": "code",
      "source": [
        "lowest_rmse <- lasso_grid %>%\n",
        "  select_best(\"rmse\", maximize = FALSE)\n",
        "\n",
        "final_lasso <- finalize_workflow(\n",
        "  wf %>% add_model(tune_spec),\n",
        "  lowest_rmse\n",
        ")"
      ],
      "metadata": {
        "colab": {
          "base_uri": "https://localhost:8080/"
        },
        "id": "W3WHzqgOEiw4",
        "outputId": "f0f72cf7-6be0-4ea9-9c24-53b487bbb363"
      },
      "execution_count": 44,
      "outputs": [
        {
          "output_type": "stream",
          "name": "stderr",
          "text": [
            "Warning message:\n",
            "“The `maximize` argument is no longer needed. This value was ignored.”\n"
          ]
        }
      ]
    },
    {
      "cell_type": "markdown",
      "source": [
        "We can then fit this finalized workflow on our training data. While we’re at it, let’s see what the most important variables are using the vip package."
      ],
      "metadata": {
        "id": "F8l1YoTQEkET"
      }
    },
    {
      "cell_type": "code",
      "source": [
        "final_lasso %>%\n",
        "  fit(office_train) %>%\n",
        "  pull_workflow_fit() %>%\n",
        "  vi(lambda = lowest_rmse$penalty) %>%\n",
        "  mutate(\n",
        "    Importance = abs(Importance),\n",
        "    Variable = fct_reorder(Variable, Importance)\n",
        "  ) %>%\n",
        "  ggplot(aes(x = Importance, y = Variable, fill = Sign)) +\n",
        "  geom_col() +\n",
        "  scale_x_continuous(expand = c(0, 0)) +\n",
        "  labs(y = NULL)"
      ],
      "metadata": {
        "colab": {
          "base_uri": "https://localhost:8080/",
          "height": 437
        },
        "id": "mO1wwfC3ElsI",
        "outputId": "0415c456-b8ed-4071-d0d0-54a3f3e25043"
      },
      "execution_count": 45,
      "outputs": [
        {
          "output_type": "display_data",
          "data": {
            "text/plain": [
              "plot without title"
            ],
            "image/png": "[encoded data removed]"
          },
          "metadata": {
            "image/png": {
              "width": 420,
              "height": 420
            }
          }
        }
      ]
    },
    {
      "cell_type": "markdown",
      "source": [
        "And then, finally, let’s return to our test data. The tune package has a function last_fit() which is nice for situations when you have tuned and finalized a model or workflow and want to fit it one last time on your training data and evaluate it on your testing data. You only have to pass this function your finalized model/workflow and your split."
      ],
      "metadata": {
        "id": "oCFSRfN7FWTQ"
      }
    },
    {
      "cell_type": "code",
      "source": [
        "last_fit(\n",
        "  final_lasso,\n",
        "  office_split\n",
        ") %>%\n",
        "  collect_metrics()"
      ],
      "metadata": {
        "colab": {
          "base_uri": "https://localhost:8080/",
          "height": 160
        },
        "id": "JHG2ltHOFV0g",
        "outputId": "e2df8bf2-ba01-4a7c-ac92-3d2348981505"
      },
      "execution_count": 46,
      "outputs": [
        {
          "output_type": "display_data",
          "data": {
            "text/html": [
              "<table class=\"dataframe\">\n",
              "<caption>A tibble: 2 × 4</caption>\n",
              "<thead>\n",
              "\t<tr><th scope=col>.metric</th><th scope=col>.estimator</th><th scope=col>.estimate</th><th scope=col>.config</th></tr>\n",
              "\t<tr><th scope=col>&lt;chr&gt;</th><th scope=col>&lt;chr&gt;</th><th scope=col>&lt;dbl&gt;</th><th scope=col>&lt;chr&gt;</th></tr>\n",
              "</thead>\n",
              "<tbody>\n",
              "\t<tr><td>rmse</td><td>standard</td><td>0.4235910</td><td>Preprocessor1_Model1</td></tr>\n",
              "\t<tr><td>rsq </td><td>standard</td><td>0.2699494</td><td>Preprocessor1_Model1</td></tr>\n",
              "</tbody>\n",
              "</table>\n"
            ],
            "text/markdown": "\nA tibble: 2 × 4\n\n| .metric &lt;chr&gt; | .estimator &lt;chr&gt; | .estimate &lt;dbl&gt; | .config &lt;chr&gt; |\n|---|---|---|---|\n| rmse | standard | 0.4235910 | Preprocessor1_Model1 |\n| rsq  | standard | 0.2699494 | Preprocessor1_Model1 |\n\n",
            "text/latex": "A tibble: 2 × 4\n\\begin{tabular}{llll}\n .metric & .estimator & .estimate & .config\\\\\n <chr> & <chr> & <dbl> & <chr>\\\\\n\\hline\n\t rmse & standard & 0.4235910 & Preprocessor1\\_Model1\\\\\n\t rsq  & standard & 0.2699494 & Preprocessor1\\_Model1\\\\\n\\end{tabular}\n",
            "text/plain": [
              "  .metric .estimator .estimate .config             \n",
              "1 rmse    standard   0.4235910 Preprocessor1_Model1\n",
              "2 rsq     standard   0.2699494 Preprocessor1_Model1"
            ]
          },
          "metadata": {}
        }
      ]
    },
    {
      "cell_type": "markdown",
      "source": [
        "For an example of tuning random forest, please see: https://juliasilge.com/blog/sf-trees-random-tuning/"
      ],
      "metadata": {
        "id": "_JjhZy_iFgig"
      }
    }
  ]
}