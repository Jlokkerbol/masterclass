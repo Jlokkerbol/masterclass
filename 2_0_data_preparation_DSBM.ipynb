{
  "nbformat": 4,
  "nbformat_minor": 0,
  "metadata": {
    "colab": {
      "name": "2_0_data_preparation_DSBM.ipynb",
      "provenance": [],
      "collapsed_sections": [],
      "include_colab_link": true
    },
    "hide_input": false,
    "kernelspec": {
      "display_name": "jads-nhs-proms",
      "language": "python",
      "name": "jads-nhs-proms"
    },
    "language_info": {
      "codemirror_mode": {
        "name": "ipython",
        "version": 3
      },
      "file_extension": ".py",
      "mimetype": "text/x-python",
      "name": "python",
      "nbconvert_exporter": "python",
      "pygments_lexer": "ipython3",
      "version": "3.7.6"
    },
    "toc": {
      "base_numbering": 1,
      "nav_menu": {},
      "number_sections": true,
      "sideBar": true,
      "skip_h1_title": true,
      "title_cell": "Table of Contents",
      "title_sidebar": "Contents",
      "toc_cell": false,
      "toc_position": {},
      "toc_section_display": true,
      "toc_window_display": true
    }
  },
  "cells": [
    {
      "cell_type": "markdown",
      "metadata": {
        "id": "view-in-github",
        "colab_type": "text"
      },
      "source": [
        "<a href=\"https://colab.research.google.com/github/Jlokkerbol/masterclass/blob/main/2_0_data_preparation_DSBM.ipynb\" target=\"_parent\"><img src=\"https://colab.research.google.com/assets/colab-badge.svg\" alt=\"Open In Colab\"/></a>"
      ]
    },
    {
      "cell_type": "markdown",
      "metadata": {
        "id": "QeHjN1GFNwqC"
      },
      "source": [
        "# Background to osteoarthritis case study\n",
        "\n",
        "_taken from [narrative seminar Osteoarthritis by Hunter & Bierma-Zeinstra (2019) in the Lancet](https://github.com/dkapitan/jads-nhs-proms/blob/master/references/hunter2019osteaoarthritis.pdf)._\n",
        "\n",
        "Outcomes from total joint replacement can be optimised if patient selection identifies marked joint space narrowing. Most improvement will be made in patients with complete joint space loss and evident bone attrition. Up to 25% of patients presenting for total joint replacement continue to complain of pain and disability one year after (well-performed) surgery. Careful preoperative patient selection (including consideration of the poor outcomes that are more common in people who are depressed, have minimal radiographic disease, have minimal pain, and who are morbidly obese), shared decision making about surgery, and informing patients about realistic outcomes of surgery are needed to minimise the likelihood of dissatisfaction.\n",
        "\n",
        "__Recap from previous lecture__\n",
        "- Good outcome for knee replacement Y is measured using difference in Oxford Knee Score (OKS)\n",
        "- Research has shown that an improvement in OKS score of approx. 30% is relevant ([van der Wees 2017](https://github.com/dkapitan/jads-nhs-proms/blob/master/references/vanderwees2017patient-reported.pdf)). Hence an increase of +14 points is considered a 'good' outcome.\n",
        "- to account for the ceiling effect, a high final `t1_oks_score` is also considered as a good outcome (even if `delta_oks_score` is smaller than 14)."
      ]
    },
    {
      "cell_type": "markdown",
      "metadata": {
        "id": "ps-NB5SwlrNd"
      },
      "source": [
        "# Data Preparation\n",
        "\n",
        "This is day 2 from the [5-day JADS NHS PROMs data science case study](https://github.com/jads-nl/execute-nhs-proms/blob/master/README.md).\n"
      ]
    },
    {
      "cell_type": "markdown",
      "metadata": {
        "id": "C1bEDtlnF4a9"
      },
      "source": [
        "\n",
        "## Objectives Data Preparation\n",
        "\n",
        "### Making the data 'tidy'\n",
        "\n",
        "- Each variable must have its own column\n",
        "- Each observation must have its own row\n",
        "- Each value must have its own cell\n",
        "\n",
        "### Selecting relevant information \n",
        "\n",
        "- Select appropriate observations \n",
        "- Select available features\n",
        "- Select useful features\n",
        "\n",
        "### Cleaning data\n",
        "\n",
        "- Clean inconsistencies\n",
        "- Handle missing data\n",
        "- Setting appropriate data types\n",
        "\n",
        "### Constructing data\n",
        "\n",
        "- Define outcome Y (clustered classes, categories)\n",
        "- Redefine and/or construct features (feature engineering)\n",
        "- Decide if and how to handle correlated input features"
      ]
    },
    {
      "cell_type": "markdown",
      "metadata": {
        "id": "tGkaSFtoDRsm"
      },
      "source": [
        "## Importing data, libraries and style settings\n"
      ]
    },
    {
      "cell_type": "code",
      "metadata": {
        "id": "_95_D3ywlrNh"
      },
      "source": [
        "import warnings\n",
        "import numpy as np\n",
        "import pandas as pd\n",
        "import matplotlib as mpl\n",
        "import matplotlib.pyplot as plt\n",
        "import seaborn as sns\n",
        "from sklearn.feature_selection import chi2, VarianceThreshold\n",
        "from sklearn.model_selection import train_test_split\n",
        "import sklearn.linear_model\n",
        "\n",
        "\n",
        "#supressing warnings for readability\n",
        "warnings.filterwarnings(\"ignore\")\n",
        "\n",
        "# To plot pretty figures directly within Jupyter\n",
        "%matplotlib inline\n",
        "\n",
        "# choose your own style: https://matplotlib.org/3.1.0/gallery/style_sheets/style_sheets_reference.html\n",
        "plt.style.use('seaborn-whitegrid')\n",
        "\n",
        "# Go to town with https://matplotlib.org/tutorials/introductory/customizing.html\n",
        "# plt.rcParams.keys()\n",
        "mpl.rc('axes', labelsize=14, titlesize=14)\n",
        "mpl.rc('figure', titlesize=20)\n",
        "mpl.rc('xtick', labelsize=12)\n",
        "mpl.rc('ytick', labelsize=12)\n",
        "\n",
        "# contants for figsize\n",
        "S = (8,8)\n",
        "M = (12,12)\n",
        "L = (14,14)\n",
        "\n",
        "# pandas options\n",
        "pd.set_option(\"display.max.columns\", None)\n",
        "pd.set_option(\"display.max.rows\", None)\n",
        "pd.set_option(\"display.precision\", 2)\n",
        "\n",
        "# import data\n",
        "df_raw = pd.read_parquet('https://github.com/jads-nl/execute-nhs-proms/blob/master/data/interim/knee-provider.parquet?raw=true')"
      ],
      "execution_count": 1,
      "outputs": []
    },
    {
      "cell_type": "markdown",
      "metadata": {
        "id": "xwtwom3PeOsN"
      },
      "source": [
        "## Making the data 'tidy'\n",
        "\n",
        "This is something that could take a lot of effort, but in our case we are lucky to be working with 'tidy' data already. \n",
        "* There is only one table to work with, so no merging or joining is needed\n",
        "* Our rows correspond to the 'unit of analysis', just like we want them to\n",
        "* Every column neatly contains one piece of information about our 'unit of analyses', so for every available replacement"
      ]
    },
    {
      "cell_type": "markdown",
      "metadata": {
        "id": "Z_n6cIqefAIL"
      },
      "source": [
        "## Selecting relevant information\n",
        "\n",
        "Here we select the available features (at the intended moment of modeling) and the relevant features (i.e. we exclude the obviously irrelevant features such as IDs, telephone numbers for example), and select a subset of the rows if necessary."
      ]
    },
    {
      "cell_type": "code",
      "metadata": {
        "colab": {
          "base_uri": "https://localhost:8080/"
        },
        "id": "xDUZ03lChl_d",
        "outputId": "8440c8e3-c22a-48d2-f255-2a3aea6526ce"
      },
      "source": [
        "# List all the available features\n",
        "list(df_raw.columns)"
      ],
      "execution_count": 2,
      "outputs": [
        {
          "output_type": "execute_result",
          "data": {
            "text/plain": [
              "['provider_code',\n",
              " 'procedure',\n",
              " 'revision_flag',\n",
              " 'year',\n",
              " 'age_band',\n",
              " 'gender',\n",
              " 't0_assisted',\n",
              " 't0_assisted_by',\n",
              " 't0_symptom_period',\n",
              " 't0_previous_surgery',\n",
              " 't0_living_arrangements',\n",
              " 't0_disability',\n",
              " 'heart_disease',\n",
              " 'high_bp',\n",
              " 'stroke',\n",
              " 'circulation',\n",
              " 'lung_disease',\n",
              " 'diabetes',\n",
              " 'kidney_disease',\n",
              " 'nervous_system',\n",
              " 'liver_disease',\n",
              " 'cancer',\n",
              " 'depression',\n",
              " 'arthritis',\n",
              " 't0_mobility',\n",
              " 't0_self_care',\n",
              " 't0_activity',\n",
              " 't0_discomfort',\n",
              " 't0_anxiety',\n",
              " 't0_eq5d_index_profile',\n",
              " 't0_eq5d_index',\n",
              " 't1_assisted',\n",
              " 't1_assisted_by',\n",
              " 't1_living_arrangements',\n",
              " 't1_disability',\n",
              " 't1_mobility',\n",
              " 't1_self_care',\n",
              " 't1_activity',\n",
              " 't1_discomfort',\n",
              " 't1_anxiety',\n",
              " 't1_satisfaction',\n",
              " 't1_sucess',\n",
              " 't1_allergy',\n",
              " 't1_bleeding',\n",
              " 't1_wound',\n",
              " 't1_urine',\n",
              " 't1_further_surgery',\n",
              " 't1_readmitted',\n",
              " 't1_eq5d_index_profile',\n",
              " 't1_eq5d_index',\n",
              " 'oks_eq_5d_index_t1_predicted',\n",
              " 't0_eq_vas',\n",
              " 't1_eq_vas',\n",
              " 'oks_eq_vas_t1_predicted',\n",
              " 'oks_t0_pain',\n",
              " 'oks_t0_night_pain',\n",
              " 'oks_t0_washing',\n",
              " 'oks_t0_transport',\n",
              " 'oks_t0_walking',\n",
              " 'oks_t0_standing',\n",
              " 'oks_t0_limping',\n",
              " 'oks_t0_kneeling',\n",
              " 'oks_t0_work',\n",
              " 'oks_t0_confidence',\n",
              " 'oks_t0_shopping',\n",
              " 'oks_t0_stairs',\n",
              " 'oks_t0_score',\n",
              " 'oks_t1_pain',\n",
              " 'oks_t1_night_pain',\n",
              " 'oks_t1_washing',\n",
              " 'oks_t1_transport',\n",
              " 'oks_t1_walking',\n",
              " 'oks_t1_standing',\n",
              " 'oks_t1_limping',\n",
              " 'oks_t1_kneeling',\n",
              " 'oks_t1_work',\n",
              " 'oks_t1_confidence',\n",
              " 'oks_t1_shopping',\n",
              " 'oks_t1_stairs',\n",
              " 'oks_t1_score',\n",
              " 'oks_oks_t1_predicted']"
            ]
          },
          "metadata": {},
          "execution_count": 2
        }
      ]
    },
    {
      "cell_type": "markdown",
      "metadata": {
        "id": "5vPSnDGah0LR"
      },
      "source": [
        "There are a number of `t1` variables that we cannot use at the time when we want the model to make a prediction, so we can exclude those variables from the analysis. For now we will leave in all the `t1` variables relating to the OKS that we will need when constructing our outcome Y. We will remove those after defining Y."
      ]
    },
    {
      "cell_type": "code",
      "metadata": {
        "colab": {
          "base_uri": "https://localhost:8080/"
        },
        "id": "nuZoo-n0iUMD",
        "outputId": "42adcc6b-99fd-408e-df62-b50752989b72"
      },
      "source": [
        "# remove columns\n",
        "to_remove = ['t1_assisted', 't1_assisted_by', 't1_living_arrangements', 't1_disability', 't1_mobility', 't1_self_care',\n",
        "             't1_activity', 't1_discomfort', 't1_anxiety', 't1_satisfaction', 't1_sucess', 't1_allergy', 't1_bleeding',\n",
        "             't1_wound', 't1_urine', 't1_further_surgery', 't1_readmitted', 't1_eq5d_index_profile', 't1_eq5d_index']\n",
        "\n",
        "df_temp = df_raw.drop(to_remove, axis=1)\n",
        "list(df_temp.columns)"
      ],
      "execution_count": 3,
      "outputs": [
        {
          "output_type": "execute_result",
          "data": {
            "text/plain": [
              "['provider_code',\n",
              " 'procedure',\n",
              " 'revision_flag',\n",
              " 'year',\n",
              " 'age_band',\n",
              " 'gender',\n",
              " 't0_assisted',\n",
              " 't0_assisted_by',\n",
              " 't0_symptom_period',\n",
              " 't0_previous_surgery',\n",
              " 't0_living_arrangements',\n",
              " 't0_disability',\n",
              " 'heart_disease',\n",
              " 'high_bp',\n",
              " 'stroke',\n",
              " 'circulation',\n",
              " 'lung_disease',\n",
              " 'diabetes',\n",
              " 'kidney_disease',\n",
              " 'nervous_system',\n",
              " 'liver_disease',\n",
              " 'cancer',\n",
              " 'depression',\n",
              " 'arthritis',\n",
              " 't0_mobility',\n",
              " 't0_self_care',\n",
              " 't0_activity',\n",
              " 't0_discomfort',\n",
              " 't0_anxiety',\n",
              " 't0_eq5d_index_profile',\n",
              " 't0_eq5d_index',\n",
              " 'oks_eq_5d_index_t1_predicted',\n",
              " 't0_eq_vas',\n",
              " 't1_eq_vas',\n",
              " 'oks_eq_vas_t1_predicted',\n",
              " 'oks_t0_pain',\n",
              " 'oks_t0_night_pain',\n",
              " 'oks_t0_washing',\n",
              " 'oks_t0_transport',\n",
              " 'oks_t0_walking',\n",
              " 'oks_t0_standing',\n",
              " 'oks_t0_limping',\n",
              " 'oks_t0_kneeling',\n",
              " 'oks_t0_work',\n",
              " 'oks_t0_confidence',\n",
              " 'oks_t0_shopping',\n",
              " 'oks_t0_stairs',\n",
              " 'oks_t0_score',\n",
              " 'oks_t1_pain',\n",
              " 'oks_t1_night_pain',\n",
              " 'oks_t1_washing',\n",
              " 'oks_t1_transport',\n",
              " 'oks_t1_walking',\n",
              " 'oks_t1_standing',\n",
              " 'oks_t1_limping',\n",
              " 'oks_t1_kneeling',\n",
              " 'oks_t1_work',\n",
              " 'oks_t1_confidence',\n",
              " 'oks_t1_shopping',\n",
              " 'oks_t1_stairs',\n",
              " 'oks_t1_score',\n",
              " 'oks_oks_t1_predicted']"
            ]
          },
          "metadata": {},
          "execution_count": 3
        }
      ]
    },
    {
      "cell_type": "markdown",
      "metadata": {
        "id": "Bt1GQyai888m"
      },
      "source": [
        "In addition, domain experts deem a number of `t0` variables to be irrelevant:"
      ]
    },
    {
      "cell_type": "code",
      "metadata": {
        "colab": {
          "base_uri": "https://localhost:8080/"
        },
        "id": "EIEOBWbJ9ESX",
        "outputId": "b1a56ef6-f048-47bd-d72d-f2d94b1df0d5"
      },
      "source": [
        "# remove columns\n",
        "to_remove_t0 = ['t0_assisted_by', 't0_eq5d_index_profile']\n",
        "\n",
        "df_temp = df_temp.drop(to_remove_t0, axis=1)\n",
        "list(df_temp.columns)"
      ],
      "execution_count": 4,
      "outputs": [
        {
          "output_type": "execute_result",
          "data": {
            "text/plain": [
              "['provider_code',\n",
              " 'procedure',\n",
              " 'revision_flag',\n",
              " 'year',\n",
              " 'age_band',\n",
              " 'gender',\n",
              " 't0_assisted',\n",
              " 't0_symptom_period',\n",
              " 't0_previous_surgery',\n",
              " 't0_living_arrangements',\n",
              " 't0_disability',\n",
              " 'heart_disease',\n",
              " 'high_bp',\n",
              " 'stroke',\n",
              " 'circulation',\n",
              " 'lung_disease',\n",
              " 'diabetes',\n",
              " 'kidney_disease',\n",
              " 'nervous_system',\n",
              " 'liver_disease',\n",
              " 'cancer',\n",
              " 'depression',\n",
              " 'arthritis',\n",
              " 't0_mobility',\n",
              " 't0_self_care',\n",
              " 't0_activity',\n",
              " 't0_discomfort',\n",
              " 't0_anxiety',\n",
              " 't0_eq5d_index',\n",
              " 'oks_eq_5d_index_t1_predicted',\n",
              " 't0_eq_vas',\n",
              " 't1_eq_vas',\n",
              " 'oks_eq_vas_t1_predicted',\n",
              " 'oks_t0_pain',\n",
              " 'oks_t0_night_pain',\n",
              " 'oks_t0_washing',\n",
              " 'oks_t0_transport',\n",
              " 'oks_t0_walking',\n",
              " 'oks_t0_standing',\n",
              " 'oks_t0_limping',\n",
              " 'oks_t0_kneeling',\n",
              " 'oks_t0_work',\n",
              " 'oks_t0_confidence',\n",
              " 'oks_t0_shopping',\n",
              " 'oks_t0_stairs',\n",
              " 'oks_t0_score',\n",
              " 'oks_t1_pain',\n",
              " 'oks_t1_night_pain',\n",
              " 'oks_t1_washing',\n",
              " 'oks_t1_transport',\n",
              " 'oks_t1_walking',\n",
              " 'oks_t1_standing',\n",
              " 'oks_t1_limping',\n",
              " 'oks_t1_kneeling',\n",
              " 'oks_t1_work',\n",
              " 'oks_t1_confidence',\n",
              " 'oks_t1_shopping',\n",
              " 'oks_t1_stairs',\n",
              " 'oks_t1_score',\n",
              " 'oks_oks_t1_predicted']"
            ]
          },
          "metadata": {},
          "execution_count": 4
        }
      ]
    },
    {
      "cell_type": "markdown",
      "metadata": {
        "id": "UwkQXtX3jflV"
      },
      "source": [
        "During data understanding, we saw that the data was scarce on patients in the oldest and youngest age-brackets. For the sake of the example, let's suppose that we decide to take these age-brackets out of scope, meaning we exclude these records from our data."
      ]
    },
    {
      "cell_type": "code",
      "metadata": {
        "colab": {
          "base_uri": "https://localhost:8080/"
        },
        "id": "p8DnlSLcjfA2",
        "outputId": "08e08fa6-1e0d-488d-b1e9-66da49d96211"
      },
      "source": [
        "# describe age_band information\n",
        "df_temp['age_band'].value_counts()"
      ],
      "execution_count": 5,
      "outputs": [
        {
          "output_type": "execute_result",
          "data": {
            "text/plain": [
              "70 to 79     55056\n",
              "60 to 69     45361\n",
              "80 to 89     15883\n",
              "50 to 59     13260\n",
              "40 to 49       250\n",
              "90 to 120       24\n",
              "Name: age_band, dtype: int64"
            ]
          },
          "metadata": {},
          "execution_count": 5
        }
      ]
    },
    {
      "cell_type": "code",
      "metadata": {
        "colab": {
          "base_uri": "https://localhost:8080/"
        },
        "id": "39FuO5_FkGOJ",
        "outputId": "0d735f0c-59a8-4fa7-ebcc-e8038d490f74"
      },
      "source": [
        "# exclude rows corresponding to the highest and lowest age-bracket\n",
        "df_temp = df_temp.drop(df_temp[df_temp.age_band == \"90 to 120\"].index)\n",
        "df_temp = df_temp.drop(df_temp[df_temp.age_band == \"40 to 49\"].index)\n",
        "df_temp['age_band'].value_counts()"
      ],
      "execution_count": 6,
      "outputs": [
        {
          "output_type": "execute_result",
          "data": {
            "text/plain": [
              "70 to 79     55056\n",
              "60 to 69     45361\n",
              "80 to 89     15883\n",
              "50 to 59     13260\n",
              "90 to 120        0\n",
              "40 to 49         0\n",
              "Name: age_band, dtype: int64"
            ]
          },
          "metadata": {},
          "execution_count": 6
        }
      ]
    },
    {
      "cell_type": "code",
      "metadata": {
        "colab": {
          "base_uri": "https://localhost:8080/"
        },
        "id": "QZqJb_Zipjsb",
        "outputId": "1c8558de-5fe7-4aee-b97e-f51415e07eb8"
      },
      "source": [
        "# unused levels should be removed to further clean / prepare the data\n",
        "df_temp.age_band = df_temp.age_band.cat.remove_unused_categories()\n",
        "df_temp['age_band'].value_counts()"
      ],
      "execution_count": 7,
      "outputs": [
        {
          "output_type": "execute_result",
          "data": {
            "text/plain": [
              "70 to 79    55056\n",
              "60 to 69    45361\n",
              "80 to 89    15883\n",
              "50 to 59    13260\n",
              "Name: age_band, dtype: int64"
            ]
          },
          "metadata": {},
          "execution_count": 7
        }
      ]
    },
    {
      "cell_type": "markdown",
      "metadata": {
        "id": "ueq8uUDQqRw5"
      },
      "source": [
        "## Cleaning Data\n",
        "\n",
        "In this step we handle missing values, correct any inconsistencies found in the data and set the appropriate data types. \n",
        "\n",
        "We start off with a straightforward imputation strategy, where we impute \n",
        "* numerical variables with the median value, and\n",
        "* categorical variables with the most occurring level"
      ]
    },
    {
      "cell_type": "code",
      "metadata": {
        "colab": {
          "base_uri": "https://localhost:8080/"
        },
        "id": "_gOGhai7qf0M",
        "outputId": "30dd7604-e83b-4062-9ef1-0c8393b1d3fe"
      },
      "source": [
        "# First we map all the missings in the data\n",
        "df_temp.isnull().sum()"
      ],
      "execution_count": 8,
      "outputs": [
        {
          "output_type": "execute_result",
          "data": {
            "text/plain": [
              "provider_code                       0\n",
              "procedure                           0\n",
              "revision_flag                       0\n",
              "year                                0\n",
              "age_band                         9402\n",
              "gender                           9402\n",
              "t0_assisted                         0\n",
              "t0_symptom_period                   0\n",
              "t0_previous_surgery                 0\n",
              "t0_living_arrangements              0\n",
              "t0_disability                       0\n",
              "heart_disease                       0\n",
              "high_bp                             0\n",
              "stroke                              0\n",
              "circulation                         0\n",
              "lung_disease                        0\n",
              "diabetes                            0\n",
              "kidney_disease                      0\n",
              "nervous_system                      0\n",
              "liver_disease                       0\n",
              "cancer                              0\n",
              "depression                          0\n",
              "arthritis                           0\n",
              "t0_mobility                         0\n",
              "t0_self_care                        0\n",
              "t0_activity                         0\n",
              "t0_discomfort                       0\n",
              "t0_anxiety                          0\n",
              "t0_eq5d_index                    7485\n",
              "oks_eq_5d_index_t1_predicted    14279\n",
              "t0_eq_vas                           0\n",
              "t1_eq_vas                           0\n",
              "oks_eq_vas_t1_predicted         19379\n",
              "oks_t0_pain                         0\n",
              "oks_t0_night_pain                   0\n",
              "oks_t0_washing                      0\n",
              "oks_t0_transport                    0\n",
              "oks_t0_walking                      0\n",
              "oks_t0_standing                     0\n",
              "oks_t0_limping                      0\n",
              "oks_t0_kneeling                     0\n",
              "oks_t0_work                         0\n",
              "oks_t0_confidence                   0\n",
              "oks_t0_shopping                     0\n",
              "oks_t0_stairs                       0\n",
              "oks_t0_score                     1669\n",
              "oks_t1_pain                         0\n",
              "oks_t1_night_pain                   0\n",
              "oks_t1_washing                      0\n",
              "oks_t1_transport                    0\n",
              "oks_t1_walking                      0\n",
              "oks_t1_standing                     0\n",
              "oks_t1_limping                      0\n",
              "oks_t1_kneeling                     0\n",
              "oks_t1_work                         0\n",
              "oks_t1_confidence                   0\n",
              "oks_t1_shopping                     0\n",
              "oks_t1_stairs                       0\n",
              "oks_t1_score                     2575\n",
              "oks_oks_t1_predicted             5362\n",
              "dtype: int64"
            ]
          },
          "metadata": {},
          "execution_count": 8
        }
      ]
    },
    {
      "cell_type": "markdown",
      "metadata": {
        "id": "nfwQn62bFc8O"
      },
      "source": [
        "Recall from the script on data understanding that there are a number of variables using a 9 to indicate a missing value. We need to identify those variables to be able to impute those 9s that actually refer to a missing value "
      ]
    },
    {
      "cell_type": "code",
      "metadata": {
        "colab": {
          "base_uri": "https://localhost:8080/",
          "height": 680
        },
        "id": "7NqUIzwnJft_",
        "outputId": "d26fd925-84db-48e9-ad96-9a8cbfa3d511"
      },
      "source": [
        "# list of all columns which contain 9s\n",
        "cols_with_9 = [col for col in df_temp.columns if (df_temp[col]==9).any()]\n",
        "\n",
        "# columns where 9 is *not* a sentinel value\n",
        "comorb = ['heart_disease', 'high_bp', 'stroke', 'circulation', 'lung_disease', 'diabetes',\n",
        "           'kidney_disease', 'nervous_system', 'liver_disease', 'cancer', 'depression', 'arthritis']\n",
        "cols_keep_9 = comorb + [ 't0_eq_vas', 't1_eq_vas','oks_t0_score', 'oks_t1_score']\n",
        "\n",
        "# columns with 9 as sentinel value\n",
        "cols_sentinel_9 = list(set(cols_with_9) ^ set(cols_keep_9))\n",
        "df_temp[cols_sentinel_9].head(20)\n"
      ],
      "execution_count": 9,
      "outputs": [
        {
          "output_type": "execute_result",
          "data": {
            "text/html": [
              "<div>\n",
              "<style scoped>\n",
              "    .dataframe tbody tr th:only-of-type {\n",
              "        vertical-align: middle;\n",
              "    }\n",
              "\n",
              "    .dataframe tbody tr th {\n",
              "        vertical-align: top;\n",
              "    }\n",
              "\n",
              "    .dataframe thead th {\n",
              "        text-align: right;\n",
              "    }\n",
              "</style>\n",
              "<table border=\"1\" class=\"dataframe\">\n",
              "  <thead>\n",
              "    <tr style=\"text-align: right;\">\n",
              "      <th></th>\n",
              "      <th>oks_t0_shopping</th>\n",
              "      <th>oks_t1_transport</th>\n",
              "      <th>oks_t0_limping</th>\n",
              "      <th>oks_t0_confidence</th>\n",
              "      <th>oks_t1_confidence</th>\n",
              "      <th>t0_disability</th>\n",
              "      <th>oks_t1_standing</th>\n",
              "      <th>t0_discomfort</th>\n",
              "      <th>oks_t0_work</th>\n",
              "      <th>oks_t1_pain</th>\n",
              "      <th>oks_t1_stairs</th>\n",
              "      <th>t0_activity</th>\n",
              "      <th>oks_t1_shopping</th>\n",
              "      <th>oks_t1_limping</th>\n",
              "      <th>t0_mobility</th>\n",
              "      <th>oks_t0_stairs</th>\n",
              "      <th>t0_living_arrangements</th>\n",
              "      <th>oks_t0_standing</th>\n",
              "      <th>oks_t0_washing</th>\n",
              "      <th>oks_t0_kneeling</th>\n",
              "      <th>oks_t1_work</th>\n",
              "      <th>t0_assisted</th>\n",
              "      <th>oks_t0_transport</th>\n",
              "      <th>t0_anxiety</th>\n",
              "      <th>t0_previous_surgery</th>\n",
              "      <th>oks_t0_walking</th>\n",
              "      <th>oks_t0_pain</th>\n",
              "      <th>oks_t1_night_pain</th>\n",
              "      <th>t0_self_care</th>\n",
              "      <th>oks_t1_washing</th>\n",
              "      <th>oks_t1_kneeling</th>\n",
              "      <th>oks_t1_walking</th>\n",
              "      <th>oks_t0_night_pain</th>\n",
              "      <th>t0_symptom_period</th>\n",
              "    </tr>\n",
              "  </thead>\n",
              "  <tbody>\n",
              "    <tr>\n",
              "      <th>0</th>\n",
              "      <td>2</td>\n",
              "      <td>3</td>\n",
              "      <td>0</td>\n",
              "      <td>2</td>\n",
              "      <td>4</td>\n",
              "      <td>1</td>\n",
              "      <td>3</td>\n",
              "      <td>2</td>\n",
              "      <td>1</td>\n",
              "      <td>3</td>\n",
              "      <td>3</td>\n",
              "      <td>2</td>\n",
              "      <td>4</td>\n",
              "      <td>4</td>\n",
              "      <td>2</td>\n",
              "      <td>2</td>\n",
              "      <td>2</td>\n",
              "      <td>2</td>\n",
              "      <td>2</td>\n",
              "      <td>1</td>\n",
              "      <td>4</td>\n",
              "      <td>2</td>\n",
              "      <td>2</td>\n",
              "      <td>1</td>\n",
              "      <td>2</td>\n",
              "      <td>2</td>\n",
              "      <td>0</td>\n",
              "      <td>3</td>\n",
              "      <td>1</td>\n",
              "      <td>4</td>\n",
              "      <td>2</td>\n",
              "      <td>3</td>\n",
              "      <td>1</td>\n",
              "      <td>2</td>\n",
              "    </tr>\n",
              "    <tr>\n",
              "      <th>1</th>\n",
              "      <td>4</td>\n",
              "      <td>3</td>\n",
              "      <td>1</td>\n",
              "      <td>3</td>\n",
              "      <td>3</td>\n",
              "      <td>2</td>\n",
              "      <td>4</td>\n",
              "      <td>9</td>\n",
              "      <td>4</td>\n",
              "      <td>4</td>\n",
              "      <td>4</td>\n",
              "      <td>9</td>\n",
              "      <td>4</td>\n",
              "      <td>4</td>\n",
              "      <td>9</td>\n",
              "      <td>4</td>\n",
              "      <td>2</td>\n",
              "      <td>4</td>\n",
              "      <td>4</td>\n",
              "      <td>4</td>\n",
              "      <td>3</td>\n",
              "      <td>2</td>\n",
              "      <td>4</td>\n",
              "      <td>9</td>\n",
              "      <td>2</td>\n",
              "      <td>0</td>\n",
              "      <td>1</td>\n",
              "      <td>4</td>\n",
              "      <td>9</td>\n",
              "      <td>4</td>\n",
              "      <td>3</td>\n",
              "      <td>4</td>\n",
              "      <td>4</td>\n",
              "      <td>2</td>\n",
              "    </tr>\n",
              "    <tr>\n",
              "      <th>2</th>\n",
              "      <td>3</td>\n",
              "      <td>4</td>\n",
              "      <td>2</td>\n",
              "      <td>3</td>\n",
              "      <td>4</td>\n",
              "      <td>2</td>\n",
              "      <td>4</td>\n",
              "      <td>9</td>\n",
              "      <td>3</td>\n",
              "      <td>4</td>\n",
              "      <td>4</td>\n",
              "      <td>9</td>\n",
              "      <td>4</td>\n",
              "      <td>4</td>\n",
              "      <td>9</td>\n",
              "      <td>4</td>\n",
              "      <td>1</td>\n",
              "      <td>4</td>\n",
              "      <td>4</td>\n",
              "      <td>3</td>\n",
              "      <td>4</td>\n",
              "      <td>2</td>\n",
              "      <td>4</td>\n",
              "      <td>9</td>\n",
              "      <td>2</td>\n",
              "      <td>2</td>\n",
              "      <td>1</td>\n",
              "      <td>4</td>\n",
              "      <td>9</td>\n",
              "      <td>4</td>\n",
              "      <td>2</td>\n",
              "      <td>4</td>\n",
              "      <td>4</td>\n",
              "      <td>2</td>\n",
              "    </tr>\n",
              "    <tr>\n",
              "      <th>3</th>\n",
              "      <td>3</td>\n",
              "      <td>4</td>\n",
              "      <td>2</td>\n",
              "      <td>3</td>\n",
              "      <td>3</td>\n",
              "      <td>1</td>\n",
              "      <td>4</td>\n",
              "      <td>9</td>\n",
              "      <td>1</td>\n",
              "      <td>3</td>\n",
              "      <td>3</td>\n",
              "      <td>9</td>\n",
              "      <td>4</td>\n",
              "      <td>4</td>\n",
              "      <td>9</td>\n",
              "      <td>2</td>\n",
              "      <td>2</td>\n",
              "      <td>2</td>\n",
              "      <td>2</td>\n",
              "      <td>0</td>\n",
              "      <td>3</td>\n",
              "      <td>2</td>\n",
              "      <td>2</td>\n",
              "      <td>9</td>\n",
              "      <td>2</td>\n",
              "      <td>2</td>\n",
              "      <td>1</td>\n",
              "      <td>2</td>\n",
              "      <td>9</td>\n",
              "      <td>4</td>\n",
              "      <td>1</td>\n",
              "      <td>1</td>\n",
              "      <td>2</td>\n",
              "      <td>2</td>\n",
              "    </tr>\n",
              "    <tr>\n",
              "      <th>4</th>\n",
              "      <td>0</td>\n",
              "      <td>2</td>\n",
              "      <td>0</td>\n",
              "      <td>0</td>\n",
              "      <td>3</td>\n",
              "      <td>1</td>\n",
              "      <td>3</td>\n",
              "      <td>9</td>\n",
              "      <td>1</td>\n",
              "      <td>2</td>\n",
              "      <td>1</td>\n",
              "      <td>2</td>\n",
              "      <td>2</td>\n",
              "      <td>3</td>\n",
              "      <td>2</td>\n",
              "      <td>0</td>\n",
              "      <td>2</td>\n",
              "      <td>1</td>\n",
              "      <td>4</td>\n",
              "      <td>1</td>\n",
              "      <td>2</td>\n",
              "      <td>1</td>\n",
              "      <td>2</td>\n",
              "      <td>1</td>\n",
              "      <td>2</td>\n",
              "      <td>2</td>\n",
              "      <td>0</td>\n",
              "      <td>2</td>\n",
              "      <td>1</td>\n",
              "      <td>4</td>\n",
              "      <td>2</td>\n",
              "      <td>2</td>\n",
              "      <td>1</td>\n",
              "      <td>3</td>\n",
              "    </tr>\n",
              "    <tr>\n",
              "      <th>5</th>\n",
              "      <td>2</td>\n",
              "      <td>4</td>\n",
              "      <td>3</td>\n",
              "      <td>4</td>\n",
              "      <td>4</td>\n",
              "      <td>2</td>\n",
              "      <td>3</td>\n",
              "      <td>9</td>\n",
              "      <td>2</td>\n",
              "      <td>1</td>\n",
              "      <td>3</td>\n",
              "      <td>2</td>\n",
              "      <td>3</td>\n",
              "      <td>3</td>\n",
              "      <td>2</td>\n",
              "      <td>3</td>\n",
              "      <td>1</td>\n",
              "      <td>2</td>\n",
              "      <td>4</td>\n",
              "      <td>1</td>\n",
              "      <td>2</td>\n",
              "      <td>1</td>\n",
              "      <td>4</td>\n",
              "      <td>1</td>\n",
              "      <td>2</td>\n",
              "      <td>3</td>\n",
              "      <td>0</td>\n",
              "      <td>1</td>\n",
              "      <td>1</td>\n",
              "      <td>3</td>\n",
              "      <td>1</td>\n",
              "      <td>2</td>\n",
              "      <td>1</td>\n",
              "      <td>4</td>\n",
              "    </tr>\n",
              "    <tr>\n",
              "      <th>6</th>\n",
              "      <td>3</td>\n",
              "      <td>4</td>\n",
              "      <td>3</td>\n",
              "      <td>3</td>\n",
              "      <td>4</td>\n",
              "      <td>2</td>\n",
              "      <td>3</td>\n",
              "      <td>2</td>\n",
              "      <td>3</td>\n",
              "      <td>3</td>\n",
              "      <td>3</td>\n",
              "      <td>1</td>\n",
              "      <td>4</td>\n",
              "      <td>4</td>\n",
              "      <td>1</td>\n",
              "      <td>2</td>\n",
              "      <td>1</td>\n",
              "      <td>2</td>\n",
              "      <td>4</td>\n",
              "      <td>2</td>\n",
              "      <td>3</td>\n",
              "      <td>2</td>\n",
              "      <td>3</td>\n",
              "      <td>1</td>\n",
              "      <td>2</td>\n",
              "      <td>4</td>\n",
              "      <td>1</td>\n",
              "      <td>4</td>\n",
              "      <td>1</td>\n",
              "      <td>4</td>\n",
              "      <td>2</td>\n",
              "      <td>4</td>\n",
              "      <td>2</td>\n",
              "      <td>3</td>\n",
              "    </tr>\n",
              "    <tr>\n",
              "      <th>7</th>\n",
              "      <td>1</td>\n",
              "      <td>3</td>\n",
              "      <td>1</td>\n",
              "      <td>0</td>\n",
              "      <td>4</td>\n",
              "      <td>1</td>\n",
              "      <td>3</td>\n",
              "      <td>2</td>\n",
              "      <td>0</td>\n",
              "      <td>4</td>\n",
              "      <td>4</td>\n",
              "      <td>3</td>\n",
              "      <td>4</td>\n",
              "      <td>4</td>\n",
              "      <td>2</td>\n",
              "      <td>1</td>\n",
              "      <td>1</td>\n",
              "      <td>1</td>\n",
              "      <td>2</td>\n",
              "      <td>0</td>\n",
              "      <td>4</td>\n",
              "      <td>2</td>\n",
              "      <td>1</td>\n",
              "      <td>1</td>\n",
              "      <td>2</td>\n",
              "      <td>2</td>\n",
              "      <td>0</td>\n",
              "      <td>4</td>\n",
              "      <td>2</td>\n",
              "      <td>4</td>\n",
              "      <td>3</td>\n",
              "      <td>4</td>\n",
              "      <td>1</td>\n",
              "      <td>2</td>\n",
              "    </tr>\n",
              "    <tr>\n",
              "      <th>8</th>\n",
              "      <td>0</td>\n",
              "      <td>2</td>\n",
              "      <td>2</td>\n",
              "      <td>1</td>\n",
              "      <td>3</td>\n",
              "      <td>1</td>\n",
              "      <td>3</td>\n",
              "      <td>3</td>\n",
              "      <td>2</td>\n",
              "      <td>3</td>\n",
              "      <td>1</td>\n",
              "      <td>2</td>\n",
              "      <td>0</td>\n",
              "      <td>3</td>\n",
              "      <td>2</td>\n",
              "      <td>1</td>\n",
              "      <td>2</td>\n",
              "      <td>1</td>\n",
              "      <td>3</td>\n",
              "      <td>1</td>\n",
              "      <td>3</td>\n",
              "      <td>2</td>\n",
              "      <td>2</td>\n",
              "      <td>1</td>\n",
              "      <td>2</td>\n",
              "      <td>2</td>\n",
              "      <td>0</td>\n",
              "      <td>3</td>\n",
              "      <td>1</td>\n",
              "      <td>4</td>\n",
              "      <td>1</td>\n",
              "      <td>1</td>\n",
              "      <td>1</td>\n",
              "      <td>3</td>\n",
              "    </tr>\n",
              "    <tr>\n",
              "      <th>9</th>\n",
              "      <td>3</td>\n",
              "      <td>4</td>\n",
              "      <td>3</td>\n",
              "      <td>2</td>\n",
              "      <td>4</td>\n",
              "      <td>2</td>\n",
              "      <td>4</td>\n",
              "      <td>2</td>\n",
              "      <td>2</td>\n",
              "      <td>4</td>\n",
              "      <td>4</td>\n",
              "      <td>2</td>\n",
              "      <td>4</td>\n",
              "      <td>4</td>\n",
              "      <td>2</td>\n",
              "      <td>3</td>\n",
              "      <td>1</td>\n",
              "      <td>3</td>\n",
              "      <td>4</td>\n",
              "      <td>0</td>\n",
              "      <td>4</td>\n",
              "      <td>1</td>\n",
              "      <td>4</td>\n",
              "      <td>1</td>\n",
              "      <td>2</td>\n",
              "      <td>2</td>\n",
              "      <td>1</td>\n",
              "      <td>4</td>\n",
              "      <td>1</td>\n",
              "      <td>4</td>\n",
              "      <td>4</td>\n",
              "      <td>4</td>\n",
              "      <td>2</td>\n",
              "      <td>2</td>\n",
              "    </tr>\n",
              "    <tr>\n",
              "      <th>10</th>\n",
              "      <td>2</td>\n",
              "      <td>3</td>\n",
              "      <td>1</td>\n",
              "      <td>3</td>\n",
              "      <td>4</td>\n",
              "      <td>2</td>\n",
              "      <td>3</td>\n",
              "      <td>2</td>\n",
              "      <td>2</td>\n",
              "      <td>2</td>\n",
              "      <td>4</td>\n",
              "      <td>2</td>\n",
              "      <td>4</td>\n",
              "      <td>3</td>\n",
              "      <td>2</td>\n",
              "      <td>2</td>\n",
              "      <td>1</td>\n",
              "      <td>1</td>\n",
              "      <td>2</td>\n",
              "      <td>1</td>\n",
              "      <td>3</td>\n",
              "      <td>2</td>\n",
              "      <td>2</td>\n",
              "      <td>1</td>\n",
              "      <td>2</td>\n",
              "      <td>2</td>\n",
              "      <td>1</td>\n",
              "      <td>2</td>\n",
              "      <td>2</td>\n",
              "      <td>4</td>\n",
              "      <td>2</td>\n",
              "      <td>3</td>\n",
              "      <td>1</td>\n",
              "      <td>2</td>\n",
              "    </tr>\n",
              "    <tr>\n",
              "      <th>11</th>\n",
              "      <td>3</td>\n",
              "      <td>2</td>\n",
              "      <td>2</td>\n",
              "      <td>3</td>\n",
              "      <td>3</td>\n",
              "      <td>2</td>\n",
              "      <td>2</td>\n",
              "      <td>2</td>\n",
              "      <td>3</td>\n",
              "      <td>1</td>\n",
              "      <td>1</td>\n",
              "      <td>1</td>\n",
              "      <td>2</td>\n",
              "      <td>0</td>\n",
              "      <td>2</td>\n",
              "      <td>3</td>\n",
              "      <td>1</td>\n",
              "      <td>3</td>\n",
              "      <td>3</td>\n",
              "      <td>1</td>\n",
              "      <td>1</td>\n",
              "      <td>1</td>\n",
              "      <td>3</td>\n",
              "      <td>1</td>\n",
              "      <td>2</td>\n",
              "      <td>3</td>\n",
              "      <td>1</td>\n",
              "      <td>2</td>\n",
              "      <td>1</td>\n",
              "      <td>3</td>\n",
              "      <td>0</td>\n",
              "      <td>2</td>\n",
              "      <td>2</td>\n",
              "      <td>2</td>\n",
              "    </tr>\n",
              "    <tr>\n",
              "      <th>12</th>\n",
              "      <td>3</td>\n",
              "      <td>4</td>\n",
              "      <td>1</td>\n",
              "      <td>4</td>\n",
              "      <td>4</td>\n",
              "      <td>2</td>\n",
              "      <td>3</td>\n",
              "      <td>3</td>\n",
              "      <td>1</td>\n",
              "      <td>3</td>\n",
              "      <td>4</td>\n",
              "      <td>2</td>\n",
              "      <td>4</td>\n",
              "      <td>4</td>\n",
              "      <td>2</td>\n",
              "      <td>2</td>\n",
              "      <td>1</td>\n",
              "      <td>1</td>\n",
              "      <td>3</td>\n",
              "      <td>0</td>\n",
              "      <td>4</td>\n",
              "      <td>2</td>\n",
              "      <td>2</td>\n",
              "      <td>1</td>\n",
              "      <td>2</td>\n",
              "      <td>2</td>\n",
              "      <td>0</td>\n",
              "      <td>4</td>\n",
              "      <td>1</td>\n",
              "      <td>4</td>\n",
              "      <td>2</td>\n",
              "      <td>4</td>\n",
              "      <td>2</td>\n",
              "      <td>2</td>\n",
              "    </tr>\n",
              "    <tr>\n",
              "      <th>13</th>\n",
              "      <td>3</td>\n",
              "      <td>3</td>\n",
              "      <td>2</td>\n",
              "      <td>2</td>\n",
              "      <td>3</td>\n",
              "      <td>2</td>\n",
              "      <td>3</td>\n",
              "      <td>2</td>\n",
              "      <td>3</td>\n",
              "      <td>3</td>\n",
              "      <td>0</td>\n",
              "      <td>2</td>\n",
              "      <td>3</td>\n",
              "      <td>3</td>\n",
              "      <td>2</td>\n",
              "      <td>3</td>\n",
              "      <td>1</td>\n",
              "      <td>3</td>\n",
              "      <td>4</td>\n",
              "      <td>2</td>\n",
              "      <td>3</td>\n",
              "      <td>2</td>\n",
              "      <td>2</td>\n",
              "      <td>1</td>\n",
              "      <td>2</td>\n",
              "      <td>3</td>\n",
              "      <td>0</td>\n",
              "      <td>3</td>\n",
              "      <td>1</td>\n",
              "      <td>4</td>\n",
              "      <td>2</td>\n",
              "      <td>4</td>\n",
              "      <td>1</td>\n",
              "      <td>4</td>\n",
              "    </tr>\n",
              "    <tr>\n",
              "      <th>14</th>\n",
              "      <td>1</td>\n",
              "      <td>4</td>\n",
              "      <td>1</td>\n",
              "      <td>1</td>\n",
              "      <td>4</td>\n",
              "      <td>9</td>\n",
              "      <td>4</td>\n",
              "      <td>2</td>\n",
              "      <td>1</td>\n",
              "      <td>4</td>\n",
              "      <td>3</td>\n",
              "      <td>3</td>\n",
              "      <td>4</td>\n",
              "      <td>4</td>\n",
              "      <td>2</td>\n",
              "      <td>1</td>\n",
              "      <td>1</td>\n",
              "      <td>2</td>\n",
              "      <td>4</td>\n",
              "      <td>0</td>\n",
              "      <td>4</td>\n",
              "      <td>1</td>\n",
              "      <td>3</td>\n",
              "      <td>1</td>\n",
              "      <td>2</td>\n",
              "      <td>3</td>\n",
              "      <td>1</td>\n",
              "      <td>4</td>\n",
              "      <td>1</td>\n",
              "      <td>4</td>\n",
              "      <td>3</td>\n",
              "      <td>4</td>\n",
              "      <td>2</td>\n",
              "      <td>2</td>\n",
              "    </tr>\n",
              "    <tr>\n",
              "      <th>15</th>\n",
              "      <td>1</td>\n",
              "      <td>9</td>\n",
              "      <td>2</td>\n",
              "      <td>4</td>\n",
              "      <td>9</td>\n",
              "      <td>2</td>\n",
              "      <td>9</td>\n",
              "      <td>2</td>\n",
              "      <td>2</td>\n",
              "      <td>9</td>\n",
              "      <td>9</td>\n",
              "      <td>2</td>\n",
              "      <td>9</td>\n",
              "      <td>9</td>\n",
              "      <td>2</td>\n",
              "      <td>1</td>\n",
              "      <td>2</td>\n",
              "      <td>3</td>\n",
              "      <td>3</td>\n",
              "      <td>0</td>\n",
              "      <td>9</td>\n",
              "      <td>1</td>\n",
              "      <td>2</td>\n",
              "      <td>1</td>\n",
              "      <td>1</td>\n",
              "      <td>2</td>\n",
              "      <td>1</td>\n",
              "      <td>9</td>\n",
              "      <td>2</td>\n",
              "      <td>9</td>\n",
              "      <td>9</td>\n",
              "      <td>9</td>\n",
              "      <td>4</td>\n",
              "      <td>2</td>\n",
              "    </tr>\n",
              "    <tr>\n",
              "      <th>16</th>\n",
              "      <td>3</td>\n",
              "      <td>3</td>\n",
              "      <td>1</td>\n",
              "      <td>3</td>\n",
              "      <td>4</td>\n",
              "      <td>2</td>\n",
              "      <td>4</td>\n",
              "      <td>1</td>\n",
              "      <td>2</td>\n",
              "      <td>2</td>\n",
              "      <td>3</td>\n",
              "      <td>2</td>\n",
              "      <td>4</td>\n",
              "      <td>4</td>\n",
              "      <td>2</td>\n",
              "      <td>2</td>\n",
              "      <td>9</td>\n",
              "      <td>3</td>\n",
              "      <td>3</td>\n",
              "      <td>2</td>\n",
              "      <td>3</td>\n",
              "      <td>2</td>\n",
              "      <td>2</td>\n",
              "      <td>1</td>\n",
              "      <td>2</td>\n",
              "      <td>3</td>\n",
              "      <td>1</td>\n",
              "      <td>2</td>\n",
              "      <td>1</td>\n",
              "      <td>4</td>\n",
              "      <td>2</td>\n",
              "      <td>4</td>\n",
              "      <td>1</td>\n",
              "      <td>2</td>\n",
              "    </tr>\n",
              "    <tr>\n",
              "      <th>17</th>\n",
              "      <td>3</td>\n",
              "      <td>2</td>\n",
              "      <td>1</td>\n",
              "      <td>3</td>\n",
              "      <td>4</td>\n",
              "      <td>2</td>\n",
              "      <td>3</td>\n",
              "      <td>2</td>\n",
              "      <td>2</td>\n",
              "      <td>1</td>\n",
              "      <td>2</td>\n",
              "      <td>2</td>\n",
              "      <td>4</td>\n",
              "      <td>3</td>\n",
              "      <td>2</td>\n",
              "      <td>1</td>\n",
              "      <td>1</td>\n",
              "      <td>2</td>\n",
              "      <td>1</td>\n",
              "      <td>1</td>\n",
              "      <td>3</td>\n",
              "      <td>2</td>\n",
              "      <td>2</td>\n",
              "      <td>1</td>\n",
              "      <td>2</td>\n",
              "      <td>2</td>\n",
              "      <td>0</td>\n",
              "      <td>1</td>\n",
              "      <td>1</td>\n",
              "      <td>3</td>\n",
              "      <td>1</td>\n",
              "      <td>3</td>\n",
              "      <td>1</td>\n",
              "      <td>3</td>\n",
              "    </tr>\n",
              "    <tr>\n",
              "      <th>18</th>\n",
              "      <td>3</td>\n",
              "      <td>4</td>\n",
              "      <td>2</td>\n",
              "      <td>3</td>\n",
              "      <td>4</td>\n",
              "      <td>2</td>\n",
              "      <td>4</td>\n",
              "      <td>2</td>\n",
              "      <td>2</td>\n",
              "      <td>4</td>\n",
              "      <td>3</td>\n",
              "      <td>1</td>\n",
              "      <td>4</td>\n",
              "      <td>4</td>\n",
              "      <td>1</td>\n",
              "      <td>3</td>\n",
              "      <td>1</td>\n",
              "      <td>2</td>\n",
              "      <td>4</td>\n",
              "      <td>1</td>\n",
              "      <td>4</td>\n",
              "      <td>2</td>\n",
              "      <td>4</td>\n",
              "      <td>1</td>\n",
              "      <td>9</td>\n",
              "      <td>3</td>\n",
              "      <td>1</td>\n",
              "      <td>4</td>\n",
              "      <td>1</td>\n",
              "      <td>4</td>\n",
              "      <td>1</td>\n",
              "      <td>4</td>\n",
              "      <td>1</td>\n",
              "      <td>4</td>\n",
              "    </tr>\n",
              "    <tr>\n",
              "      <th>19</th>\n",
              "      <td>0</td>\n",
              "      <td>2</td>\n",
              "      <td>1</td>\n",
              "      <td>2</td>\n",
              "      <td>4</td>\n",
              "      <td>1</td>\n",
              "      <td>3</td>\n",
              "      <td>2</td>\n",
              "      <td>1</td>\n",
              "      <td>1</td>\n",
              "      <td>2</td>\n",
              "      <td>2</td>\n",
              "      <td>3</td>\n",
              "      <td>2</td>\n",
              "      <td>2</td>\n",
              "      <td>2</td>\n",
              "      <td>1</td>\n",
              "      <td>2</td>\n",
              "      <td>2</td>\n",
              "      <td>0</td>\n",
              "      <td>3</td>\n",
              "      <td>2</td>\n",
              "      <td>2</td>\n",
              "      <td>3</td>\n",
              "      <td>2</td>\n",
              "      <td>2</td>\n",
              "      <td>1</td>\n",
              "      <td>2</td>\n",
              "      <td>2</td>\n",
              "      <td>0</td>\n",
              "      <td>0</td>\n",
              "      <td>3</td>\n",
              "      <td>1</td>\n",
              "      <td>2</td>\n",
              "    </tr>\n",
              "  </tbody>\n",
              "</table>\n",
              "</div>"
            ],
            "text/plain": [
              "    oks_t0_shopping  oks_t1_transport  oks_t0_limping  oks_t0_confidence  \\\n",
              "0                 2                 3               0                  2   \n",
              "1                 4                 3               1                  3   \n",
              "2                 3                 4               2                  3   \n",
              "3                 3                 4               2                  3   \n",
              "4                 0                 2               0                  0   \n",
              "5                 2                 4               3                  4   \n",
              "6                 3                 4               3                  3   \n",
              "7                 1                 3               1                  0   \n",
              "8                 0                 2               2                  1   \n",
              "9                 3                 4               3                  2   \n",
              "10                2                 3               1                  3   \n",
              "11                3                 2               2                  3   \n",
              "12                3                 4               1                  4   \n",
              "13                3                 3               2                  2   \n",
              "14                1                 4               1                  1   \n",
              "15                1                 9               2                  4   \n",
              "16                3                 3               1                  3   \n",
              "17                3                 2               1                  3   \n",
              "18                3                 4               2                  3   \n",
              "19                0                 2               1                  2   \n",
              "\n",
              "    oks_t1_confidence  t0_disability  oks_t1_standing  t0_discomfort  \\\n",
              "0                   4              1                3              2   \n",
              "1                   3              2                4              9   \n",
              "2                   4              2                4              9   \n",
              "3                   3              1                4              9   \n",
              "4                   3              1                3              9   \n",
              "5                   4              2                3              9   \n",
              "6                   4              2                3              2   \n",
              "7                   4              1                3              2   \n",
              "8                   3              1                3              3   \n",
              "9                   4              2                4              2   \n",
              "10                  4              2                3              2   \n",
              "11                  3              2                2              2   \n",
              "12                  4              2                3              3   \n",
              "13                  3              2                3              2   \n",
              "14                  4              9                4              2   \n",
              "15                  9              2                9              2   \n",
              "16                  4              2                4              1   \n",
              "17                  4              2                3              2   \n",
              "18                  4              2                4              2   \n",
              "19                  4              1                3              2   \n",
              "\n",
              "    oks_t0_work  oks_t1_pain  oks_t1_stairs  t0_activity  oks_t1_shopping  \\\n",
              "0             1            3              3            2                4   \n",
              "1             4            4              4            9                4   \n",
              "2             3            4              4            9                4   \n",
              "3             1            3              3            9                4   \n",
              "4             1            2              1            2                2   \n",
              "5             2            1              3            2                3   \n",
              "6             3            3              3            1                4   \n",
              "7             0            4              4            3                4   \n",
              "8             2            3              1            2                0   \n",
              "9             2            4              4            2                4   \n",
              "10            2            2              4            2                4   \n",
              "11            3            1              1            1                2   \n",
              "12            1            3              4            2                4   \n",
              "13            3            3              0            2                3   \n",
              "14            1            4              3            3                4   \n",
              "15            2            9              9            2                9   \n",
              "16            2            2              3            2                4   \n",
              "17            2            1              2            2                4   \n",
              "18            2            4              3            1                4   \n",
              "19            1            1              2            2                3   \n",
              "\n",
              "    oks_t1_limping  t0_mobility  oks_t0_stairs  t0_living_arrangements  \\\n",
              "0                4            2              2                       2   \n",
              "1                4            9              4                       2   \n",
              "2                4            9              4                       1   \n",
              "3                4            9              2                       2   \n",
              "4                3            2              0                       2   \n",
              "5                3            2              3                       1   \n",
              "6                4            1              2                       1   \n",
              "7                4            2              1                       1   \n",
              "8                3            2              1                       2   \n",
              "9                4            2              3                       1   \n",
              "10               3            2              2                       1   \n",
              "11               0            2              3                       1   \n",
              "12               4            2              2                       1   \n",
              "13               3            2              3                       1   \n",
              "14               4            2              1                       1   \n",
              "15               9            2              1                       2   \n",
              "16               4            2              2                       9   \n",
              "17               3            2              1                       1   \n",
              "18               4            1              3                       1   \n",
              "19               2            2              2                       1   \n",
              "\n",
              "    oks_t0_standing  oks_t0_washing  oks_t0_kneeling  oks_t1_work  \\\n",
              "0                 2               2                1            4   \n",
              "1                 4               4                4            3   \n",
              "2                 4               4                3            4   \n",
              "3                 2               2                0            3   \n",
              "4                 1               4                1            2   \n",
              "5                 2               4                1            2   \n",
              "6                 2               4                2            3   \n",
              "7                 1               2                0            4   \n",
              "8                 1               3                1            3   \n",
              "9                 3               4                0            4   \n",
              "10                1               2                1            3   \n",
              "11                3               3                1            1   \n",
              "12                1               3                0            4   \n",
              "13                3               4                2            3   \n",
              "14                2               4                0            4   \n",
              "15                3               3                0            9   \n",
              "16                3               3                2            3   \n",
              "17                2               1                1            3   \n",
              "18                2               4                1            4   \n",
              "19                2               2                0            3   \n",
              "\n",
              "    t0_assisted  oks_t0_transport  t0_anxiety  t0_previous_surgery  \\\n",
              "0             2                 2           1                    2   \n",
              "1             2                 4           9                    2   \n",
              "2             2                 4           9                    2   \n",
              "3             2                 2           9                    2   \n",
              "4             1                 2           1                    2   \n",
              "5             1                 4           1                    2   \n",
              "6             2                 3           1                    2   \n",
              "7             2                 1           1                    2   \n",
              "8             2                 2           1                    2   \n",
              "9             1                 4           1                    2   \n",
              "10            2                 2           1                    2   \n",
              "11            1                 3           1                    2   \n",
              "12            2                 2           1                    2   \n",
              "13            2                 2           1                    2   \n",
              "14            1                 3           1                    2   \n",
              "15            1                 2           1                    1   \n",
              "16            2                 2           1                    2   \n",
              "17            2                 2           1                    2   \n",
              "18            2                 4           1                    9   \n",
              "19            2                 2           3                    2   \n",
              "\n",
              "    oks_t0_walking  oks_t0_pain  oks_t1_night_pain  t0_self_care  \\\n",
              "0                2            0                  3             1   \n",
              "1                0            1                  4             9   \n",
              "2                2            1                  4             9   \n",
              "3                2            1                  2             9   \n",
              "4                2            0                  2             1   \n",
              "5                3            0                  1             1   \n",
              "6                4            1                  4             1   \n",
              "7                2            0                  4             2   \n",
              "8                2            0                  3             1   \n",
              "9                2            1                  4             1   \n",
              "10               2            1                  2             2   \n",
              "11               3            1                  2             1   \n",
              "12               2            0                  4             1   \n",
              "13               3            0                  3             1   \n",
              "14               3            1                  4             1   \n",
              "15               2            1                  9             2   \n",
              "16               3            1                  2             1   \n",
              "17               2            0                  1             1   \n",
              "18               3            1                  4             1   \n",
              "19               2            1                  2             2   \n",
              "\n",
              "    oks_t1_washing  oks_t1_kneeling  oks_t1_walking  oks_t0_night_pain  \\\n",
              "0                4                2               3                  1   \n",
              "1                4                3               4                  4   \n",
              "2                4                2               4                  4   \n",
              "3                4                1               1                  2   \n",
              "4                4                2               2                  1   \n",
              "5                3                1               2                  1   \n",
              "6                4                2               4                  2   \n",
              "7                4                3               4                  1   \n",
              "8                4                1               1                  1   \n",
              "9                4                4               4                  2   \n",
              "10               4                2               3                  1   \n",
              "11               3                0               2                  2   \n",
              "12               4                2               4                  2   \n",
              "13               4                2               4                  1   \n",
              "14               4                3               4                  2   \n",
              "15               9                9               9                  4   \n",
              "16               4                2               4                  1   \n",
              "17               3                1               3                  1   \n",
              "18               4                1               4                  1   \n",
              "19               0                0               3                  1   \n",
              "\n",
              "    t0_symptom_period  \n",
              "0                   2  \n",
              "1                   2  \n",
              "2                   2  \n",
              "3                   2  \n",
              "4                   3  \n",
              "5                   4  \n",
              "6                   3  \n",
              "7                   2  \n",
              "8                   3  \n",
              "9                   2  \n",
              "10                  2  \n",
              "11                  2  \n",
              "12                  2  \n",
              "13                  4  \n",
              "14                  2  \n",
              "15                  2  \n",
              "16                  2  \n",
              "17                  3  \n",
              "18                  4  \n",
              "19                  2  "
            ]
          },
          "metadata": {},
          "execution_count": 9
        }
      ]
    },
    {
      "cell_type": "markdown",
      "metadata": {
        "id": "MHXCCci5uIIZ"
      },
      "source": [
        "Now we are ready to impute the missings using the median (for numeric variables) and most frequent value (for categorical variables). However, we first need to be aware of so-called 'data-leaking': \n",
        "\n",
        "When we impute missing values using information from other data instances, we are also using information from data instances that will end up in our test set. This will give our process of model development an unfair advantage, and will result in an overly optimistic assessment of model performance. \n",
        "\n",
        "Even though the degree of data-leakage is very small when imputing using the median and the most frequent value, the correct thing to do is to first split the data into a training and test set."
      ]
    },
    {
      "cell_type": "code",
      "metadata": {
        "id": "pZCVOTIukAj7"
      },
      "source": [
        "# randomly splitting the data into a train and test set\n",
        "df_train, df_test = train_test_split(df_temp, test_size=0.3, random_state=42)"
      ],
      "execution_count": 10,
      "outputs": []
    },
    {
      "cell_type": "markdown",
      "metadata": {
        "id": "GihvVg4ukaTq"
      },
      "source": [
        "Now we can impute the values in the training set, using the readily available functionality in the sklearn module. We work with a copy of the training data to be able to check our work and compare the imputed and not imputed versions of the data."
      ]
    },
    {
      "cell_type": "code",
      "metadata": {
        "colab": {
          "base_uri": "https://localhost:8080/",
          "height": 374
        },
        "id": "NSwOZIodZqNJ",
        "outputId": "1839e5c1-7d11-4e6d-ec8e-75b8c5ee275f"
      },
      "source": [
        "from sklearn.impute import SimpleImputer\n",
        "\n",
        "impute_median = SimpleImputer(strategy='median')\n",
        "impute_most_frequent = SimpleImputer(strategy='most_frequent')\n",
        "\n",
        "# use copy of original data\n",
        "dfc = df_train.copy()\n",
        "\n",
        "# replace 9 with np.nan and determine most frequent value for imputation\n",
        "dfc.loc[:,cols_sentinel_9] = df_train.loc[:,cols_sentinel_9].replace(9, np.nan)\n",
        "impute_most_frequent.fit(dfc[cols_sentinel_9])\n",
        "pd.DataFrame({'columns': cols_sentinel_9, 'most_frequent': impute_most_frequent.statistics_}).head(10)"
      ],
      "execution_count": 11,
      "outputs": [
        {
          "output_type": "execute_result",
          "data": {
            "text/html": [
              "<div>\n",
              "<style scoped>\n",
              "    .dataframe tbody tr th:only-of-type {\n",
              "        vertical-align: middle;\n",
              "    }\n",
              "\n",
              "    .dataframe tbody tr th {\n",
              "        vertical-align: top;\n",
              "    }\n",
              "\n",
              "    .dataframe thead th {\n",
              "        text-align: right;\n",
              "    }\n",
              "</style>\n",
              "<table border=\"1\" class=\"dataframe\">\n",
              "  <thead>\n",
              "    <tr style=\"text-align: right;\">\n",
              "      <th></th>\n",
              "      <th>columns</th>\n",
              "      <th>most_frequent</th>\n",
              "    </tr>\n",
              "  </thead>\n",
              "  <tbody>\n",
              "    <tr>\n",
              "      <th>0</th>\n",
              "      <td>oks_t0_shopping</td>\n",
              "      <td>2.0</td>\n",
              "    </tr>\n",
              "    <tr>\n",
              "      <th>1</th>\n",
              "      <td>oks_t1_transport</td>\n",
              "      <td>4.0</td>\n",
              "    </tr>\n",
              "    <tr>\n",
              "      <th>2</th>\n",
              "      <td>oks_t0_limping</td>\n",
              "      <td>0.0</td>\n",
              "    </tr>\n",
              "    <tr>\n",
              "      <th>3</th>\n",
              "      <td>oks_t0_confidence</td>\n",
              "      <td>1.0</td>\n",
              "    </tr>\n",
              "    <tr>\n",
              "      <th>4</th>\n",
              "      <td>oks_t1_confidence</td>\n",
              "      <td>4.0</td>\n",
              "    </tr>\n",
              "    <tr>\n",
              "      <th>5</th>\n",
              "      <td>t0_disability</td>\n",
              "      <td>1.0</td>\n",
              "    </tr>\n",
              "    <tr>\n",
              "      <th>6</th>\n",
              "      <td>oks_t1_standing</td>\n",
              "      <td>3.0</td>\n",
              "    </tr>\n",
              "    <tr>\n",
              "      <th>7</th>\n",
              "      <td>t0_discomfort</td>\n",
              "      <td>2.0</td>\n",
              "    </tr>\n",
              "    <tr>\n",
              "      <th>8</th>\n",
              "      <td>oks_t0_work</td>\n",
              "      <td>1.0</td>\n",
              "    </tr>\n",
              "    <tr>\n",
              "      <th>9</th>\n",
              "      <td>oks_t1_pain</td>\n",
              "      <td>3.0</td>\n",
              "    </tr>\n",
              "  </tbody>\n",
              "</table>\n",
              "</div>"
            ],
            "text/plain": [
              "             columns  most_frequent\n",
              "0    oks_t0_shopping            2.0\n",
              "1   oks_t1_transport            4.0\n",
              "2     oks_t0_limping            0.0\n",
              "3  oks_t0_confidence            1.0\n",
              "4  oks_t1_confidence            4.0\n",
              "5      t0_disability            1.0\n",
              "6    oks_t1_standing            3.0\n",
              "7      t0_discomfort            2.0\n",
              "8        oks_t0_work            1.0\n",
              "9        oks_t1_pain            3.0"
            ]
          },
          "metadata": {},
          "execution_count": 11
        }
      ]
    },
    {
      "cell_type": "markdown",
      "metadata": {
        "id": "Uy6ofUZam50J"
      },
      "source": [
        "All the 9s in the relevant columns have now been replaced by missings:"
      ]
    },
    {
      "cell_type": "code",
      "metadata": {
        "colab": {
          "base_uri": "https://localhost:8080/"
        },
        "id": "LNvITQdWmd32",
        "outputId": "232ef8ac-ebb6-4aa6-bb7a-2a26f708b963"
      },
      "source": [
        "dfc[cols_sentinel_9].isnull().sum()"
      ],
      "execution_count": 12,
      "outputs": [
        {
          "output_type": "execute_result",
          "data": {
            "text/plain": [
              "oks_t0_shopping            926\n",
              "oks_t1_transport           857\n",
              "oks_t0_limping             986\n",
              "oks_t0_confidence          920\n",
              "oks_t1_confidence          657\n",
              "t0_disability             4111\n",
              "oks_t1_standing            685\n",
              "t0_discomfort             3851\n",
              "oks_t0_work                941\n",
              "oks_t1_pain                896\n",
              "oks_t1_stairs              682\n",
              "t0_activity               3112\n",
              "oks_t1_shopping            691\n",
              "oks_t1_limping             749\n",
              "t0_mobility               2986\n",
              "oks_t0_stairs              913\n",
              "t0_living_arrangements    1473\n",
              "oks_t0_standing           1009\n",
              "oks_t0_washing              88\n",
              "oks_t0_kneeling            973\n",
              "oks_t1_work                718\n",
              "t0_assisted               1076\n",
              "oks_t0_transport           929\n",
              "t0_anxiety                3574\n",
              "t0_previous_surgery        735\n",
              "oks_t0_walking            1004\n",
              "oks_t0_pain                133\n",
              "oks_t1_night_pain          614\n",
              "t0_self_care              3062\n",
              "oks_t1_washing             866\n",
              "oks_t1_kneeling            738\n",
              "oks_t1_walking             876\n",
              "oks_t0_night_pain          899\n",
              "t0_symptom_period          845\n",
              "dtype: int64"
            ]
          },
          "metadata": {},
          "execution_count": 12
        }
      ]
    },
    {
      "cell_type": "markdown",
      "metadata": {
        "id": "aaJpE3B3nBWJ"
      },
      "source": [
        "And these can now be imputed using the most frequent values:"
      ]
    },
    {
      "cell_type": "code",
      "metadata": {
        "id": "TX9u06GEbYS1"
      },
      "source": [
        "# assign most frequent data to the missing values for the selected columns\n",
        "dfc.loc[:, cols_sentinel_9] = impute_most_frequent.transform(dfc[cols_sentinel_9])"
      ],
      "execution_count": 13,
      "outputs": []
    },
    {
      "cell_type": "markdown",
      "metadata": {
        "id": "a6l6CQ7BneiY"
      },
      "source": [
        "After which all the missings in these columns have been replaced:"
      ]
    },
    {
      "cell_type": "code",
      "metadata": {
        "colab": {
          "base_uri": "https://localhost:8080/"
        },
        "id": "Gk5fTJz_njE_",
        "outputId": "a45db18d-6171-49cc-db9e-fae821c5571d"
      },
      "source": [
        "dfc[cols_sentinel_9].isnull().sum()"
      ],
      "execution_count": 14,
      "outputs": [
        {
          "output_type": "execute_result",
          "data": {
            "text/plain": [
              "oks_t0_shopping           0\n",
              "oks_t1_transport          0\n",
              "oks_t0_limping            0\n",
              "oks_t0_confidence         0\n",
              "oks_t1_confidence         0\n",
              "t0_disability             0\n",
              "oks_t1_standing           0\n",
              "t0_discomfort             0\n",
              "oks_t0_work               0\n",
              "oks_t1_pain               0\n",
              "oks_t1_stairs             0\n",
              "t0_activity               0\n",
              "oks_t1_shopping           0\n",
              "oks_t1_limping            0\n",
              "t0_mobility               0\n",
              "oks_t0_stairs             0\n",
              "t0_living_arrangements    0\n",
              "oks_t0_standing           0\n",
              "oks_t0_washing            0\n",
              "oks_t0_kneeling           0\n",
              "oks_t1_work               0\n",
              "t0_assisted               0\n",
              "oks_t0_transport          0\n",
              "t0_anxiety                0\n",
              "t0_previous_surgery       0\n",
              "oks_t0_walking            0\n",
              "oks_t0_pain               0\n",
              "oks_t1_night_pain         0\n",
              "t0_self_care              0\n",
              "oks_t1_washing            0\n",
              "oks_t1_kneeling           0\n",
              "oks_t1_walking            0\n",
              "oks_t0_night_pain         0\n",
              "t0_symptom_period         0\n",
              "dtype: int64"
            ]
          },
          "metadata": {},
          "execution_count": 14
        }
      ]
    },
    {
      "cell_type": "markdown",
      "metadata": {
        "id": "O798gQs9nsYQ"
      },
      "source": [
        "But these were not the only categorical variables with missing information. We have to do apply the same procedure to age_band and gender"
      ]
    },
    {
      "cell_type": "code",
      "metadata": {
        "colab": {
          "base_uri": "https://localhost:8080/"
        },
        "id": "ivAgp4JtoNED",
        "outputId": "f92c85fa-ad8f-402b-fa03-5203b8b8e7a5"
      },
      "source": [
        "dfc[['age_band', 'gender']].isnull().sum()"
      ],
      "execution_count": 15,
      "outputs": [
        {
          "output_type": "execute_result",
          "data": {
            "text/plain": [
              "age_band    6564\n",
              "gender      6564\n",
              "dtype: int64"
            ]
          },
          "metadata": {},
          "execution_count": 15
        }
      ]
    },
    {
      "cell_type": "code",
      "metadata": {
        "colab": {
          "base_uri": "https://localhost:8080/",
          "height": 130
        },
        "id": "TRH3MEEVoNhj",
        "outputId": "d753c1eb-f4cb-46f4-a735-377d514482e0"
      },
      "source": [
        "impute_most_frequent.fit(dfc[['age_band', 'gender']])\n",
        "pd.DataFrame({'columns': ['age_band', 'gender'], 'most_frequent': impute_most_frequent.statistics_})"
      ],
      "execution_count": 17,
      "outputs": [
        {
          "output_type": "execute_result",
          "data": {
            "text/html": [
              "<div>\n",
              "<style scoped>\n",
              "    .dataframe tbody tr th:only-of-type {\n",
              "        vertical-align: middle;\n",
              "    }\n",
              "\n",
              "    .dataframe tbody tr th {\n",
              "        vertical-align: top;\n",
              "    }\n",
              "\n",
              "    .dataframe thead th {\n",
              "        text-align: right;\n",
              "    }\n",
              "</style>\n",
              "<table border=\"1\" class=\"dataframe\">\n",
              "  <thead>\n",
              "    <tr style=\"text-align: right;\">\n",
              "      <th></th>\n",
              "      <th>columns</th>\n",
              "      <th>most_frequent</th>\n",
              "    </tr>\n",
              "  </thead>\n",
              "  <tbody>\n",
              "    <tr>\n",
              "      <th>0</th>\n",
              "      <td>age_band</td>\n",
              "      <td>70 to 79</td>\n",
              "    </tr>\n",
              "    <tr>\n",
              "      <th>1</th>\n",
              "      <td>gender</td>\n",
              "      <td>2</td>\n",
              "    </tr>\n",
              "  </tbody>\n",
              "</table>\n",
              "</div>"
            ],
            "text/plain": [
              "    columns most_frequent\n",
              "0  age_band      70 to 79\n",
              "1    gender             2"
            ]
          },
          "metadata": {},
          "execution_count": 17
        }
      ]
    },
    {
      "cell_type": "code",
      "metadata": {
        "id": "_mCMZtr3qQbn"
      },
      "source": [
        "# assign most frequent data to the missing values for the age and gender\n",
        "dfc.loc[:, ['age_band', 'gender']] = impute_most_frequent.transform(dfc[['age_band', 'gender']])"
      ],
      "execution_count": 18,
      "outputs": []
    },
    {
      "cell_type": "code",
      "metadata": {
        "colab": {
          "base_uri": "https://localhost:8080/"
        },
        "id": "l8T5MF2rqaqa",
        "outputId": "5c579886-4fe2-45be-b2cb-32111eeb7817"
      },
      "source": [
        "# and our check:\n",
        "dfc[['age_band', 'gender']].isnull().sum()"
      ],
      "execution_count": 19,
      "outputs": [
        {
          "output_type": "execute_result",
          "data": {
            "text/plain": [
              "age_band    0\n",
              "gender      0\n",
              "dtype: int64"
            ]
          },
          "metadata": {},
          "execution_count": 19
        }
      ]
    },
    {
      "cell_type": "markdown",
      "metadata": {
        "id": "nmex5XUbsxtO"
      },
      "source": [
        "The eq_vas variables used 999 as sentinal values, so we can apply a similar procedure to these variables. As these variables contain numeric values, we use the median for imputation, rather than the most frequent value:"
      ]
    },
    {
      "cell_type": "code",
      "metadata": {
        "colab": {
          "base_uri": "https://localhost:8080/"
        },
        "id": "xKJtMS0H3GRK",
        "outputId": "197eacc2-db01-4547-cc68-b61b9c626214"
      },
      "source": [
        "# same procedure for 999 sentinel values, using impute median\n",
        "eq_vas = ['t0_eq_vas', 't1_eq_vas']\n",
        "dfc.loc[:, eq_vas] = dfc.loc[:,eq_vas].replace(999, np.nan)\n",
        "impute_median.fit(dfc.loc[:,eq_vas])\n",
        "dfc.loc[:,eq_vas] = impute_median.transform(dfc.loc[:,eq_vas])\n",
        "impute_median.statistics_"
      ],
      "execution_count": 20,
      "outputs": [
        {
          "output_type": "execute_result",
          "data": {
            "text/plain": [
              "array([70., 80.])"
            ]
          },
          "metadata": {},
          "execution_count": 20
        }
      ]
    },
    {
      "cell_type": "code",
      "metadata": {
        "colab": {
          "base_uri": "https://localhost:8080/"
        },
        "id": "zKtWW3u5ttTR",
        "outputId": "c56565d3-e7b3-4493-a21b-e9d0e353b182"
      },
      "source": [
        "dfc.isnull().sum()"
      ],
      "execution_count": 21,
      "outputs": [
        {
          "output_type": "execute_result",
          "data": {
            "text/plain": [
              "provider_code                       0\n",
              "procedure                           0\n",
              "revision_flag                       0\n",
              "year                                0\n",
              "age_band                            0\n",
              "gender                              0\n",
              "t0_assisted                         0\n",
              "t0_symptom_period                   0\n",
              "t0_previous_surgery                 0\n",
              "t0_living_arrangements              0\n",
              "t0_disability                       0\n",
              "heart_disease                       0\n",
              "high_bp                             0\n",
              "stroke                              0\n",
              "circulation                         0\n",
              "lung_disease                        0\n",
              "diabetes                            0\n",
              "kidney_disease                      0\n",
              "nervous_system                      0\n",
              "liver_disease                       0\n",
              "cancer                              0\n",
              "depression                          0\n",
              "arthritis                           0\n",
              "t0_mobility                         0\n",
              "t0_self_care                        0\n",
              "t0_activity                         0\n",
              "t0_discomfort                       0\n",
              "t0_anxiety                          0\n",
              "t0_eq5d_index                    5196\n",
              "oks_eq_5d_index_t1_predicted     9979\n",
              "t0_eq_vas                           0\n",
              "t1_eq_vas                           0\n",
              "oks_eq_vas_t1_predicted         13547\n",
              "oks_t0_pain                         0\n",
              "oks_t0_night_pain                   0\n",
              "oks_t0_washing                      0\n",
              "oks_t0_transport                    0\n",
              "oks_t0_walking                      0\n",
              "oks_t0_standing                     0\n",
              "oks_t0_limping                      0\n",
              "oks_t0_kneeling                     0\n",
              "oks_t0_work                         0\n",
              "oks_t0_confidence                   0\n",
              "oks_t0_shopping                     0\n",
              "oks_t0_stairs                       0\n",
              "oks_t0_score                     1152\n",
              "oks_t1_pain                         0\n",
              "oks_t1_night_pain                   0\n",
              "oks_t1_washing                      0\n",
              "oks_t1_transport                    0\n",
              "oks_t1_walking                      0\n",
              "oks_t1_standing                     0\n",
              "oks_t1_limping                      0\n",
              "oks_t1_kneeling                     0\n",
              "oks_t1_work                         0\n",
              "oks_t1_confidence                   0\n",
              "oks_t1_shopping                     0\n",
              "oks_t1_stairs                       0\n",
              "oks_t1_score                     1796\n",
              "oks_oks_t1_predicted             3715\n",
              "dtype: int64"
            ]
          },
          "metadata": {},
          "execution_count": 21
        }
      ]
    },
    {
      "cell_type": "markdown",
      "metadata": {
        "id": "FFaphcjZyCqe"
      },
      "source": [
        "There are still a few variables containing missings:\n",
        "- t0_eq5d_index is a numeric variable which can be imputed using the median\n",
        "- we will leave the missings in the t1_variables for now (oks_t1_score, oks_oks_t1_predicted, oks_eq_vas_t1_predicted and oks_eq_5d_index_t1_predicted)\n",
        "- for the sake of the example, we can decide to exclude all instances where oks_t0_scores are missing, which has the implication that our model can only be applied in clinical practice to those patients for which oks_t0_scores are available."
      ]
    },
    {
      "cell_type": "code",
      "metadata": {
        "colab": {
          "base_uri": "https://localhost:8080/"
        },
        "id": "DbKLbH8jzSiC",
        "outputId": "1781ca42-b6f0-40c1-a2b7-d69941e1ac2c"
      },
      "source": [
        "# impute median for t0_eq5d_index\n",
        "impute_median.fit(dfc.loc[:,'t0_eq5d_index'].to_frame())\n",
        "dfc.loc[:,'t0_eq5d_index'] = impute_median.transform(dfc.loc[:,'t0_eq5d_index'].to_frame())\n",
        "impute_median.statistics_"
      ],
      "execution_count": 22,
      "outputs": [
        {
          "output_type": "execute_result",
          "data": {
            "text/plain": [
              "array([0.587], dtype=float32)"
            ]
          },
          "metadata": {},
          "execution_count": 22
        }
      ]
    },
    {
      "cell_type": "code",
      "metadata": {
        "id": "hIvgQRHx1W8e"
      },
      "source": [
        "# remove instances with missing oks_t0_scores\n",
        "dfc = dfc.dropna(subset=['oks_t0_score'])"
      ],
      "execution_count": 23,
      "outputs": []
    },
    {
      "cell_type": "markdown",
      "metadata": {
        "id": "tcOKQqLq3626"
      },
      "source": [
        "## Convert data types\n",
        "\n",
        "We now transform variables into the suitable data type, such that the data are in the proper format for building models."
      ]
    },
    {
      "cell_type": "code",
      "metadata": {
        "id": "2s0BJW7zcmtJ"
      },
      "source": [
        "# transform into boolean\n",
        "dfc['female'] = dfc.loc[:,'gender'].replace({1: False, 2: True})\n",
        "dfc.loc[:, comorb] = dfc.loc[:, comorb].replace({9: False, 1: True})\n",
        "boolean = ['t0_assisted', 't0_previous_surgery', 't0_disability']\n",
        "dfc.loc[:, boolean] = dfc.loc[:, boolean].replace({1: True, 2: False})"
      ],
      "execution_count": 24,
      "outputs": []
    },
    {
      "cell_type": "markdown",
      "metadata": {
        "id": "miNa_eJS4iU6"
      },
      "source": [
        "With the function below, we can describe how often True and False occurs within these boolean values: "
      ]
    },
    {
      "cell_type": "code",
      "metadata": {
        "colab": {
          "base_uri": "https://localhost:8080/",
          "height": 557
        },
        "id": "3s3U5oq00ton",
        "outputId": "a17a22e5-8e0a-4cb6-bb37-d08d36b9b607"
      },
      "source": [
        "# helper function for counting boolean attribues\n",
        "def count_boolean(series):\n",
        "    '''\n",
        "    Returns absolute and normalized value counts of pd.series as a dataframe with \n",
        "    index = series.name\n",
        "    columns with absolute and normalized counts of each value\n",
        "    '''\n",
        "    try:\n",
        "        count = series.value_counts().to_frame().transpose()\n",
        "        norm = series.value_counts(normalize=True).to_frame().transpose()\n",
        "        return count.join(norm, lsuffix='_count', rsuffix='_normalized') \n",
        "    except:\n",
        "        print('Error: expecting a pandas.Series object as input. \\n' + count_boolean.__doc__)\n",
        "        return None\n",
        "\n",
        "pd.concat([count_boolean(dfc[col]) for col in ['female'] + comorb + boolean]).round(2)"
      ],
      "execution_count": 25,
      "outputs": [
        {
          "output_type": "execute_result",
          "data": {
            "text/html": [
              "<div>\n",
              "<style scoped>\n",
              "    .dataframe tbody tr th:only-of-type {\n",
              "        vertical-align: middle;\n",
              "    }\n",
              "\n",
              "    .dataframe tbody tr th {\n",
              "        vertical-align: top;\n",
              "    }\n",
              "\n",
              "    .dataframe thead th {\n",
              "        text-align: right;\n",
              "    }\n",
              "</style>\n",
              "<table border=\"1\" class=\"dataframe\">\n",
              "  <thead>\n",
              "    <tr style=\"text-align: right;\">\n",
              "      <th></th>\n",
              "      <th>True_count</th>\n",
              "      <th>False_count</th>\n",
              "      <th>True_normalized</th>\n",
              "      <th>False_normalized</th>\n",
              "    </tr>\n",
              "  </thead>\n",
              "  <tbody>\n",
              "    <tr>\n",
              "      <th>female</th>\n",
              "      <td>57618</td>\n",
              "      <td>38503</td>\n",
              "      <td>0.60</td>\n",
              "      <td>0.40</td>\n",
              "    </tr>\n",
              "    <tr>\n",
              "      <th>heart_disease</th>\n",
              "      <td>8989</td>\n",
              "      <td>87132</td>\n",
              "      <td>0.09</td>\n",
              "      <td>0.91</td>\n",
              "    </tr>\n",
              "    <tr>\n",
              "      <th>high_bp</th>\n",
              "      <td>42691</td>\n",
              "      <td>53430</td>\n",
              "      <td>0.44</td>\n",
              "      <td>0.56</td>\n",
              "    </tr>\n",
              "    <tr>\n",
              "      <th>stroke</th>\n",
              "      <td>1562</td>\n",
              "      <td>94559</td>\n",
              "      <td>0.02</td>\n",
              "      <td>0.98</td>\n",
              "    </tr>\n",
              "    <tr>\n",
              "      <th>circulation</th>\n",
              "      <td>5393</td>\n",
              "      <td>90728</td>\n",
              "      <td>0.06</td>\n",
              "      <td>0.94</td>\n",
              "    </tr>\n",
              "    <tr>\n",
              "      <th>lung_disease</th>\n",
              "      <td>8813</td>\n",
              "      <td>87308</td>\n",
              "      <td>0.09</td>\n",
              "      <td>0.91</td>\n",
              "    </tr>\n",
              "    <tr>\n",
              "      <th>diabetes</th>\n",
              "      <td>12068</td>\n",
              "      <td>84053</td>\n",
              "      <td>0.13</td>\n",
              "      <td>0.87</td>\n",
              "    </tr>\n",
              "    <tr>\n",
              "      <th>kidney_disease</th>\n",
              "      <td>1970</td>\n",
              "      <td>94151</td>\n",
              "      <td>0.02</td>\n",
              "      <td>0.98</td>\n",
              "    </tr>\n",
              "    <tr>\n",
              "      <th>nervous_system</th>\n",
              "      <td>952</td>\n",
              "      <td>95169</td>\n",
              "      <td>0.01</td>\n",
              "      <td>0.99</td>\n",
              "    </tr>\n",
              "    <tr>\n",
              "      <th>liver_disease</th>\n",
              "      <td>551</td>\n",
              "      <td>95570</td>\n",
              "      <td>0.01</td>\n",
              "      <td>0.99</td>\n",
              "    </tr>\n",
              "    <tr>\n",
              "      <th>cancer</th>\n",
              "      <td>5200</td>\n",
              "      <td>90921</td>\n",
              "      <td>0.05</td>\n",
              "      <td>0.95</td>\n",
              "    </tr>\n",
              "    <tr>\n",
              "      <th>depression</th>\n",
              "      <td>8911</td>\n",
              "      <td>87210</td>\n",
              "      <td>0.09</td>\n",
              "      <td>0.91</td>\n",
              "    </tr>\n",
              "    <tr>\n",
              "      <th>arthritis</th>\n",
              "      <td>74192</td>\n",
              "      <td>21929</td>\n",
              "      <td>0.77</td>\n",
              "      <td>0.23</td>\n",
              "    </tr>\n",
              "    <tr>\n",
              "      <th>t0_assisted</th>\n",
              "      <td>14701</td>\n",
              "      <td>81420</td>\n",
              "      <td>0.15</td>\n",
              "      <td>0.85</td>\n",
              "    </tr>\n",
              "    <tr>\n",
              "      <th>t0_previous_surgery</th>\n",
              "      <td>7410</td>\n",
              "      <td>88711</td>\n",
              "      <td>0.08</td>\n",
              "      <td>0.92</td>\n",
              "    </tr>\n",
              "    <tr>\n",
              "      <th>t0_disability</th>\n",
              "      <td>50539</td>\n",
              "      <td>45582</td>\n",
              "      <td>0.53</td>\n",
              "      <td>0.47</td>\n",
              "    </tr>\n",
              "  </tbody>\n",
              "</table>\n",
              "</div>"
            ],
            "text/plain": [
              "                     True_count  False_count  True_normalized  \\\n",
              "female                    57618        38503             0.60   \n",
              "heart_disease              8989        87132             0.09   \n",
              "high_bp                   42691        53430             0.44   \n",
              "stroke                     1562        94559             0.02   \n",
              "circulation                5393        90728             0.06   \n",
              "lung_disease               8813        87308             0.09   \n",
              "diabetes                  12068        84053             0.13   \n",
              "kidney_disease             1970        94151             0.02   \n",
              "nervous_system              952        95169             0.01   \n",
              "liver_disease               551        95570             0.01   \n",
              "cancer                     5200        90921             0.05   \n",
              "depression                 8911        87210             0.09   \n",
              "arthritis                 74192        21929             0.77   \n",
              "t0_assisted               14701        81420             0.15   \n",
              "t0_previous_surgery        7410        88711             0.08   \n",
              "t0_disability             50539        45582             0.53   \n",
              "\n",
              "                     False_normalized  \n",
              "female                           0.40  \n",
              "heart_disease                    0.91  \n",
              "high_bp                          0.56  \n",
              "stroke                           0.98  \n",
              "circulation                      0.94  \n",
              "lung_disease                     0.91  \n",
              "diabetes                         0.87  \n",
              "kidney_disease                   0.98  \n",
              "nervous_system                   0.99  \n",
              "liver_disease                    0.99  \n",
              "cancer                           0.95  \n",
              "depression                       0.91  \n",
              "arthritis                        0.23  \n",
              "t0_assisted                      0.85  \n",
              "t0_previous_surgery              0.92  \n",
              "t0_disability                    0.47  "
            ]
          },
          "metadata": {},
          "execution_count": 25
        }
      ]
    },
    {
      "cell_type": "markdown",
      "metadata": {
        "id": "Z1U4vEAc44Py"
      },
      "source": [
        "Finally, a few variables need to be defined as a categorical variable:"
      ]
    },
    {
      "cell_type": "code",
      "metadata": {
        "id": "EwECD0NUlc3Z"
      },
      "source": [
        "# convert to categories\n",
        "dfc.loc[:, ['provider_code', 'age_band']] = dfc.loc[:, ['provider_code', 'age_band']].astype('category')"
      ],
      "execution_count": 26,
      "outputs": []
    },
    {
      "cell_type": "markdown",
      "metadata": {
        "id": "68fM2bgo5Vwe"
      },
      "source": [
        "##Constructing data\n",
        "\n",
        "Finally, we get the part where we make adjustments to the data:\n",
        "- Defining the outcome Y\n",
        "- Redefine and/or construct features (feature engineering, possibly handling correlated input features)"
      ]
    },
    {
      "cell_type": "markdown",
      "metadata": {
        "id": "3-K-eCza7I2H"
      },
      "source": [
        "## Feature engineering\n",
        "\n",
        "We start off with adding three simple features\n",
        "- a variable representing total pain, which is the sum of 'pain' and 'night_pain', \n",
        "- a variable representing total functioning, which is the sum of the OKS-scores on all the non-pain dimensions, and\n",
        "- a variable representing the total number of comorbidities\n",
        "\n",
        "It is common to start simple and return to and put more effort into feature engineering if model performance is deemed insufficient"
      ]
    },
    {
      "cell_type": "code",
      "metadata": {
        "id": "Bd1s7X0A7x1g"
      },
      "source": [
        "# define total pain and total number of comorbidities\n",
        "def oks_questions(t='t0'):\n",
        "  return [f'oks_{t}_pain', f'oks_{t}_night_pain', f'oks_{t}_washing',\n",
        "          f'oks_{t}_transport', f'oks_{t}_walking', f'oks_{t}_standing',\n",
        "          f'oks_{t}_limping', f'oks_{t}_kneeling', f'oks_{t}_work',\n",
        "          f'oks_{t}_confidence', f'oks_{t}_shopping', f'oks_{t}_stairs', ]\n",
        "\n",
        "for t in (\"t0\", \"t1\"):\n",
        "    dfc[f\"oks_{t}_pain_total\"] = dfc[f\"oks_{t}_pain\"] + dfc[f\"oks_{t}_night_pain\"]\n",
        "    dfc[f\"oks_{t}_functioning_total\"] = (\n",
        "        dfc.loc[:, [col for col in oks_questions(t) if \"pain\" not in col]]\n",
        "        .sum(axis=1)\n",
        "    )\n",
        "dfc[\"n_comorb\"] = dfc.loc[:, comorb].sum()"
      ],
      "execution_count": 27,
      "outputs": []
    },
    {
      "cell_type": "markdown",
      "metadata": {
        "id": "poHEugvVqrNz"
      },
      "source": [
        "## Selecting outcome Y\n",
        "\n",
        "#### INTERMEZZO: we have already decided what outcome to choose, but this secions shows how you could approach defining an outcome measure based on the data (data-driven).\n",
        "\n",
        "Figure 4 from the [narrative on outcomes of osteoarthritis](https://github.com/dkapitan/jads-nhs-proms/blob/master/references/hunter2019osteaoarthritis.pdf) states that the [European League Against Rheumatism (EULAR)](https://eular.org) standard considers three primary symptoms, namely:\n",
        "- Hip/knee pain\n",
        "- Early morning stiffness (EMS)\n",
        "- Functional limitations\n",
        "\n",
        "Comparing these with the [ICHOM standard set for hip & knee osteoarthritis](https://www.ichom.org/portfolio/hip-knee-osteoarthritis/) we take pain and functional limitations as the primary outcome parameters as ICHOM does not include EMS as a relevant outcome parameter. We now turn to the NHS dataset to choose which (engineered) features are available as a measure for pain and physical functioning at `t1`.\n",
        "\n",
        "![](https://ichom.org/wp-content/uploads/2018/06/ichom_outcome_oa_3.jpg)"
      ]
    },
    {
      "cell_type": "markdown",
      "metadata": {
        "id": "1tb9sSKIj5lR"
      },
      "source": [
        "### Pain measures"
      ]
    },
    {
      "cell_type": "code",
      "metadata": {
        "id": "F6-bQHmOj5lR",
        "colab": {
          "base_uri": "https://localhost:8080/",
          "height": 519
        },
        "outputId": "ccc35a22-8082-4f6e-e509-80a2746f81ba"
      },
      "source": [
        "dfc[['oks_t1_pain', 'oks_t1_night_pain', 'oks_t1_pain_total']].hist(bins=range(0,9), figsize=S);"
      ],
      "execution_count": 28,
      "outputs": [
        {
          "output_type": "display_data",
          "data": {
            "image/png": "[encoded data removed]",
            "text/plain": [
              "<Figure size 576x576 with 4 Axes>"
            ]
          },
          "metadata": {
            "needs_background": "light"
          }
        }
      ]
    },
    {
      "cell_type": "markdown",
      "metadata": {
        "id": "bozCf8hOj5lS"
      },
      "source": [
        "### Physical functioning"
      ]
    },
    {
      "cell_type": "code",
      "metadata": {
        "id": "sQjwIiYUj5lS",
        "colab": {
          "base_uri": "https://localhost:8080/",
          "height": 736
        },
        "outputId": "f537dcd6-c1bb-4493-df57-eb8abf8dd20b"
      },
      "source": [
        "dfc.loc[:, [col for col in oks_questions(\"t1\") if \"pain\" not in col],].hist(figsize=M);"
      ],
      "execution_count": 29,
      "outputs": [
        {
          "output_type": "display_data",
          "data": {
            "image/png": "[encoded data removed]",
            "text/plain": [
              "<Figure size 864x864 with 12 Axes>"
            ]
          },
          "metadata": {
            "needs_background": "light"
          }
        }
      ]
    },
    {
      "cell_type": "code",
      "metadata": {
        "id": "Nlx8N4mqj5lT",
        "colab": {
          "base_uri": "https://localhost:8080/",
          "height": 501
        },
        "outputId": "4f8d03c9-7f84-4eeb-c457-4f14c6151bef"
      },
      "source": [
        "dfc['oks_t1_functioning_total'].hist(figsize=S);"
      ],
      "execution_count": 30,
      "outputs": [
        {
          "output_type": "display_data",
          "data": {
            "image/png": "[encoded data removed]",
            "text/plain": [
              "<Figure size 576x576 with 1 Axes>"
            ]
          },
          "metadata": {
            "needs_background": "light"
          }
        }
      ]
    },
    {
      "cell_type": "markdown",
      "metadata": {
        "id": "PEbpIP8Kj5lT"
      },
      "source": [
        "### Combined outcome Y\n",
        "\n",
        "Defining the appropriate outcome Y that meaningfully captures clinical change is a well-known challenge, see for example [development of psychometric tests](https://github.com/dkapitan/jads-nhs-proms/blob/master/references/wise2004methods.pdf). \n",
        "\n",
        "Although this should always be defined with the help of domain experts, a data-driven approach to gather input on this decision could be to consider [the intersection between the 'pre' and 'post' histograms](http://blog.datadive.net/histogram-intersection-for-change-detection/), in this case pain and functioning measured at `t0` and `t1`."
      ]
    },
    {
      "cell_type": "code",
      "metadata": {
        "id": "32xFSvRuj5lU",
        "colab": {
          "base_uri": "https://localhost:8080/",
          "height": 505
        },
        "outputId": "2c09741b-a527-46d1-b54d-a21eedf90570"
      },
      "source": [
        "dfc[['oks_t0_pain_total', 'oks_t1_pain_total']].plot.hist(bins=range(0,9), alpha=0.5, figsize=S);"
      ],
      "execution_count": 31,
      "outputs": [
        {
          "output_type": "display_data",
          "data": {
            "image/png": "[encoded data removed]",
            "text/plain": [
              "<Figure size 576x576 with 1 Axes>"
            ]
          },
          "metadata": {
            "needs_background": "light"
          }
        }
      ]
    },
    {
      "cell_type": "code",
      "metadata": {
        "id": "zArTSiNYj5lX",
        "colab": {
          "base_uri": "https://localhost:8080/",
          "height": 501
        },
        "outputId": "86b5b231-95ad-4a91-ba1f-6db88b9b75c3"
      },
      "source": [
        "dfc[['oks_t0_functioning_total', 'oks_t1_functioning_total']].plot.hist(bins=range(0,40), alpha=0.5, figsize=S);"
      ],
      "execution_count": 32,
      "outputs": [
        {
          "output_type": "display_data",
          "data": {
            "image/png": "[encoded data removed]",
            "text/plain": [
              "<Figure size 576x576 with 1 Axes>"
            ]
          },
          "metadata": {
            "needs_background": "light"
          }
        }
      ]
    },
    {
      "cell_type": "markdown",
      "metadata": {
        "id": "aOSVpYGMj5lX"
      },
      "source": [
        "Using the histograms above, one way to combine pain and functioning into one outcome measure is to use the cut-off points:\n",
        "- `oks_pain_total >= 4`: good outcome with less pain\n",
        "- `oks_functioning_total >= 26`: good outcome with improved functioning\n",
        "\n",
        "The figures below visualizes the combination of both measures to show that most people move from scoring poor on both pain and functioning at `t0` to scoring well on both of these measures at `t1`."
      ]
    },
    {
      "cell_type": "code",
      "metadata": {
        "id": "FokKxo-gj5lZ",
        "colab": {
          "base_uri": "https://localhost:8080/",
          "height": 1000
        },
        "outputId": "d6277192-95ad-4278-ddde-9ea4f35fafbd"
      },
      "source": [
        "BINS = 8\n",
        "SAMPLE = 1000\n",
        "\n",
        "# https://stackoverflow.com/questions/45540886/reduce-line-width-of-seaborn-timeseries-plot\n",
        "sns.set(rc={\"lines.linewidth\": 0.7})\n",
        "fig1_layout = {\n",
        "    'kind': \"hex\",\n",
        "    'height': 8,\n",
        "    'ratio': 3,\n",
        "    'marginal_kws': {'bins': BINS, 'rug': False},\n",
        "}\n",
        "j1 = (sns.jointplot(\n",
        "            'oks_t0_pain_total', 'oks_t0_functioning_total',\n",
        "            data=dfc[['oks_t0_pain_total', 'oks_t0_functioning_total']].head(SAMPLE),\n",
        "            **fig1_layout)\n",
        "         .plot_joint(sns.kdeplot, color='lawngreen'))\n",
        "j2 = (sns.jointplot(\n",
        "            'oks_t1_pain_total', 'oks_t1_functioning_total',\n",
        "            data=dfc[['oks_t1_pain_total', 'oks_t1_functioning_total']].head(SAMPLE), \n",
        "            **fig1_layout)\n",
        "         .plot_joint(sns.kdeplot, color='lawngreen' ));"
      ],
      "execution_count": 33,
      "outputs": [
        {
          "output_type": "display_data",
          "data": {
            "image/png": "[encoded data removed]",
            "text/plain": [
              "<Figure size 576x576 with 3 Axes>"
            ]
          },
          "metadata": {}
        },
        {
          "output_type": "display_data",
          "data": {
            "image/png": "[encoded data removed]",
            "text/plain": [
              "<Figure size 576x576 with 3 Axes>"
            ]
          },
          "metadata": {}
        }
      ]
    },
    {
      "cell_type": "markdown",
      "metadata": {
        "id": "a4v8SiYBj5lZ"
      },
      "source": [
        "So let's add boolean columns indicating whether pain is 'good' (i.e. no pain) and functioning is good, both at `t0` and `t1`."
      ]
    },
    {
      "cell_type": "code",
      "metadata": {
        "id": "tyK1rMy1j5lZ"
      },
      "source": [
        "# add boolean columns\n",
        "for t in ('t0', 't1'):\n",
        "    dfc[f'y_{t}_pain_good'] = dfc[f'oks_{t}_pain_total'].apply(lambda s: True if s >= 4 else False)\n",
        "    dfc[f'y_{t}_functioning_good'] = dfc[f'oks_{t}_functioning_total'].apply(lambda s: True if s >= 26 else False)"
      ],
      "execution_count": 34,
      "outputs": []
    },
    {
      "cell_type": "code",
      "metadata": {
        "id": "MEoek8trj5la",
        "colab": {
          "base_uri": "https://localhost:8080/",
          "height": 374
        },
        "outputId": "739588a2-b3eb-4393-c1c8-6f8d8972c827"
      },
      "source": [
        "# inspect whether new features are correct\n",
        "dfc[[col for col in dfc.columns if '_good' in col]].head(10)"
      ],
      "execution_count": 35,
      "outputs": [
        {
          "output_type": "execute_result",
          "data": {
            "text/html": [
              "<div>\n",
              "<style scoped>\n",
              "    .dataframe tbody tr th:only-of-type {\n",
              "        vertical-align: middle;\n",
              "    }\n",
              "\n",
              "    .dataframe tbody tr th {\n",
              "        vertical-align: top;\n",
              "    }\n",
              "\n",
              "    .dataframe thead th {\n",
              "        text-align: right;\n",
              "    }\n",
              "</style>\n",
              "<table border=\"1\" class=\"dataframe\">\n",
              "  <thead>\n",
              "    <tr style=\"text-align: right;\">\n",
              "      <th></th>\n",
              "      <th>y_t0_pain_good</th>\n",
              "      <th>y_t0_functioning_good</th>\n",
              "      <th>y_t1_pain_good</th>\n",
              "      <th>y_t1_functioning_good</th>\n",
              "    </tr>\n",
              "  </thead>\n",
              "  <tbody>\n",
              "    <tr>\n",
              "      <th>20950</th>\n",
              "      <td>False</td>\n",
              "      <td>False</td>\n",
              "      <td>False</td>\n",
              "      <td>False</td>\n",
              "    </tr>\n",
              "    <tr>\n",
              "      <th>42888</th>\n",
              "      <td>False</td>\n",
              "      <td>False</td>\n",
              "      <td>True</td>\n",
              "      <td>True</td>\n",
              "    </tr>\n",
              "    <tr>\n",
              "      <th>44064</th>\n",
              "      <td>False</td>\n",
              "      <td>False</td>\n",
              "      <td>True</td>\n",
              "      <td>False</td>\n",
              "    </tr>\n",
              "    <tr>\n",
              "      <th>62085</th>\n",
              "      <td>False</td>\n",
              "      <td>False</td>\n",
              "      <td>False</td>\n",
              "      <td>False</td>\n",
              "    </tr>\n",
              "    <tr>\n",
              "      <th>2309</th>\n",
              "      <td>False</td>\n",
              "      <td>False</td>\n",
              "      <td>True</td>\n",
              "      <td>True</td>\n",
              "    </tr>\n",
              "    <tr>\n",
              "      <th>21147</th>\n",
              "      <td>False</td>\n",
              "      <td>False</td>\n",
              "      <td>True</td>\n",
              "      <td>True</td>\n",
              "    </tr>\n",
              "    <tr>\n",
              "      <th>82117</th>\n",
              "      <td>False</td>\n",
              "      <td>False</td>\n",
              "      <td>True</td>\n",
              "      <td>True</td>\n",
              "    </tr>\n",
              "    <tr>\n",
              "      <th>108560</th>\n",
              "      <td>True</td>\n",
              "      <td>False</td>\n",
              "      <td>False</td>\n",
              "      <td>False</td>\n",
              "    </tr>\n",
              "    <tr>\n",
              "      <th>85423</th>\n",
              "      <td>False</td>\n",
              "      <td>False</td>\n",
              "      <td>False</td>\n",
              "      <td>False</td>\n",
              "    </tr>\n",
              "    <tr>\n",
              "      <th>83713</th>\n",
              "      <td>False</td>\n",
              "      <td>False</td>\n",
              "      <td>True</td>\n",
              "      <td>True</td>\n",
              "    </tr>\n",
              "  </tbody>\n",
              "</table>\n",
              "</div>"
            ],
            "text/plain": [
              "        y_t0_pain_good  y_t0_functioning_good  y_t1_pain_good  \\\n",
              "20950            False                  False           False   \n",
              "42888            False                  False            True   \n",
              "44064            False                  False            True   \n",
              "62085            False                  False           False   \n",
              "2309             False                  False            True   \n",
              "21147            False                  False            True   \n",
              "82117            False                  False            True   \n",
              "108560            True                  False           False   \n",
              "85423            False                  False           False   \n",
              "83713            False                  False            True   \n",
              "\n",
              "        y_t1_functioning_good  \n",
              "20950                   False  \n",
              "42888                    True  \n",
              "44064                   False  \n",
              "62085                   False  \n",
              "2309                     True  \n",
              "21147                    True  \n",
              "82117                    True  \n",
              "108560                  False  \n",
              "85423                   False  \n",
              "83713                    True  "
            ]
          },
          "metadata": {},
          "execution_count": 35
        }
      ]
    },
    {
      "cell_type": "markdown",
      "metadata": {
        "id": "EQ3FB6weCt0B"
      },
      "source": [
        "Using crosstabs we can visualize the percentage distributions on both measures"
      ]
    },
    {
      "cell_type": "code",
      "metadata": {
        "id": "ugAMLFTjj5la",
        "colab": {
          "base_uri": "https://localhost:8080/",
          "height": 160
        },
        "outputId": "7c772156-733d-4457-acd3-75eb6dad1cdc"
      },
      "source": [
        "pd.crosstab(dfc.y_t0_pain_good, dfc.y_t0_functioning_good, normalize=True)"
      ],
      "execution_count": 36,
      "outputs": [
        {
          "output_type": "execute_result",
          "data": {
            "text/html": [
              "<div>\n",
              "<style scoped>\n",
              "    .dataframe tbody tr th:only-of-type {\n",
              "        vertical-align: middle;\n",
              "    }\n",
              "\n",
              "    .dataframe tbody tr th {\n",
              "        vertical-align: top;\n",
              "    }\n",
              "\n",
              "    .dataframe thead th {\n",
              "        text-align: right;\n",
              "    }\n",
              "</style>\n",
              "<table border=\"1\" class=\"dataframe\">\n",
              "  <thead>\n",
              "    <tr style=\"text-align: right;\">\n",
              "      <th>y_t0_functioning_good</th>\n",
              "      <th>False</th>\n",
              "      <th>True</th>\n",
              "    </tr>\n",
              "    <tr>\n",
              "      <th>y_t0_pain_good</th>\n",
              "      <th></th>\n",
              "      <th></th>\n",
              "    </tr>\n",
              "  </thead>\n",
              "  <tbody>\n",
              "    <tr>\n",
              "      <th>False</th>\n",
              "      <td>0.81</td>\n",
              "      <td>0.07</td>\n",
              "    </tr>\n",
              "    <tr>\n",
              "      <th>True</th>\n",
              "      <td>0.08</td>\n",
              "      <td>0.05</td>\n",
              "    </tr>\n",
              "  </tbody>\n",
              "</table>\n",
              "</div>"
            ],
            "text/plain": [
              "y_t0_functioning_good  False  True \n",
              "y_t0_pain_good                     \n",
              "False                   0.81   0.07\n",
              "True                    0.08   0.05"
            ]
          },
          "metadata": {},
          "execution_count": 36
        }
      ]
    },
    {
      "cell_type": "code",
      "metadata": {
        "id": "g4LaJtHBj5la",
        "colab": {
          "base_uri": "https://localhost:8080/",
          "height": 160
        },
        "outputId": "540f3f56-f94b-4361-8544-ff4e929b3813"
      },
      "source": [
        "pd.crosstab(dfc.y_t1_pain_good, dfc.y_t1_functioning_good, normalize=True)"
      ],
      "execution_count": 37,
      "outputs": [
        {
          "output_type": "execute_result",
          "data": {
            "text/html": [
              "<div>\n",
              "<style scoped>\n",
              "    .dataframe tbody tr th:only-of-type {\n",
              "        vertical-align: middle;\n",
              "    }\n",
              "\n",
              "    .dataframe tbody tr th {\n",
              "        vertical-align: top;\n",
              "    }\n",
              "\n",
              "    .dataframe thead th {\n",
              "        text-align: right;\n",
              "    }\n",
              "</style>\n",
              "<table border=\"1\" class=\"dataframe\">\n",
              "  <thead>\n",
              "    <tr style=\"text-align: right;\">\n",
              "      <th>y_t1_functioning_good</th>\n",
              "      <th>False</th>\n",
              "      <th>True</th>\n",
              "    </tr>\n",
              "    <tr>\n",
              "      <th>y_t1_pain_good</th>\n",
              "      <th></th>\n",
              "      <th></th>\n",
              "    </tr>\n",
              "  </thead>\n",
              "  <tbody>\n",
              "    <tr>\n",
              "      <th>False</th>\n",
              "      <td>0.15</td>\n",
              "      <td>0.06</td>\n",
              "    </tr>\n",
              "    <tr>\n",
              "      <th>True</th>\n",
              "      <td>0.08</td>\n",
              "      <td>0.71</td>\n",
              "    </tr>\n",
              "  </tbody>\n",
              "</table>\n",
              "</div>"
            ],
            "text/plain": [
              "y_t1_functioning_good  False  True \n",
              "y_t1_pain_good                     \n",
              "False                   0.15   0.06\n",
              "True                    0.08   0.71"
            ]
          },
          "metadata": {},
          "execution_count": 37
        }
      ]
    },
    {
      "cell_type": "markdown",
      "metadata": {
        "id": "Krh16Ejvj5lb"
      },
      "source": [
        "### Alternative outcome parameter\n",
        "\n",
        "Another way to define the outcome measure is by looking at the improvement in oks_score and whether the oks_score at `t1` is above a certain threshold. The code below defines an outcome as good when the improvement in oks_score was larger than a minimum change threshold (chosen to be set at 13), OR when the absolute oks_score at `t1` was above a certain threshold (chosen to be set at 43). "
      ]
    },
    {
      "cell_type": "code",
      "metadata": {
        "colab": {
          "base_uri": "https://localhost:8080/"
        },
        "id": "81Nz5x2oo3-N",
        "outputId": "11f7dbdf-20aa-4f36-9161-ddf540cf21be"
      },
      "source": [
        "# add delta_oks_score and Y\n",
        "def good_outcome(oks_t1, delta_oks, abs_threshold=43, mcid=13):\n",
        "  if oks_t1 > abs_threshold or delta_oks > mcid:\n",
        "    return True\n",
        "  else:\n",
        "    return False\n",
        "\n",
        "dfc['delta_oks_score'] = dfc.oks_t1_score - dfc.oks_t0_score\n",
        "dfc['Y'] = dfc.apply(lambda row: good_outcome(row['oks_t1_score'], row['delta_oks_score']), axis=1)\n",
        "dfc.Y.value_counts(normalize=True)"
      ],
      "execution_count": 38,
      "outputs": [
        {
          "output_type": "execute_result",
          "data": {
            "text/plain": [
              "True     0.66\n",
              "False    0.34\n",
              "Name: Y, dtype: float64"
            ]
          },
          "metadata": {},
          "execution_count": 38
        }
      ]
    },
    {
      "cell_type": "markdown",
      "metadata": {
        "id": "UXRVdLXMUrCy"
      },
      "source": [
        "## Conclusion and reflection\n",
        "\n",
        "The phase of data preparation worked through the following steps: \n",
        "\n",
        "### Making the data 'tidy'\n",
        "\n",
        "- Each variable must have its own column\n",
        "- Each observation must have its own row\n",
        "- Each value must have its own cell\n",
        "\n",
        "### Selecting relevant information \n",
        "\n",
        "- Select appropriate observations \n",
        "- Select available features\n",
        "- Select useful features\n",
        "\n",
        "### Cleaning data\n",
        "\n",
        "- Clean inconsistencies\n",
        "- Handle missing data\n",
        "- Setting appropriate data types\n",
        "\n",
        "### Constructing data\n",
        "\n",
        "- Define outcome Y (clustered classes, categories)\n",
        "- Redefine and/or construct features (feature engineering)\n",
        "- Decide if and how to handle correlated input features\n",
        "\n",
        "\n",
        "You should expect to be returning to this stage of data preparation multiple times, trying to tweak the data such that model performance can further improve. As such, always make sure to set up your script / workflow in such a way that adjustments can be easily made."
      ]
    },
    {
      "cell_type": "code",
      "metadata": {
        "id": "rcQZ-YoJKRPY"
      },
      "source": [
        "# if you want to download the files to your local computer\n",
        "#from google.colab import files\n",
        "#dfc.to_csv('df_train.csv') \n",
        "#df_test.to_csv('df_test.csv')"
      ],
      "execution_count": null,
      "outputs": []
    }
  ]
}